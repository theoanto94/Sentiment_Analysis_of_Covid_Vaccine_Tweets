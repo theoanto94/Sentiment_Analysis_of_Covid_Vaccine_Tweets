{
  "nbformat": 4,
  "nbformat_minor": 0,
  "metadata": {
    "colab": {
      "name": "Covid-RNN-Trainining",
      "provenance": [],
      "collapsed_sections": [
        "yeAEZtmDDkoK",
        "1Au8ERlAuqc2",
        "Mpl4hvRP-IpJ",
        "BMLqDcAa-bUX",
        "XsrXnyepzDap"
      ],
      "toc_visible": true
    },
    "kernelspec": {
      "name": "python3",
      "display_name": "Python 3"
    },
    "language_info": {
      "name": "python"
    }
  },
  "cells": [
    {
      "cell_type": "markdown",
      "metadata": {
        "id": "ski3GbLtC-Dp"
      },
      "source": [
        "**In this Notebook we will use a Tagged Twitter CSV file to train and save a RNN in order to use it in our covid-vaccine dataset for our sentiment analysis**"
      ]
    },
    {
      "cell_type": "markdown",
      "metadata": {
        "id": "yeAEZtmDDkoK"
      },
      "source": [
        "# Importing Libraries"
      ]
    },
    {
      "cell_type": "code",
      "metadata": {
        "id": "gCOxQMOA9vWj"
      },
      "source": [
        "# DataFrame\n",
        "import pandas as pd \n",
        "\n",
        "# plotting\n",
        "import seaborn as sns\n",
        "from wordcloud import WordCloud\n",
        "import matplotlib.pyplot as plt\n",
        "\n",
        "# nltk\n",
        "import nltk\n",
        "from nltk.stem import WordNetLemmatizer\n",
        "from nltk.corpus import stopwords\n",
        "from nltk.tokenize import word_tokenize\n",
        "\n",
        "# sklearn\n",
        "from sklearn.model_selection import train_test_split\n",
        "from sklearn.feature_extraction.text import TfidfVectorizer\n",
        "from sklearn.metrics import confusion_matrix, classification_report\n",
        "\n",
        "from sklearn.linear_model import LogisticRegression\n",
        "from sklearn.svm import LinearSVC\n",
        "from sklearn.ensemble import RandomForestClassifier\n",
        "from sklearn.naive_bayes import BernoulliNB\n",
        "\n",
        "\n",
        "#tensorflow\n",
        "import tensorflow.compat.v2 as tf\n",
        "import tensorflow_datasets as tfds\n",
        "\n",
        "# Utility\n",
        "import pandas as pd\n",
        "import numpy as np \n",
        "import warnings\n",
        "warnings.filterwarnings('ignore')\n",
        "import re\n",
        "import string\n",
        "import pickle"
      ],
      "execution_count": null,
      "outputs": []
    },
    {
      "cell_type": "markdown",
      "metadata": {
        "id": "r9TGAAO6Dz4e"
      },
      "source": [
        "# Load Dataset"
      ]
    },
    {
      "cell_type": "code",
      "metadata": {
        "id": "PQ4ajEb-Dy1t"
      },
      "source": [
        "!pip install -U -q PyDrive\n",
        "from pydrive.auth import GoogleAuth\n",
        "from pydrive.drive import GoogleDrive\n",
        "from google.colab import auth\n",
        "from oauth2client.client import GoogleCredentials# Authenticate and create the PyDrive client.\n",
        "auth.authenticate_user()\n",
        "gauth = GoogleAuth()\n",
        "gauth.credentials = GoogleCredentials.get_application_default()\n",
        "drive = GoogleDrive(gauth)"
      ],
      "execution_count": null,
      "outputs": []
    },
    {
      "cell_type": "code",
      "metadata": {
        "id": "HWl-unEuD9Em"
      },
      "source": [
        "link = 'https://drive.google.com/file/d/1Auz_mQrYW9YEpdQflVHpCGW1BZAs6VYO/view?usp=sharing' #the shareable link\n"
      ],
      "execution_count": null,
      "outputs": []
    },
    {
      "cell_type": "code",
      "metadata": {
        "id": "iCY2CGWmEdNQ",
        "colab": {
          "base_uri": "https://localhost:8080/"
        },
        "outputId": "77f8d2b1-de6e-44f4-9d09-eabaa9f707c7"
      },
      "source": [
        " id = '1Auz_mQrYW9YEpdQflVHpCGW1BZAs6VYO'\n",
        "\n",
        "print (id) # Verify that you have everything after '='"
      ],
      "execution_count": null,
      "outputs": [
        {
          "output_type": "stream",
          "text": [
            "1Auz_mQrYW9YEpdQflVHpCGW1BZAs6VYO\n"
          ],
          "name": "stdout"
        }
      ]
    },
    {
      "cell_type": "code",
      "metadata": {
        "id": "2zuLmUZeEkZj"
      },
      "source": [
        "downloaded = drive.CreateFile({'id':id}) \n",
        "downloaded.GetContentFile('training.1600000.processed.noemoticon.csv')  \n",
        "data = pd.read_csv('training.1600000.processed.noemoticon.csv',encoding='latin', names = ['polarity','id','date','query','user','text'])"
      ],
      "execution_count": null,
      "outputs": []
    },
    {
      "cell_type": "code",
      "metadata": {
        "id": "mFssi8FGFeHW"
      },
      "source": [
        "data = data.sample(frac=1)\n",
        "data = data[:200000]"
      ],
      "execution_count": null,
      "outputs": []
    },
    {
      "cell_type": "markdown",
      "metadata": {
        "id": "EZVK7YqSFrDh"
      },
      "source": [
        "# Data Visualization "
      ]
    },
    {
      "cell_type": "markdown",
      "metadata": {
        "id": "E4j1TJYqFzTI"
      },
      "source": [
        "Dataset details target: the polarity of the tweet (0 = negative, 4 = positive)"
      ]
    },
    {
      "cell_type": "code",
      "metadata": {
        "colab": {
          "base_uri": "https://localhost:8080/"
        },
        "id": "swEtVxi2Ftl4",
        "outputId": "d11b53f2-00d6-4456-c9ef-688a8960db6c"
      },
      "source": [
        "print(\"Dataset shape:\", data.shape)"
      ],
      "execution_count": null,
      "outputs": [
        {
          "output_type": "stream",
          "text": [
            "Dataset shape: (200000, 6)\n"
          ],
          "name": "stdout"
        }
      ]
    },
    {
      "cell_type": "code",
      "metadata": {
        "colab": {
          "base_uri": "https://localhost:8080/",
          "height": 419
        },
        "id": "d0PpWQ2WF_Rn",
        "outputId": "12722d97-9d86-4bf2-e701-89760a7c4e69"
      },
      "source": [
        "data"
      ],
      "execution_count": null,
      "outputs": [
        {
          "output_type": "execute_result",
          "data": {
            "text/html": [
              "<div>\n",
              "<style scoped>\n",
              "    .dataframe tbody tr th:only-of-type {\n",
              "        vertical-align: middle;\n",
              "    }\n",
              "\n",
              "    .dataframe tbody tr th {\n",
              "        vertical-align: top;\n",
              "    }\n",
              "\n",
              "    .dataframe thead th {\n",
              "        text-align: right;\n",
              "    }\n",
              "</style>\n",
              "<table border=\"1\" class=\"dataframe\">\n",
              "  <thead>\n",
              "    <tr style=\"text-align: right;\">\n",
              "      <th></th>\n",
              "      <th>polarity</th>\n",
              "      <th>id</th>\n",
              "      <th>date</th>\n",
              "      <th>query</th>\n",
              "      <th>user</th>\n",
              "      <th>text</th>\n",
              "    </tr>\n",
              "  </thead>\n",
              "  <tbody>\n",
              "    <tr>\n",
              "      <th>1594060</th>\n",
              "      <td>4</td>\n",
              "      <td>2192063726</td>\n",
              "      <td>Tue Jun 16 06:26:51 PDT 2009</td>\n",
              "      <td>NO_QUERY</td>\n",
              "      <td>RachelEJonas</td>\n",
              "      <td>LINES, VINES, AND TRYING TIMES...in stores NOW...</td>\n",
              "    </tr>\n",
              "    <tr>\n",
              "      <th>392297</th>\n",
              "      <td>0</td>\n",
              "      <td>2055115752</td>\n",
              "      <td>Sat Jun 06 08:43:39 PDT 2009</td>\n",
              "      <td>NO_QUERY</td>\n",
              "      <td>Miriam1216</td>\n",
              "      <td>I give up! No eye liner or mascara it just won...</td>\n",
              "    </tr>\n",
              "    <tr>\n",
              "      <th>245225</th>\n",
              "      <td>0</td>\n",
              "      <td>1981956002</td>\n",
              "      <td>Sun May 31 10:14:00 PDT 2009</td>\n",
              "      <td>NO_QUERY</td>\n",
              "      <td>lisacwil</td>\n",
              "      <td>How can I clean up if LINGO is on</td>\n",
              "    </tr>\n",
              "    <tr>\n",
              "      <th>160907</th>\n",
              "      <td>0</td>\n",
              "      <td>1957171202</td>\n",
              "      <td>Thu May 28 23:43:08 PDT 2009</td>\n",
              "      <td>NO_QUERY</td>\n",
              "      <td>eckodabrat</td>\n",
              "      <td>@Deziree_Divine take my advice lookin through ...</td>\n",
              "    </tr>\n",
              "    <tr>\n",
              "      <th>225969</th>\n",
              "      <td>0</td>\n",
              "      <td>1977752894</td>\n",
              "      <td>Sat May 30 21:37:58 PDT 2009</td>\n",
              "      <td>NO_QUERY</td>\n",
              "      <td>RocKo808</td>\n",
              "      <td>Went 2 gamestop, ran into co-worker who i used...</td>\n",
              "    </tr>\n",
              "    <tr>\n",
              "      <th>...</th>\n",
              "      <td>...</td>\n",
              "      <td>...</td>\n",
              "      <td>...</td>\n",
              "      <td>...</td>\n",
              "      <td>...</td>\n",
              "      <td>...</td>\n",
              "    </tr>\n",
              "    <tr>\n",
              "      <th>1162484</th>\n",
              "      <td>4</td>\n",
              "      <td>1979592184</td>\n",
              "      <td>Sun May 31 03:42:40 PDT 2009</td>\n",
              "      <td>NO_QUERY</td>\n",
              "      <td>dheaasa</td>\n",
              "      <td>really really likes Obama</td>\n",
              "    </tr>\n",
              "    <tr>\n",
              "      <th>669457</th>\n",
              "      <td>0</td>\n",
              "      <td>2246263331</td>\n",
              "      <td>Fri Jun 19 17:20:06 PDT 2009</td>\n",
              "      <td>NO_QUERY</td>\n",
              "      <td>SophieBxoxo</td>\n",
              "      <td>is hoping manchester united do well next seaso...</td>\n",
              "    </tr>\n",
              "    <tr>\n",
              "      <th>832686</th>\n",
              "      <td>4</td>\n",
              "      <td>1557632741</td>\n",
              "      <td>Sun Apr 19 05:13:50 PDT 2009</td>\n",
              "      <td>NO_QUERY</td>\n",
              "      <td>AllieG</td>\n",
              "      <td>@theuedimaster I wouldn't miss it.</td>\n",
              "    </tr>\n",
              "    <tr>\n",
              "      <th>1119372</th>\n",
              "      <td>4</td>\n",
              "      <td>1973759559</td>\n",
              "      <td>Sat May 30 11:46:45 PDT 2009</td>\n",
              "      <td>NO_QUERY</td>\n",
              "      <td>alittlevoice</td>\n",
              "      <td>@nisha is here and we have a party to go to, d...</td>\n",
              "    </tr>\n",
              "    <tr>\n",
              "      <th>289426</th>\n",
              "      <td>0</td>\n",
              "      <td>1995010356</td>\n",
              "      <td>Mon Jun 01 12:48:30 PDT 2009</td>\n",
              "      <td>NO_QUERY</td>\n",
              "      <td>gotanadv</td>\n",
              "      <td>keyboard cat RIP</td>\n",
              "    </tr>\n",
              "  </tbody>\n",
              "</table>\n",
              "<p>200000 rows × 6 columns</p>\n",
              "</div>"
            ],
            "text/plain": [
              "         polarity  ...                                               text\n",
              "1594060         4  ...  LINES, VINES, AND TRYING TIMES...in stores NOW...\n",
              "392297          0  ...  I give up! No eye liner or mascara it just won...\n",
              "245225          0  ...                 How can I clean up if LINGO is on \n",
              "160907          0  ...  @Deziree_Divine take my advice lookin through ...\n",
              "225969          0  ...  Went 2 gamestop, ran into co-worker who i used...\n",
              "...           ...  ...                                                ...\n",
              "1162484         4  ...                         really really likes Obama \n",
              "669457          0  ...  is hoping manchester united do well next seaso...\n",
              "832686          4  ...                @theuedimaster I wouldn't miss it. \n",
              "1119372         4  ...  @nisha is here and we have a party to go to, d...\n",
              "289426          0  ...                                  keyboard cat RIP \n",
              "\n",
              "[200000 rows x 6 columns]"
            ]
          },
          "metadata": {
            "tags": []
          },
          "execution_count": 26
        }
      ]
    },
    {
      "cell_type": "code",
      "metadata": {
        "colab": {
          "base_uri": "https://localhost:8080/",
          "height": 204
        },
        "id": "XJfZDttcGJG1",
        "outputId": "d4eadf84-0027-4870-cba5-d04552df21cb"
      },
      "source": [
        "# Replacing the value 4 -->1 for ease of understanding.\n",
        "data['polarity'] = data['polarity'].replace(4,1)\n",
        "data.head()"
      ],
      "execution_count": null,
      "outputs": [
        {
          "output_type": "execute_result",
          "data": {
            "text/html": [
              "<div>\n",
              "<style scoped>\n",
              "    .dataframe tbody tr th:only-of-type {\n",
              "        vertical-align: middle;\n",
              "    }\n",
              "\n",
              "    .dataframe tbody tr th {\n",
              "        vertical-align: top;\n",
              "    }\n",
              "\n",
              "    .dataframe thead th {\n",
              "        text-align: right;\n",
              "    }\n",
              "</style>\n",
              "<table border=\"1\" class=\"dataframe\">\n",
              "  <thead>\n",
              "    <tr style=\"text-align: right;\">\n",
              "      <th></th>\n",
              "      <th>polarity</th>\n",
              "      <th>id</th>\n",
              "      <th>date</th>\n",
              "      <th>query</th>\n",
              "      <th>user</th>\n",
              "      <th>text</th>\n",
              "    </tr>\n",
              "  </thead>\n",
              "  <tbody>\n",
              "    <tr>\n",
              "      <th>1594060</th>\n",
              "      <td>1</td>\n",
              "      <td>2192063726</td>\n",
              "      <td>Tue Jun 16 06:26:51 PDT 2009</td>\n",
              "      <td>NO_QUERY</td>\n",
              "      <td>RachelEJonas</td>\n",
              "      <td>LINES, VINES, AND TRYING TIMES...in stores NOW...</td>\n",
              "    </tr>\n",
              "    <tr>\n",
              "      <th>392297</th>\n",
              "      <td>0</td>\n",
              "      <td>2055115752</td>\n",
              "      <td>Sat Jun 06 08:43:39 PDT 2009</td>\n",
              "      <td>NO_QUERY</td>\n",
              "      <td>Miriam1216</td>\n",
              "      <td>I give up! No eye liner or mascara it just won...</td>\n",
              "    </tr>\n",
              "    <tr>\n",
              "      <th>245225</th>\n",
              "      <td>0</td>\n",
              "      <td>1981956002</td>\n",
              "      <td>Sun May 31 10:14:00 PDT 2009</td>\n",
              "      <td>NO_QUERY</td>\n",
              "      <td>lisacwil</td>\n",
              "      <td>How can I clean up if LINGO is on</td>\n",
              "    </tr>\n",
              "    <tr>\n",
              "      <th>160907</th>\n",
              "      <td>0</td>\n",
              "      <td>1957171202</td>\n",
              "      <td>Thu May 28 23:43:08 PDT 2009</td>\n",
              "      <td>NO_QUERY</td>\n",
              "      <td>eckodabrat</td>\n",
              "      <td>@Deziree_Divine take my advice lookin through ...</td>\n",
              "    </tr>\n",
              "    <tr>\n",
              "      <th>225969</th>\n",
              "      <td>0</td>\n",
              "      <td>1977752894</td>\n",
              "      <td>Sat May 30 21:37:58 PDT 2009</td>\n",
              "      <td>NO_QUERY</td>\n",
              "      <td>RocKo808</td>\n",
              "      <td>Went 2 gamestop, ran into co-worker who i used...</td>\n",
              "    </tr>\n",
              "  </tbody>\n",
              "</table>\n",
              "</div>"
            ],
            "text/plain": [
              "         polarity  ...                                               text\n",
              "1594060         1  ...  LINES, VINES, AND TRYING TIMES...in stores NOW...\n",
              "392297          0  ...  I give up! No eye liner or mascara it just won...\n",
              "245225          0  ...                 How can I clean up if LINGO is on \n",
              "160907          0  ...  @Deziree_Divine take my advice lookin through ...\n",
              "225969          0  ...  Went 2 gamestop, ran into co-worker who i used...\n",
              "\n",
              "[5 rows x 6 columns]"
            ]
          },
          "metadata": {
            "tags": []
          },
          "execution_count": 27
        }
      ]
    },
    {
      "cell_type": "code",
      "metadata": {
        "colab": {
          "base_uri": "https://localhost:8080/",
          "height": 297
        },
        "id": "MBNRiBEtGMfc",
        "outputId": "2636121a-4c69-4683-e073-44356c583851"
      },
      "source": [
        "#Some metric statistics of our dataset\n",
        "data.describe()"
      ],
      "execution_count": null,
      "outputs": [
        {
          "output_type": "execute_result",
          "data": {
            "text/html": [
              "<div>\n",
              "<style scoped>\n",
              "    .dataframe tbody tr th:only-of-type {\n",
              "        vertical-align: middle;\n",
              "    }\n",
              "\n",
              "    .dataframe tbody tr th {\n",
              "        vertical-align: top;\n",
              "    }\n",
              "\n",
              "    .dataframe thead th {\n",
              "        text-align: right;\n",
              "    }\n",
              "</style>\n",
              "<table border=\"1\" class=\"dataframe\">\n",
              "  <thead>\n",
              "    <tr style=\"text-align: right;\">\n",
              "      <th></th>\n",
              "      <th>polarity</th>\n",
              "      <th>id</th>\n",
              "    </tr>\n",
              "  </thead>\n",
              "  <tbody>\n",
              "    <tr>\n",
              "      <th>count</th>\n",
              "      <td>200000.000000</td>\n",
              "      <td>2.000000e+05</td>\n",
              "    </tr>\n",
              "    <tr>\n",
              "      <th>mean</th>\n",
              "      <td>0.501205</td>\n",
              "      <td>1.999259e+09</td>\n",
              "    </tr>\n",
              "    <tr>\n",
              "      <th>std</th>\n",
              "      <td>0.500000</td>\n",
              "      <td>1.931408e+08</td>\n",
              "    </tr>\n",
              "    <tr>\n",
              "      <th>min</th>\n",
              "      <td>0.000000</td>\n",
              "      <td>1.467811e+09</td>\n",
              "    </tr>\n",
              "    <tr>\n",
              "      <th>25%</th>\n",
              "      <td>0.000000</td>\n",
              "      <td>1.956954e+09</td>\n",
              "    </tr>\n",
              "    <tr>\n",
              "      <th>50%</th>\n",
              "      <td>1.000000</td>\n",
              "      <td>2.002195e+09</td>\n",
              "    </tr>\n",
              "    <tr>\n",
              "      <th>75%</th>\n",
              "      <td>1.000000</td>\n",
              "      <td>2.177037e+09</td>\n",
              "    </tr>\n",
              "    <tr>\n",
              "      <th>max</th>\n",
              "      <td>1.000000</td>\n",
              "      <td>2.329205e+09</td>\n",
              "    </tr>\n",
              "  </tbody>\n",
              "</table>\n",
              "</div>"
            ],
            "text/plain": [
              "            polarity            id\n",
              "count  200000.000000  2.000000e+05\n",
              "mean        0.501205  1.999259e+09\n",
              "std         0.500000  1.931408e+08\n",
              "min         0.000000  1.467811e+09\n",
              "25%         0.000000  1.956954e+09\n",
              "50%         1.000000  2.002195e+09\n",
              "75%         1.000000  2.177037e+09\n",
              "max         1.000000  2.329205e+09"
            ]
          },
          "metadata": {
            "tags": []
          },
          "execution_count": 28
        }
      ]
    },
    {
      "cell_type": "code",
      "metadata": {
        "colab": {
          "base_uri": "https://localhost:8080/"
        },
        "id": "K40q0PKNGZvR",
        "outputId": "dbca970c-afc2-4045-ea43-016b3d04b48e"
      },
      "source": [
        "\n",
        "# check the number of positive vs. negative tagged sentences\n",
        "positives = data['polarity'][data.polarity == 1 ]\n",
        "negatives = data['polarity'][data.polarity == 0 ]\n",
        "\n",
        "print('Total length of the data is:         {}'.format(data.shape[0]))\n",
        "print('No. of positve tagged sentences is:  {}'.format(len(positives)))\n",
        "print('No. of negative tagged sentences is: {}'.format(len(negatives)))\n",
        "\n"
      ],
      "execution_count": null,
      "outputs": [
        {
          "output_type": "stream",
          "text": [
            "Total length of the data is:         200000\n",
            "No. of positve tagged sentences is:  100241\n",
            "No. of negative tagged sentences is: 99759\n"
          ],
          "name": "stdout"
        }
      ]
    },
    {
      "cell_type": "markdown",
      "metadata": {
        "id": "NnDGxoeCGzRd"
      },
      "source": [
        "# Data Proccessing"
      ]
    },
    {
      "cell_type": "code",
      "metadata": {
        "colab": {
          "base_uri": "https://localhost:8080/",
          "height": 296
        },
        "id": "V4aL1vuIGnfK",
        "outputId": "ad3c2d1d-d198-44b3-b6c0-47d833b4c73d"
      },
      "source": [
        "%matplotlib inline\n",
        "sns.countplot(data['polarity'])"
      ],
      "execution_count": null,
      "outputs": [
        {
          "output_type": "execute_result",
          "data": {
            "text/plain": [
              "<matplotlib.axes._subplots.AxesSubplot at 0x7f8b7ee43990>"
            ]
          },
          "metadata": {
            "tags": []
          },
          "execution_count": 30
        },
        {
          "output_type": "display_data",
          "data": {
            "image/png": "[encoded data removed]",
            "text/plain": [
              "<Figure size 432x288 with 1 Axes>"
            ]
          },
          "metadata": {
            "tags": [],
            "needs_background": "light"
          }
        }
      ]
    },
    {
      "cell_type": "code",
      "metadata": {
        "id": "fwSxVmCtG7FV"
      },
      "source": [
        "\n",
        "# Removing the unnecessary columns.\n",
        "data.drop(['date','query','user'], axis=1, inplace=True)\n"
      ],
      "execution_count": null,
      "outputs": []
    },
    {
      "cell_type": "code",
      "metadata": {
        "id": "qJn7WqEVHLsm"
      },
      "source": [
        "data.drop('id', axis=1, inplace=True)\n"
      ],
      "execution_count": null,
      "outputs": []
    },
    {
      "cell_type": "code",
      "metadata": {
        "colab": {
          "base_uri": "https://localhost:8080/",
          "height": 204
        },
        "id": "13GbHEo2HVs5",
        "outputId": "86bb4d38-d2ef-481d-e50b-17cd40dc1cf3"
      },
      "source": [
        "data.head()"
      ],
      "execution_count": null,
      "outputs": [
        {
          "output_type": "execute_result",
          "data": {
            "text/html": [
              "<div>\n",
              "<style scoped>\n",
              "    .dataframe tbody tr th:only-of-type {\n",
              "        vertical-align: middle;\n",
              "    }\n",
              "\n",
              "    .dataframe tbody tr th {\n",
              "        vertical-align: top;\n",
              "    }\n",
              "\n",
              "    .dataframe thead th {\n",
              "        text-align: right;\n",
              "    }\n",
              "</style>\n",
              "<table border=\"1\" class=\"dataframe\">\n",
              "  <thead>\n",
              "    <tr style=\"text-align: right;\">\n",
              "      <th></th>\n",
              "      <th>polarity</th>\n",
              "      <th>text</th>\n",
              "    </tr>\n",
              "  </thead>\n",
              "  <tbody>\n",
              "    <tr>\n",
              "      <th>1594060</th>\n",
              "      <td>1</td>\n",
              "      <td>LINES, VINES, AND TRYING TIMES...in stores NOW...</td>\n",
              "    </tr>\n",
              "    <tr>\n",
              "      <th>392297</th>\n",
              "      <td>0</td>\n",
              "      <td>I give up! No eye liner or mascara it just won...</td>\n",
              "    </tr>\n",
              "    <tr>\n",
              "      <th>245225</th>\n",
              "      <td>0</td>\n",
              "      <td>How can I clean up if LINGO is on</td>\n",
              "    </tr>\n",
              "    <tr>\n",
              "      <th>160907</th>\n",
              "      <td>0</td>\n",
              "      <td>@Deziree_Divine take my advice lookin through ...</td>\n",
              "    </tr>\n",
              "    <tr>\n",
              "      <th>225969</th>\n",
              "      <td>0</td>\n",
              "      <td>Went 2 gamestop, ran into co-worker who i used...</td>\n",
              "    </tr>\n",
              "  </tbody>\n",
              "</table>\n",
              "</div>"
            ],
            "text/plain": [
              "         polarity                                               text\n",
              "1594060         1  LINES, VINES, AND TRYING TIMES...in stores NOW...\n",
              "392297          0  I give up! No eye liner or mascara it just won...\n",
              "245225          0                 How can I clean up if LINGO is on \n",
              "160907          0  @Deziree_Divine take my advice lookin through ...\n",
              "225969          0  Went 2 gamestop, ran into co-worker who i used..."
            ]
          },
          "metadata": {
            "tags": []
          },
          "execution_count": 33
        }
      ]
    },
    {
      "cell_type": "code",
      "metadata": {
        "id": "X235nohnHb43"
      },
      "source": [
        "\n",
        "#converting pandas object to a string type\n",
        "data['text'] = data['text'].astype('str')\n",
        "\n"
      ],
      "execution_count": null,
      "outputs": []
    },
    {
      "cell_type": "code",
      "metadata": {
        "id": "EkRjysPzHujM",
        "colab": {
          "base_uri": "https://localhost:8080/"
        },
        "outputId": "9c374c7f-7e3d-48bc-ca3c-0b17de15401d"
      },
      "source": [
        "#load stopwords\n",
        "nltk.download('stopwords')\n",
        "stop_word = set(stopwords.words('english'))\n",
        "exclude_words = set((\"hasn\", \"couldn\", \"weren\", \"wasn\", \"not\", \"doesn\", \"shouldn\", \"isn\",\"didn\", \"haven\", \"aren\", \"needn\", \"nor\", \"aren't\", \"mightn't\", \"hasn't\",\"wasn't\", \"couldn't\",\"wouldn\",\"won't\",\"doesn't\",\"don't\",\"didn't\",\"mightn\",\"isn't\")) \n",
        "stopword = stop_word.difference(exclude_words)\n",
        "\n",
        "print(stopword)"
      ],
      "execution_count": null,
      "outputs": [
        {
          "output_type": "stream",
          "text": [
            "[nltk_data] Downloading package stopwords to /root/nltk_data...\n",
            "[nltk_data]   Package stopwords is already up-to-date!\n",
            "{'if', 'me', 'doing', 'about', 'there', 'your', 'be', 'down', \"that'll\", 'who', 'am', 'through', 'were', 'too', 'o', 'won', 'having', 'some', 'most', 'on', 'their', 'whom', 'these', 'm', 'the', 'been', 'herself', 'had', 'any', \"you're\", 'it', \"you'll\", 'below', 'from', 'no', 'our', \"she's\", 'i', 'against', 'an', 'do', 'in', 'at', 'than', 'she', 'and', 'then', 'but', 'which', 'to', \"weren't\", 'ours', 'theirs', 'as', 'will', 'was', 'same', 'he', 'again', 'its', 'between', \"should've\", 'both', 'after', 'other', 'yourself', 'all', 'why', 'd', 've', \"shan't\", 'a', 'have', 'over', 'under', 'itself', 'll', 'up', 'such', 'until', 'ma', 'we', 'where', 'of', 'now', 'by', 'before', 'or', 's', 'this', 'yourselves', \"wouldn't\", \"needn't\", 'once', 'does', 'here', 'further', 'is', 'shan', 'so', 'while', 'you', 'because', 'are', \"haven't\", 'when', 'myself', 'off', 'can', 'being', 'his', 'him', 'each', 'few', 'has', 'more', 'her', 'with', 'only', \"shouldn't\", 'ain', 'for', 'how', \"you've\", 'just', 'above', 'what', 'mustn', 'very', \"you'd\", 'they', 'during', 'own', 'into', 'those', 'that', 'themselves', 're', 'did', \"mustn't\", 'hadn', 'my', \"hadn't\", \"it's\", 'ourselves', 'yours', 'himself', 'don', 'should', 'hers', 'out', 't', 'y', 'them'}\n"
          ],
          "name": "stdout"
        }
      ]
    },
    {
      "cell_type": "code",
      "metadata": {
        "colab": {
          "base_uri": "https://localhost:8080/"
        },
        "id": "_OOS4WuTH085",
        "outputId": "404ff95f-e693-4926-bafb-3feb676164eb"
      },
      "source": [
        "nltk.download('punkt')\n",
        "nltk.download('wordnet')"
      ],
      "execution_count": null,
      "outputs": [
        {
          "output_type": "stream",
          "text": [
            "[nltk_data] Downloading package punkt to /root/nltk_data...\n",
            "[nltk_data]   Unzipping tokenizers/punkt.zip.\n",
            "[nltk_data] Downloading package wordnet to /root/nltk_data...\n",
            "[nltk_data]   Unzipping corpora/wordnet.zip.\n"
          ],
          "name": "stdout"
        },
        {
          "output_type": "execute_result",
          "data": {
            "text/plain": [
              "True"
            ]
          },
          "metadata": {
            "tags": []
          },
          "execution_count": 37
        }
      ]
    },
    {
      "cell_type": "markdown",
      "metadata": {
        "id": "7G5x7jVUH8gP"
      },
      "source": [
        "**Now some textcleaning Preproccessing**"
      ]
    },
    {
      "cell_type": "code",
      "metadata": {
        "id": "azJFOJY9IBuW"
      },
      "source": [
        "\n",
        "urlPattern = r\"((http://)[^ ]*|(https://)[^ ]*|( www\\.)[^ ]*)\"\n",
        "userPattern = '@[^\\s]+'\n",
        "hashtag = '#[^\\s]+'\n",
        "def process_tweets(tweet):\n",
        "  # Lower Casing\n",
        "    tweet = tweet.lower()\n",
        "  \n",
        "    # Removing all URls \n",
        "    tweet = re.sub(urlPattern,'',tweet)\n",
        "    # Removing all @username.\n",
        "    tweet = re.sub(userPattern,'', tweet) \n",
        "    # Remove hashtag #\n",
        "    tweet = re.sub(hashtag,'',tweet)\n",
        "    #Remove punctuations\n",
        "    tweet = tweet.translate(str.maketrans(\"\",\"\",string.punctuation))\n",
        "    #tokenizing words\n",
        "    tokens = word_tokenize(tweet)\n",
        "    #Removing Stop Words\n",
        "    final_tokens = [w for w in tokens if w not in stopword]\n",
        "    #reducing a word to its word stem \n",
        "    wordLemm = WordNetLemmatizer()\n",
        "    finalwords=[]\n",
        "    for w in final_tokens:\n",
        "      if len(w)>1:\n",
        "        word = wordLemm.lemmatize(w)\n",
        "        finalwords.append(word)\n",
        "    return ' '.join(finalwords)\n",
        "\n"
      ],
      "execution_count": null,
      "outputs": []
    },
    {
      "cell_type": "code",
      "metadata": {
        "colab": {
          "base_uri": "https://localhost:8080/"
        },
        "id": "EYLsfCy4IKy2",
        "outputId": "bff98462-32a9-4bff-f17a-a60f3a8db173"
      },
      "source": [
        "data['processed_tweets'] = data['text'].apply(lambda x: process_tweets(x))\n",
        "print('Text Preprocessing complete.')"
      ],
      "execution_count": null,
      "outputs": [
        {
          "output_type": "stream",
          "text": [
            "Text Preprocessing complete.\n"
          ],
          "name": "stdout"
        }
      ]
    },
    {
      "cell_type": "code",
      "metadata": {
        "colab": {
          "base_uri": "https://localhost:8080/",
          "height": 1000
        },
        "id": "cTbQCtWdIOJ5",
        "outputId": "b97a3d19-40e9-4395-b3d9-550c15169611"
      },
      "source": [
        "data.head(50)"
      ],
      "execution_count": null,
      "outputs": [
        {
          "output_type": "execute_result",
          "data": {
            "text/html": [
              "<div>\n",
              "<style scoped>\n",
              "    .dataframe tbody tr th:only-of-type {\n",
              "        vertical-align: middle;\n",
              "    }\n",
              "\n",
              "    .dataframe tbody tr th {\n",
              "        vertical-align: top;\n",
              "    }\n",
              "\n",
              "    .dataframe thead th {\n",
              "        text-align: right;\n",
              "    }\n",
              "</style>\n",
              "<table border=\"1\" class=\"dataframe\">\n",
              "  <thead>\n",
              "    <tr style=\"text-align: right;\">\n",
              "      <th></th>\n",
              "      <th>polarity</th>\n",
              "      <th>text</th>\n",
              "      <th>processed_tweets</th>\n",
              "    </tr>\n",
              "  </thead>\n",
              "  <tbody>\n",
              "    <tr>\n",
              "      <th>1594060</th>\n",
              "      <td>1</td>\n",
              "      <td>LINES, VINES, AND TRYING TIMES...in stores NOW...</td>\n",
              "      <td>line vine trying timesin store go pick amazing</td>\n",
              "    </tr>\n",
              "    <tr>\n",
              "      <th>392297</th>\n",
              "      <td>0</td>\n",
              "      <td>I give up! No eye liner or mascara it just won...</td>\n",
              "      <td>give eye liner mascara wont cooperate today</td>\n",
              "    </tr>\n",
              "    <tr>\n",
              "      <th>245225</th>\n",
              "      <td>0</td>\n",
              "      <td>How can I clean up if LINGO is on</td>\n",
              "      <td>clean lingo</td>\n",
              "    </tr>\n",
              "    <tr>\n",
              "      <th>160907</th>\n",
              "      <td>0</td>\n",
              "      <td>@Deziree_Divine take my advice lookin through ...</td>\n",
              "      <td>take advice lookin phone cost relationship</td>\n",
              "    </tr>\n",
              "    <tr>\n",
              "      <th>225969</th>\n",
              "      <td>0</td>\n",
              "      <td>Went 2 gamestop, ran into co-worker who i used...</td>\n",
              "      <td>went gamestop ran coworker used like im sad</td>\n",
              "    </tr>\n",
              "    <tr>\n",
              "      <th>308153</th>\n",
              "      <td>0</td>\n",
              "      <td>X-Plane iPhone Racing: F-15 - Canyons - Near m...</td>\n",
              "      <td>xplane iphone racing f15 canyon near midair fl...</td>\n",
              "    </tr>\n",
              "    <tr>\n",
              "      <th>1375327</th>\n",
              "      <td>1</td>\n",
              "      <td>@Alyssa_Milano do celebs get more characters t...</td>\n",
              "      <td>celebs get character rest u</td>\n",
              "    </tr>\n",
              "    <tr>\n",
              "      <th>984549</th>\n",
              "      <td>1</td>\n",
              "      <td>Cooking for dinner  Japanese food today : P</td>\n",
              "      <td>cooking dinner japanese food today</td>\n",
              "    </tr>\n",
              "    <tr>\n",
              "      <th>517646</th>\n",
              "      <td>0</td>\n",
              "      <td>@Jamesdc09 I screwed up. BAAAD.</td>\n",
              "      <td>screwed baaad</td>\n",
              "    </tr>\n",
              "    <tr>\n",
              "      <th>406627</th>\n",
              "      <td>0</td>\n",
              "      <td>Wow! Not having a date to a wedding where you ...</td>\n",
              "      <td>wow not date wedding barely know anyone suck</td>\n",
              "    </tr>\n",
              "    <tr>\n",
              "      <th>222954</th>\n",
              "      <td>0</td>\n",
              "      <td>@room704 I tried, but BTR hates me.</td>\n",
              "      <td>tried btr hate</td>\n",
              "    </tr>\n",
              "    <tr>\n",
              "      <th>272582</th>\n",
              "      <td>0</td>\n",
              "      <td>Annnnnnnnnnd back to work.  Boo.</td>\n",
              "      <td>annnnnnnnnnd back work boo</td>\n",
              "    </tr>\n",
              "    <tr>\n",
              "      <th>1333878</th>\n",
              "      <td>1</td>\n",
              "      <td>Uh oh....lol.  Going to see that on Saturday, ...</td>\n",
              "      <td>uh ohlol going see saturday cheer head</td>\n",
              "    </tr>\n",
              "    <tr>\n",
              "      <th>1547978</th>\n",
              "      <td>1</td>\n",
              "      <td>Tweet or Not to Tweet that is the question</td>\n",
              "      <td>tweet not tweet question</td>\n",
              "    </tr>\n",
              "    <tr>\n",
              "      <th>1324716</th>\n",
              "      <td>1</td>\n",
              "      <td>whaa the new new moon stills are amazing</td>\n",
              "      <td>whaa new new moon still amazing</td>\n",
              "    </tr>\n",
              "    <tr>\n",
              "      <th>1297293</th>\n",
              "      <td>1</td>\n",
              "      <td>http://twitpic.com/6gtvk - what i wake up to i...</td>\n",
              "      <td>wake morning</td>\n",
              "    </tr>\n",
              "    <tr>\n",
              "      <th>326893</th>\n",
              "      <td>0</td>\n",
              "      <td>Right I'm going to sleep now late nights are n...</td>\n",
              "      <td>right im going sleep late night not proving go...</td>\n",
              "    </tr>\n",
              "    <tr>\n",
              "      <th>1072730</th>\n",
              "      <td>1</td>\n",
              "      <td>@CupcakeCartel69 Ya i'm in LA... but everyone ...</td>\n",
              "      <td>ya im la everyone going xcept meim soooo tired...</td>\n",
              "    </tr>\n",
              "    <tr>\n",
              "      <th>287470</th>\n",
              "      <td>0</td>\n",
              "      <td>Poor Jake...he hurt his foot</td>\n",
              "      <td>poor jakehe hurt foot</td>\n",
              "    </tr>\n",
              "    <tr>\n",
              "      <th>725431</th>\n",
              "      <td>0</td>\n",
              "      <td>@iMrNiceGuy0023 I can't I'm at my aunts house ...</td>\n",
              "      <td>cant im aunt house mom car im stuck hows new i...</td>\n",
              "    </tr>\n",
              "    <tr>\n",
              "      <th>330772</th>\n",
              "      <td>0</td>\n",
              "      <td>i have no life  *cries* ( not really crying bu...</td>\n",
              "      <td>life cry not really cry omg soo trueee</td>\n",
              "    </tr>\n",
              "    <tr>\n",
              "      <th>1033754</th>\n",
              "      <td>1</td>\n",
              "      <td>@danslevin My sister Justine edited that movie</td>\n",
              "      <td>sister justine edited movie</td>\n",
              "    </tr>\n",
              "    <tr>\n",
              "      <th>871915</th>\n",
              "      <td>1</td>\n",
              "      <td>Even with the rain, Relay for Life seems to ha...</td>\n",
              "      <td>even rain relay life seems success</td>\n",
              "    </tr>\n",
              "    <tr>\n",
              "      <th>1193866</th>\n",
              "      <td>1</td>\n",
              "      <td>listening to goo goo dolls</td>\n",
              "      <td>listening goo goo doll</td>\n",
              "    </tr>\n",
              "    <tr>\n",
              "      <th>335178</th>\n",
              "      <td>0</td>\n",
              "      <td>needs a personal day</td>\n",
              "      <td>need personal day</td>\n",
              "    </tr>\n",
              "    <tr>\n",
              "      <th>427169</th>\n",
              "      <td>0</td>\n",
              "      <td>hungry  Is it wrong to dislike your best frien...</td>\n",
              "      <td>hungry wrong dislike best friend girlfriend pe...</td>\n",
              "    </tr>\n",
              "    <tr>\n",
              "      <th>1020884</th>\n",
              "      <td>1</td>\n",
              "      <td>@livingwlindsay good idea. Thrifting Friday.</td>\n",
              "      <td>good idea thrifting friday</td>\n",
              "    </tr>\n",
              "    <tr>\n",
              "      <th>175146</th>\n",
              "      <td>0</td>\n",
              "      <td>made it into leadership, buttt i'm still not h...</td>\n",
              "      <td>made leadership buttt im still not happy enjoy...</td>\n",
              "    </tr>\n",
              "    <tr>\n",
              "      <th>283047</th>\n",
              "      <td>0</td>\n",
              "      <td>off to math no cellular device today</td>\n",
              "      <td>math cellular device today</td>\n",
              "    </tr>\n",
              "    <tr>\n",
              "      <th>1089137</th>\n",
              "      <td>1</td>\n",
              "      <td>@alex_mauricio Goodnight</td>\n",
              "      <td>goodnight</td>\n",
              "    </tr>\n",
              "    <tr>\n",
              "      <th>1155494</th>\n",
              "      <td>1</td>\n",
              "      <td>random, i was kickin it with my dad the other ...</td>\n",
              "      <td>random kickin dad day tellin detroit youngkind...</td>\n",
              "    </tr>\n",
              "    <tr>\n",
              "      <th>1191739</th>\n",
              "      <td>1</td>\n",
              "      <td>Heeeeeey everyone whats up....hey if any of my...</td>\n",
              "      <td>heeeeeey everyone whats uphey friend see go ms...</td>\n",
              "    </tr>\n",
              "    <tr>\n",
              "      <th>1095762</th>\n",
              "      <td>1</td>\n",
              "      <td>@kinthiri did you get my invite   ?</td>\n",
              "      <td>get invite</td>\n",
              "    </tr>\n",
              "    <tr>\n",
              "      <th>650662</th>\n",
              "      <td>0</td>\n",
              "      <td>Okay wtf third time ive had the plane crashing...</td>\n",
              "      <td>okay wtf third time ive plane crashing dreeam ugh</td>\n",
              "    </tr>\n",
              "    <tr>\n",
              "      <th>1543216</th>\n",
              "      <td>1</td>\n",
              "      <td>i feel (so) bad :/ ... few minutes and 90210</td>\n",
              "      <td>feel bad minute 90210</td>\n",
              "    </tr>\n",
              "    <tr>\n",
              "      <th>919081</th>\n",
              "      <td>1</td>\n",
              "      <td>off to liverpool now!</td>\n",
              "      <td>liverpool</td>\n",
              "    </tr>\n",
              "    <tr>\n",
              "      <th>108934</th>\n",
              "      <td>0</td>\n",
              "      <td>I need to sleep, but I'm really not THAT tired...</td>\n",
              "      <td>need sleep im really not tired morning start t...</td>\n",
              "    </tr>\n",
              "    <tr>\n",
              "      <th>996018</th>\n",
              "      <td>1</td>\n",
              "      <td>suelynn brought us treats. get them before and...</td>\n",
              "      <td>suelynn brought u treat get andy eats</td>\n",
              "    </tr>\n",
              "    <tr>\n",
              "      <th>1386381</th>\n",
              "      <td>1</td>\n",
              "      <td>@nutmeg1 thank you</td>\n",
              "      <td>thank</td>\n",
              "    </tr>\n",
              "    <tr>\n",
              "      <th>1576003</th>\n",
              "      <td>1</td>\n",
              "      <td>@macaronique Well done, madame! At this point,...</td>\n",
              "      <td>well done madame point suppose thats good guess</td>\n",
              "    </tr>\n",
              "    <tr>\n",
              "      <th>752717</th>\n",
              "      <td>0</td>\n",
              "      <td>missing my friends alreadyy!!!!   bohuuhuu  im...</td>\n",
              "      <td>missing friend alreadyy bohuuhuu im sad</td>\n",
              "    </tr>\n",
              "    <tr>\n",
              "      <th>943916</th>\n",
              "      <td>1</td>\n",
              "      <td>@MsLatina Thanks I think...??  I mean... husba...</td>\n",
              "      <td>thanks think mean husband hairy foot always wo...</td>\n",
              "    </tr>\n",
              "    <tr>\n",
              "      <th>619752</th>\n",
              "      <td>0</td>\n",
              "      <td>@CookingMyLife Will do. I LOVE Penzey's - sad ...</td>\n",
              "      <td>love penzeys sad mag gone hopefully someday ab...</td>\n",
              "    </tr>\n",
              "    <tr>\n",
              "      <th>112359</th>\n",
              "      <td>0</td>\n",
              "      <td>@Nailhead SAD FAEC</td>\n",
              "      <td>sad faec</td>\n",
              "    </tr>\n",
              "    <tr>\n",
              "      <th>203187</th>\n",
              "      <td>0</td>\n",
              "      <td>@CV31 U replied to me but I have NO Idea what ...</td>\n",
              "      <td>replied idea said ya</td>\n",
              "    </tr>\n",
              "    <tr>\n",
              "      <th>1457792</th>\n",
              "      <td>1</td>\n",
              "      <td>@masond7 : I highly recommends you join www.m2...</td>\n",
              "      <td>highly recommends join earn money free shareho...</td>\n",
              "    </tr>\n",
              "    <tr>\n",
              "      <th>673917</th>\n",
              "      <td>0</td>\n",
              "      <td>@GabrielSaporta GABE! DID YOU ANSWER AND SOMEO...</td>\n",
              "      <td>gabe answer someone hung im sorry thought dial...</td>\n",
              "    </tr>\n",
              "    <tr>\n",
              "      <th>820490</th>\n",
              "      <td>1</td>\n",
              "      <td>17 again is the best movie  Zac is soo cute in...</td>\n",
              "      <td>17 best movie zac soo cute movie</td>\n",
              "    </tr>\n",
              "    <tr>\n",
              "      <th>765584</th>\n",
              "      <td>0</td>\n",
              "      <td>@bizychic cool...it's crazy over there isn't it</td>\n",
              "      <td>coolits crazy isnt</td>\n",
              "    </tr>\n",
              "    <tr>\n",
              "      <th>687935</th>\n",
              "      <td>0</td>\n",
              "      <td>i dont know why, but i can't log in to Orkut &amp;...</td>\n",
              "      <td>dont know cant log orkut amp msn</td>\n",
              "    </tr>\n",
              "  </tbody>\n",
              "</table>\n",
              "</div>"
            ],
            "text/plain": [
              "         polarity  ...                                   processed_tweets\n",
              "1594060         1  ...     line vine trying timesin store go pick amazing\n",
              "392297          0  ...        give eye liner mascara wont cooperate today\n",
              "245225          0  ...                                        clean lingo\n",
              "160907          0  ...         take advice lookin phone cost relationship\n",
              "225969          0  ...        went gamestop ran coworker used like im sad\n",
              "308153          0  ...  xplane iphone racing f15 canyon near midair fl...\n",
              "1375327         1  ...                        celebs get character rest u\n",
              "984549          1  ...                 cooking dinner japanese food today\n",
              "517646          0  ...                                      screwed baaad\n",
              "406627          0  ...       wow not date wedding barely know anyone suck\n",
              "222954          0  ...                                     tried btr hate\n",
              "272582          0  ...                         annnnnnnnnnd back work boo\n",
              "1333878         1  ...             uh ohlol going see saturday cheer head\n",
              "1547978         1  ...                           tweet not tweet question\n",
              "1324716         1  ...                    whaa new new moon still amazing\n",
              "1297293         1  ...                                       wake morning\n",
              "326893          0  ...  right im going sleep late night not proving go...\n",
              "1072730         1  ...  ya im la everyone going xcept meim soooo tired...\n",
              "287470          0  ...                              poor jakehe hurt foot\n",
              "725431          0  ...  cant im aunt house mom car im stuck hows new i...\n",
              "330772          0  ...             life cry not really cry omg soo trueee\n",
              "1033754         1  ...                        sister justine edited movie\n",
              "871915          1  ...                 even rain relay life seems success\n",
              "1193866         1  ...                             listening goo goo doll\n",
              "335178          0  ...                                  need personal day\n",
              "427169          0  ...  hungry wrong dislike best friend girlfriend pe...\n",
              "1020884         1  ...                         good idea thrifting friday\n",
              "175146          0  ...  made leadership buttt im still not happy enjoy...\n",
              "283047          0  ...                         math cellular device today\n",
              "1089137         1  ...                                          goodnight\n",
              "1155494         1  ...  random kickin dad day tellin detroit youngkind...\n",
              "1191739         1  ...  heeeeeey everyone whats uphey friend see go ms...\n",
              "1095762         1  ...                                         get invite\n",
              "650662          0  ...  okay wtf third time ive plane crashing dreeam ugh\n",
              "1543216         1  ...                              feel bad minute 90210\n",
              "919081          1  ...                                          liverpool\n",
              "108934          0  ...  need sleep im really not tired morning start t...\n",
              "996018          1  ...              suelynn brought u treat get andy eats\n",
              "1386381         1  ...                                              thank\n",
              "1576003         1  ...    well done madame point suppose thats good guess\n",
              "752717          0  ...            missing friend alreadyy bohuuhuu im sad\n",
              "943916          1  ...  thanks think mean husband hairy foot always wo...\n",
              "619752          0  ...  love penzeys sad mag gone hopefully someday ab...\n",
              "112359          0  ...                                           sad faec\n",
              "203187          0  ...                               replied idea said ya\n",
              "1457792         1  ...  highly recommends join earn money free shareho...\n",
              "673917          0  ...  gabe answer someone hung im sorry thought dial...\n",
              "820490          1  ...                   17 best movie zac soo cute movie\n",
              "765584          0  ...                                 coolits crazy isnt\n",
              "687935          0  ...                   dont know cant log orkut amp msn\n",
              "\n",
              "[50 rows x 3 columns]"
            ]
          },
          "metadata": {
            "tags": []
          },
          "execution_count": 41
        }
      ]
    },
    {
      "cell_type": "markdown",
      "metadata": {
        "id": "fHqGwpNLIt07"
      },
      "source": [
        "# Vectorization and Splitting Data"
      ]
    },
    {
      "cell_type": "code",
      "metadata": {
        "id": "UfZJlJ4qIxzL"
      },
      "source": [
        "\n",
        "X = data['processed_tweets'].values\n",
        "y = data['polarity'].values\n",
        "\n"
      ],
      "execution_count": null,
      "outputs": []
    },
    {
      "cell_type": "code",
      "metadata": {
        "colab": {
          "base_uri": "https://localhost:8080/"
        },
        "id": "oMu7G0R4I2nZ",
        "outputId": "bdd8f1cc-27ad-4376-fb22-f314399ddd76"
      },
      "source": [
        "print(X.shape)\n",
        "print(y.shape)"
      ],
      "execution_count": null,
      "outputs": [
        {
          "output_type": "stream",
          "text": [
            "(200000,)\n",
            "(200000,)\n"
          ],
          "name": "stdout"
        }
      ]
    },
    {
      "cell_type": "markdown",
      "metadata": {
        "id": "ma0ZtHacI6Mh"
      },
      "source": [
        "**Convert text to word frequency vectors**"
      ]
    },
    {
      "cell_type": "code",
      "metadata": {
        "colab": {
          "base_uri": "https://localhost:8080/"
        },
        "id": "bPyxcVwLI9q3",
        "outputId": "1858a56e-539d-4594-c46a-06864273ff31"
      },
      "source": [
        "\n",
        "#Convert a collection of raw documents to a matrix of TF-IDF features.\n",
        "vector = TfidfVectorizer(sublinear_tf=True)\n",
        "X = vector.fit_transform(X)\n",
        "print(f'Vector fitted.')\n",
        "print('No. of feature_words: ', len(vector.get_feature_names()))\n",
        "\n"
      ],
      "execution_count": null,
      "outputs": [
        {
          "output_type": "stream",
          "text": [
            "Vector fitted.\n",
            "No. of feature_words:  99663\n"
          ],
          "name": "stdout"
        }
      ]
    },
    {
      "cell_type": "code",
      "metadata": {
        "colab": {
          "base_uri": "https://localhost:8080/"
        },
        "id": "RIsu3wujJDp6",
        "outputId": "6648d994-8f50-4d97-965b-8d9548c6d57a"
      },
      "source": [
        "print(X.shape)\n",
        "print(y.shape)"
      ],
      "execution_count": null,
      "outputs": [
        {
          "output_type": "stream",
          "text": [
            "(200000, 99663)\n",
            "(200000,)\n"
          ],
          "name": "stdout"
        }
      ]
    },
    {
      "cell_type": "markdown",
      "metadata": {
        "id": "8AlRDo6XJGYg"
      },
      "source": [
        "**Split and Train Test**"
      ]
    },
    {
      "cell_type": "markdown",
      "metadata": {
        "id": "4kx3RjYmJM_2"
      },
      "source": [
        "\n",
        "\n",
        "The Preprocessed Data is divided into 2 sets of data:\n",
        "\n",
        "\n",
        "*   Training Data: The dataset upon which the model would be trained on. Contains 80% data.\n",
        "*  Test Data: The dataset upon which the model would be tested against. Contains 20% data.\n",
        "\n",
        "\n",
        "\n",
        "\n",
        "\n",
        "\n"
      ]
    },
    {
      "cell_type": "code",
      "metadata": {
        "id": "Z-6H8muGJJsC"
      },
      "source": [
        "X_train, X_test, y_train, y_test = train_test_split(X, y, test_size = 0.20, random_state=101)"
      ],
      "execution_count": null,
      "outputs": []
    },
    {
      "cell_type": "code",
      "metadata": {
        "colab": {
          "base_uri": "https://localhost:8080/"
        },
        "id": "XfJswgJ6JeMc",
        "outputId": "b2e5a4eb-de75-49f2-e0c5-093250de1b8d"
      },
      "source": [
        "print(\"X_train\", X_train.shape)\n",
        "print(\"y_train\", y_train.shape)\n",
        "print()\n",
        "print(\"X_test\", X_test.shape)\n",
        "print(\"y_test\", y_test.shape)"
      ],
      "execution_count": null,
      "outputs": [
        {
          "output_type": "stream",
          "text": [
            "X_train (160000, 99663)\n",
            "y_train (160000,)\n",
            "\n",
            "X_test (40000, 99663)\n",
            "y_test (40000,)\n"
          ],
          "name": "stdout"
        }
      ]
    },
    {
      "cell_type": "code",
      "metadata": {
        "id": "KaHGghQxH8OO"
      },
      "source": [
        "def model_Evaluate(model):\n",
        "    #accuracy of model on training data\n",
        "    acc_train=model.score(X_train, y_train)\n",
        "    #accuracy of model on test data\n",
        "    acc_test=model.score(X_test, y_test)\n",
        "    \n",
        "    print('Accuracy of model on training data : {}'.format(acc_train*100))\n",
        "    print('Accuracy of model on testing data : {} \\n'.format(acc_test*100))\n",
        "\n",
        "    # Predict values for Test dataset\n",
        "    y_pred = model.predict(X_test)\n",
        "\n",
        "    # Print the evaluation metrics for the dataset.\n",
        "    print(classification_report(y_test, y_pred))\n",
        "    \n",
        "    # Compute and plot the Confusion matrix\n",
        "    cf_matrix = confusion_matrix(y_test, y_pred)\n",
        "\n",
        "    categories  = ['Negative','Positive']\n",
        "    group_names = ['True Neg','False Pos', 'False Neg','True Pos']\n",
        "    group_percentages = ['{0:.2%}'.format(value) for value in cf_matrix.flatten() / np.sum(cf_matrix)]\n",
        "\n",
        "    labels = [f'{v1}\\n{v2}' for v1, v2 in zip(group_names,group_percentages)]\n",
        "    labels = np.asarray(labels).reshape(2,2)\n",
        "\n",
        "    sns.heatmap(cf_matrix, annot = labels, cmap = 'Reds',fmt = '',\n",
        "                xticklabels = categories, yticklabels = categories)\n",
        "\n",
        "    plt.xlabel(\"Predicted values\", fontdict = {'size':14}, labelpad = 10)\n",
        "    plt.ylabel(\"Actual values\"   , fontdict = {'size':14}, labelpad = 10)\n",
        "    plt.title (\"Confusion Matrix\", fontdict = {'size':18}, pad = 20)"
      ],
      "execution_count": null,
      "outputs": []
    },
    {
      "cell_type": "code",
      "metadata": {
        "colab": {
          "base_uri": "https://localhost:8080/",
          "height": 527
        },
        "id": "p9hWk2mLIGsi",
        "outputId": "5f9a918b-7caa-4aaa-b150-3ca35ad257d5"
      },
      "source": [
        "lg = LogisticRegression()\n",
        "history=lg.fit(X_train, y_train)\n",
        "model_Evaluate(lg)"
      ],
      "execution_count": null,
      "outputs": [
        {
          "output_type": "stream",
          "text": [
            "Accuracy of model on training data : 81.959375\n",
            "Accuracy of model on testing data : 77.425 \n",
            "\n",
            "              precision    recall  f1-score   support\n",
            "\n",
            "           0       0.79      0.75      0.77     20024\n",
            "           1       0.76      0.80      0.78     19976\n",
            "\n",
            "    accuracy                           0.77     40000\n",
            "   macro avg       0.77      0.77      0.77     40000\n",
            "weighted avg       0.77      0.77      0.77     40000\n",
            "\n"
          ],
          "name": "stdout"
        },
        {
          "output_type": "display_data",
          "data": {
            "image/png": "[encoded data removed]",
            "text/plain": [
              "<Figure size 432x288 with 2 Axes>"
            ]
          },
          "metadata": {
            "tags": [],
            "needs_background": "light"
          }
        }
      ]
    },
    {
      "cell_type": "markdown",
      "metadata": {
        "id": "uOnnLqT9JkpF"
      },
      "source": [
        "# RNN"
      ]
    },
    {
      "cell_type": "code",
      "metadata": {
        "id": "Rby0zFT_JgJT"
      },
      "source": [
        "from keras.models import Sequential\n",
        "from keras.layers import Dense, Embedding, LSTM, Dropout, Bidirectional\n",
        "from sklearn.feature_extraction.text import CountVectorizer\n",
        "from keras.preprocessing.text import Tokenizer\n",
        "from keras.preprocessing.sequence import pad_sequences\n",
        "from keras.utils.np_utils import to_categorical\n",
        "import re\n",
        "import keras"
      ],
      "execution_count": null,
      "outputs": []
    },
    {
      "cell_type": "code",
      "metadata": {
        "colab": {
          "base_uri": "https://localhost:8080/"
        },
        "id": "xaOtlV33J3xp",
        "outputId": "50c24068-d10e-4c3c-ac9f-6a3350d22346"
      },
      "source": [
        "from keras.preprocessing.text import Tokenizer\n",
        "from keras.preprocessing.sequence import pad_sequences\n",
        "from keras import regularizers\n",
        "\n",
        "max_words = 5000\n",
        "max_len = 200\n",
        "\n",
        "tokenizer = Tokenizer(num_words=max_words)\n",
        "tokenizer.fit_on_texts(data.processed_tweets)\n",
        "sequences = tokenizer.texts_to_sequences(data.processed_tweets)\n",
        "tweets = pad_sequences(sequences, maxlen=max_len)\n",
        "print(tweets)"
      ],
      "execution_count": null,
      "outputs": [
        {
          "output_type": "stream",
          "text": [
            "[[   0    0    0 ...    7  622  155]\n",
            " [   0    0    0 ...  326  110   12]\n",
            " [   0    0    0 ...    0    0  570]\n",
            " ...\n",
            " [   0    0    0 ...    0  532   33]\n",
            " [   0    0    0 ...  266   96   65]\n",
            " [   0    0    0 ... 2033  431  786]]\n"
          ],
          "name": "stdout"
        }
      ]
    },
    {
      "cell_type": "code",
      "metadata": {
        "id": "G009bs63KB_Q"
      },
      "source": [
        "\n",
        "X_train, X_test, y_train, y_test = train_test_split(tweets, data.polarity.values, test_size=0.2, random_state=101)\n"
      ],
      "execution_count": null,
      "outputs": []
    },
    {
      "cell_type": "code",
      "metadata": {
        "colab": {
          "base_uri": "https://localhost:8080/"
        },
        "id": "xR2NRWDCKFWT",
        "outputId": "190248ae-03b2-4856-c352-f323f1b19969"
      },
      "source": [
        "from keras.models import Sequential\n",
        "from keras import layers\n",
        "from keras import regularizers\n",
        "from keras import backend as K\n",
        "from keras.callbacks import ModelCheckpoint\n",
        "model2 = Sequential()\n",
        "model2.add(layers.Embedding(max_words, 128))\n",
        "model2.add(Bidirectional(layers.LSTM(64,dropout=0.5)))\n",
        "model2.add(layers.Dense(16, activation='relu'))\n",
        "model2.add(layers.Dense(8, activation='relu'))\n",
        "model2.add(layers.Dense(1,activation='sigmoid'))\n",
        "\n",
        "model2.compile(optimizer='adam',loss='binary_crossentropy', metrics=['accuracy'])\n",
        "checkpoint2 = ModelCheckpoint(\"rnn_model.hdf5\", monitor='val_accuracy', verbose=1,save_best_only=True, mode='auto', period=1,save_weights_only=False)\n",
        "history = model2.fit(X_train, y_train, epochs=5,validation_data=(X_test, y_test),callbacks=[checkpoint2])"
      ],
      "execution_count": null,
      "outputs": [
        {
          "output_type": "stream",
          "text": [
            "WARNING:tensorflow:`period` argument is deprecated. Please use `save_freq` to specify the frequency in number of batches seen.\n",
            "Epoch 1/5\n",
            "5000/5000 [==============================] - 1214s 242ms/step - loss: 0.5311 - accuracy: 0.7290 - val_loss: 0.4658 - val_accuracy: 0.7780\n",
            "\n",
            "Epoch 00001: val_accuracy improved from -inf to 0.77798, saving model to rnn_model.hdf5\n",
            "Epoch 2/5\n",
            "5000/5000 [==============================] - 1227s 245ms/step - loss: 0.4517 - accuracy: 0.7875 - val_loss: 0.4585 - val_accuracy: 0.7833\n",
            "\n",
            "Epoch 00002: val_accuracy improved from 0.77798 to 0.78328, saving model to rnn_model.hdf5\n",
            "Epoch 3/5\n",
            "5000/5000 [==============================] - 1227s 245ms/step - loss: 0.4292 - accuracy: 0.7981 - val_loss: 0.4615 - val_accuracy: 0.7830\n",
            "\n",
            "Epoch 00003: val_accuracy did not improve from 0.78328\n",
            "Epoch 4/5\n",
            "5000/5000 [==============================] - 1213s 243ms/step - loss: 0.4153 - accuracy: 0.8083 - val_loss: 0.4717 - val_accuracy: 0.7828\n",
            "\n",
            "Epoch 00004: val_accuracy did not improve from 0.78328\n",
            "Epoch 5/5\n",
            "5000/5000 [==============================] - 1221s 244ms/step - loss: 0.3978 - accuracy: 0.8166 - val_loss: 0.4713 - val_accuracy: 0.7823\n",
            "\n",
            "Epoch 00005: val_accuracy did not improve from 0.78328\n"
          ],
          "name": "stdout"
        }
      ]
    },
    {
      "cell_type": "code",
      "metadata": {
        "colab": {
          "base_uri": "https://localhost:8080/"
        },
        "id": "JCHFY0dcmVkK",
        "outputId": "3017b6ec-cce3-4c30-d8e1-5002a6de547f"
      },
      "source": [
        "sequence = tokenizer.texts_to_sequences([\"I am  healthy\"])\n",
        "test = pad_sequences(sequence, maxlen=max_len)\n",
        "pred = model2.predict(test)\n",
        "if pred > 0.5:\n",
        "  print('Positive')\n",
        "else:\n",
        "  print('Negative')\n",
        "\n",
        "print(pred)"
      ],
      "execution_count": null,
      "outputs": [
        {
          "output_type": "stream",
          "text": [
            "Positive\n",
            "[[0.89564276]]\n"
          ],
          "name": "stdout"
        }
      ]
    },
    {
      "cell_type": "code",
      "metadata": {
        "id": "d521hUyomizM"
      },
      "source": [
        "model = tf.keras.models.load_model('rnn_model.hdf5')\n"
      ],
      "execution_count": null,
      "outputs": []
    },
    {
      "cell_type": "code",
      "metadata": {
        "colab": {
          "base_uri": "https://localhost:8080/"
        },
        "id": "OD5Vh8ZiqdHq",
        "outputId": "5c500159-bf1b-472d-b334-a9a4f2e38c23"
      },
      "source": [
        "sequence = tokenizer.texts_to_sequences([\"I like the vaccines but i do not trust the companies\"])\n",
        "test = pad_sequences(sequence, maxlen=max_len)\n",
        "pred = model.predict(test)\n",
        "if pred > 0.5:\n",
        "  print('Positive')\n",
        "else:\n",
        "  print('Negative')\n",
        "\n",
        "print(pred)"
      ],
      "execution_count": null,
      "outputs": [
        {
          "output_type": "stream",
          "text": [
            "Negative\n",
            "[[0.3405847]]\n"
          ],
          "name": "stdout"
        }
      ]
    },
    {
      "cell_type": "code",
      "metadata": {
        "id": "t9wTj9TQuFTs"
      },
      "source": [
        "!mkdir -p saved_model\n",
        "model.save('saved_model/biderectional_model.hdf5') "
      ],
      "execution_count": null,
      "outputs": []
    },
    {
      "cell_type": "code",
      "metadata": {
        "colab": {
          "base_uri": "https://localhost:8080/"
        },
        "id": "A7VYM6QbuS7L",
        "outputId": "61e64a9b-c3d0-47cf-94f4-d2c00e415cb2"
      },
      "source": [
        "!ls saved_model"
      ],
      "execution_count": null,
      "outputs": [
        {
          "output_type": "stream",
          "text": [
            "rnn_model.hdf5\n"
          ],
          "name": "stdout"
        }
      ]
    },
    {
      "cell_type": "markdown",
      "metadata": {
        "id": "1Au8ERlAuqc2"
      },
      "source": [
        "# Loading our covid vaccine dataset"
      ]
    },
    {
      "cell_type": "code",
      "metadata": {
        "id": "IxghGFHYvIHr"
      },
      "source": [
        "!pip install -U -q PyDrive\n",
        "from pydrive.auth import GoogleAuth\n",
        "from pydrive.drive import GoogleDrive\n",
        "from google.colab import auth\n",
        "from oauth2client.client import GoogleCredentials# Authenticate and create the PyDrive client.\n",
        "auth.authenticate_user()\n",
        "gauth = GoogleAuth()\n",
        "gauth.credentials = GoogleCredentials.get_application_default()\n",
        "drive = GoogleDrive(gauth)"
      ],
      "execution_count": null,
      "outputs": []
    },
    {
      "cell_type": "code",
      "metadata": {
        "id": "fc9o5dzpuwIG"
      },
      "source": [
        "link1 = 'https://drive.google.com/file/d/102uB9cfp5ul3bc9WZZJ-A8MbsP1HAySy/view?usp=sharing' #the shareable link"
      ],
      "execution_count": null,
      "outputs": []
    },
    {
      "cell_type": "code",
      "metadata": {
        "colab": {
          "base_uri": "https://localhost:8080/"
        },
        "id": "h51cqNB6u6qI",
        "outputId": "c76f4f14-9fbd-47c6-e8eb-ee452a106340"
      },
      "source": [
        "id = '102uB9cfp5ul3bc9WZZJ-A8MbsP1HAySy'\n",
        "\n",
        "print (id) # Verify that you have everything after '='"
      ],
      "execution_count": null,
      "outputs": [
        {
          "output_type": "stream",
          "text": [
            "102uB9cfp5ul3bc9WZZJ-A8MbsP1HAySy\n"
          ],
          "name": "stdout"
        }
      ]
    },
    {
      "cell_type": "code",
      "metadata": {
        "colab": {
          "base_uri": "https://localhost:8080/",
          "height": 983
        },
        "id": "F5OmcSPAu-7s",
        "outputId": "17ec9eb8-aa45-4681-a58b-55c4d55259c1"
      },
      "source": [
        "downloaded = drive.CreateFile({'id':id}) \n",
        "downloaded.GetContentFile('tweets_loc.csv')  \n",
        "df3 = pd.read_csv('tweets_loc.csv')\n",
        "df3"
      ],
      "execution_count": null,
      "outputs": [
        {
          "output_type": "execute_result",
          "data": {
            "text/html": [
              "<div>\n",
              "<style scoped>\n",
              "    .dataframe tbody tr th:only-of-type {\n",
              "        vertical-align: middle;\n",
              "    }\n",
              "\n",
              "    .dataframe tbody tr th {\n",
              "        vertical-align: top;\n",
              "    }\n",
              "\n",
              "    .dataframe thead th {\n",
              "        text-align: right;\n",
              "    }\n",
              "</style>\n",
              "<table border=\"1\" class=\"dataframe\">\n",
              "  <thead>\n",
              "    <tr style=\"text-align: right;\">\n",
              "      <th></th>\n",
              "      <th>Unnamed: 0</th>\n",
              "      <th>id</th>\n",
              "      <th>user_name</th>\n",
              "      <th>user_location</th>\n",
              "      <th>user_description</th>\n",
              "      <th>user_created</th>\n",
              "      <th>user_followers</th>\n",
              "      <th>user_friends</th>\n",
              "      <th>user_favourites</th>\n",
              "      <th>user_verified</th>\n",
              "      <th>date</th>\n",
              "      <th>text</th>\n",
              "      <th>hashtags</th>\n",
              "      <th>source</th>\n",
              "      <th>retweets</th>\n",
              "      <th>favorites</th>\n",
              "      <th>is_retweet</th>\n",
              "      <th>processed_tweets</th>\n",
              "      <th>Polarity</th>\n",
              "      <th>Analysis</th>\n",
              "      <th>long</th>\n",
              "      <th>lat</th>\n",
              "    </tr>\n",
              "  </thead>\n",
              "  <tbody>\n",
              "    <tr>\n",
              "      <th>0</th>\n",
              "      <td>1</td>\n",
              "      <td>1.340539e+18</td>\n",
              "      <td>Rachel Roh</td>\n",
              "      <td>La Crescenta-Montrose, CA</td>\n",
              "      <td>Aggregator of Asian American news; scanning di...</td>\n",
              "      <td>2009-04-08 17:52:46</td>\n",
              "      <td>405.0</td>\n",
              "      <td>1692.0</td>\n",
              "      <td>3247.0</td>\n",
              "      <td>False</td>\n",
              "      <td>2020-12-20 06:06:44</td>\n",
              "      <td>Same folks said daikon paste could treat a cyt...</td>\n",
              "      <td>['PfizerBioNTech']</td>\n",
              "      <td>Twitter for Android</td>\n",
              "      <td>0.0</td>\n",
              "      <td>0.0</td>\n",
              "      <td>False</td>\n",
              "      <td>folk said daikon paste could treat cytokine st...</td>\n",
              "      <td>0.292167</td>\n",
              "      <td>Negative</td>\n",
              "      <td>-118.231705</td>\n",
              "      <td>34.219170</td>\n",
              "    </tr>\n",
              "    <tr>\n",
              "      <th>1</th>\n",
              "      <td>2</td>\n",
              "      <td>1.338159e+18</td>\n",
              "      <td>Albert Fong</td>\n",
              "      <td>San Francisco, CA</td>\n",
              "      <td>Marketing dude, tech geek, heavy metal &amp; '80s ...</td>\n",
              "      <td>2009-09-21 15:27:30</td>\n",
              "      <td>834.0</td>\n",
              "      <td>666.0</td>\n",
              "      <td>178.0</td>\n",
              "      <td>False</td>\n",
              "      <td>2020-12-13 16:27:13</td>\n",
              "      <td>While the world has been on the wrong side of ...</td>\n",
              "      <td>NaN</td>\n",
              "      <td>Twitter Web App</td>\n",
              "      <td>1.0</td>\n",
              "      <td>1.0</td>\n",
              "      <td>False</td>\n",
              "      <td>world wrong side history year hopefully bigges...</td>\n",
              "      <td>0.753310</td>\n",
              "      <td>Positive</td>\n",
              "      <td>-122.727652</td>\n",
              "      <td>37.785063</td>\n",
              "    </tr>\n",
              "    <tr>\n",
              "      <th>2</th>\n",
              "      <td>3</td>\n",
              "      <td>1.337858e+18</td>\n",
              "      <td>eli🇱🇹🇪🇺👌</td>\n",
              "      <td>Your Bed</td>\n",
              "      <td>heil, hydra 🖐☺</td>\n",
              "      <td>2020-06-25 23:30:28</td>\n",
              "      <td>10.0</td>\n",
              "      <td>88.0</td>\n",
              "      <td>155.0</td>\n",
              "      <td>False</td>\n",
              "      <td>2020-12-12 20:33:45</td>\n",
              "      <td>#coronavirus #SputnikV #AstraZeneca #PfizerBio...</td>\n",
              "      <td>['coronavirus', 'SputnikV', 'AstraZeneca', 'Pf...</td>\n",
              "      <td>Twitter for Android</td>\n",
              "      <td>0.0</td>\n",
              "      <td>0.0</td>\n",
              "      <td>False</td>\n",
              "      <td>coronavirus sputnikv astrazeneca pfizerbiontec...</td>\n",
              "      <td>0.364838</td>\n",
              "      <td>Negative</td>\n",
              "      <td>-2.942752</td>\n",
              "      <td>42.685166</td>\n",
              "    </tr>\n",
              "    <tr>\n",
              "      <th>3</th>\n",
              "      <td>4</td>\n",
              "      <td>1.337856e+18</td>\n",
              "      <td>Charles Adler</td>\n",
              "      <td>Vancouver, BC - Canada</td>\n",
              "      <td>Hosting \"CharlesAdlerTonight\" Global News Radi...</td>\n",
              "      <td>2008-09-10 11:28:53</td>\n",
              "      <td>49165.0</td>\n",
              "      <td>3933.0</td>\n",
              "      <td>21853.0</td>\n",
              "      <td>True</td>\n",
              "      <td>2020-12-12 20:23:59</td>\n",
              "      <td>Facts are immutable, Senator, even when you're...</td>\n",
              "      <td>NaN</td>\n",
              "      <td>Twitter Web App</td>\n",
              "      <td>446.0</td>\n",
              "      <td>2129.0</td>\n",
              "      <td>False</td>\n",
              "      <td>fact immutable senator even youre not ethicall...</td>\n",
              "      <td>0.187278</td>\n",
              "      <td>Negative</td>\n",
              "      <td>-123.124101</td>\n",
              "      <td>49.257308</td>\n",
              "    </tr>\n",
              "    <tr>\n",
              "      <th>4</th>\n",
              "      <td>5</td>\n",
              "      <td>1.337854e+18</td>\n",
              "      <td>Citizen News Channel</td>\n",
              "      <td>NaN</td>\n",
              "      <td>Citizen News Channel bringing you an alternati...</td>\n",
              "      <td>2020-04-23 17:58:42</td>\n",
              "      <td>152.0</td>\n",
              "      <td>580.0</td>\n",
              "      <td>1473.0</td>\n",
              "      <td>False</td>\n",
              "      <td>2020-12-12 20:17:19</td>\n",
              "      <td>Explain to me again why we need a vaccine @Bor...</td>\n",
              "      <td>['whereareallthesickpeople', 'PfizerBioNTech']</td>\n",
              "      <td>Twitter for iPhone</td>\n",
              "      <td>0.0</td>\n",
              "      <td>0.0</td>\n",
              "      <td>False</td>\n",
              "      <td>explain need vaccine whereareallthesickpeople ...</td>\n",
              "      <td>0.782983</td>\n",
              "      <td>Positive</td>\n",
              "      <td>12.502155</td>\n",
              "      <td>13.187038</td>\n",
              "    </tr>\n",
              "    <tr>\n",
              "      <th>...</th>\n",
              "      <td>...</td>\n",
              "      <td>...</td>\n",
              "      <td>...</td>\n",
              "      <td>...</td>\n",
              "      <td>...</td>\n",
              "      <td>...</td>\n",
              "      <td>...</td>\n",
              "      <td>...</td>\n",
              "      <td>...</td>\n",
              "      <td>...</td>\n",
              "      <td>...</td>\n",
              "      <td>...</td>\n",
              "      <td>...</td>\n",
              "      <td>...</td>\n",
              "      <td>...</td>\n",
              "      <td>...</td>\n",
              "      <td>...</td>\n",
              "      <td>...</td>\n",
              "      <td>...</td>\n",
              "      <td>...</td>\n",
              "      <td>...</td>\n",
              "      <td>...</td>\n",
              "    </tr>\n",
              "    <tr>\n",
              "      <th>69718</th>\n",
              "      <td>69719</td>\n",
              "      <td>1.382248e+18</td>\n",
              "      <td>Russian Mission in Geneva</td>\n",
              "      <td>Geneve</td>\n",
              "      <td>Постпредство России при Отделении ООН и др. ме...</td>\n",
              "      <td>2011-07-26 08:40:47</td>\n",
              "      <td>9862.0</td>\n",
              "      <td>589.0</td>\n",
              "      <td>3502.0</td>\n",
              "      <td>True</td>\n",
              "      <td>2021-04-14 08:24:54</td>\n",
              "      <td>✅ 🇷🇺#Gamaleya Research Center in cooperation w...</td>\n",
              "      <td>['Gamaleya']</td>\n",
              "      <td>Twitter for iPhone</td>\n",
              "      <td>2.0</td>\n",
              "      <td>9.0</td>\n",
              "      <td>False</td>\n",
              "      <td>🇷🇺gamaleya research center cooperation 🇮🇹 spal...</td>\n",
              "      <td>0.408473</td>\n",
              "      <td>Negative</td>\n",
              "      <td>6.143047</td>\n",
              "      <td>46.204829</td>\n",
              "    </tr>\n",
              "    <tr>\n",
              "      <th>69719</th>\n",
              "      <td>69720</td>\n",
              "      <td>1.382246e+18</td>\n",
              "      <td>Mora Mosese</td>\n",
              "      <td>NtswanaTsatsi</td>\n",
              "      <td>#MoAfrika - #MoSotho</td>\n",
              "      <td>2019-12-06 11:11:07</td>\n",
              "      <td>164.0</td>\n",
              "      <td>101.0</td>\n",
              "      <td>6465.0</td>\n",
              "      <td>False</td>\n",
              "      <td>2021-04-14 08:16:35</td>\n",
              "      <td>@FloydShivambu #SputnikV. Where are #AfricanEx...</td>\n",
              "      <td>['SputnikV', 'AfricanExpertise', 'ShamDemic']</td>\n",
              "      <td>Twitter Web App</td>\n",
              "      <td>0.0</td>\n",
              "      <td>0.0</td>\n",
              "      <td>False</td>\n",
              "      <td>sputnikv africanexpertise medical academic voi...</td>\n",
              "      <td>0.220360</td>\n",
              "      <td>Negative</td>\n",
              "      <td>28.855412</td>\n",
              "      <td>-27.228607</td>\n",
              "    </tr>\n",
              "    <tr>\n",
              "      <th>69720</th>\n",
              "      <td>69721</td>\n",
              "      <td>1.382245e+18</td>\n",
              "      <td>Robert ka Boss</td>\n",
              "      <td>NaN</td>\n",
              "      <td>Lily don't be silly you want to know me just g...</td>\n",
              "      <td>2020-11-26 09:24:12</td>\n",
              "      <td>76.0</td>\n",
              "      <td>65.0</td>\n",
              "      <td>78.0</td>\n",
              "      <td>False</td>\n",
              "      <td>2021-04-14 08:11:21</td>\n",
              "      <td>Hello, it s because of this stubbornness and f...</td>\n",
              "      <td>NaN</td>\n",
              "      <td>Twitter Web App</td>\n",
              "      <td>0.0</td>\n",
              "      <td>0.0</td>\n",
              "      <td>False</td>\n",
              "      <td>hello stubbornness foolishness facing second w...</td>\n",
              "      <td>0.952513</td>\n",
              "      <td>Positive</td>\n",
              "      <td>12.502155</td>\n",
              "      <td>13.187038</td>\n",
              "    </tr>\n",
              "    <tr>\n",
              "      <th>69721</th>\n",
              "      <td>69722</td>\n",
              "      <td>1.382243e+18</td>\n",
              "      <td>Mick Brown</td>\n",
              "      <td>Cambridge, UK</td>\n",
              "      <td>Retired 1960s dropout, part-time self-appointe...</td>\n",
              "      <td>2011-12-05 14:11:05</td>\n",
              "      <td>1882.0</td>\n",
              "      <td>1850.0</td>\n",
              "      <td>83008.0</td>\n",
              "      <td>False</td>\n",
              "      <td>2021-04-14 08:04:35</td>\n",
              "      <td>In a lengthy interview on #wato some months ag...</td>\n",
              "      <td>['wato', 'SputnikV']</td>\n",
              "      <td>Twitter for Android</td>\n",
              "      <td>0.0</td>\n",
              "      <td>0.0</td>\n",
              "      <td>False</td>\n",
              "      <td>lengthy interview wato month ago representativ...</td>\n",
              "      <td>0.782384</td>\n",
              "      <td>Positive</td>\n",
              "      <td>0.126595</td>\n",
              "      <td>52.197586</td>\n",
              "    </tr>\n",
              "    <tr>\n",
              "      <th>69722</th>\n",
              "      <td>69723</td>\n",
              "      <td>1.382243e+18</td>\n",
              "      <td>#गांधीदूत Azaz Shaikh ऐजाज़ शेख اعجاز شیخ #WithRG</td>\n",
              "      <td>Thane, Maharashtra.</td>\n",
              "      <td>State GS @INCMaharashtra SM,\\n\\nEx-Coordinator...</td>\n",
              "      <td>2013-09-29 11:07:38</td>\n",
              "      <td>4120.0</td>\n",
              "      <td>1324.0</td>\n",
              "      <td>11633.0</td>\n",
              "      <td>False</td>\n",
              "      <td>2021-04-14 08:03:15</td>\n",
              "      <td>“First they ignore you\\nthen they laugh at you...</td>\n",
              "      <td>['vaccine', 'SputnikV']</td>\n",
              "      <td>Twitter for Android</td>\n",
              "      <td>0.0</td>\n",
              "      <td>1.0</td>\n",
              "      <td>False</td>\n",
              "      <td>first ignore laugh fight win vaccine sputnikv…</td>\n",
              "      <td>0.765727</td>\n",
              "      <td>Positive</td>\n",
              "      <td>72.977545</td>\n",
              "      <td>19.232121</td>\n",
              "    </tr>\n",
              "  </tbody>\n",
              "</table>\n",
              "<p>69723 rows × 22 columns</p>\n",
              "</div>"
            ],
            "text/plain": [
              "       Unnamed: 0            id  ...        long        lat\n",
              "0               1  1.340539e+18  ... -118.231705  34.219170\n",
              "1               2  1.338159e+18  ... -122.727652  37.785063\n",
              "2               3  1.337858e+18  ...   -2.942752  42.685166\n",
              "3               4  1.337856e+18  ... -123.124101  49.257308\n",
              "4               5  1.337854e+18  ...   12.502155  13.187038\n",
              "...           ...           ...  ...         ...        ...\n",
              "69718       69719  1.382248e+18  ...    6.143047  46.204829\n",
              "69719       69720  1.382246e+18  ...   28.855412 -27.228607\n",
              "69720       69721  1.382245e+18  ...   12.502155  13.187038\n",
              "69721       69722  1.382243e+18  ...    0.126595  52.197586\n",
              "69722       69723  1.382243e+18  ...   72.977545  19.232121\n",
              "\n",
              "[69723 rows x 22 columns]"
            ]
          },
          "metadata": {
            "tags": []
          },
          "execution_count": 18
        }
      ]
    },
    {
      "cell_type": "code",
      "metadata": {
        "colab": {
          "base_uri": "https://localhost:8080/",
          "height": 54
        },
        "id": "TAasy5Az8MoG",
        "outputId": "737f1cc6-f760-446e-967b-091c4b90c133"
      },
      "source": [
        "df3['text'][10]"
      ],
      "execution_count": null,
      "outputs": [
        {
          "output_type": "execute_result",
          "data": {
            "application/vnd.google.colaboratory.intrinsic+json": {
              "type": "string"
            },
            "text/plain": [
              "'while deaths are closing in on the 300,000 mark... millions of people wait #PfizerBioNTech #Vaccine !\\n-\\nThe first U… https://t.co/uQ3A2f7SVP'"
            ]
          },
          "metadata": {
            "tags": []
          },
          "execution_count": 13
        }
      ]
    },
    {
      "cell_type": "markdown",
      "metadata": {
        "id": "O2jm3hqaEA8C"
      },
      "source": [
        "\n",
        "**Pre-processing text data**\n",
        "\n",
        "Most of the text data are cleaned by following below steps.\n",
        "*   *Remove punctuations*\n",
        "*   *Tokenization - Converting a sentence into list of words* \n",
        "*   *Remove stopwords* \n",
        "*   *Lammetization/stemming - Tranforming any form of a word to its root word*\n",
        "\n",
        "\n",
        "\n",
        "\n",
        "\n",
        "  \n",
        "\n",
        "  \n",
        "\n",
        "\n"
      ]
    },
    {
      "cell_type": "markdown",
      "metadata": {
        "id": "Mpl4hvRP-IpJ"
      },
      "source": [
        "# Pre-Proccess for our prediction Model"
      ]
    },
    {
      "cell_type": "code",
      "metadata": {
        "id": "Gyry-IMKvRKa"
      },
      "source": [
        "#converting pandas object to a string type\n",
        "df3['text'] = df3['text'].astype('str')"
      ],
      "execution_count": null,
      "outputs": []
    },
    {
      "cell_type": "code",
      "metadata": {
        "colab": {
          "base_uri": "https://localhost:8080/"
        },
        "id": "a-YbHH1Ouim6",
        "outputId": "d33775f4-52ce-4da1-a0df-b0de7f7b36e3"
      },
      "source": [
        "nltk.download('stopwords')\n",
        "stop_word = set(stopwords.words('english'))\n",
        "exclude_words = set((\"hasn\", \"couldn\", \"weren\", \"wasn\", \"not\", \"doesn\", \"shouldn\", \"isn\",\"didn\", \"haven\", \"aren\", \"needn\", \"nor\", \"\")) \n",
        "stopword = stop_word.difference(exclude_words)"
      ],
      "execution_count": null,
      "outputs": [
        {
          "output_type": "stream",
          "text": [
            "[nltk_data] Downloading package stopwords to /root/nltk_data...\n",
            "[nltk_data]   Unzipping corpora/stopwords.zip.\n"
          ],
          "name": "stdout"
        }
      ]
    },
    {
      "cell_type": "code",
      "metadata": {
        "id": "Dhe5unYJuTns"
      },
      "source": [
        "urlPattern = r\"((http://)[^ ]*|(https://)[^ ]*|( www\\.)[^ ]*)\"\n",
        "userPattern = '@[^\\s]+'\n",
        "hashtag = '#[^\\s]+'\n",
        "def process_tweets(tweet):\n",
        "  # Lower Casing\n",
        "    tweet = tweet.lower()\n",
        "    # Removing all URls \n",
        "    tweet = re.sub(urlPattern,'',tweet)\n",
        "    # Removing all @username.\n",
        "    tweet = re.sub(userPattern,'', tweet) \n",
        "    tweet = re.sub(hashtag,'', tweet)\n",
        "    #Remove punctuations\n",
        "    tweet = tweet.translate(str.maketrans(\"\",\"\",string.punctuation))\n",
        "    #tokenizing words\n",
        "    tokens = word_tokenize(tweet)\n",
        "    #Removing Stop Words\n",
        "    final_tokens = [w for w in tokens if w not in stopword]\n",
        "    #reducing a word to its word stem \n",
        "    wordLemm = WordNetLemmatizer()\n",
        "    finalwords=[]\n",
        "    for w in final_tokens:\n",
        "      if len(w)>1:\n",
        "        word = wordLemm.lemmatize(w)\n",
        "        finalwords.append(word)\n",
        "    return ' '.join(finalwords)"
      ],
      "execution_count": null,
      "outputs": []
    },
    {
      "cell_type": "code",
      "metadata": {
        "colab": {
          "base_uri": "https://localhost:8080/",
          "height": 647
        },
        "id": "64YuJLL3uaNf",
        "outputId": "ef5293f8-6b1e-4a3c-868b-b5569d054329"
      },
      "source": [
        "df3['processed_tweets'] = df3['text'].apply(lambda x: process_tweets(x))\n",
        "print('Text Preprocessing complete.')"
      ],
      "execution_count": null,
      "outputs": [
        {
          "output_type": "error",
          "ename": "LookupError",
          "evalue": "ignored",
          "traceback": [
            "\u001b[0;31m---------------------------------------------------------------------------\u001b[0m",
            "\u001b[0;31mLookupError\u001b[0m                               Traceback (most recent call last)",
            "\u001b[0;32m<ipython-input-17-91fcf336e6b5>\u001b[0m in \u001b[0;36m<module>\u001b[0;34m()\u001b[0m\n\u001b[0;32m----> 1\u001b[0;31m \u001b[0mdf3\u001b[0m\u001b[0;34m[\u001b[0m\u001b[0;34m'processed_tweets'\u001b[0m\u001b[0;34m]\u001b[0m \u001b[0;34m=\u001b[0m \u001b[0mdf3\u001b[0m\u001b[0;34m[\u001b[0m\u001b[0;34m'text'\u001b[0m\u001b[0;34m]\u001b[0m\u001b[0;34m.\u001b[0m\u001b[0mapply\u001b[0m\u001b[0;34m(\u001b[0m\u001b[0;32mlambda\u001b[0m \u001b[0mx\u001b[0m\u001b[0;34m:\u001b[0m \u001b[0mprocess_tweets\u001b[0m\u001b[0;34m(\u001b[0m\u001b[0mx\u001b[0m\u001b[0;34m)\u001b[0m\u001b[0;34m)\u001b[0m\u001b[0;34m\u001b[0m\u001b[0;34m\u001b[0m\u001b[0m\n\u001b[0m\u001b[1;32m      2\u001b[0m \u001b[0mprint\u001b[0m\u001b[0;34m(\u001b[0m\u001b[0;34m'Text Preprocessing complete.'\u001b[0m\u001b[0;34m)\u001b[0m\u001b[0;34m\u001b[0m\u001b[0;34m\u001b[0m\u001b[0m\n",
            "\u001b[0;32m/usr/local/lib/python3.7/dist-packages/pandas/core/series.py\u001b[0m in \u001b[0;36mapply\u001b[0;34m(self, func, convert_dtype, args, **kwds)\u001b[0m\n\u001b[1;32m   4211\u001b[0m             \u001b[0;32melse\u001b[0m\u001b[0;34m:\u001b[0m\u001b[0;34m\u001b[0m\u001b[0;34m\u001b[0m\u001b[0m\n\u001b[1;32m   4212\u001b[0m                 \u001b[0mvalues\u001b[0m \u001b[0;34m=\u001b[0m \u001b[0mself\u001b[0m\u001b[0;34m.\u001b[0m\u001b[0mastype\u001b[0m\u001b[0;34m(\u001b[0m\u001b[0mobject\u001b[0m\u001b[0;34m)\u001b[0m\u001b[0;34m.\u001b[0m\u001b[0m_values\u001b[0m\u001b[0;34m\u001b[0m\u001b[0;34m\u001b[0m\u001b[0m\n\u001b[0;32m-> 4213\u001b[0;31m                 \u001b[0mmapped\u001b[0m \u001b[0;34m=\u001b[0m \u001b[0mlib\u001b[0m\u001b[0;34m.\u001b[0m\u001b[0mmap_infer\u001b[0m\u001b[0;34m(\u001b[0m\u001b[0mvalues\u001b[0m\u001b[0;34m,\u001b[0m \u001b[0mf\u001b[0m\u001b[0;34m,\u001b[0m \u001b[0mconvert\u001b[0m\u001b[0;34m=\u001b[0m\u001b[0mconvert_dtype\u001b[0m\u001b[0;34m)\u001b[0m\u001b[0;34m\u001b[0m\u001b[0;34m\u001b[0m\u001b[0m\n\u001b[0m\u001b[1;32m   4214\u001b[0m \u001b[0;34m\u001b[0m\u001b[0m\n\u001b[1;32m   4215\u001b[0m         \u001b[0;32mif\u001b[0m \u001b[0mlen\u001b[0m\u001b[0;34m(\u001b[0m\u001b[0mmapped\u001b[0m\u001b[0;34m)\u001b[0m \u001b[0;32mand\u001b[0m \u001b[0misinstance\u001b[0m\u001b[0;34m(\u001b[0m\u001b[0mmapped\u001b[0m\u001b[0;34m[\u001b[0m\u001b[0;36m0\u001b[0m\u001b[0;34m]\u001b[0m\u001b[0;34m,\u001b[0m \u001b[0mSeries\u001b[0m\u001b[0;34m)\u001b[0m\u001b[0;34m:\u001b[0m\u001b[0;34m\u001b[0m\u001b[0;34m\u001b[0m\u001b[0m\n",
            "\u001b[0;32mpandas/_libs/lib.pyx\u001b[0m in \u001b[0;36mpandas._libs.lib.map_infer\u001b[0;34m()\u001b[0m\n",
            "\u001b[0;32m<ipython-input-17-91fcf336e6b5>\u001b[0m in \u001b[0;36m<lambda>\u001b[0;34m(x)\u001b[0m\n\u001b[0;32m----> 1\u001b[0;31m \u001b[0mdf3\u001b[0m\u001b[0;34m[\u001b[0m\u001b[0;34m'processed_tweets'\u001b[0m\u001b[0;34m]\u001b[0m \u001b[0;34m=\u001b[0m \u001b[0mdf3\u001b[0m\u001b[0;34m[\u001b[0m\u001b[0;34m'text'\u001b[0m\u001b[0;34m]\u001b[0m\u001b[0;34m.\u001b[0m\u001b[0mapply\u001b[0m\u001b[0;34m(\u001b[0m\u001b[0;32mlambda\u001b[0m \u001b[0mx\u001b[0m\u001b[0;34m:\u001b[0m \u001b[0mprocess_tweets\u001b[0m\u001b[0;34m(\u001b[0m\u001b[0mx\u001b[0m\u001b[0;34m)\u001b[0m\u001b[0;34m)\u001b[0m\u001b[0;34m\u001b[0m\u001b[0;34m\u001b[0m\u001b[0m\n\u001b[0m\u001b[1;32m      2\u001b[0m \u001b[0mprint\u001b[0m\u001b[0;34m(\u001b[0m\u001b[0;34m'Text Preprocessing complete.'\u001b[0m\u001b[0;34m)\u001b[0m\u001b[0;34m\u001b[0m\u001b[0;34m\u001b[0m\u001b[0m\n",
            "\u001b[0;32m<ipython-input-16-cab396700444>\u001b[0m in \u001b[0;36mprocess_tweets\u001b[0;34m(tweet)\u001b[0m\n\u001b[1;32m     13\u001b[0m     \u001b[0mtweet\u001b[0m \u001b[0;34m=\u001b[0m \u001b[0mtweet\u001b[0m\u001b[0;34m.\u001b[0m\u001b[0mtranslate\u001b[0m\u001b[0;34m(\u001b[0m\u001b[0mstr\u001b[0m\u001b[0;34m.\u001b[0m\u001b[0mmaketrans\u001b[0m\u001b[0;34m(\u001b[0m\u001b[0;34m\"\"\u001b[0m\u001b[0;34m,\u001b[0m\u001b[0;34m\"\"\u001b[0m\u001b[0;34m,\u001b[0m\u001b[0mstring\u001b[0m\u001b[0;34m.\u001b[0m\u001b[0mpunctuation\u001b[0m\u001b[0;34m)\u001b[0m\u001b[0;34m)\u001b[0m\u001b[0;34m\u001b[0m\u001b[0;34m\u001b[0m\u001b[0m\n\u001b[1;32m     14\u001b[0m     \u001b[0;31m#tokenizing words\u001b[0m\u001b[0;34m\u001b[0m\u001b[0;34m\u001b[0m\u001b[0;34m\u001b[0m\u001b[0m\n\u001b[0;32m---> 15\u001b[0;31m     \u001b[0mtokens\u001b[0m \u001b[0;34m=\u001b[0m \u001b[0mword_tokenize\u001b[0m\u001b[0;34m(\u001b[0m\u001b[0mtweet\u001b[0m\u001b[0;34m)\u001b[0m\u001b[0;34m\u001b[0m\u001b[0;34m\u001b[0m\u001b[0m\n\u001b[0m\u001b[1;32m     16\u001b[0m     \u001b[0;31m#Removing Stop Words\u001b[0m\u001b[0;34m\u001b[0m\u001b[0;34m\u001b[0m\u001b[0;34m\u001b[0m\u001b[0m\n\u001b[1;32m     17\u001b[0m     \u001b[0mfinal_tokens\u001b[0m \u001b[0;34m=\u001b[0m \u001b[0;34m[\u001b[0m\u001b[0mw\u001b[0m \u001b[0;32mfor\u001b[0m \u001b[0mw\u001b[0m \u001b[0;32min\u001b[0m \u001b[0mtokens\u001b[0m \u001b[0;32mif\u001b[0m \u001b[0mw\u001b[0m \u001b[0;32mnot\u001b[0m \u001b[0;32min\u001b[0m \u001b[0mstopword\u001b[0m\u001b[0;34m]\u001b[0m\u001b[0;34m\u001b[0m\u001b[0;34m\u001b[0m\u001b[0m\n",
            "\u001b[0;32m/usr/local/lib/python3.7/dist-packages/nltk/tokenize/__init__.py\u001b[0m in \u001b[0;36mword_tokenize\u001b[0;34m(text, language, preserve_line)\u001b[0m\n\u001b[1;32m    126\u001b[0m     \u001b[0;34m:\u001b[0m\u001b[0mtype\u001b[0m \u001b[0mpreserver_line\u001b[0m\u001b[0;34m:\u001b[0m \u001b[0mbool\u001b[0m\u001b[0;34m\u001b[0m\u001b[0;34m\u001b[0m\u001b[0m\n\u001b[1;32m    127\u001b[0m     \"\"\"\n\u001b[0;32m--> 128\u001b[0;31m     \u001b[0msentences\u001b[0m \u001b[0;34m=\u001b[0m \u001b[0;34m[\u001b[0m\u001b[0mtext\u001b[0m\u001b[0;34m]\u001b[0m \u001b[0;32mif\u001b[0m \u001b[0mpreserve_line\u001b[0m \u001b[0;32melse\u001b[0m \u001b[0msent_tokenize\u001b[0m\u001b[0;34m(\u001b[0m\u001b[0mtext\u001b[0m\u001b[0;34m,\u001b[0m \u001b[0mlanguage\u001b[0m\u001b[0;34m)\u001b[0m\u001b[0;34m\u001b[0m\u001b[0;34m\u001b[0m\u001b[0m\n\u001b[0m\u001b[1;32m    129\u001b[0m     return [token for sent in sentences\n\u001b[1;32m    130\u001b[0m             for token in _treebank_word_tokenizer.tokenize(sent)]\n",
            "\u001b[0;32m/usr/local/lib/python3.7/dist-packages/nltk/tokenize/__init__.py\u001b[0m in \u001b[0;36msent_tokenize\u001b[0;34m(text, language)\u001b[0m\n\u001b[1;32m     92\u001b[0m     \u001b[0;34m:\u001b[0m\u001b[0mparam\u001b[0m \u001b[0mlanguage\u001b[0m\u001b[0;34m:\u001b[0m \u001b[0mthe\u001b[0m \u001b[0mmodel\u001b[0m \u001b[0mname\u001b[0m \u001b[0;32min\u001b[0m \u001b[0mthe\u001b[0m \u001b[0mPunkt\u001b[0m \u001b[0mcorpus\u001b[0m\u001b[0;34m\u001b[0m\u001b[0;34m\u001b[0m\u001b[0m\n\u001b[1;32m     93\u001b[0m     \"\"\"\n\u001b[0;32m---> 94\u001b[0;31m     \u001b[0mtokenizer\u001b[0m \u001b[0;34m=\u001b[0m \u001b[0mload\u001b[0m\u001b[0;34m(\u001b[0m\u001b[0;34m'tokenizers/punkt/{0}.pickle'\u001b[0m\u001b[0;34m.\u001b[0m\u001b[0mformat\u001b[0m\u001b[0;34m(\u001b[0m\u001b[0mlanguage\u001b[0m\u001b[0;34m)\u001b[0m\u001b[0;34m)\u001b[0m\u001b[0;34m\u001b[0m\u001b[0;34m\u001b[0m\u001b[0m\n\u001b[0m\u001b[1;32m     95\u001b[0m     \u001b[0;32mreturn\u001b[0m \u001b[0mtokenizer\u001b[0m\u001b[0;34m.\u001b[0m\u001b[0mtokenize\u001b[0m\u001b[0;34m(\u001b[0m\u001b[0mtext\u001b[0m\u001b[0;34m)\u001b[0m\u001b[0;34m\u001b[0m\u001b[0;34m\u001b[0m\u001b[0m\n\u001b[1;32m     96\u001b[0m \u001b[0;34m\u001b[0m\u001b[0m\n",
            "\u001b[0;32m/usr/local/lib/python3.7/dist-packages/nltk/data.py\u001b[0m in \u001b[0;36mload\u001b[0;34m(resource_url, format, cache, verbose, logic_parser, fstruct_reader, encoding)\u001b[0m\n\u001b[1;32m    832\u001b[0m \u001b[0;34m\u001b[0m\u001b[0m\n\u001b[1;32m    833\u001b[0m     \u001b[0;31m# Load the resource.\u001b[0m\u001b[0;34m\u001b[0m\u001b[0;34m\u001b[0m\u001b[0;34m\u001b[0m\u001b[0m\n\u001b[0;32m--> 834\u001b[0;31m     \u001b[0mopened_resource\u001b[0m \u001b[0;34m=\u001b[0m \u001b[0m_open\u001b[0m\u001b[0;34m(\u001b[0m\u001b[0mresource_url\u001b[0m\u001b[0;34m)\u001b[0m\u001b[0;34m\u001b[0m\u001b[0;34m\u001b[0m\u001b[0m\n\u001b[0m\u001b[1;32m    835\u001b[0m \u001b[0;34m\u001b[0m\u001b[0m\n\u001b[1;32m    836\u001b[0m     \u001b[0;32mif\u001b[0m \u001b[0mformat\u001b[0m \u001b[0;34m==\u001b[0m \u001b[0;34m'raw'\u001b[0m\u001b[0;34m:\u001b[0m\u001b[0;34m\u001b[0m\u001b[0;34m\u001b[0m\u001b[0m\n",
            "\u001b[0;32m/usr/local/lib/python3.7/dist-packages/nltk/data.py\u001b[0m in \u001b[0;36m_open\u001b[0;34m(resource_url)\u001b[0m\n\u001b[1;32m    950\u001b[0m \u001b[0;34m\u001b[0m\u001b[0m\n\u001b[1;32m    951\u001b[0m     \u001b[0;32mif\u001b[0m \u001b[0mprotocol\u001b[0m \u001b[0;32mis\u001b[0m \u001b[0;32mNone\u001b[0m \u001b[0;32mor\u001b[0m \u001b[0mprotocol\u001b[0m\u001b[0;34m.\u001b[0m\u001b[0mlower\u001b[0m\u001b[0;34m(\u001b[0m\u001b[0;34m)\u001b[0m \u001b[0;34m==\u001b[0m \u001b[0;34m'nltk'\u001b[0m\u001b[0;34m:\u001b[0m\u001b[0;34m\u001b[0m\u001b[0;34m\u001b[0m\u001b[0m\n\u001b[0;32m--> 952\u001b[0;31m         \u001b[0;32mreturn\u001b[0m \u001b[0mfind\u001b[0m\u001b[0;34m(\u001b[0m\u001b[0mpath_\u001b[0m\u001b[0;34m,\u001b[0m \u001b[0mpath\u001b[0m \u001b[0;34m+\u001b[0m \u001b[0;34m[\u001b[0m\u001b[0;34m''\u001b[0m\u001b[0;34m]\u001b[0m\u001b[0;34m)\u001b[0m\u001b[0;34m.\u001b[0m\u001b[0mopen\u001b[0m\u001b[0;34m(\u001b[0m\u001b[0;34m)\u001b[0m\u001b[0;34m\u001b[0m\u001b[0;34m\u001b[0m\u001b[0m\n\u001b[0m\u001b[1;32m    953\u001b[0m     \u001b[0;32melif\u001b[0m \u001b[0mprotocol\u001b[0m\u001b[0;34m.\u001b[0m\u001b[0mlower\u001b[0m\u001b[0;34m(\u001b[0m\u001b[0;34m)\u001b[0m \u001b[0;34m==\u001b[0m \u001b[0;34m'file'\u001b[0m\u001b[0;34m:\u001b[0m\u001b[0;34m\u001b[0m\u001b[0;34m\u001b[0m\u001b[0m\n\u001b[1;32m    954\u001b[0m         \u001b[0;31m# urllib might not use mode='rb', so handle this one ourselves:\u001b[0m\u001b[0;34m\u001b[0m\u001b[0;34m\u001b[0m\u001b[0;34m\u001b[0m\u001b[0m\n",
            "\u001b[0;32m/usr/local/lib/python3.7/dist-packages/nltk/data.py\u001b[0m in \u001b[0;36mfind\u001b[0;34m(resource_name, paths)\u001b[0m\n\u001b[1;32m    671\u001b[0m     \u001b[0msep\u001b[0m \u001b[0;34m=\u001b[0m \u001b[0;34m'*'\u001b[0m \u001b[0;34m*\u001b[0m \u001b[0;36m70\u001b[0m\u001b[0;34m\u001b[0m\u001b[0;34m\u001b[0m\u001b[0m\n\u001b[1;32m    672\u001b[0m     \u001b[0mresource_not_found\u001b[0m \u001b[0;34m=\u001b[0m \u001b[0;34m'\\n%s\\n%s\\n%s\\n'\u001b[0m \u001b[0;34m%\u001b[0m \u001b[0;34m(\u001b[0m\u001b[0msep\u001b[0m\u001b[0;34m,\u001b[0m \u001b[0mmsg\u001b[0m\u001b[0;34m,\u001b[0m \u001b[0msep\u001b[0m\u001b[0;34m)\u001b[0m\u001b[0;34m\u001b[0m\u001b[0;34m\u001b[0m\u001b[0m\n\u001b[0;32m--> 673\u001b[0;31m     \u001b[0;32mraise\u001b[0m \u001b[0mLookupError\u001b[0m\u001b[0;34m(\u001b[0m\u001b[0mresource_not_found\u001b[0m\u001b[0;34m)\u001b[0m\u001b[0;34m\u001b[0m\u001b[0;34m\u001b[0m\u001b[0m\n\u001b[0m\u001b[1;32m    674\u001b[0m \u001b[0;34m\u001b[0m\u001b[0m\n\u001b[1;32m    675\u001b[0m \u001b[0;34m\u001b[0m\u001b[0m\n",
            "\u001b[0;31mLookupError\u001b[0m: \n**********************************************************************\n  Resource \u001b[93mpunkt\u001b[0m not found.\n  Please use the NLTK Downloader to obtain the resource:\n\n  \u001b[31m>>> import nltk\n  >>> nltk.download('punkt')\n  \u001b[0m\n  Searched in:\n    - '/root/nltk_data'\n    - '/usr/share/nltk_data'\n    - '/usr/local/share/nltk_data'\n    - '/usr/lib/nltk_data'\n    - '/usr/local/lib/nltk_data'\n    - '/usr/nltk_data'\n    - '/usr/lib/nltk_data'\n    - ''\n**********************************************************************\n"
          ]
        }
      ]
    },
    {
      "cell_type": "code",
      "metadata": {
        "colab": {
          "base_uri": "https://localhost:8080/",
          "height": 869
        },
        "id": "1jgSqi3Nu3as",
        "outputId": "6ee3d74b-84b3-43ac-ba4a-1bc5d323a74e"
      },
      "source": [
        "df3.head(10)"
      ],
      "execution_count": null,
      "outputs": [
        {
          "output_type": "execute_result",
          "data": {
            "text/html": [
              "<div>\n",
              "<style scoped>\n",
              "    .dataframe tbody tr th:only-of-type {\n",
              "        vertical-align: middle;\n",
              "    }\n",
              "\n",
              "    .dataframe tbody tr th {\n",
              "        vertical-align: top;\n",
              "    }\n",
              "\n",
              "    .dataframe thead th {\n",
              "        text-align: right;\n",
              "    }\n",
              "</style>\n",
              "<table border=\"1\" class=\"dataframe\">\n",
              "  <thead>\n",
              "    <tr style=\"text-align: right;\">\n",
              "      <th></th>\n",
              "      <th>id</th>\n",
              "      <th>user_name</th>\n",
              "      <th>user_location</th>\n",
              "      <th>user_description</th>\n",
              "      <th>user_created</th>\n",
              "      <th>user_followers</th>\n",
              "      <th>user_friends</th>\n",
              "      <th>user_favourites</th>\n",
              "      <th>user_verified</th>\n",
              "      <th>date</th>\n",
              "      <th>text</th>\n",
              "      <th>hashtags</th>\n",
              "      <th>source</th>\n",
              "      <th>retweets</th>\n",
              "      <th>favorites</th>\n",
              "      <th>is_retweet</th>\n",
              "      <th>processed_tweets</th>\n",
              "    </tr>\n",
              "  </thead>\n",
              "  <tbody>\n",
              "    <tr>\n",
              "      <th>0</th>\n",
              "      <td>1340539111971516416</td>\n",
              "      <td>Rachel Roh</td>\n",
              "      <td>La Crescenta-Montrose, CA</td>\n",
              "      <td>Aggregator of Asian American news; scanning di...</td>\n",
              "      <td>2009-04-08 17:52:46</td>\n",
              "      <td>405</td>\n",
              "      <td>1692</td>\n",
              "      <td>3247</td>\n",
              "      <td>False</td>\n",
              "      <td>2020-12-20 06:06:44</td>\n",
              "      <td>Same folks said daikon paste could treat a cyt...</td>\n",
              "      <td>['PfizerBioNTech']</td>\n",
              "      <td>Twitter for Android</td>\n",
              "      <td>0</td>\n",
              "      <td>0</td>\n",
              "      <td>False</td>\n",
              "      <td>folk said daikon paste could treat cytokine storm</td>\n",
              "    </tr>\n",
              "    <tr>\n",
              "      <th>1</th>\n",
              "      <td>1338158543359250433</td>\n",
              "      <td>Albert Fong</td>\n",
              "      <td>San Francisco, CA</td>\n",
              "      <td>Marketing dude, tech geek, heavy metal &amp; '80s ...</td>\n",
              "      <td>2009-09-21 15:27:30</td>\n",
              "      <td>834</td>\n",
              "      <td>666</td>\n",
              "      <td>178</td>\n",
              "      <td>False</td>\n",
              "      <td>2020-12-13 16:27:13</td>\n",
              "      <td>While the world has been on the wrong side of ...</td>\n",
              "      <td>NaN</td>\n",
              "      <td>Twitter Web App</td>\n",
              "      <td>1</td>\n",
              "      <td>1</td>\n",
              "      <td>False</td>\n",
              "      <td>world wrong side history year hopefully bigges...</td>\n",
              "    </tr>\n",
              "    <tr>\n",
              "      <th>2</th>\n",
              "      <td>1337858199140118533</td>\n",
              "      <td>eli🇱🇹🇪🇺👌</td>\n",
              "      <td>Your Bed</td>\n",
              "      <td>heil, hydra 🖐☺</td>\n",
              "      <td>2020-06-25 23:30:28</td>\n",
              "      <td>10</td>\n",
              "      <td>88</td>\n",
              "      <td>155</td>\n",
              "      <td>False</td>\n",
              "      <td>2020-12-12 20:33:45</td>\n",
              "      <td>#coronavirus #SputnikV #AstraZeneca #PfizerBio...</td>\n",
              "      <td>['coronavirus', 'SputnikV', 'AstraZeneca', 'Pf...</td>\n",
              "      <td>Twitter for Android</td>\n",
              "      <td>0</td>\n",
              "      <td>0</td>\n",
              "      <td>False</td>\n",
              "      <td>russian vaccine created last 24 years…</td>\n",
              "    </tr>\n",
              "    <tr>\n",
              "      <th>3</th>\n",
              "      <td>1337855739918835717</td>\n",
              "      <td>Charles Adler</td>\n",
              "      <td>Vancouver, BC - Canada</td>\n",
              "      <td>Hosting \"CharlesAdlerTonight\" Global News Radi...</td>\n",
              "      <td>2008-09-10 11:28:53</td>\n",
              "      <td>49165</td>\n",
              "      <td>3933</td>\n",
              "      <td>21853</td>\n",
              "      <td>True</td>\n",
              "      <td>2020-12-12 20:23:59</td>\n",
              "      <td>Facts are immutable, Senator, even when you're...</td>\n",
              "      <td>NaN</td>\n",
              "      <td>Twitter Web App</td>\n",
              "      <td>446</td>\n",
              "      <td>2129</td>\n",
              "      <td>False</td>\n",
              "      <td>fact immutable senator even youre not ethicall...</td>\n",
              "    </tr>\n",
              "    <tr>\n",
              "      <th>4</th>\n",
              "      <td>1337854064604966912</td>\n",
              "      <td>Citizen News Channel</td>\n",
              "      <td>NaN</td>\n",
              "      <td>Citizen News Channel bringing you an alternati...</td>\n",
              "      <td>2020-04-23 17:58:42</td>\n",
              "      <td>152</td>\n",
              "      <td>580</td>\n",
              "      <td>1473</td>\n",
              "      <td>False</td>\n",
              "      <td>2020-12-12 20:17:19</td>\n",
              "      <td>Explain to me again why we need a vaccine @Bor...</td>\n",
              "      <td>['whereareallthesickpeople', 'PfizerBioNTech']</td>\n",
              "      <td>Twitter for iPhone</td>\n",
              "      <td>0</td>\n",
              "      <td>0</td>\n",
              "      <td>False</td>\n",
              "      <td>explain need vaccine</td>\n",
              "    </tr>\n",
              "    <tr>\n",
              "      <th>5</th>\n",
              "      <td>1337852648389832708</td>\n",
              "      <td>Dee</td>\n",
              "      <td>Birmingham, England</td>\n",
              "      <td>Gastroenterology trainee, Clinical Research Fe...</td>\n",
              "      <td>2020-01-26 21:43:12</td>\n",
              "      <td>105</td>\n",
              "      <td>108</td>\n",
              "      <td>106</td>\n",
              "      <td>False</td>\n",
              "      <td>2020-12-12 20:11:42</td>\n",
              "      <td>Does anyone have any useful advice/guidance fo...</td>\n",
              "      <td>NaN</td>\n",
              "      <td>Twitter for iPhone</td>\n",
              "      <td>0</td>\n",
              "      <td>0</td>\n",
              "      <td>False</td>\n",
              "      <td>anyone useful adviceguidance whether covid vac...</td>\n",
              "    </tr>\n",
              "    <tr>\n",
              "      <th>6</th>\n",
              "      <td>1337851215875608579</td>\n",
              "      <td>Gunther Fehlinger</td>\n",
              "      <td>Austria, Ukraine and Kosovo</td>\n",
              "      <td>End North Stream 2 now - the pipeline of corru...</td>\n",
              "      <td>2013-06-10 17:49:22</td>\n",
              "      <td>2731</td>\n",
              "      <td>5001</td>\n",
              "      <td>69344</td>\n",
              "      <td>False</td>\n",
              "      <td>2020-12-12 20:06:00</td>\n",
              "      <td>it is a bit sad to claim the fame for success ...</td>\n",
              "      <td>['vaccination']</td>\n",
              "      <td>Twitter Web App</td>\n",
              "      <td>0</td>\n",
              "      <td>4</td>\n",
              "      <td>False</td>\n",
              "      <td>bit sad claim fame success patriotic competiti...</td>\n",
              "    </tr>\n",
              "    <tr>\n",
              "      <th>7</th>\n",
              "      <td>1337850832256176136</td>\n",
              "      <td>Dr.Krutika Kuppalli</td>\n",
              "      <td>NaN</td>\n",
              "      <td>ID, Global Health, VHF, Pandemic Prep, Emergin...</td>\n",
              "      <td>2019-03-25 04:14:29</td>\n",
              "      <td>21924</td>\n",
              "      <td>593</td>\n",
              "      <td>7815</td>\n",
              "      <td>True</td>\n",
              "      <td>2020-12-12 20:04:29</td>\n",
              "      <td>There have not been many bright days in 2020 b...</td>\n",
              "      <td>['BidenHarris', 'Election2020']</td>\n",
              "      <td>Twitter for iPhone</td>\n",
              "      <td>2</td>\n",
              "      <td>22</td>\n",
              "      <td>False</td>\n",
              "      <td>not many bright day 2020 best winning</td>\n",
              "    </tr>\n",
              "    <tr>\n",
              "      <th>8</th>\n",
              "      <td>1337850023531347969</td>\n",
              "      <td>Erin Despas</td>\n",
              "      <td>NaN</td>\n",
              "      <td>Designing&amp;selling on Teespring. Like 90s Disne...</td>\n",
              "      <td>2009-10-30 17:53:54</td>\n",
              "      <td>887</td>\n",
              "      <td>1515</td>\n",
              "      <td>9639</td>\n",
              "      <td>False</td>\n",
              "      <td>2020-12-12 20:01:16</td>\n",
              "      <td>Covid vaccine; You getting it?\\n\\n #CovidVacci...</td>\n",
              "      <td>['CovidVaccine', 'covid19', 'PfizerBioNTech', ...</td>\n",
              "      <td>Twitter Web App</td>\n",
              "      <td>2</td>\n",
              "      <td>1</td>\n",
              "      <td>False</td>\n",
              "      <td>covid vaccine getting</td>\n",
              "    </tr>\n",
              "    <tr>\n",
              "      <th>9</th>\n",
              "      <td>1337842295857623042</td>\n",
              "      <td>Ch.Amjad Ali</td>\n",
              "      <td>Islamabad</td>\n",
              "      <td>#ProudPakistani #LovePakArmy #PMIK @insafiansp...</td>\n",
              "      <td>2012-11-12 04:18:12</td>\n",
              "      <td>671</td>\n",
              "      <td>2368</td>\n",
              "      <td>20469</td>\n",
              "      <td>False</td>\n",
              "      <td>2020-12-12 19:30:33</td>\n",
              "      <td>#CovidVaccine \\n\\nStates will start getting #C...</td>\n",
              "      <td>['CovidVaccine', 'COVID19Vaccine', 'US', 'paku...</td>\n",
              "      <td>Twitter Web App</td>\n",
              "      <td>0</td>\n",
              "      <td>0</td>\n",
              "      <td>False</td>\n",
              "      <td>state start getting monday say</td>\n",
              "    </tr>\n",
              "  </tbody>\n",
              "</table>\n",
              "</div>"
            ],
            "text/plain": [
              "                    id  ...                                   processed_tweets\n",
              "0  1340539111971516416  ...  folk said daikon paste could treat cytokine storm\n",
              "1  1338158543359250433  ...  world wrong side history year hopefully bigges...\n",
              "2  1337858199140118533  ...             russian vaccine created last 24 years…\n",
              "3  1337855739918835717  ...  fact immutable senator even youre not ethicall...\n",
              "4  1337854064604966912  ...                               explain need vaccine\n",
              "5  1337852648389832708  ...  anyone useful adviceguidance whether covid vac...\n",
              "6  1337851215875608579  ...  bit sad claim fame success patriotic competiti...\n",
              "7  1337850832256176136  ...              not many bright day 2020 best winning\n",
              "8  1337850023531347969  ...                              covid vaccine getting\n",
              "9  1337842295857623042  ...                     state start getting monday say\n",
              "\n",
              "[10 rows x 17 columns]"
            ]
          },
          "metadata": {
            "tags": []
          },
          "execution_count": 138
        }
      ]
    },
    {
      "cell_type": "markdown",
      "metadata": {
        "id": "BMLqDcAa-bUX"
      },
      "source": [
        "# Pre - Proccess for future use"
      ]
    },
    {
      "cell_type": "code",
      "metadata": {
        "id": "U7sVEhyTO-fh",
        "colab": {
          "base_uri": "https://localhost:8080/",
          "height": 1000
        },
        "outputId": "80f7c3f1-17c8-43ba-9d8e-85fe71c8e6bb"
      },
      "source": [
        "#clean text\n",
        "\n",
        "#create a function to clean tweets\n",
        "\n",
        "def cleanTxt(text):\n",
        "  \n",
        "  text = re.sub(r'@[A-Za-z0-9]+', '', text)# Removed @a Mentions\n",
        "  text = re.sub(r'RT[\\s]+', '', text) #Removing RT\n",
        "  text = re.sub('\\s+', ' ', text)  # Remove new line characters\n",
        "  text = re.sub(r'https?://\\S+|www\\.\\S+', '', text)#Remove hyperlink\n",
        "  text = re.sub('[0-9]+', '', text)\n",
        "  text = re.sub(\"\\'|\\#|\\`\", \"\", text) # Remove distracting single quotes\n",
        "  text = re.sub('\\S*@\\S*\\s?', '', text) # Remove Emails\n",
        "  \n",
        "\n",
        "\n",
        "  string.punctuation\n",
        "  text  = \"\".join([char for char in text if char not in string.punctuation])\n",
        "\n",
        "  text= text.lower()\n",
        "\n",
        "    \n",
        "  return text\n",
        "\n",
        "df3['Clean_text'] = df3['text'].apply(cleanTxt)\n",
        "\n",
        "df3"
      ],
      "execution_count": null,
      "outputs": [
        {
          "output_type": "execute_result",
          "data": {
            "text/html": [
              "<div>\n",
              "<style scoped>\n",
              "    .dataframe tbody tr th:only-of-type {\n",
              "        vertical-align: middle;\n",
              "    }\n",
              "\n",
              "    .dataframe tbody tr th {\n",
              "        vertical-align: top;\n",
              "    }\n",
              "\n",
              "    .dataframe thead th {\n",
              "        text-align: right;\n",
              "    }\n",
              "</style>\n",
              "<table border=\"1\" class=\"dataframe\">\n",
              "  <thead>\n",
              "    <tr style=\"text-align: right;\">\n",
              "      <th></th>\n",
              "      <th>id</th>\n",
              "      <th>user_name</th>\n",
              "      <th>user_location</th>\n",
              "      <th>user_description</th>\n",
              "      <th>user_created</th>\n",
              "      <th>user_followers</th>\n",
              "      <th>user_friends</th>\n",
              "      <th>user_favourites</th>\n",
              "      <th>user_verified</th>\n",
              "      <th>date</th>\n",
              "      <th>text</th>\n",
              "      <th>hashtags</th>\n",
              "      <th>source</th>\n",
              "      <th>retweets</th>\n",
              "      <th>favorites</th>\n",
              "      <th>is_retweet</th>\n",
              "      <th>processed_tweets</th>\n",
              "      <th>Clean_text</th>\n",
              "    </tr>\n",
              "  </thead>\n",
              "  <tbody>\n",
              "    <tr>\n",
              "      <th>0</th>\n",
              "      <td>1340539111971516416</td>\n",
              "      <td>Rachel Roh</td>\n",
              "      <td>La Crescenta-Montrose, CA</td>\n",
              "      <td>Aggregator of Asian American news; scanning di...</td>\n",
              "      <td>2009-04-08 17:52:46</td>\n",
              "      <td>405</td>\n",
              "      <td>1692</td>\n",
              "      <td>3247</td>\n",
              "      <td>False</td>\n",
              "      <td>2020-12-20 06:06:44</td>\n",
              "      <td>Same folks said daikon paste could treat a cyt...</td>\n",
              "      <td>['PfizerBioNTech']</td>\n",
              "      <td>Twitter for Android</td>\n",
              "      <td>0</td>\n",
              "      <td>0</td>\n",
              "      <td>False</td>\n",
              "      <td>ame folk said daikon paste could treat cytokin...</td>\n",
              "      <td>same folks said daikon paste could treat a cyt...</td>\n",
              "    </tr>\n",
              "    <tr>\n",
              "      <th>1</th>\n",
              "      <td>1338158543359250433</td>\n",
              "      <td>Albert Fong</td>\n",
              "      <td>San Francisco, CA</td>\n",
              "      <td>Marketing dude, tech geek, heavy metal &amp; '80s ...</td>\n",
              "      <td>2009-09-21 15:27:30</td>\n",
              "      <td>834</td>\n",
              "      <td>666</td>\n",
              "      <td>178</td>\n",
              "      <td>False</td>\n",
              "      <td>2020-12-13 16:27:13</td>\n",
              "      <td>While the world has been on the wrong side of ...</td>\n",
              "      <td>NaN</td>\n",
              "      <td>Twitter Web App</td>\n",
              "      <td>1</td>\n",
              "      <td>1</td>\n",
              "      <td>False</td>\n",
              "      <td>hile world wrong side history year hopefully b...</td>\n",
              "      <td>while the world has been on the wrong side of ...</td>\n",
              "    </tr>\n",
              "    <tr>\n",
              "      <th>2</th>\n",
              "      <td>1337858199140118533</td>\n",
              "      <td>eli🇱🇹🇪🇺👌</td>\n",
              "      <td>Your Bed</td>\n",
              "      <td>heil, hydra 🖐☺</td>\n",
              "      <td>2020-06-25 23:30:28</td>\n",
              "      <td>10</td>\n",
              "      <td>88</td>\n",
              "      <td>155</td>\n",
              "      <td>False</td>\n",
              "      <td>2020-12-12 20:33:45</td>\n",
              "      <td>#coronavirus #SputnikV #AstraZeneca #PfizerBio...</td>\n",
              "      <td>['coronavirus', 'SputnikV', 'AstraZeneca', 'Pf...</td>\n",
              "      <td>Twitter for Android</td>\n",
              "      <td>0</td>\n",
              "      <td>0</td>\n",
              "      <td>False</td>\n",
              "      <td>coronavirus sputnikv astrazeneca pfizerbiontec...</td>\n",
              "      <td>coronavirus sputnikv astrazeneca pfizerbiontec...</td>\n",
              "    </tr>\n",
              "    <tr>\n",
              "      <th>3</th>\n",
              "      <td>1337855739918835717</td>\n",
              "      <td>Charles Adler</td>\n",
              "      <td>Vancouver, BC - Canada</td>\n",
              "      <td>Hosting \"CharlesAdlerTonight\" Global News Radi...</td>\n",
              "      <td>2008-09-10 11:28:53</td>\n",
              "      <td>49165</td>\n",
              "      <td>3933</td>\n",
              "      <td>21853</td>\n",
              "      <td>True</td>\n",
              "      <td>2020-12-12 20:23:59</td>\n",
              "      <td>Facts are immutable, Senator, even when you're...</td>\n",
              "      <td>NaN</td>\n",
              "      <td>Twitter Web App</td>\n",
              "      <td>446</td>\n",
              "      <td>2129</td>\n",
              "      <td>False</td>\n",
              "      <td>act immutable senator even youre not ethically...</td>\n",
              "      <td>facts are immutable senator even when youre no...</td>\n",
              "    </tr>\n",
              "    <tr>\n",
              "      <th>4</th>\n",
              "      <td>1337854064604966912</td>\n",
              "      <td>Citizen News Channel</td>\n",
              "      <td>NaN</td>\n",
              "      <td>Citizen News Channel bringing you an alternati...</td>\n",
              "      <td>2020-04-23 17:58:42</td>\n",
              "      <td>152</td>\n",
              "      <td>580</td>\n",
              "      <td>1473</td>\n",
              "      <td>False</td>\n",
              "      <td>2020-12-12 20:17:19</td>\n",
              "      <td>Explain to me again why we need a vaccine @Bor...</td>\n",
              "      <td>['whereareallthesickpeople', 'PfizerBioNTech']</td>\n",
              "      <td>Twitter for iPhone</td>\n",
              "      <td>0</td>\n",
              "      <td>0</td>\n",
              "      <td>False</td>\n",
              "      <td>xplain need vaccine whereareallthesickpeople p...</td>\n",
              "      <td>explain to me again why we need a vaccine wher...</td>\n",
              "    </tr>\n",
              "    <tr>\n",
              "      <th>...</th>\n",
              "      <td>...</td>\n",
              "      <td>...</td>\n",
              "      <td>...</td>\n",
              "      <td>...</td>\n",
              "      <td>...</td>\n",
              "      <td>...</td>\n",
              "      <td>...</td>\n",
              "      <td>...</td>\n",
              "      <td>...</td>\n",
              "      <td>...</td>\n",
              "      <td>...</td>\n",
              "      <td>...</td>\n",
              "      <td>...</td>\n",
              "      <td>...</td>\n",
              "      <td>...</td>\n",
              "      <td>...</td>\n",
              "      <td>...</td>\n",
              "      <td>...</td>\n",
              "    </tr>\n",
              "    <tr>\n",
              "      <th>69713</th>\n",
              "      <td>1382248484259123205</td>\n",
              "      <td>Russian Mission in Geneva</td>\n",
              "      <td>Geneve</td>\n",
              "      <td>Постпредство России при Отделении ООН и др. ме...</td>\n",
              "      <td>2011-07-26 08:40:47</td>\n",
              "      <td>9862</td>\n",
              "      <td>589</td>\n",
              "      <td>3502</td>\n",
              "      <td>True</td>\n",
              "      <td>2021-04-14 08:24:54</td>\n",
              "      <td>✅ 🇷🇺#Gamaleya Research Center in cooperation w...</td>\n",
              "      <td>['Gamaleya']</td>\n",
              "      <td>Twitter for iPhone</td>\n",
              "      <td>2</td>\n",
              "      <td>9</td>\n",
              "      <td>False</td>\n",
              "      <td>🇷🇺gamaleya research center cooperation 🇮🇹 spal...</td>\n",
              "      <td>✅ 🇷🇺gamaleya research center in cooperation wi...</td>\n",
              "    </tr>\n",
              "    <tr>\n",
              "      <th>69714</th>\n",
              "      <td>1382246393532801026</td>\n",
              "      <td>Mora Mosese</td>\n",
              "      <td>NtswanaTsatsi</td>\n",
              "      <td>#MoAfrika - #MoSotho</td>\n",
              "      <td>2019-12-06 11:11:07</td>\n",
              "      <td>164</td>\n",
              "      <td>101</td>\n",
              "      <td>6465</td>\n",
              "      <td>False</td>\n",
              "      <td>2021-04-14 08:16:35</td>\n",
              "      <td>@FloydShivambu #SputnikV. Where are #AfricanEx...</td>\n",
              "      <td>['SputnikV', 'AfricanExpertise', 'ShamDemic']</td>\n",
              "      <td>Twitter Web App</td>\n",
              "      <td>0</td>\n",
              "      <td>0</td>\n",
              "      <td>False</td>\n",
              "      <td>floydshivambu sputnikv africanexpertise medica...</td>\n",
              "      <td>sputnikv where are africanexpertise medical a...</td>\n",
              "    </tr>\n",
              "    <tr>\n",
              "      <th>69715</th>\n",
              "      <td>1382245076303179778</td>\n",
              "      <td>Robert ka Boss</td>\n",
              "      <td>NaN</td>\n",
              "      <td>Lily don't be silly you want to know me just g...</td>\n",
              "      <td>2020-11-26 09:24:12</td>\n",
              "      <td>76</td>\n",
              "      <td>65</td>\n",
              "      <td>78</td>\n",
              "      <td>False</td>\n",
              "      <td>2021-04-14 08:11:21</td>\n",
              "      <td>Hello, it s because of this stubbornness and f...</td>\n",
              "      <td>NaN</td>\n",
              "      <td>Twitter Web App</td>\n",
              "      <td>0</td>\n",
              "      <td>0</td>\n",
              "      <td>False</td>\n",
              "      <td>ello stubbornness foolishness facing second wa...</td>\n",
              "      <td>hello it s because of this stubbornness and fo...</td>\n",
              "    </tr>\n",
              "    <tr>\n",
              "      <th>69716</th>\n",
              "      <td>1382243373747146752</td>\n",
              "      <td>Mick Brown</td>\n",
              "      <td>Cambridge, UK</td>\n",
              "      <td>Retired 1960s dropout, part-time self-appointe...</td>\n",
              "      <td>2011-12-05 14:11:05</td>\n",
              "      <td>1882</td>\n",
              "      <td>1850</td>\n",
              "      <td>83008</td>\n",
              "      <td>False</td>\n",
              "      <td>2021-04-14 08:04:35</td>\n",
              "      <td>In a lengthy interview on #wato some months ag...</td>\n",
              "      <td>['wato', 'SputnikV']</td>\n",
              "      <td>Twitter for Android</td>\n",
              "      <td>0</td>\n",
              "      <td>0</td>\n",
              "      <td>False</td>\n",
              "      <td>lengthy interview wato month ago representativ...</td>\n",
              "      <td>in a lengthy interview on wato some months ago...</td>\n",
              "    </tr>\n",
              "    <tr>\n",
              "      <th>69717</th>\n",
              "      <td>1382243035073810434</td>\n",
              "      <td>#गांधीदूत Azaz Shaikh ऐजाज़ शेख اعجاز شیخ #WithRG</td>\n",
              "      <td>Thane, Maharashtra.</td>\n",
              "      <td>State GS @INCMaharashtra SM,\\n\\nEx-Coordinator...</td>\n",
              "      <td>2013-09-29 11:07:38</td>\n",
              "      <td>4120</td>\n",
              "      <td>1324</td>\n",
              "      <td>11633</td>\n",
              "      <td>False</td>\n",
              "      <td>2021-04-14 08:03:15</td>\n",
              "      <td>“First they ignore you\\nthen they laugh at you...</td>\n",
              "      <td>['vaccine', 'SputnikV']</td>\n",
              "      <td>Twitter for Android</td>\n",
              "      <td>0</td>\n",
              "      <td>1</td>\n",
              "      <td>False</td>\n",
              "      <td>first ignore laugh fight win vaccine sputnikv…</td>\n",
              "      <td>“first they ignore you then they laugh at you ...</td>\n",
              "    </tr>\n",
              "  </tbody>\n",
              "</table>\n",
              "<p>69718 rows × 18 columns</p>\n",
              "</div>"
            ],
            "text/plain": [
              "                        id  ...                                         Clean_text\n",
              "0      1340539111971516416  ...  same folks said daikon paste could treat a cyt...\n",
              "1      1338158543359250433  ...  while the world has been on the wrong side of ...\n",
              "2      1337858199140118533  ...  coronavirus sputnikv astrazeneca pfizerbiontec...\n",
              "3      1337855739918835717  ...  facts are immutable senator even when youre no...\n",
              "4      1337854064604966912  ...  explain to me again why we need a vaccine wher...\n",
              "...                    ...  ...                                                ...\n",
              "69713  1382248484259123205  ...  ✅ 🇷🇺gamaleya research center in cooperation wi...\n",
              "69714  1382246393532801026  ...   sputnikv where are africanexpertise medical a...\n",
              "69715  1382245076303179778  ...  hello it s because of this stubbornness and fo...\n",
              "69716  1382243373747146752  ...  in a lengthy interview on wato some months ago...\n",
              "69717  1382243035073810434  ...  “first they ignore you then they laugh at you ...\n",
              "\n",
              "[69718 rows x 18 columns]"
            ]
          },
          "metadata": {
            "tags": []
          },
          "execution_count": 360
        }
      ]
    },
    {
      "cell_type": "markdown",
      "metadata": {
        "id": "UVPiIjiFFRLT"
      },
      "source": [
        "**Tokenization**"
      ]
    },
    {
      "cell_type": "code",
      "metadata": {
        "colab": {
          "base_uri": "https://localhost:8080/",
          "height": 1000
        },
        "id": "x6tPMFyYFPhA",
        "outputId": "de4c4cbd-3c68-4023-a5c2-8b41f3258325"
      },
      "source": [
        "def tokenization(text):\n",
        "    text = re.split('\\W+', text)\n",
        "    return text\n",
        "\n",
        "df3['Tweet_tokenized'] = df3['Clean_text'].apply(lambda x: tokenization(x.lower()))\n",
        "df3"
      ],
      "execution_count": null,
      "outputs": [
        {
          "output_type": "execute_result",
          "data": {
            "text/html": [
              "<div>\n",
              "<style scoped>\n",
              "    .dataframe tbody tr th:only-of-type {\n",
              "        vertical-align: middle;\n",
              "    }\n",
              "\n",
              "    .dataframe tbody tr th {\n",
              "        vertical-align: top;\n",
              "    }\n",
              "\n",
              "    .dataframe thead th {\n",
              "        text-align: right;\n",
              "    }\n",
              "</style>\n",
              "<table border=\"1\" class=\"dataframe\">\n",
              "  <thead>\n",
              "    <tr style=\"text-align: right;\">\n",
              "      <th></th>\n",
              "      <th>id</th>\n",
              "      <th>user_name</th>\n",
              "      <th>user_location</th>\n",
              "      <th>user_description</th>\n",
              "      <th>user_created</th>\n",
              "      <th>user_followers</th>\n",
              "      <th>user_friends</th>\n",
              "      <th>user_favourites</th>\n",
              "      <th>user_verified</th>\n",
              "      <th>date</th>\n",
              "      <th>text</th>\n",
              "      <th>hashtags</th>\n",
              "      <th>source</th>\n",
              "      <th>retweets</th>\n",
              "      <th>favorites</th>\n",
              "      <th>is_retweet</th>\n",
              "      <th>processed_tweets</th>\n",
              "      <th>Clean_text</th>\n",
              "      <th>Tweet_tokenized</th>\n",
              "    </tr>\n",
              "  </thead>\n",
              "  <tbody>\n",
              "    <tr>\n",
              "      <th>0</th>\n",
              "      <td>1340539111971516416</td>\n",
              "      <td>Rachel Roh</td>\n",
              "      <td>La Crescenta-Montrose, CA</td>\n",
              "      <td>Aggregator of Asian American news; scanning di...</td>\n",
              "      <td>2009-04-08 17:52:46</td>\n",
              "      <td>405</td>\n",
              "      <td>1692</td>\n",
              "      <td>3247</td>\n",
              "      <td>False</td>\n",
              "      <td>2020-12-20 06:06:44</td>\n",
              "      <td>Same folks said daikon paste could treat a cyt...</td>\n",
              "      <td>['PfizerBioNTech']</td>\n",
              "      <td>Twitter for Android</td>\n",
              "      <td>0</td>\n",
              "      <td>0</td>\n",
              "      <td>False</td>\n",
              "      <td>ame folk said daikon paste could treat cytokin...</td>\n",
              "      <td>same folks said daikon paste could treat a cyt...</td>\n",
              "      <td>[same, folks, said, daikon, paste, could, trea...</td>\n",
              "    </tr>\n",
              "    <tr>\n",
              "      <th>1</th>\n",
              "      <td>1338158543359250433</td>\n",
              "      <td>Albert Fong</td>\n",
              "      <td>San Francisco, CA</td>\n",
              "      <td>Marketing dude, tech geek, heavy metal &amp; '80s ...</td>\n",
              "      <td>2009-09-21 15:27:30</td>\n",
              "      <td>834</td>\n",
              "      <td>666</td>\n",
              "      <td>178</td>\n",
              "      <td>False</td>\n",
              "      <td>2020-12-13 16:27:13</td>\n",
              "      <td>While the world has been on the wrong side of ...</td>\n",
              "      <td>NaN</td>\n",
              "      <td>Twitter Web App</td>\n",
              "      <td>1</td>\n",
              "      <td>1</td>\n",
              "      <td>False</td>\n",
              "      <td>hile world wrong side history year hopefully b...</td>\n",
              "      <td>while the world has been on the wrong side of ...</td>\n",
              "      <td>[while, the, world, has, been, on, the, wrong,...</td>\n",
              "    </tr>\n",
              "    <tr>\n",
              "      <th>2</th>\n",
              "      <td>1337858199140118533</td>\n",
              "      <td>eli🇱🇹🇪🇺👌</td>\n",
              "      <td>Your Bed</td>\n",
              "      <td>heil, hydra 🖐☺</td>\n",
              "      <td>2020-06-25 23:30:28</td>\n",
              "      <td>10</td>\n",
              "      <td>88</td>\n",
              "      <td>155</td>\n",
              "      <td>False</td>\n",
              "      <td>2020-12-12 20:33:45</td>\n",
              "      <td>#coronavirus #SputnikV #AstraZeneca #PfizerBio...</td>\n",
              "      <td>['coronavirus', 'SputnikV', 'AstraZeneca', 'Pf...</td>\n",
              "      <td>Twitter for Android</td>\n",
              "      <td>0</td>\n",
              "      <td>0</td>\n",
              "      <td>False</td>\n",
              "      <td>coronavirus sputnikv astrazeneca pfizerbiontec...</td>\n",
              "      <td>coronavirus sputnikv astrazeneca pfizerbiontec...</td>\n",
              "      <td>[coronavirus, sputnikv, astrazeneca, pfizerbio...</td>\n",
              "    </tr>\n",
              "    <tr>\n",
              "      <th>3</th>\n",
              "      <td>1337855739918835717</td>\n",
              "      <td>Charles Adler</td>\n",
              "      <td>Vancouver, BC - Canada</td>\n",
              "      <td>Hosting \"CharlesAdlerTonight\" Global News Radi...</td>\n",
              "      <td>2008-09-10 11:28:53</td>\n",
              "      <td>49165</td>\n",
              "      <td>3933</td>\n",
              "      <td>21853</td>\n",
              "      <td>True</td>\n",
              "      <td>2020-12-12 20:23:59</td>\n",
              "      <td>Facts are immutable, Senator, even when you're...</td>\n",
              "      <td>NaN</td>\n",
              "      <td>Twitter Web App</td>\n",
              "      <td>446</td>\n",
              "      <td>2129</td>\n",
              "      <td>False</td>\n",
              "      <td>act immutable senator even youre not ethically...</td>\n",
              "      <td>facts are immutable senator even when youre no...</td>\n",
              "      <td>[facts, are, immutable, senator, even, when, y...</td>\n",
              "    </tr>\n",
              "    <tr>\n",
              "      <th>4</th>\n",
              "      <td>1337854064604966912</td>\n",
              "      <td>Citizen News Channel</td>\n",
              "      <td>NaN</td>\n",
              "      <td>Citizen News Channel bringing you an alternati...</td>\n",
              "      <td>2020-04-23 17:58:42</td>\n",
              "      <td>152</td>\n",
              "      <td>580</td>\n",
              "      <td>1473</td>\n",
              "      <td>False</td>\n",
              "      <td>2020-12-12 20:17:19</td>\n",
              "      <td>Explain to me again why we need a vaccine @Bor...</td>\n",
              "      <td>['whereareallthesickpeople', 'PfizerBioNTech']</td>\n",
              "      <td>Twitter for iPhone</td>\n",
              "      <td>0</td>\n",
              "      <td>0</td>\n",
              "      <td>False</td>\n",
              "      <td>xplain need vaccine whereareallthesickpeople p...</td>\n",
              "      <td>explain to me again why we need a vaccine wher...</td>\n",
              "      <td>[explain, to, me, again, why, we, need, a, vac...</td>\n",
              "    </tr>\n",
              "    <tr>\n",
              "      <th>...</th>\n",
              "      <td>...</td>\n",
              "      <td>...</td>\n",
              "      <td>...</td>\n",
              "      <td>...</td>\n",
              "      <td>...</td>\n",
              "      <td>...</td>\n",
              "      <td>...</td>\n",
              "      <td>...</td>\n",
              "      <td>...</td>\n",
              "      <td>...</td>\n",
              "      <td>...</td>\n",
              "      <td>...</td>\n",
              "      <td>...</td>\n",
              "      <td>...</td>\n",
              "      <td>...</td>\n",
              "      <td>...</td>\n",
              "      <td>...</td>\n",
              "      <td>...</td>\n",
              "      <td>...</td>\n",
              "    </tr>\n",
              "    <tr>\n",
              "      <th>69713</th>\n",
              "      <td>1382248484259123205</td>\n",
              "      <td>Russian Mission in Geneva</td>\n",
              "      <td>Geneve</td>\n",
              "      <td>Постпредство России при Отделении ООН и др. ме...</td>\n",
              "      <td>2011-07-26 08:40:47</td>\n",
              "      <td>9862</td>\n",
              "      <td>589</td>\n",
              "      <td>3502</td>\n",
              "      <td>True</td>\n",
              "      <td>2021-04-14 08:24:54</td>\n",
              "      <td>✅ 🇷🇺#Gamaleya Research Center in cooperation w...</td>\n",
              "      <td>['Gamaleya']</td>\n",
              "      <td>Twitter for iPhone</td>\n",
              "      <td>2</td>\n",
              "      <td>9</td>\n",
              "      <td>False</td>\n",
              "      <td>🇷🇺gamaleya research center cooperation 🇮🇹 spal...</td>\n",
              "      <td>✅ 🇷🇺gamaleya research center in cooperation wi...</td>\n",
              "      <td>[, gamaleya, research, center, in, cooperation...</td>\n",
              "    </tr>\n",
              "    <tr>\n",
              "      <th>69714</th>\n",
              "      <td>1382246393532801026</td>\n",
              "      <td>Mora Mosese</td>\n",
              "      <td>NtswanaTsatsi</td>\n",
              "      <td>#MoAfrika - #MoSotho</td>\n",
              "      <td>2019-12-06 11:11:07</td>\n",
              "      <td>164</td>\n",
              "      <td>101</td>\n",
              "      <td>6465</td>\n",
              "      <td>False</td>\n",
              "      <td>2021-04-14 08:16:35</td>\n",
              "      <td>@FloydShivambu #SputnikV. Where are #AfricanEx...</td>\n",
              "      <td>['SputnikV', 'AfricanExpertise', 'ShamDemic']</td>\n",
              "      <td>Twitter Web App</td>\n",
              "      <td>0</td>\n",
              "      <td>0</td>\n",
              "      <td>False</td>\n",
              "      <td>floydshivambu sputnikv africanexpertise medica...</td>\n",
              "      <td>sputnikv where are africanexpertise medical a...</td>\n",
              "      <td>[, sputnikv, where, are, africanexpertise, med...</td>\n",
              "    </tr>\n",
              "    <tr>\n",
              "      <th>69715</th>\n",
              "      <td>1382245076303179778</td>\n",
              "      <td>Robert ka Boss</td>\n",
              "      <td>NaN</td>\n",
              "      <td>Lily don't be silly you want to know me just g...</td>\n",
              "      <td>2020-11-26 09:24:12</td>\n",
              "      <td>76</td>\n",
              "      <td>65</td>\n",
              "      <td>78</td>\n",
              "      <td>False</td>\n",
              "      <td>2021-04-14 08:11:21</td>\n",
              "      <td>Hello, it s because of this stubbornness and f...</td>\n",
              "      <td>NaN</td>\n",
              "      <td>Twitter Web App</td>\n",
              "      <td>0</td>\n",
              "      <td>0</td>\n",
              "      <td>False</td>\n",
              "      <td>ello stubbornness foolishness facing second wa...</td>\n",
              "      <td>hello it s because of this stubbornness and fo...</td>\n",
              "      <td>[hello, it, s, because, of, this, stubbornness...</td>\n",
              "    </tr>\n",
              "    <tr>\n",
              "      <th>69716</th>\n",
              "      <td>1382243373747146752</td>\n",
              "      <td>Mick Brown</td>\n",
              "      <td>Cambridge, UK</td>\n",
              "      <td>Retired 1960s dropout, part-time self-appointe...</td>\n",
              "      <td>2011-12-05 14:11:05</td>\n",
              "      <td>1882</td>\n",
              "      <td>1850</td>\n",
              "      <td>83008</td>\n",
              "      <td>False</td>\n",
              "      <td>2021-04-14 08:04:35</td>\n",
              "      <td>In a lengthy interview on #wato some months ag...</td>\n",
              "      <td>['wato', 'SputnikV']</td>\n",
              "      <td>Twitter for Android</td>\n",
              "      <td>0</td>\n",
              "      <td>0</td>\n",
              "      <td>False</td>\n",
              "      <td>lengthy interview wato month ago representativ...</td>\n",
              "      <td>in a lengthy interview on wato some months ago...</td>\n",
              "      <td>[in, a, lengthy, interview, on, wato, some, mo...</td>\n",
              "    </tr>\n",
              "    <tr>\n",
              "      <th>69717</th>\n",
              "      <td>1382243035073810434</td>\n",
              "      <td>#गांधीदूत Azaz Shaikh ऐजाज़ शेख اعجاز شیخ #WithRG</td>\n",
              "      <td>Thane, Maharashtra.</td>\n",
              "      <td>State GS @INCMaharashtra SM,\\n\\nEx-Coordinator...</td>\n",
              "      <td>2013-09-29 11:07:38</td>\n",
              "      <td>4120</td>\n",
              "      <td>1324</td>\n",
              "      <td>11633</td>\n",
              "      <td>False</td>\n",
              "      <td>2021-04-14 08:03:15</td>\n",
              "      <td>“First they ignore you\\nthen they laugh at you...</td>\n",
              "      <td>['vaccine', 'SputnikV']</td>\n",
              "      <td>Twitter for Android</td>\n",
              "      <td>0</td>\n",
              "      <td>1</td>\n",
              "      <td>False</td>\n",
              "      <td>first ignore laugh fight win vaccine sputnikv…</td>\n",
              "      <td>“first they ignore you then they laugh at you ...</td>\n",
              "      <td>[, first, they, ignore, you, then, they, laugh...</td>\n",
              "    </tr>\n",
              "  </tbody>\n",
              "</table>\n",
              "<p>69718 rows × 19 columns</p>\n",
              "</div>"
            ],
            "text/plain": [
              "                        id  ...                                    Tweet_tokenized\n",
              "0      1340539111971516416  ...  [same, folks, said, daikon, paste, could, trea...\n",
              "1      1338158543359250433  ...  [while, the, world, has, been, on, the, wrong,...\n",
              "2      1337858199140118533  ...  [coronavirus, sputnikv, astrazeneca, pfizerbio...\n",
              "3      1337855739918835717  ...  [facts, are, immutable, senator, even, when, y...\n",
              "4      1337854064604966912  ...  [explain, to, me, again, why, we, need, a, vac...\n",
              "...                    ...  ...                                                ...\n",
              "69713  1382248484259123205  ...  [, gamaleya, research, center, in, cooperation...\n",
              "69714  1382246393532801026  ...  [, sputnikv, where, are, africanexpertise, med...\n",
              "69715  1382245076303179778  ...  [hello, it, s, because, of, this, stubbornness...\n",
              "69716  1382243373747146752  ...  [in, a, lengthy, interview, on, wato, some, mo...\n",
              "69717  1382243035073810434  ...  [, first, they, ignore, you, then, they, laugh...\n",
              "\n",
              "[69718 rows x 19 columns]"
            ]
          },
          "metadata": {
            "tags": []
          },
          "execution_count": 361
        }
      ]
    },
    {
      "cell_type": "markdown",
      "metadata": {
        "id": "3igrJYOgFniH"
      },
      "source": [
        "**Remove StopWords**"
      ]
    },
    {
      "cell_type": "code",
      "metadata": {
        "colab": {
          "base_uri": "https://localhost:8080/",
          "height": 921
        },
        "id": "3mMymGt_GS1P",
        "outputId": "1c684ea9-ec11-4de9-b3c6-15f00bbbba6a"
      },
      "source": [
        "def remove_stopwords(text):\n",
        "    text = [word for word in text if word not in stopword]\n",
        "    return text\n",
        "    \n",
        "df3['Tweet_nonstop'] = df3['Tweet_tokenized'].apply(lambda x: remove_stopwords(x))\n",
        "df3.head(10)"
      ],
      "execution_count": null,
      "outputs": [
        {
          "output_type": "execute_result",
          "data": {
            "text/html": [
              "<div>\n",
              "<style scoped>\n",
              "    .dataframe tbody tr th:only-of-type {\n",
              "        vertical-align: middle;\n",
              "    }\n",
              "\n",
              "    .dataframe tbody tr th {\n",
              "        vertical-align: top;\n",
              "    }\n",
              "\n",
              "    .dataframe thead th {\n",
              "        text-align: right;\n",
              "    }\n",
              "</style>\n",
              "<table border=\"1\" class=\"dataframe\">\n",
              "  <thead>\n",
              "    <tr style=\"text-align: right;\">\n",
              "      <th></th>\n",
              "      <th>id</th>\n",
              "      <th>user_name</th>\n",
              "      <th>user_location</th>\n",
              "      <th>user_description</th>\n",
              "      <th>user_created</th>\n",
              "      <th>user_followers</th>\n",
              "      <th>user_friends</th>\n",
              "      <th>user_favourites</th>\n",
              "      <th>user_verified</th>\n",
              "      <th>date</th>\n",
              "      <th>text</th>\n",
              "      <th>hashtags</th>\n",
              "      <th>source</th>\n",
              "      <th>retweets</th>\n",
              "      <th>favorites</th>\n",
              "      <th>is_retweet</th>\n",
              "      <th>processed_tweets</th>\n",
              "      <th>Clean_text</th>\n",
              "      <th>Tweet_tokenized</th>\n",
              "      <th>Tweet_nonstop</th>\n",
              "    </tr>\n",
              "  </thead>\n",
              "  <tbody>\n",
              "    <tr>\n",
              "      <th>0</th>\n",
              "      <td>1340539111971516416</td>\n",
              "      <td>Rachel Roh</td>\n",
              "      <td>La Crescenta-Montrose, CA</td>\n",
              "      <td>Aggregator of Asian American news; scanning di...</td>\n",
              "      <td>2009-04-08 17:52:46</td>\n",
              "      <td>405</td>\n",
              "      <td>1692</td>\n",
              "      <td>3247</td>\n",
              "      <td>False</td>\n",
              "      <td>2020-12-20 06:06:44</td>\n",
              "      <td>Same folks said daikon paste could treat a cyt...</td>\n",
              "      <td>['PfizerBioNTech']</td>\n",
              "      <td>Twitter for Android</td>\n",
              "      <td>0</td>\n",
              "      <td>0</td>\n",
              "      <td>False</td>\n",
              "      <td>ame folk said daikon paste could treat cytokin...</td>\n",
              "      <td>same folks said daikon paste could treat a cyt...</td>\n",
              "      <td>[same, folks, said, daikon, paste, could, trea...</td>\n",
              "      <td>[folks, said, daikon, paste, could, treat, cyt...</td>\n",
              "    </tr>\n",
              "    <tr>\n",
              "      <th>1</th>\n",
              "      <td>1338158543359250433</td>\n",
              "      <td>Albert Fong</td>\n",
              "      <td>San Francisco, CA</td>\n",
              "      <td>Marketing dude, tech geek, heavy metal &amp; '80s ...</td>\n",
              "      <td>2009-09-21 15:27:30</td>\n",
              "      <td>834</td>\n",
              "      <td>666</td>\n",
              "      <td>178</td>\n",
              "      <td>False</td>\n",
              "      <td>2020-12-13 16:27:13</td>\n",
              "      <td>While the world has been on the wrong side of ...</td>\n",
              "      <td>NaN</td>\n",
              "      <td>Twitter Web App</td>\n",
              "      <td>1</td>\n",
              "      <td>1</td>\n",
              "      <td>False</td>\n",
              "      <td>hile world wrong side history year hopefully b...</td>\n",
              "      <td>while the world has been on the wrong side of ...</td>\n",
              "      <td>[while, the, world, has, been, on, the, wrong,...</td>\n",
              "      <td>[world, wrong, side, history, year, hopefully,...</td>\n",
              "    </tr>\n",
              "    <tr>\n",
              "      <th>2</th>\n",
              "      <td>1337858199140118533</td>\n",
              "      <td>eli🇱🇹🇪🇺👌</td>\n",
              "      <td>Your Bed</td>\n",
              "      <td>heil, hydra 🖐☺</td>\n",
              "      <td>2020-06-25 23:30:28</td>\n",
              "      <td>10</td>\n",
              "      <td>88</td>\n",
              "      <td>155</td>\n",
              "      <td>False</td>\n",
              "      <td>2020-12-12 20:33:45</td>\n",
              "      <td>#coronavirus #SputnikV #AstraZeneca #PfizerBio...</td>\n",
              "      <td>['coronavirus', 'SputnikV', 'AstraZeneca', 'Pf...</td>\n",
              "      <td>Twitter for Android</td>\n",
              "      <td>0</td>\n",
              "      <td>0</td>\n",
              "      <td>False</td>\n",
              "      <td>coronavirus sputnikv astrazeneca pfizerbiontec...</td>\n",
              "      <td>coronavirus sputnikv astrazeneca pfizerbiontec...</td>\n",
              "      <td>[coronavirus, sputnikv, astrazeneca, pfizerbio...</td>\n",
              "      <td>[coronavirus, sputnikv, astrazeneca, pfizerbio...</td>\n",
              "    </tr>\n",
              "    <tr>\n",
              "      <th>3</th>\n",
              "      <td>1337855739918835717</td>\n",
              "      <td>Charles Adler</td>\n",
              "      <td>Vancouver, BC - Canada</td>\n",
              "      <td>Hosting \"CharlesAdlerTonight\" Global News Radi...</td>\n",
              "      <td>2008-09-10 11:28:53</td>\n",
              "      <td>49165</td>\n",
              "      <td>3933</td>\n",
              "      <td>21853</td>\n",
              "      <td>True</td>\n",
              "      <td>2020-12-12 20:23:59</td>\n",
              "      <td>Facts are immutable, Senator, even when you're...</td>\n",
              "      <td>NaN</td>\n",
              "      <td>Twitter Web App</td>\n",
              "      <td>446</td>\n",
              "      <td>2129</td>\n",
              "      <td>False</td>\n",
              "      <td>act immutable senator even youre not ethically...</td>\n",
              "      <td>facts are immutable senator even when youre no...</td>\n",
              "      <td>[facts, are, immutable, senator, even, when, y...</td>\n",
              "      <td>[facts, immutable, senator, even, youre, not, ...</td>\n",
              "    </tr>\n",
              "    <tr>\n",
              "      <th>4</th>\n",
              "      <td>1337854064604966912</td>\n",
              "      <td>Citizen News Channel</td>\n",
              "      <td>NaN</td>\n",
              "      <td>Citizen News Channel bringing you an alternati...</td>\n",
              "      <td>2020-04-23 17:58:42</td>\n",
              "      <td>152</td>\n",
              "      <td>580</td>\n",
              "      <td>1473</td>\n",
              "      <td>False</td>\n",
              "      <td>2020-12-12 20:17:19</td>\n",
              "      <td>Explain to me again why we need a vaccine @Bor...</td>\n",
              "      <td>['whereareallthesickpeople', 'PfizerBioNTech']</td>\n",
              "      <td>Twitter for iPhone</td>\n",
              "      <td>0</td>\n",
              "      <td>0</td>\n",
              "      <td>False</td>\n",
              "      <td>xplain need vaccine whereareallthesickpeople p...</td>\n",
              "      <td>explain to me again why we need a vaccine wher...</td>\n",
              "      <td>[explain, to, me, again, why, we, need, a, vac...</td>\n",
              "      <td>[explain, need, vaccine, whereareallthesickpeo...</td>\n",
              "    </tr>\n",
              "    <tr>\n",
              "      <th>5</th>\n",
              "      <td>1337852648389832708</td>\n",
              "      <td>Dee</td>\n",
              "      <td>Birmingham, England</td>\n",
              "      <td>Gastroenterology trainee, Clinical Research Fe...</td>\n",
              "      <td>2020-01-26 21:43:12</td>\n",
              "      <td>105</td>\n",
              "      <td>108</td>\n",
              "      <td>106</td>\n",
              "      <td>False</td>\n",
              "      <td>2020-12-12 20:11:42</td>\n",
              "      <td>Does anyone have any useful advice/guidance fo...</td>\n",
              "      <td>NaN</td>\n",
              "      <td>Twitter for iPhone</td>\n",
              "      <td>0</td>\n",
              "      <td>0</td>\n",
              "      <td>False</td>\n",
              "      <td>oes anyone useful adviceguidance whether covid...</td>\n",
              "      <td>does anyone have any useful adviceguidance for...</td>\n",
              "      <td>[does, anyone, have, any, useful, adviceguidan...</td>\n",
              "      <td>[anyone, useful, adviceguidance, whether, covi...</td>\n",
              "    </tr>\n",
              "    <tr>\n",
              "      <th>6</th>\n",
              "      <td>1337851215875608579</td>\n",
              "      <td>Gunther Fehlinger</td>\n",
              "      <td>Austria, Ukraine and Kosovo</td>\n",
              "      <td>End North Stream 2 now - the pipeline of corru...</td>\n",
              "      <td>2013-06-10 17:49:22</td>\n",
              "      <td>2731</td>\n",
              "      <td>5001</td>\n",
              "      <td>69344</td>\n",
              "      <td>False</td>\n",
              "      <td>2020-12-12 20:06:00</td>\n",
              "      <td>it is a bit sad to claim the fame for success ...</td>\n",
              "      <td>['vaccination']</td>\n",
              "      <td>Twitter Web App</td>\n",
              "      <td>0</td>\n",
              "      <td>4</td>\n",
              "      <td>False</td>\n",
              "      <td>bit sad claim fame success vaccination patriot...</td>\n",
              "      <td>it is a bit sad to claim the fame for success ...</td>\n",
              "      <td>[it, is, a, bit, sad, to, claim, the, fame, fo...</td>\n",
              "      <td>[bit, sad, claim, fame, success, vaccination, ...</td>\n",
              "    </tr>\n",
              "    <tr>\n",
              "      <th>7</th>\n",
              "      <td>1337850832256176136</td>\n",
              "      <td>Dr.Krutika Kuppalli</td>\n",
              "      <td>NaN</td>\n",
              "      <td>ID, Global Health, VHF, Pandemic Prep, Emergin...</td>\n",
              "      <td>2019-03-25 04:14:29</td>\n",
              "      <td>21924</td>\n",
              "      <td>593</td>\n",
              "      <td>7815</td>\n",
              "      <td>True</td>\n",
              "      <td>2020-12-12 20:04:29</td>\n",
              "      <td>There have not been many bright days in 2020 b...</td>\n",
              "      <td>['BidenHarris', 'Election2020']</td>\n",
              "      <td>Twitter for iPhone</td>\n",
              "      <td>2</td>\n",
              "      <td>22</td>\n",
              "      <td>False</td>\n",
              "      <td>not many bright day 2020 best bidenharris winn...</td>\n",
              "      <td>there have not been many bright days in  but h...</td>\n",
              "      <td>[there, have, not, been, many, bright, days, i...</td>\n",
              "      <td>[not, many, bright, days, best, bidenharris, w...</td>\n",
              "    </tr>\n",
              "    <tr>\n",
              "      <th>8</th>\n",
              "      <td>1337850023531347969</td>\n",
              "      <td>Erin Despas</td>\n",
              "      <td>NaN</td>\n",
              "      <td>Designing&amp;selling on Teespring. Like 90s Disne...</td>\n",
              "      <td>2009-10-30 17:53:54</td>\n",
              "      <td>887</td>\n",
              "      <td>1515</td>\n",
              "      <td>9639</td>\n",
              "      <td>False</td>\n",
              "      <td>2020-12-12 20:01:16</td>\n",
              "      <td>Covid vaccine; You getting it?\\n\\n #CovidVacci...</td>\n",
              "      <td>['CovidVaccine', 'covid19', 'PfizerBioNTech', ...</td>\n",
              "      <td>Twitter Web App</td>\n",
              "      <td>2</td>\n",
              "      <td>1</td>\n",
              "      <td>False</td>\n",
              "      <td>ovid vaccine getting covidvaccine covid19 pfiz...</td>\n",
              "      <td>covid vaccine you getting it covidvaccine covi...</td>\n",
              "      <td>[covid, vaccine, you, getting, it, covidvaccin...</td>\n",
              "      <td>[covid, vaccine, getting, covidvaccine, covid,...</td>\n",
              "    </tr>\n",
              "    <tr>\n",
              "      <th>9</th>\n",
              "      <td>1337842295857623042</td>\n",
              "      <td>Ch.Amjad Ali</td>\n",
              "      <td>Islamabad</td>\n",
              "      <td>#ProudPakistani #LovePakArmy #PMIK @insafiansp...</td>\n",
              "      <td>2012-11-12 04:18:12</td>\n",
              "      <td>671</td>\n",
              "      <td>2368</td>\n",
              "      <td>20469</td>\n",
              "      <td>False</td>\n",
              "      <td>2020-12-12 19:30:33</td>\n",
              "      <td>#CovidVaccine \\n\\nStates will start getting #C...</td>\n",
              "      <td>['CovidVaccine', 'COVID19Vaccine', 'US', 'paku...</td>\n",
              "      <td>Twitter Web App</td>\n",
              "      <td>0</td>\n",
              "      <td>0</td>\n",
              "      <td>False</td>\n",
              "      <td>covidvaccine state start getting covid19vaccin...</td>\n",
              "      <td>covidvaccine states will start getting covidva...</td>\n",
              "      <td>[covidvaccine, states, will, start, getting, c...</td>\n",
              "      <td>[covidvaccine, states, start, getting, covidva...</td>\n",
              "    </tr>\n",
              "  </tbody>\n",
              "</table>\n",
              "</div>"
            ],
            "text/plain": [
              "                    id  ...                                      Tweet_nonstop\n",
              "0  1340539111971516416  ...  [folks, said, daikon, paste, could, treat, cyt...\n",
              "1  1338158543359250433  ...  [world, wrong, side, history, year, hopefully,...\n",
              "2  1337858199140118533  ...  [coronavirus, sputnikv, astrazeneca, pfizerbio...\n",
              "3  1337855739918835717  ...  [facts, immutable, senator, even, youre, not, ...\n",
              "4  1337854064604966912  ...  [explain, need, vaccine, whereareallthesickpeo...\n",
              "5  1337852648389832708  ...  [anyone, useful, adviceguidance, whether, covi...\n",
              "6  1337851215875608579  ...  [bit, sad, claim, fame, success, vaccination, ...\n",
              "7  1337850832256176136  ...  [not, many, bright, days, best, bidenharris, w...\n",
              "8  1337850023531347969  ...  [covid, vaccine, getting, covidvaccine, covid,...\n",
              "9  1337842295857623042  ...  [covidvaccine, states, start, getting, covidva...\n",
              "\n",
              "[10 rows x 20 columns]"
            ]
          },
          "metadata": {
            "tags": []
          },
          "execution_count": 362
        }
      ]
    },
    {
      "cell_type": "markdown",
      "metadata": {
        "id": "hdsqsj_TGdvq"
      },
      "source": [
        "**Lemmatization**"
      ]
    },
    {
      "cell_type": "code",
      "metadata": {
        "colab": {
          "base_uri": "https://localhost:8080/",
          "height": 1000
        },
        "id": "5XPtGQ4vGtgZ",
        "outputId": "a3f13dd6-904c-4497-fd27-32ae5bb77712"
      },
      "source": [
        " nltk.download('wordnet')\n",
        "wn = nltk.WordNetLemmatizer()\n",
        "\n",
        "def lemmatizer(text):\n",
        "    text = [wn.lemmatize(word) for word in text]\n",
        "    return text\n",
        "\n",
        "df3['Tweet_lemma'] = df3['Tweet_nonstop'].apply(lambda x: lemmatizer(x))\n",
        "df3"
      ],
      "execution_count": null,
      "outputs": [
        {
          "output_type": "stream",
          "text": [
            "[nltk_data] Downloading package wordnet to /root/nltk_data...\n",
            "[nltk_data]   Package wordnet is already up-to-date!\n"
          ],
          "name": "stdout"
        },
        {
          "output_type": "execute_result",
          "data": {
            "text/html": [
              "<div>\n",
              "<style scoped>\n",
              "    .dataframe tbody tr th:only-of-type {\n",
              "        vertical-align: middle;\n",
              "    }\n",
              "\n",
              "    .dataframe tbody tr th {\n",
              "        vertical-align: top;\n",
              "    }\n",
              "\n",
              "    .dataframe thead th {\n",
              "        text-align: right;\n",
              "    }\n",
              "</style>\n",
              "<table border=\"1\" class=\"dataframe\">\n",
              "  <thead>\n",
              "    <tr style=\"text-align: right;\">\n",
              "      <th></th>\n",
              "      <th>id</th>\n",
              "      <th>user_name</th>\n",
              "      <th>user_location</th>\n",
              "      <th>user_description</th>\n",
              "      <th>user_created</th>\n",
              "      <th>user_followers</th>\n",
              "      <th>user_friends</th>\n",
              "      <th>user_favourites</th>\n",
              "      <th>user_verified</th>\n",
              "      <th>date</th>\n",
              "      <th>text</th>\n",
              "      <th>hashtags</th>\n",
              "      <th>source</th>\n",
              "      <th>retweets</th>\n",
              "      <th>favorites</th>\n",
              "      <th>is_retweet</th>\n",
              "      <th>processed_tweets</th>\n",
              "      <th>Clean_text</th>\n",
              "      <th>Tweet_tokenized</th>\n",
              "      <th>Tweet_nonstop</th>\n",
              "      <th>Tweet_lemma</th>\n",
              "    </tr>\n",
              "  </thead>\n",
              "  <tbody>\n",
              "    <tr>\n",
              "      <th>0</th>\n",
              "      <td>1340539111971516416</td>\n",
              "      <td>Rachel Roh</td>\n",
              "      <td>La Crescenta-Montrose, CA</td>\n",
              "      <td>Aggregator of Asian American news; scanning di...</td>\n",
              "      <td>2009-04-08 17:52:46</td>\n",
              "      <td>405</td>\n",
              "      <td>1692</td>\n",
              "      <td>3247</td>\n",
              "      <td>False</td>\n",
              "      <td>2020-12-20 06:06:44</td>\n",
              "      <td>Same folks said daikon paste could treat a cyt...</td>\n",
              "      <td>['PfizerBioNTech']</td>\n",
              "      <td>Twitter for Android</td>\n",
              "      <td>0</td>\n",
              "      <td>0</td>\n",
              "      <td>False</td>\n",
              "      <td>ame folk said daikon paste could treat cytokin...</td>\n",
              "      <td>same folks said daikon paste could treat a cyt...</td>\n",
              "      <td>[same, folks, said, daikon, paste, could, trea...</td>\n",
              "      <td>[folks, said, daikon, paste, could, treat, cyt...</td>\n",
              "      <td>[folk, said, daikon, paste, could, treat, cyto...</td>\n",
              "    </tr>\n",
              "    <tr>\n",
              "      <th>1</th>\n",
              "      <td>1338158543359250433</td>\n",
              "      <td>Albert Fong</td>\n",
              "      <td>San Francisco, CA</td>\n",
              "      <td>Marketing dude, tech geek, heavy metal &amp; '80s ...</td>\n",
              "      <td>2009-09-21 15:27:30</td>\n",
              "      <td>834</td>\n",
              "      <td>666</td>\n",
              "      <td>178</td>\n",
              "      <td>False</td>\n",
              "      <td>2020-12-13 16:27:13</td>\n",
              "      <td>While the world has been on the wrong side of ...</td>\n",
              "      <td>NaN</td>\n",
              "      <td>Twitter Web App</td>\n",
              "      <td>1</td>\n",
              "      <td>1</td>\n",
              "      <td>False</td>\n",
              "      <td>hile world wrong side history year hopefully b...</td>\n",
              "      <td>while the world has been on the wrong side of ...</td>\n",
              "      <td>[while, the, world, has, been, on, the, wrong,...</td>\n",
              "      <td>[world, wrong, side, history, year, hopefully,...</td>\n",
              "      <td>[world, wrong, side, history, year, hopefully,...</td>\n",
              "    </tr>\n",
              "    <tr>\n",
              "      <th>2</th>\n",
              "      <td>1337858199140118533</td>\n",
              "      <td>eli🇱🇹🇪🇺👌</td>\n",
              "      <td>Your Bed</td>\n",
              "      <td>heil, hydra 🖐☺</td>\n",
              "      <td>2020-06-25 23:30:28</td>\n",
              "      <td>10</td>\n",
              "      <td>88</td>\n",
              "      <td>155</td>\n",
              "      <td>False</td>\n",
              "      <td>2020-12-12 20:33:45</td>\n",
              "      <td>#coronavirus #SputnikV #AstraZeneca #PfizerBio...</td>\n",
              "      <td>['coronavirus', 'SputnikV', 'AstraZeneca', 'Pf...</td>\n",
              "      <td>Twitter for Android</td>\n",
              "      <td>0</td>\n",
              "      <td>0</td>\n",
              "      <td>False</td>\n",
              "      <td>coronavirus sputnikv astrazeneca pfizerbiontec...</td>\n",
              "      <td>coronavirus sputnikv astrazeneca pfizerbiontec...</td>\n",
              "      <td>[coronavirus, sputnikv, astrazeneca, pfizerbio...</td>\n",
              "      <td>[coronavirus, sputnikv, astrazeneca, pfizerbio...</td>\n",
              "      <td>[coronavirus, sputnikv, astrazeneca, pfizerbio...</td>\n",
              "    </tr>\n",
              "    <tr>\n",
              "      <th>3</th>\n",
              "      <td>1337855739918835717</td>\n",
              "      <td>Charles Adler</td>\n",
              "      <td>Vancouver, BC - Canada</td>\n",
              "      <td>Hosting \"CharlesAdlerTonight\" Global News Radi...</td>\n",
              "      <td>2008-09-10 11:28:53</td>\n",
              "      <td>49165</td>\n",
              "      <td>3933</td>\n",
              "      <td>21853</td>\n",
              "      <td>True</td>\n",
              "      <td>2020-12-12 20:23:59</td>\n",
              "      <td>Facts are immutable, Senator, even when you're...</td>\n",
              "      <td>NaN</td>\n",
              "      <td>Twitter Web App</td>\n",
              "      <td>446</td>\n",
              "      <td>2129</td>\n",
              "      <td>False</td>\n",
              "      <td>act immutable senator even youre not ethically...</td>\n",
              "      <td>facts are immutable senator even when youre no...</td>\n",
              "      <td>[facts, are, immutable, senator, even, when, y...</td>\n",
              "      <td>[facts, immutable, senator, even, youre, not, ...</td>\n",
              "      <td>[fact, immutable, senator, even, youre, not, e...</td>\n",
              "    </tr>\n",
              "    <tr>\n",
              "      <th>4</th>\n",
              "      <td>1337854064604966912</td>\n",
              "      <td>Citizen News Channel</td>\n",
              "      <td>NaN</td>\n",
              "      <td>Citizen News Channel bringing you an alternati...</td>\n",
              "      <td>2020-04-23 17:58:42</td>\n",
              "      <td>152</td>\n",
              "      <td>580</td>\n",
              "      <td>1473</td>\n",
              "      <td>False</td>\n",
              "      <td>2020-12-12 20:17:19</td>\n",
              "      <td>Explain to me again why we need a vaccine @Bor...</td>\n",
              "      <td>['whereareallthesickpeople', 'PfizerBioNTech']</td>\n",
              "      <td>Twitter for iPhone</td>\n",
              "      <td>0</td>\n",
              "      <td>0</td>\n",
              "      <td>False</td>\n",
              "      <td>xplain need vaccine whereareallthesickpeople p...</td>\n",
              "      <td>explain to me again why we need a vaccine wher...</td>\n",
              "      <td>[explain, to, me, again, why, we, need, a, vac...</td>\n",
              "      <td>[explain, need, vaccine, whereareallthesickpeo...</td>\n",
              "      <td>[explain, need, vaccine, whereareallthesickpeo...</td>\n",
              "    </tr>\n",
              "    <tr>\n",
              "      <th>...</th>\n",
              "      <td>...</td>\n",
              "      <td>...</td>\n",
              "      <td>...</td>\n",
              "      <td>...</td>\n",
              "      <td>...</td>\n",
              "      <td>...</td>\n",
              "      <td>...</td>\n",
              "      <td>...</td>\n",
              "      <td>...</td>\n",
              "      <td>...</td>\n",
              "      <td>...</td>\n",
              "      <td>...</td>\n",
              "      <td>...</td>\n",
              "      <td>...</td>\n",
              "      <td>...</td>\n",
              "      <td>...</td>\n",
              "      <td>...</td>\n",
              "      <td>...</td>\n",
              "      <td>...</td>\n",
              "      <td>...</td>\n",
              "      <td>...</td>\n",
              "    </tr>\n",
              "    <tr>\n",
              "      <th>69713</th>\n",
              "      <td>1382248484259123205</td>\n",
              "      <td>Russian Mission in Geneva</td>\n",
              "      <td>Geneve</td>\n",
              "      <td>Постпредство России при Отделении ООН и др. ме...</td>\n",
              "      <td>2011-07-26 08:40:47</td>\n",
              "      <td>9862</td>\n",
              "      <td>589</td>\n",
              "      <td>3502</td>\n",
              "      <td>True</td>\n",
              "      <td>2021-04-14 08:24:54</td>\n",
              "      <td>✅ 🇷🇺#Gamaleya Research Center in cooperation w...</td>\n",
              "      <td>['Gamaleya']</td>\n",
              "      <td>Twitter for iPhone</td>\n",
              "      <td>2</td>\n",
              "      <td>9</td>\n",
              "      <td>False</td>\n",
              "      <td>🇷🇺gamaleya research center cooperation 🇮🇹 spal...</td>\n",
              "      <td>✅ 🇷🇺gamaleya research center in cooperation wi...</td>\n",
              "      <td>[, gamaleya, research, center, in, cooperation...</td>\n",
              "      <td>[, gamaleya, research, center, cooperation, sp...</td>\n",
              "      <td>[, gamaleya, research, center, cooperation, sp...</td>\n",
              "    </tr>\n",
              "    <tr>\n",
              "      <th>69714</th>\n",
              "      <td>1382246393532801026</td>\n",
              "      <td>Mora Mosese</td>\n",
              "      <td>NtswanaTsatsi</td>\n",
              "      <td>#MoAfrika - #MoSotho</td>\n",
              "      <td>2019-12-06 11:11:07</td>\n",
              "      <td>164</td>\n",
              "      <td>101</td>\n",
              "      <td>6465</td>\n",
              "      <td>False</td>\n",
              "      <td>2021-04-14 08:16:35</td>\n",
              "      <td>@FloydShivambu #SputnikV. Where are #AfricanEx...</td>\n",
              "      <td>['SputnikV', 'AfricanExpertise', 'ShamDemic']</td>\n",
              "      <td>Twitter Web App</td>\n",
              "      <td>0</td>\n",
              "      <td>0</td>\n",
              "      <td>False</td>\n",
              "      <td>floydshivambu sputnikv africanexpertise medica...</td>\n",
              "      <td>sputnikv where are africanexpertise medical a...</td>\n",
              "      <td>[, sputnikv, where, are, africanexpertise, med...</td>\n",
              "      <td>[, sputnikv, africanexpertise, medical, academ...</td>\n",
              "      <td>[, sputnikv, africanexpertise, medical, academ...</td>\n",
              "    </tr>\n",
              "    <tr>\n",
              "      <th>69715</th>\n",
              "      <td>1382245076303179778</td>\n",
              "      <td>Robert ka Boss</td>\n",
              "      <td>NaN</td>\n",
              "      <td>Lily don't be silly you want to know me just g...</td>\n",
              "      <td>2020-11-26 09:24:12</td>\n",
              "      <td>76</td>\n",
              "      <td>65</td>\n",
              "      <td>78</td>\n",
              "      <td>False</td>\n",
              "      <td>2021-04-14 08:11:21</td>\n",
              "      <td>Hello, it s because of this stubbornness and f...</td>\n",
              "      <td>NaN</td>\n",
              "      <td>Twitter Web App</td>\n",
              "      <td>0</td>\n",
              "      <td>0</td>\n",
              "      <td>False</td>\n",
              "      <td>ello stubbornness foolishness facing second wa...</td>\n",
              "      <td>hello it s because of this stubbornness and fo...</td>\n",
              "      <td>[hello, it, s, because, of, this, stubbornness...</td>\n",
              "      <td>[hello, stubbornness, foolishness, facing, sec...</td>\n",
              "      <td>[hello, stubbornness, foolishness, facing, sec...</td>\n",
              "    </tr>\n",
              "    <tr>\n",
              "      <th>69716</th>\n",
              "      <td>1382243373747146752</td>\n",
              "      <td>Mick Brown</td>\n",
              "      <td>Cambridge, UK</td>\n",
              "      <td>Retired 1960s dropout, part-time self-appointe...</td>\n",
              "      <td>2011-12-05 14:11:05</td>\n",
              "      <td>1882</td>\n",
              "      <td>1850</td>\n",
              "      <td>83008</td>\n",
              "      <td>False</td>\n",
              "      <td>2021-04-14 08:04:35</td>\n",
              "      <td>In a lengthy interview on #wato some months ag...</td>\n",
              "      <td>['wato', 'SputnikV']</td>\n",
              "      <td>Twitter for Android</td>\n",
              "      <td>0</td>\n",
              "      <td>0</td>\n",
              "      <td>False</td>\n",
              "      <td>lengthy interview wato month ago representativ...</td>\n",
              "      <td>in a lengthy interview on wato some months ago...</td>\n",
              "      <td>[in, a, lengthy, interview, on, wato, some, mo...</td>\n",
              "      <td>[lengthy, interview, wato, months, ago, repres...</td>\n",
              "      <td>[lengthy, interview, wato, month, ago, represe...</td>\n",
              "    </tr>\n",
              "    <tr>\n",
              "      <th>69717</th>\n",
              "      <td>1382243035073810434</td>\n",
              "      <td>#गांधीदूत Azaz Shaikh ऐजाज़ शेख اعجاز شیخ #WithRG</td>\n",
              "      <td>Thane, Maharashtra.</td>\n",
              "      <td>State GS @INCMaharashtra SM,\\n\\nEx-Coordinator...</td>\n",
              "      <td>2013-09-29 11:07:38</td>\n",
              "      <td>4120</td>\n",
              "      <td>1324</td>\n",
              "      <td>11633</td>\n",
              "      <td>False</td>\n",
              "      <td>2021-04-14 08:03:15</td>\n",
              "      <td>“First they ignore you\\nthen they laugh at you...</td>\n",
              "      <td>['vaccine', 'SputnikV']</td>\n",
              "      <td>Twitter for Android</td>\n",
              "      <td>0</td>\n",
              "      <td>1</td>\n",
              "      <td>False</td>\n",
              "      <td>first ignore laugh fight win vaccine sputnikv…</td>\n",
              "      <td>“first they ignore you then they laugh at you ...</td>\n",
              "      <td>[, first, they, ignore, you, then, they, laugh...</td>\n",
              "      <td>[, first, ignore, laugh, fight, win, vaccine, ...</td>\n",
              "      <td>[, first, ignore, laugh, fight, win, vaccine, ...</td>\n",
              "    </tr>\n",
              "  </tbody>\n",
              "</table>\n",
              "<p>69718 rows × 21 columns</p>\n",
              "</div>"
            ],
            "text/plain": [
              "                        id  ...                                        Tweet_lemma\n",
              "0      1340539111971516416  ...  [folk, said, daikon, paste, could, treat, cyto...\n",
              "1      1338158543359250433  ...  [world, wrong, side, history, year, hopefully,...\n",
              "2      1337858199140118533  ...  [coronavirus, sputnikv, astrazeneca, pfizerbio...\n",
              "3      1337855739918835717  ...  [fact, immutable, senator, even, youre, not, e...\n",
              "4      1337854064604966912  ...  [explain, need, vaccine, whereareallthesickpeo...\n",
              "...                    ...  ...                                                ...\n",
              "69713  1382248484259123205  ...  [, gamaleya, research, center, cooperation, sp...\n",
              "69714  1382246393532801026  ...  [, sputnikv, africanexpertise, medical, academ...\n",
              "69715  1382245076303179778  ...  [hello, stubbornness, foolishness, facing, sec...\n",
              "69716  1382243373747146752  ...  [lengthy, interview, wato, month, ago, represe...\n",
              "69717  1382243035073810434  ...  [, first, ignore, laugh, fight, win, vaccine, ...\n",
              "\n",
              "[69718 rows x 21 columns]"
            ]
          },
          "metadata": {
            "tags": []
          },
          "execution_count": 363
        }
      ]
    },
    {
      "cell_type": "markdown",
      "metadata": {
        "id": "XsrXnyepzDap"
      },
      "source": [
        "# Perform Sentiment Analysis"
      ]
    },
    {
      "cell_type": "code",
      "metadata": {
        "id": "JC8w2bTUtZfg"
      },
      "source": [
        "#converting pandas object to a string type\n",
        "df3['processed_tweets'] = df3['processed_tweets'].astype('str')"
      ],
      "execution_count": null,
      "outputs": []
    },
    {
      "cell_type": "code",
      "metadata": {
        "colab": {
          "base_uri": "https://localhost:8080/"
        },
        "id": "BXsBbsKKrtMt",
        "outputId": "48fde4c0-b911-437d-afd8-0a5c745a298b"
      },
      "source": [
        "#Calculate the Polarities of our tweets\n",
        "model = keras.models.load_model('rnn_model.hdf5')\n",
        "sequence = tokenizer.texts_to_sequences(df3['processed_tweets'])\n",
        "test = pad_sequences(sequence, maxlen=max_len)\n",
        "pred = model.predict(test)\n",
        "\n",
        "pred\n",
        "\n"
      ],
      "execution_count": null,
      "outputs": [
        {
          "output_type": "execute_result",
          "data": {
            "text/plain": [
              "array([[0.7613121 ],\n",
              "       [0.6413511 ],\n",
              "       [0.57263434],\n",
              "       ...,\n",
              "       [0.9568589 ],\n",
              "       [0.91565526],\n",
              "       [0.90817606]], dtype=float32)"
            ]
          },
          "metadata": {
            "tags": []
          },
          "execution_count": 105
        }
      ]
    },
    {
      "cell_type": "code",
      "metadata": {
        "colab": {
          "base_uri": "https://localhost:8080/"
        },
        "id": "EKu_TeoNwyU0",
        "outputId": "1bdd6ac9-2317-4e51-c23b-b1861bae7396"
      },
      "source": [
        "pred.shape"
      ],
      "execution_count": null,
      "outputs": [
        {
          "output_type": "execute_result",
          "data": {
            "text/plain": [
              "(69723, 1)"
            ]
          },
          "metadata": {
            "tags": []
          },
          "execution_count": 106
        }
      ]
    },
    {
      "cell_type": "code",
      "metadata": {
        "id": "G4CdQr1S1R4B"
      },
      "source": [
        ""
      ],
      "execution_count": null,
      "outputs": []
    },
    {
      "cell_type": "code",
      "metadata": {
        "id": "1wZhDJ5lrIHK",
        "colab": {
          "base_uri": "https://localhost:8080/",
          "height": 983
        },
        "outputId": "f382ed17-0388-47ff-b9bd-6a32a7c263fe"
      },
      "source": [
        "\n",
        "df3['Polarity'] = pred\n",
        "df3"
      ],
      "execution_count": null,
      "outputs": [
        {
          "output_type": "execute_result",
          "data": {
            "text/html": [
              "<div>\n",
              "<style scoped>\n",
              "    .dataframe tbody tr th:only-of-type {\n",
              "        vertical-align: middle;\n",
              "    }\n",
              "\n",
              "    .dataframe tbody tr th {\n",
              "        vertical-align: top;\n",
              "    }\n",
              "\n",
              "    .dataframe thead th {\n",
              "        text-align: right;\n",
              "    }\n",
              "</style>\n",
              "<table border=\"1\" class=\"dataframe\">\n",
              "  <thead>\n",
              "    <tr style=\"text-align: right;\">\n",
              "      <th></th>\n",
              "      <th>Unnamed: 0</th>\n",
              "      <th>id</th>\n",
              "      <th>user_name</th>\n",
              "      <th>user_location</th>\n",
              "      <th>user_description</th>\n",
              "      <th>user_created</th>\n",
              "      <th>user_followers</th>\n",
              "      <th>user_friends</th>\n",
              "      <th>user_favourites</th>\n",
              "      <th>user_verified</th>\n",
              "      <th>date</th>\n",
              "      <th>text</th>\n",
              "      <th>hashtags</th>\n",
              "      <th>source</th>\n",
              "      <th>retweets</th>\n",
              "      <th>favorites</th>\n",
              "      <th>is_retweet</th>\n",
              "      <th>processed_tweets</th>\n",
              "      <th>Polarity</th>\n",
              "      <th>Analysis</th>\n",
              "      <th>long</th>\n",
              "      <th>lat</th>\n",
              "    </tr>\n",
              "  </thead>\n",
              "  <tbody>\n",
              "    <tr>\n",
              "      <th>0</th>\n",
              "      <td>1</td>\n",
              "      <td>1.340539e+18</td>\n",
              "      <td>Rachel Roh</td>\n",
              "      <td>La Crescenta-Montrose, CA</td>\n",
              "      <td>Aggregator of Asian American news; scanning di...</td>\n",
              "      <td>2009-04-08 17:52:46</td>\n",
              "      <td>405.0</td>\n",
              "      <td>1692.0</td>\n",
              "      <td>3247.0</td>\n",
              "      <td>False</td>\n",
              "      <td>2020-12-20 06:06:44</td>\n",
              "      <td>Same folks said daikon paste could treat a cyt...</td>\n",
              "      <td>['PfizerBioNTech']</td>\n",
              "      <td>Twitter for Android</td>\n",
              "      <td>0.0</td>\n",
              "      <td>0.0</td>\n",
              "      <td>False</td>\n",
              "      <td>folk said daikon paste could treat cytokine st...</td>\n",
              "      <td>0.761312</td>\n",
              "      <td>Negative</td>\n",
              "      <td>-118.231705</td>\n",
              "      <td>34.219170</td>\n",
              "    </tr>\n",
              "    <tr>\n",
              "      <th>1</th>\n",
              "      <td>2</td>\n",
              "      <td>1.338159e+18</td>\n",
              "      <td>Albert Fong</td>\n",
              "      <td>San Francisco, CA</td>\n",
              "      <td>Marketing dude, tech geek, heavy metal &amp; '80s ...</td>\n",
              "      <td>2009-09-21 15:27:30</td>\n",
              "      <td>834.0</td>\n",
              "      <td>666.0</td>\n",
              "      <td>178.0</td>\n",
              "      <td>False</td>\n",
              "      <td>2020-12-13 16:27:13</td>\n",
              "      <td>While the world has been on the wrong side of ...</td>\n",
              "      <td>NaN</td>\n",
              "      <td>Twitter Web App</td>\n",
              "      <td>1.0</td>\n",
              "      <td>1.0</td>\n",
              "      <td>False</td>\n",
              "      <td>world wrong side history year hopefully bigges...</td>\n",
              "      <td>0.641351</td>\n",
              "      <td>Positive</td>\n",
              "      <td>-122.727652</td>\n",
              "      <td>37.785063</td>\n",
              "    </tr>\n",
              "    <tr>\n",
              "      <th>2</th>\n",
              "      <td>3</td>\n",
              "      <td>1.337858e+18</td>\n",
              "      <td>eli🇱🇹🇪🇺👌</td>\n",
              "      <td>Your Bed</td>\n",
              "      <td>heil, hydra 🖐☺</td>\n",
              "      <td>2020-06-25 23:30:28</td>\n",
              "      <td>10.0</td>\n",
              "      <td>88.0</td>\n",
              "      <td>155.0</td>\n",
              "      <td>False</td>\n",
              "      <td>2020-12-12 20:33:45</td>\n",
              "      <td>#coronavirus #SputnikV #AstraZeneca #PfizerBio...</td>\n",
              "      <td>['coronavirus', 'SputnikV', 'AstraZeneca', 'Pf...</td>\n",
              "      <td>Twitter for Android</td>\n",
              "      <td>0.0</td>\n",
              "      <td>0.0</td>\n",
              "      <td>False</td>\n",
              "      <td>coronavirus sputnikv astrazeneca pfizerbiontec...</td>\n",
              "      <td>0.572634</td>\n",
              "      <td>Negative</td>\n",
              "      <td>-2.942752</td>\n",
              "      <td>42.685166</td>\n",
              "    </tr>\n",
              "    <tr>\n",
              "      <th>3</th>\n",
              "      <td>4</td>\n",
              "      <td>1.337856e+18</td>\n",
              "      <td>Charles Adler</td>\n",
              "      <td>Vancouver, BC - Canada</td>\n",
              "      <td>Hosting \"CharlesAdlerTonight\" Global News Radi...</td>\n",
              "      <td>2008-09-10 11:28:53</td>\n",
              "      <td>49165.0</td>\n",
              "      <td>3933.0</td>\n",
              "      <td>21853.0</td>\n",
              "      <td>True</td>\n",
              "      <td>2020-12-12 20:23:59</td>\n",
              "      <td>Facts are immutable, Senator, even when you're...</td>\n",
              "      <td>NaN</td>\n",
              "      <td>Twitter Web App</td>\n",
              "      <td>446.0</td>\n",
              "      <td>2129.0</td>\n",
              "      <td>False</td>\n",
              "      <td>fact immutable senator even youre not ethicall...</td>\n",
              "      <td>0.499397</td>\n",
              "      <td>Negative</td>\n",
              "      <td>-123.124101</td>\n",
              "      <td>49.257308</td>\n",
              "    </tr>\n",
              "    <tr>\n",
              "      <th>4</th>\n",
              "      <td>5</td>\n",
              "      <td>1.337854e+18</td>\n",
              "      <td>Citizen News Channel</td>\n",
              "      <td>NaN</td>\n",
              "      <td>Citizen News Channel bringing you an alternati...</td>\n",
              "      <td>2020-04-23 17:58:42</td>\n",
              "      <td>152.0</td>\n",
              "      <td>580.0</td>\n",
              "      <td>1473.0</td>\n",
              "      <td>False</td>\n",
              "      <td>2020-12-12 20:17:19</td>\n",
              "      <td>Explain to me again why we need a vaccine @Bor...</td>\n",
              "      <td>['whereareallthesickpeople', 'PfizerBioNTech']</td>\n",
              "      <td>Twitter for iPhone</td>\n",
              "      <td>0.0</td>\n",
              "      <td>0.0</td>\n",
              "      <td>False</td>\n",
              "      <td>explain need vaccine whereareallthesickpeople ...</td>\n",
              "      <td>0.786513</td>\n",
              "      <td>Positive</td>\n",
              "      <td>12.502155</td>\n",
              "      <td>13.187038</td>\n",
              "    </tr>\n",
              "    <tr>\n",
              "      <th>...</th>\n",
              "      <td>...</td>\n",
              "      <td>...</td>\n",
              "      <td>...</td>\n",
              "      <td>...</td>\n",
              "      <td>...</td>\n",
              "      <td>...</td>\n",
              "      <td>...</td>\n",
              "      <td>...</td>\n",
              "      <td>...</td>\n",
              "      <td>...</td>\n",
              "      <td>...</td>\n",
              "      <td>...</td>\n",
              "      <td>...</td>\n",
              "      <td>...</td>\n",
              "      <td>...</td>\n",
              "      <td>...</td>\n",
              "      <td>...</td>\n",
              "      <td>...</td>\n",
              "      <td>...</td>\n",
              "      <td>...</td>\n",
              "      <td>...</td>\n",
              "      <td>...</td>\n",
              "    </tr>\n",
              "    <tr>\n",
              "      <th>69718</th>\n",
              "      <td>69719</td>\n",
              "      <td>1.382248e+18</td>\n",
              "      <td>Russian Mission in Geneva</td>\n",
              "      <td>Geneve</td>\n",
              "      <td>Постпредство России при Отделении ООН и др. ме...</td>\n",
              "      <td>2011-07-26 08:40:47</td>\n",
              "      <td>9862.0</td>\n",
              "      <td>589.0</td>\n",
              "      <td>3502.0</td>\n",
              "      <td>True</td>\n",
              "      <td>2021-04-14 08:24:54</td>\n",
              "      <td>✅ 🇷🇺#Gamaleya Research Center in cooperation w...</td>\n",
              "      <td>['Gamaleya']</td>\n",
              "      <td>Twitter for iPhone</td>\n",
              "      <td>2.0</td>\n",
              "      <td>9.0</td>\n",
              "      <td>False</td>\n",
              "      <td>🇷🇺gamaleya research center cooperation 🇮🇹 spal...</td>\n",
              "      <td>0.609648</td>\n",
              "      <td>Negative</td>\n",
              "      <td>6.143047</td>\n",
              "      <td>46.204829</td>\n",
              "    </tr>\n",
              "    <tr>\n",
              "      <th>69719</th>\n",
              "      <td>69720</td>\n",
              "      <td>1.382246e+18</td>\n",
              "      <td>Mora Mosese</td>\n",
              "      <td>NtswanaTsatsi</td>\n",
              "      <td>#MoAfrika - #MoSotho</td>\n",
              "      <td>2019-12-06 11:11:07</td>\n",
              "      <td>164.0</td>\n",
              "      <td>101.0</td>\n",
              "      <td>6465.0</td>\n",
              "      <td>False</td>\n",
              "      <td>2021-04-14 08:16:35</td>\n",
              "      <td>@FloydShivambu #SputnikV. Where are #AfricanEx...</td>\n",
              "      <td>['SputnikV', 'AfricanExpertise', 'ShamDemic']</td>\n",
              "      <td>Twitter Web App</td>\n",
              "      <td>0.0</td>\n",
              "      <td>0.0</td>\n",
              "      <td>False</td>\n",
              "      <td>sputnikv africanexpertise medical academic voi...</td>\n",
              "      <td>0.502593</td>\n",
              "      <td>Negative</td>\n",
              "      <td>28.855412</td>\n",
              "      <td>-27.228607</td>\n",
              "    </tr>\n",
              "    <tr>\n",
              "      <th>69720</th>\n",
              "      <td>69721</td>\n",
              "      <td>1.382245e+18</td>\n",
              "      <td>Robert ka Boss</td>\n",
              "      <td>NaN</td>\n",
              "      <td>Lily don't be silly you want to know me just g...</td>\n",
              "      <td>2020-11-26 09:24:12</td>\n",
              "      <td>76.0</td>\n",
              "      <td>65.0</td>\n",
              "      <td>78.0</td>\n",
              "      <td>False</td>\n",
              "      <td>2021-04-14 08:11:21</td>\n",
              "      <td>Hello, it s because of this stubbornness and f...</td>\n",
              "      <td>NaN</td>\n",
              "      <td>Twitter Web App</td>\n",
              "      <td>0.0</td>\n",
              "      <td>0.0</td>\n",
              "      <td>False</td>\n",
              "      <td>hello stubbornness foolishness facing second w...</td>\n",
              "      <td>0.956859</td>\n",
              "      <td>Positive</td>\n",
              "      <td>12.502155</td>\n",
              "      <td>13.187038</td>\n",
              "    </tr>\n",
              "    <tr>\n",
              "      <th>69721</th>\n",
              "      <td>69722</td>\n",
              "      <td>1.382243e+18</td>\n",
              "      <td>Mick Brown</td>\n",
              "      <td>Cambridge, UK</td>\n",
              "      <td>Retired 1960s dropout, part-time self-appointe...</td>\n",
              "      <td>2011-12-05 14:11:05</td>\n",
              "      <td>1882.0</td>\n",
              "      <td>1850.0</td>\n",
              "      <td>83008.0</td>\n",
              "      <td>False</td>\n",
              "      <td>2021-04-14 08:04:35</td>\n",
              "      <td>In a lengthy interview on #wato some months ag...</td>\n",
              "      <td>['wato', 'SputnikV']</td>\n",
              "      <td>Twitter for Android</td>\n",
              "      <td>0.0</td>\n",
              "      <td>0.0</td>\n",
              "      <td>False</td>\n",
              "      <td>lengthy interview wato month ago representativ...</td>\n",
              "      <td>0.915655</td>\n",
              "      <td>Positive</td>\n",
              "      <td>0.126595</td>\n",
              "      <td>52.197586</td>\n",
              "    </tr>\n",
              "    <tr>\n",
              "      <th>69722</th>\n",
              "      <td>69723</td>\n",
              "      <td>1.382243e+18</td>\n",
              "      <td>#गांधीदूत Azaz Shaikh ऐजाज़ शेख اعجاز شیخ #WithRG</td>\n",
              "      <td>Thane, Maharashtra.</td>\n",
              "      <td>State GS @INCMaharashtra SM,\\n\\nEx-Coordinator...</td>\n",
              "      <td>2013-09-29 11:07:38</td>\n",
              "      <td>4120.0</td>\n",
              "      <td>1324.0</td>\n",
              "      <td>11633.0</td>\n",
              "      <td>False</td>\n",
              "      <td>2021-04-14 08:03:15</td>\n",
              "      <td>“First they ignore you\\nthen they laugh at you...</td>\n",
              "      <td>['vaccine', 'SputnikV']</td>\n",
              "      <td>Twitter for Android</td>\n",
              "      <td>0.0</td>\n",
              "      <td>1.0</td>\n",
              "      <td>False</td>\n",
              "      <td>first ignore laugh fight win vaccine sputnikv…</td>\n",
              "      <td>0.908176</td>\n",
              "      <td>Positive</td>\n",
              "      <td>72.977545</td>\n",
              "      <td>19.232121</td>\n",
              "    </tr>\n",
              "  </tbody>\n",
              "</table>\n",
              "<p>69723 rows × 22 columns</p>\n",
              "</div>"
            ],
            "text/plain": [
              "       Unnamed: 0            id  ...        long        lat\n",
              "0               1  1.340539e+18  ... -118.231705  34.219170\n",
              "1               2  1.338159e+18  ... -122.727652  37.785063\n",
              "2               3  1.337858e+18  ...   -2.942752  42.685166\n",
              "3               4  1.337856e+18  ... -123.124101  49.257308\n",
              "4               5  1.337854e+18  ...   12.502155  13.187038\n",
              "...           ...           ...  ...         ...        ...\n",
              "69718       69719  1.382248e+18  ...    6.143047  46.204829\n",
              "69719       69720  1.382246e+18  ...   28.855412 -27.228607\n",
              "69720       69721  1.382245e+18  ...   12.502155  13.187038\n",
              "69721       69722  1.382243e+18  ...    0.126595  52.197586\n",
              "69722       69723  1.382243e+18  ...   72.977545  19.232121\n",
              "\n",
              "[69723 rows x 22 columns]"
            ]
          },
          "metadata": {
            "tags": []
          },
          "execution_count": 107
        }
      ]
    },
    {
      "cell_type": "code",
      "metadata": {
        "colab": {
          "base_uri": "https://localhost:8080/",
          "height": 983
        },
        "id": "jQ8zAwSwzbjt",
        "outputId": "82122372-97d9-4e39-cb84-d6aa6a0fa3fa"
      },
      "source": [
        "#creat a function to compute the negative and positive analysis\n",
        "def getAnalysis(score):\n",
        "  if score < 0.5:\n",
        "    return \"Negative\"\n",
        "  else:\n",
        "    return \"Positive\"\n",
        "\n",
        "df3['Analysis']=df3['Polarity'].apply(getAnalysis)\n",
        "\n",
        "df3 "
      ],
      "execution_count": null,
      "outputs": [
        {
          "output_type": "execute_result",
          "data": {
            "text/html": [
              "<div>\n",
              "<style scoped>\n",
              "    .dataframe tbody tr th:only-of-type {\n",
              "        vertical-align: middle;\n",
              "    }\n",
              "\n",
              "    .dataframe tbody tr th {\n",
              "        vertical-align: top;\n",
              "    }\n",
              "\n",
              "    .dataframe thead th {\n",
              "        text-align: right;\n",
              "    }\n",
              "</style>\n",
              "<table border=\"1\" class=\"dataframe\">\n",
              "  <thead>\n",
              "    <tr style=\"text-align: right;\">\n",
              "      <th></th>\n",
              "      <th>Unnamed: 0</th>\n",
              "      <th>id</th>\n",
              "      <th>user_name</th>\n",
              "      <th>user_location</th>\n",
              "      <th>user_description</th>\n",
              "      <th>user_created</th>\n",
              "      <th>user_followers</th>\n",
              "      <th>user_friends</th>\n",
              "      <th>user_favourites</th>\n",
              "      <th>user_verified</th>\n",
              "      <th>date</th>\n",
              "      <th>text</th>\n",
              "      <th>hashtags</th>\n",
              "      <th>source</th>\n",
              "      <th>retweets</th>\n",
              "      <th>favorites</th>\n",
              "      <th>is_retweet</th>\n",
              "      <th>processed_tweets</th>\n",
              "      <th>Polarity</th>\n",
              "      <th>Analysis</th>\n",
              "      <th>long</th>\n",
              "      <th>lat</th>\n",
              "    </tr>\n",
              "  </thead>\n",
              "  <tbody>\n",
              "    <tr>\n",
              "      <th>0</th>\n",
              "      <td>1</td>\n",
              "      <td>1.340539e+18</td>\n",
              "      <td>Rachel Roh</td>\n",
              "      <td>La Crescenta-Montrose, CA</td>\n",
              "      <td>Aggregator of Asian American news; scanning di...</td>\n",
              "      <td>2009-04-08 17:52:46</td>\n",
              "      <td>405.0</td>\n",
              "      <td>1692.0</td>\n",
              "      <td>3247.0</td>\n",
              "      <td>False</td>\n",
              "      <td>2020-12-20 06:06:44</td>\n",
              "      <td>Same folks said daikon paste could treat a cyt...</td>\n",
              "      <td>['PfizerBioNTech']</td>\n",
              "      <td>Twitter for Android</td>\n",
              "      <td>0.0</td>\n",
              "      <td>0.0</td>\n",
              "      <td>False</td>\n",
              "      <td>folk said daikon paste could treat cytokine st...</td>\n",
              "      <td>0.761312</td>\n",
              "      <td>Positive</td>\n",
              "      <td>-118.231705</td>\n",
              "      <td>34.219170</td>\n",
              "    </tr>\n",
              "    <tr>\n",
              "      <th>1</th>\n",
              "      <td>2</td>\n",
              "      <td>1.338159e+18</td>\n",
              "      <td>Albert Fong</td>\n",
              "      <td>San Francisco, CA</td>\n",
              "      <td>Marketing dude, tech geek, heavy metal &amp; '80s ...</td>\n",
              "      <td>2009-09-21 15:27:30</td>\n",
              "      <td>834.0</td>\n",
              "      <td>666.0</td>\n",
              "      <td>178.0</td>\n",
              "      <td>False</td>\n",
              "      <td>2020-12-13 16:27:13</td>\n",
              "      <td>While the world has been on the wrong side of ...</td>\n",
              "      <td>NaN</td>\n",
              "      <td>Twitter Web App</td>\n",
              "      <td>1.0</td>\n",
              "      <td>1.0</td>\n",
              "      <td>False</td>\n",
              "      <td>world wrong side history year hopefully bigges...</td>\n",
              "      <td>0.641351</td>\n",
              "      <td>Positive</td>\n",
              "      <td>-122.727652</td>\n",
              "      <td>37.785063</td>\n",
              "    </tr>\n",
              "    <tr>\n",
              "      <th>2</th>\n",
              "      <td>3</td>\n",
              "      <td>1.337858e+18</td>\n",
              "      <td>eli🇱🇹🇪🇺👌</td>\n",
              "      <td>Your Bed</td>\n",
              "      <td>heil, hydra 🖐☺</td>\n",
              "      <td>2020-06-25 23:30:28</td>\n",
              "      <td>10.0</td>\n",
              "      <td>88.0</td>\n",
              "      <td>155.0</td>\n",
              "      <td>False</td>\n",
              "      <td>2020-12-12 20:33:45</td>\n",
              "      <td>#coronavirus #SputnikV #AstraZeneca #PfizerBio...</td>\n",
              "      <td>['coronavirus', 'SputnikV', 'AstraZeneca', 'Pf...</td>\n",
              "      <td>Twitter for Android</td>\n",
              "      <td>0.0</td>\n",
              "      <td>0.0</td>\n",
              "      <td>False</td>\n",
              "      <td>coronavirus sputnikv astrazeneca pfizerbiontec...</td>\n",
              "      <td>0.572634</td>\n",
              "      <td>Positive</td>\n",
              "      <td>-2.942752</td>\n",
              "      <td>42.685166</td>\n",
              "    </tr>\n",
              "    <tr>\n",
              "      <th>3</th>\n",
              "      <td>4</td>\n",
              "      <td>1.337856e+18</td>\n",
              "      <td>Charles Adler</td>\n",
              "      <td>Vancouver, BC - Canada</td>\n",
              "      <td>Hosting \"CharlesAdlerTonight\" Global News Radi...</td>\n",
              "      <td>2008-09-10 11:28:53</td>\n",
              "      <td>49165.0</td>\n",
              "      <td>3933.0</td>\n",
              "      <td>21853.0</td>\n",
              "      <td>True</td>\n",
              "      <td>2020-12-12 20:23:59</td>\n",
              "      <td>Facts are immutable, Senator, even when you're...</td>\n",
              "      <td>NaN</td>\n",
              "      <td>Twitter Web App</td>\n",
              "      <td>446.0</td>\n",
              "      <td>2129.0</td>\n",
              "      <td>False</td>\n",
              "      <td>fact immutable senator even youre not ethicall...</td>\n",
              "      <td>0.499397</td>\n",
              "      <td>Negative</td>\n",
              "      <td>-123.124101</td>\n",
              "      <td>49.257308</td>\n",
              "    </tr>\n",
              "    <tr>\n",
              "      <th>4</th>\n",
              "      <td>5</td>\n",
              "      <td>1.337854e+18</td>\n",
              "      <td>Citizen News Channel</td>\n",
              "      <td>NaN</td>\n",
              "      <td>Citizen News Channel bringing you an alternati...</td>\n",
              "      <td>2020-04-23 17:58:42</td>\n",
              "      <td>152.0</td>\n",
              "      <td>580.0</td>\n",
              "      <td>1473.0</td>\n",
              "      <td>False</td>\n",
              "      <td>2020-12-12 20:17:19</td>\n",
              "      <td>Explain to me again why we need a vaccine @Bor...</td>\n",
              "      <td>['whereareallthesickpeople', 'PfizerBioNTech']</td>\n",
              "      <td>Twitter for iPhone</td>\n",
              "      <td>0.0</td>\n",
              "      <td>0.0</td>\n",
              "      <td>False</td>\n",
              "      <td>explain need vaccine whereareallthesickpeople ...</td>\n",
              "      <td>0.786513</td>\n",
              "      <td>Positive</td>\n",
              "      <td>12.502155</td>\n",
              "      <td>13.187038</td>\n",
              "    </tr>\n",
              "    <tr>\n",
              "      <th>...</th>\n",
              "      <td>...</td>\n",
              "      <td>...</td>\n",
              "      <td>...</td>\n",
              "      <td>...</td>\n",
              "      <td>...</td>\n",
              "      <td>...</td>\n",
              "      <td>...</td>\n",
              "      <td>...</td>\n",
              "      <td>...</td>\n",
              "      <td>...</td>\n",
              "      <td>...</td>\n",
              "      <td>...</td>\n",
              "      <td>...</td>\n",
              "      <td>...</td>\n",
              "      <td>...</td>\n",
              "      <td>...</td>\n",
              "      <td>...</td>\n",
              "      <td>...</td>\n",
              "      <td>...</td>\n",
              "      <td>...</td>\n",
              "      <td>...</td>\n",
              "      <td>...</td>\n",
              "    </tr>\n",
              "    <tr>\n",
              "      <th>69718</th>\n",
              "      <td>69719</td>\n",
              "      <td>1.382248e+18</td>\n",
              "      <td>Russian Mission in Geneva</td>\n",
              "      <td>Geneve</td>\n",
              "      <td>Постпредство России при Отделении ООН и др. ме...</td>\n",
              "      <td>2011-07-26 08:40:47</td>\n",
              "      <td>9862.0</td>\n",
              "      <td>589.0</td>\n",
              "      <td>3502.0</td>\n",
              "      <td>True</td>\n",
              "      <td>2021-04-14 08:24:54</td>\n",
              "      <td>✅ 🇷🇺#Gamaleya Research Center in cooperation w...</td>\n",
              "      <td>['Gamaleya']</td>\n",
              "      <td>Twitter for iPhone</td>\n",
              "      <td>2.0</td>\n",
              "      <td>9.0</td>\n",
              "      <td>False</td>\n",
              "      <td>🇷🇺gamaleya research center cooperation 🇮🇹 spal...</td>\n",
              "      <td>0.609648</td>\n",
              "      <td>Positive</td>\n",
              "      <td>6.143047</td>\n",
              "      <td>46.204829</td>\n",
              "    </tr>\n",
              "    <tr>\n",
              "      <th>69719</th>\n",
              "      <td>69720</td>\n",
              "      <td>1.382246e+18</td>\n",
              "      <td>Mora Mosese</td>\n",
              "      <td>NtswanaTsatsi</td>\n",
              "      <td>#MoAfrika - #MoSotho</td>\n",
              "      <td>2019-12-06 11:11:07</td>\n",
              "      <td>164.0</td>\n",
              "      <td>101.0</td>\n",
              "      <td>6465.0</td>\n",
              "      <td>False</td>\n",
              "      <td>2021-04-14 08:16:35</td>\n",
              "      <td>@FloydShivambu #SputnikV. Where are #AfricanEx...</td>\n",
              "      <td>['SputnikV', 'AfricanExpertise', 'ShamDemic']</td>\n",
              "      <td>Twitter Web App</td>\n",
              "      <td>0.0</td>\n",
              "      <td>0.0</td>\n",
              "      <td>False</td>\n",
              "      <td>sputnikv africanexpertise medical academic voi...</td>\n",
              "      <td>0.502593</td>\n",
              "      <td>Positive</td>\n",
              "      <td>28.855412</td>\n",
              "      <td>-27.228607</td>\n",
              "    </tr>\n",
              "    <tr>\n",
              "      <th>69720</th>\n",
              "      <td>69721</td>\n",
              "      <td>1.382245e+18</td>\n",
              "      <td>Robert ka Boss</td>\n",
              "      <td>NaN</td>\n",
              "      <td>Lily don't be silly you want to know me just g...</td>\n",
              "      <td>2020-11-26 09:24:12</td>\n",
              "      <td>76.0</td>\n",
              "      <td>65.0</td>\n",
              "      <td>78.0</td>\n",
              "      <td>False</td>\n",
              "      <td>2021-04-14 08:11:21</td>\n",
              "      <td>Hello, it s because of this stubbornness and f...</td>\n",
              "      <td>NaN</td>\n",
              "      <td>Twitter Web App</td>\n",
              "      <td>0.0</td>\n",
              "      <td>0.0</td>\n",
              "      <td>False</td>\n",
              "      <td>hello stubbornness foolishness facing second w...</td>\n",
              "      <td>0.956859</td>\n",
              "      <td>Positive</td>\n",
              "      <td>12.502155</td>\n",
              "      <td>13.187038</td>\n",
              "    </tr>\n",
              "    <tr>\n",
              "      <th>69721</th>\n",
              "      <td>69722</td>\n",
              "      <td>1.382243e+18</td>\n",
              "      <td>Mick Brown</td>\n",
              "      <td>Cambridge, UK</td>\n",
              "      <td>Retired 1960s dropout, part-time self-appointe...</td>\n",
              "      <td>2011-12-05 14:11:05</td>\n",
              "      <td>1882.0</td>\n",
              "      <td>1850.0</td>\n",
              "      <td>83008.0</td>\n",
              "      <td>False</td>\n",
              "      <td>2021-04-14 08:04:35</td>\n",
              "      <td>In a lengthy interview on #wato some months ag...</td>\n",
              "      <td>['wato', 'SputnikV']</td>\n",
              "      <td>Twitter for Android</td>\n",
              "      <td>0.0</td>\n",
              "      <td>0.0</td>\n",
              "      <td>False</td>\n",
              "      <td>lengthy interview wato month ago representativ...</td>\n",
              "      <td>0.915655</td>\n",
              "      <td>Positive</td>\n",
              "      <td>0.126595</td>\n",
              "      <td>52.197586</td>\n",
              "    </tr>\n",
              "    <tr>\n",
              "      <th>69722</th>\n",
              "      <td>69723</td>\n",
              "      <td>1.382243e+18</td>\n",
              "      <td>#गांधीदूत Azaz Shaikh ऐजाज़ शेख اعجاز شیخ #WithRG</td>\n",
              "      <td>Thane, Maharashtra.</td>\n",
              "      <td>State GS @INCMaharashtra SM,\\n\\nEx-Coordinator...</td>\n",
              "      <td>2013-09-29 11:07:38</td>\n",
              "      <td>4120.0</td>\n",
              "      <td>1324.0</td>\n",
              "      <td>11633.0</td>\n",
              "      <td>False</td>\n",
              "      <td>2021-04-14 08:03:15</td>\n",
              "      <td>“First they ignore you\\nthen they laugh at you...</td>\n",
              "      <td>['vaccine', 'SputnikV']</td>\n",
              "      <td>Twitter for Android</td>\n",
              "      <td>0.0</td>\n",
              "      <td>1.0</td>\n",
              "      <td>False</td>\n",
              "      <td>first ignore laugh fight win vaccine sputnikv…</td>\n",
              "      <td>0.908176</td>\n",
              "      <td>Positive</td>\n",
              "      <td>72.977545</td>\n",
              "      <td>19.232121</td>\n",
              "    </tr>\n",
              "  </tbody>\n",
              "</table>\n",
              "<p>69723 rows × 22 columns</p>\n",
              "</div>"
            ],
            "text/plain": [
              "       Unnamed: 0            id  ...        long        lat\n",
              "0               1  1.340539e+18  ... -118.231705  34.219170\n",
              "1               2  1.338159e+18  ... -122.727652  37.785063\n",
              "2               3  1.337858e+18  ...   -2.942752  42.685166\n",
              "3               4  1.337856e+18  ... -123.124101  49.257308\n",
              "4               5  1.337854e+18  ...   12.502155  13.187038\n",
              "...           ...           ...  ...         ...        ...\n",
              "69718       69719  1.382248e+18  ...    6.143047  46.204829\n",
              "69719       69720  1.382246e+18  ...   28.855412 -27.228607\n",
              "69720       69721  1.382245e+18  ...   12.502155  13.187038\n",
              "69721       69722  1.382243e+18  ...    0.126595  52.197586\n",
              "69722       69723  1.382243e+18  ...   72.977545  19.232121\n",
              "\n",
              "[69723 rows x 22 columns]"
            ]
          },
          "metadata": {
            "tags": []
          },
          "execution_count": 108
        }
      ]
    },
    {
      "cell_type": "code",
      "metadata": {
        "id": "RXuTLyettFtO"
      },
      "source": [
        "#Save the csv file for use in different notebooks\n",
        "df3.to_csv(r'covid_vaccine_tagged_bi.csv',index = False, header= True)"
      ],
      "execution_count": null,
      "outputs": []
    },
    {
      "cell_type": "code",
      "metadata": {
        "colab": {
          "base_uri": "https://localhost:8080/",
          "height": 330
        },
        "id": "N_Oshn_ovvdn",
        "outputId": "88ee07b5-0ef2-457e-a896-abd966d1f31d"
      },
      "source": [
        "#Check the Value counts of Positive Negative Tweets\n",
        "df3['Analysis'].value_counts()\n",
        "\n",
        "plt.title(\"sentiment Analysis\")\n",
        "plt.xlabel(\"Sentiment\")\n",
        "plt.ylabel(\"Counts\")\n",
        "df3['Analysis'].value_counts().plot(kind='bar')\n",
        "plt.show()"
      ],
      "execution_count": null,
      "outputs": [
        {
          "output_type": "display_data",
          "data": {
            "image/png": "[encoded data removed]",
            "text/plain": [
              "<Figure size 432x288 with 1 Axes>"
            ]
          },
          "metadata": {
            "tags": [],
            "needs_background": "light"
          }
        }
      ]
    },
    {
      "cell_type": "markdown",
      "metadata": {
        "id": "gZKTV65T7rZ2"
      },
      "source": [
        "# Load the Processed file for a new session"
      ]
    },
    {
      "cell_type": "code",
      "metadata": {
        "id": "kgB9ym7X8J76"
      },
      "source": [
        "!pip install -U -q PyDrive\n",
        "from pydrive.auth import GoogleAuth\n",
        "from pydrive.drive import GoogleDrive\n",
        "from google.colab import auth\n",
        "from oauth2client.client import GoogleCredentials# Authenticate and create the PyDrive client.\n",
        "auth.authenticate_user()\n",
        "gauth = GoogleAuth()\n",
        "gauth.credentials = GoogleCredentials.get_application_default()\n",
        "drive = GoogleDrive(gauth)"
      ],
      "execution_count": null,
      "outputs": []
    },
    {
      "cell_type": "code",
      "metadata": {
        "id": "vKtfrdvl8NP7"
      },
      "source": [
        "link = 'https://drive.google.com/file/d/18fnoT6bAlwNZdBD6T295hb38ipUUoMTM/view?usp=sharing' #the shareable link"
      ],
      "execution_count": null,
      "outputs": []
    },
    {
      "cell_type": "code",
      "metadata": {
        "id": "AQX1DpGC8Q3u",
        "colab": {
          "base_uri": "https://localhost:8080/"
        },
        "outputId": "d5c6c23a-ba8d-4c34-a6e2-7734cdab8c83"
      },
      "source": [
        "id = '18fnoT6bAlwNZdBD6T295hb38ipUUoMTM'\n",
        "\n",
        "print (id) # Verify that you have everything after '='"
      ],
      "execution_count": null,
      "outputs": [
        {
          "output_type": "stream",
          "text": [
            "18fnoT6bAlwNZdBD6T295hb38ipUUoMTM\n"
          ],
          "name": "stdout"
        }
      ]
    },
    {
      "cell_type": "code",
      "metadata": {
        "id": "Hne5v9YG8TMC"
      },
      "source": [
        "downloaded = drive.CreateFile({'id':id}) \n",
        "downloaded.GetContentFile('covid_vaccine_tagged_bi.csv')  \n",
        "df3 = pd.read_csv('covid_vaccine_tagged_bi.csv')"
      ],
      "execution_count": null,
      "outputs": []
    },
    {
      "cell_type": "code",
      "metadata": {
        "id": "TpMArNIM8iGk"
      },
      "source": [
        "df3 = pd.read_csv('/content/covid_vaccine_tagged_bi.csv')"
      ],
      "execution_count": null,
      "outputs": []
    },
    {
      "cell_type": "code",
      "metadata": {
        "id": "76vc6sWM4H97",
        "colab": {
          "base_uri": "https://localhost:8080/",
          "height": 1000
        },
        "outputId": "195327f5-e56c-4c51-f96e-efda773df77c"
      },
      "source": [
        "df3"
      ],
      "execution_count": null,
      "outputs": [
        {
          "output_type": "execute_result",
          "data": {
            "text/html": [
              "<div>\n",
              "<style scoped>\n",
              "    .dataframe tbody tr th:only-of-type {\n",
              "        vertical-align: middle;\n",
              "    }\n",
              "\n",
              "    .dataframe tbody tr th {\n",
              "        vertical-align: top;\n",
              "    }\n",
              "\n",
              "    .dataframe thead th {\n",
              "        text-align: right;\n",
              "    }\n",
              "</style>\n",
              "<table border=\"1\" class=\"dataframe\">\n",
              "  <thead>\n",
              "    <tr style=\"text-align: right;\">\n",
              "      <th></th>\n",
              "      <th>Unnamed: 0</th>\n",
              "      <th>id</th>\n",
              "      <th>user_name</th>\n",
              "      <th>user_location</th>\n",
              "      <th>user_description</th>\n",
              "      <th>user_created</th>\n",
              "      <th>user_followers</th>\n",
              "      <th>user_friends</th>\n",
              "      <th>user_favourites</th>\n",
              "      <th>user_verified</th>\n",
              "      <th>date</th>\n",
              "      <th>text</th>\n",
              "      <th>hashtags</th>\n",
              "      <th>source</th>\n",
              "      <th>retweets</th>\n",
              "      <th>favorites</th>\n",
              "      <th>is_retweet</th>\n",
              "      <th>processed_tweets</th>\n",
              "      <th>Polarity</th>\n",
              "      <th>Analysis</th>\n",
              "      <th>long</th>\n",
              "      <th>lat</th>\n",
              "    </tr>\n",
              "  </thead>\n",
              "  <tbody>\n",
              "    <tr>\n",
              "      <th>0</th>\n",
              "      <td>1</td>\n",
              "      <td>1.340539e+18</td>\n",
              "      <td>Rachel Roh</td>\n",
              "      <td>La Crescenta-Montrose, CA</td>\n",
              "      <td>Aggregator of Asian American news; scanning di...</td>\n",
              "      <td>2009-04-08 17:52:46</td>\n",
              "      <td>405.0</td>\n",
              "      <td>1692.0</td>\n",
              "      <td>3247.0</td>\n",
              "      <td>False</td>\n",
              "      <td>2020-12-20 06:06:44</td>\n",
              "      <td>Same folks said daikon paste could treat a cyt...</td>\n",
              "      <td>['PfizerBioNTech']</td>\n",
              "      <td>Twitter for Android</td>\n",
              "      <td>0.0</td>\n",
              "      <td>0.0</td>\n",
              "      <td>False</td>\n",
              "      <td>folk said daikon paste could treat cytokine st...</td>\n",
              "      <td>0.761312</td>\n",
              "      <td>Positive</td>\n",
              "      <td>-118.231705</td>\n",
              "      <td>34.219170</td>\n",
              "    </tr>\n",
              "    <tr>\n",
              "      <th>1</th>\n",
              "      <td>2</td>\n",
              "      <td>1.338159e+18</td>\n",
              "      <td>Albert Fong</td>\n",
              "      <td>San Francisco, CA</td>\n",
              "      <td>Marketing dude, tech geek, heavy metal &amp; '80s ...</td>\n",
              "      <td>2009-09-21 15:27:30</td>\n",
              "      <td>834.0</td>\n",
              "      <td>666.0</td>\n",
              "      <td>178.0</td>\n",
              "      <td>False</td>\n",
              "      <td>2020-12-13 16:27:13</td>\n",
              "      <td>While the world has been on the wrong side of ...</td>\n",
              "      <td>NaN</td>\n",
              "      <td>Twitter Web App</td>\n",
              "      <td>1.0</td>\n",
              "      <td>1.0</td>\n",
              "      <td>False</td>\n",
              "      <td>world wrong side history year hopefully bigges...</td>\n",
              "      <td>0.641351</td>\n",
              "      <td>Positive</td>\n",
              "      <td>-122.727652</td>\n",
              "      <td>37.785063</td>\n",
              "    </tr>\n",
              "    <tr>\n",
              "      <th>2</th>\n",
              "      <td>3</td>\n",
              "      <td>1.337858e+18</td>\n",
              "      <td>eli🇱🇹🇪🇺👌</td>\n",
              "      <td>Your Bed</td>\n",
              "      <td>heil, hydra 🖐☺</td>\n",
              "      <td>2020-06-25 23:30:28</td>\n",
              "      <td>10.0</td>\n",
              "      <td>88.0</td>\n",
              "      <td>155.0</td>\n",
              "      <td>False</td>\n",
              "      <td>2020-12-12 20:33:45</td>\n",
              "      <td>#coronavirus #SputnikV #AstraZeneca #PfizerBio...</td>\n",
              "      <td>['coronavirus', 'SputnikV', 'AstraZeneca', 'Pf...</td>\n",
              "      <td>Twitter for Android</td>\n",
              "      <td>0.0</td>\n",
              "      <td>0.0</td>\n",
              "      <td>False</td>\n",
              "      <td>coronavirus sputnikv astrazeneca pfizerbiontec...</td>\n",
              "      <td>0.572634</td>\n",
              "      <td>Positive</td>\n",
              "      <td>-2.942752</td>\n",
              "      <td>42.685166</td>\n",
              "    </tr>\n",
              "    <tr>\n",
              "      <th>3</th>\n",
              "      <td>4</td>\n",
              "      <td>1.337856e+18</td>\n",
              "      <td>Charles Adler</td>\n",
              "      <td>Vancouver, BC - Canada</td>\n",
              "      <td>Hosting \"CharlesAdlerTonight\" Global News Radi...</td>\n",
              "      <td>2008-09-10 11:28:53</td>\n",
              "      <td>49165.0</td>\n",
              "      <td>3933.0</td>\n",
              "      <td>21853.0</td>\n",
              "      <td>True</td>\n",
              "      <td>2020-12-12 20:23:59</td>\n",
              "      <td>Facts are immutable, Senator, even when you're...</td>\n",
              "      <td>NaN</td>\n",
              "      <td>Twitter Web App</td>\n",
              "      <td>446.0</td>\n",
              "      <td>2129.0</td>\n",
              "      <td>False</td>\n",
              "      <td>fact immutable senator even youre not ethicall...</td>\n",
              "      <td>0.499397</td>\n",
              "      <td>Negative</td>\n",
              "      <td>-123.124101</td>\n",
              "      <td>49.257308</td>\n",
              "    </tr>\n",
              "    <tr>\n",
              "      <th>4</th>\n",
              "      <td>5</td>\n",
              "      <td>1.337854e+18</td>\n",
              "      <td>Citizen News Channel</td>\n",
              "      <td>NaN</td>\n",
              "      <td>Citizen News Channel bringing you an alternati...</td>\n",
              "      <td>2020-04-23 17:58:42</td>\n",
              "      <td>152.0</td>\n",
              "      <td>580.0</td>\n",
              "      <td>1473.0</td>\n",
              "      <td>False</td>\n",
              "      <td>2020-12-12 20:17:19</td>\n",
              "      <td>Explain to me again why we need a vaccine @Bor...</td>\n",
              "      <td>['whereareallthesickpeople', 'PfizerBioNTech']</td>\n",
              "      <td>Twitter for iPhone</td>\n",
              "      <td>0.0</td>\n",
              "      <td>0.0</td>\n",
              "      <td>False</td>\n",
              "      <td>explain need vaccine whereareallthesickpeople ...</td>\n",
              "      <td>0.786513</td>\n",
              "      <td>Positive</td>\n",
              "      <td>12.502155</td>\n",
              "      <td>13.187038</td>\n",
              "    </tr>\n",
              "    <tr>\n",
              "      <th>...</th>\n",
              "      <td>...</td>\n",
              "      <td>...</td>\n",
              "      <td>...</td>\n",
              "      <td>...</td>\n",
              "      <td>...</td>\n",
              "      <td>...</td>\n",
              "      <td>...</td>\n",
              "      <td>...</td>\n",
              "      <td>...</td>\n",
              "      <td>...</td>\n",
              "      <td>...</td>\n",
              "      <td>...</td>\n",
              "      <td>...</td>\n",
              "      <td>...</td>\n",
              "      <td>...</td>\n",
              "      <td>...</td>\n",
              "      <td>...</td>\n",
              "      <td>...</td>\n",
              "      <td>...</td>\n",
              "      <td>...</td>\n",
              "      <td>...</td>\n",
              "      <td>...</td>\n",
              "    </tr>\n",
              "    <tr>\n",
              "      <th>48537</th>\n",
              "      <td>48538</td>\n",
              "      <td>1.380593e+18</td>\n",
              "      <td>DV Putnam County</td>\n",
              "      <td>Putnam County, NY</td>\n",
              "      <td>Daily Voice Putnam County covers our friends a...</td>\n",
              "      <td>2014-06-22 21:38:29</td>\n",
              "      <td>1541.0</td>\n",
              "      <td>89.0</td>\n",
              "      <td>11.0</td>\n",
              "      <td>False</td>\n",
              "      <td>2021-04-09 18:47:46</td>\n",
              "      <td>* COVID-19 * Here's a breakdown of how many ha...</td>\n",
              "      <td>['Moderna', 'Pfiser', 'COVID19']</td>\n",
              "      <td>SPTK: PutnamDV</td>\n",
              "      <td>0.0</td>\n",
              "      <td>0.0</td>\n",
              "      <td>False</td>\n",
              "      <td>covid19 here breakdown many seen side effect m...</td>\n",
              "      <td>0.864736</td>\n",
              "      <td>Positive</td>\n",
              "      <td>-73.756424</td>\n",
              "      <td>41.423842</td>\n",
              "    </tr>\n",
              "    <tr>\n",
              "      <th>48538</th>\n",
              "      <td>48539</td>\n",
              "      <td>1.380593e+18</td>\n",
              "      <td>Daily Voice Suffolk County</td>\n",
              "      <td>NaN</td>\n",
              "      <td>NaN</td>\n",
              "      <td>2019-04-22 15:45:54</td>\n",
              "      <td>227.0</td>\n",
              "      <td>5.0</td>\n",
              "      <td>1.0</td>\n",
              "      <td>False</td>\n",
              "      <td>2021-04-09 18:47:25</td>\n",
              "      <td>* COVID-19 * Here's a breakdown of how many ha...</td>\n",
              "      <td>['Moderna', 'Pfiser', 'COVID19']</td>\n",
              "      <td>Daily Voice Suffolk County</td>\n",
              "      <td>0.0</td>\n",
              "      <td>0.0</td>\n",
              "      <td>False</td>\n",
              "      <td>covid19 here breakdown many seen side effect m...</td>\n",
              "      <td>0.864736</td>\n",
              "      <td>Positive</td>\n",
              "      <td>12.502155</td>\n",
              "      <td>13.187038</td>\n",
              "    </tr>\n",
              "    <tr>\n",
              "      <th>48539</th>\n",
              "      <td>48540</td>\n",
              "      <td>1.380593e+18</td>\n",
              "      <td>Heddar Oussama</td>\n",
              "      <td>NaN</td>\n",
              "      <td>fitness lover \\na model \\ngym is my life \\nan ...</td>\n",
              "      <td>2020-06-26 18:28:29</td>\n",
              "      <td>7.0</td>\n",
              "      <td>75.0</td>\n",
              "      <td>32.0</td>\n",
              "      <td>False</td>\n",
              "      <td>2021-04-09 18:46:03</td>\n",
              "      <td>Time to go hard or go home 😏\\n#fitness \\n#Advi...</td>\n",
              "      <td>['fitness', 'AdviceForSuccess', 'Moderna', 'mo...</td>\n",
              "      <td>Twitter for Android</td>\n",
              "      <td>0.0</td>\n",
              "      <td>1.0</td>\n",
              "      <td>False</td>\n",
              "      <td>time go hard go home fitness adviceforsuccess ...</td>\n",
              "      <td>0.470131</td>\n",
              "      <td>Negative</td>\n",
              "      <td>12.502155</td>\n",
              "      <td>13.187038</td>\n",
              "    </tr>\n",
              "    <tr>\n",
              "      <th>48540</th>\n",
              "      <td>48541</td>\n",
              "      <td>1.380592e+18</td>\n",
              "      <td>ATLANTA NIGHTLIFE</td>\n",
              "      <td>Georgia, USA</td>\n",
              "      <td>Just a Twitter account primarly to post inform...</td>\n",
              "      <td>2009-02-17 02:49:51</td>\n",
              "      <td>4328.0</td>\n",
              "      <td>4899.0</td>\n",
              "      <td>1380.0</td>\n",
              "      <td>False</td>\n",
              "      <td>2021-04-09 18:42:38</td>\n",
              "      <td>#atlchat\\n\\nI just received my second shot of ...</td>\n",
              "      <td>['atlchat', 'Moderna', 'quarantine']</td>\n",
              "      <td>Twitter for Android</td>\n",
              "      <td>0.0</td>\n",
              "      <td>0.0</td>\n",
              "      <td>False</td>\n",
              "      <td>atlchat received second shot moderna quarantin...</td>\n",
              "      <td>0.859608</td>\n",
              "      <td>Positive</td>\n",
              "      <td>-83.178335</td>\n",
              "      <td>32.678559</td>\n",
              "    </tr>\n",
              "    <tr>\n",
              "      <th>48541</th>\n",
              "      <td>48542</td>\n",
              "      <td>1.380591e+18</td>\n",
              "      <td>Jassy 💐✨💞</td>\n",
              "      <td>Minding My Business..</td>\n",
              "      <td>I come on twitter to talk to myself.. If you r...</td>\n",
              "      <td>2012-05-24 23:16:44</td>\n",
              "      <td>6312.0</td>\n",
              "      <td>5782.0</td>\n",
              "      <td>71023.0</td>\n",
              "      <td>False</td>\n",
              "      <td>2021-04-09 18:40:12</td>\n",
              "      <td>For those who’ve experienced fatigue or sore a...</td>\n",
              "      <td>NaN</td>\n",
              "      <td>NaN</td>\n",
              "      <td>NaN</td>\n",
              "      <td>NaN</td>\n",
              "      <td>NaN</td>\n",
              "      <td>NaN</td>\n",
              "      <td>NaN</td>\n",
              "      <td>NaN</td>\n",
              "      <td>NaN</td>\n",
              "      <td>NaN</td>\n",
              "    </tr>\n",
              "  </tbody>\n",
              "</table>\n",
              "<p>48542 rows × 22 columns</p>\n",
              "</div>"
            ],
            "text/plain": [
              "       Unnamed: 0            id  ...        long        lat\n",
              "0               1  1.340539e+18  ... -118.231705  34.219170\n",
              "1               2  1.338159e+18  ... -122.727652  37.785063\n",
              "2               3  1.337858e+18  ...   -2.942752  42.685166\n",
              "3               4  1.337856e+18  ... -123.124101  49.257308\n",
              "4               5  1.337854e+18  ...   12.502155  13.187038\n",
              "...           ...           ...  ...         ...        ...\n",
              "48537       48538  1.380593e+18  ...  -73.756424  41.423842\n",
              "48538       48539  1.380593e+18  ...   12.502155  13.187038\n",
              "48539       48540  1.380593e+18  ...   12.502155  13.187038\n",
              "48540       48541  1.380592e+18  ...  -83.178335  32.678559\n",
              "48541       48542  1.380591e+18  ...         NaN        NaN\n",
              "\n",
              "[48542 rows x 22 columns]"
            ]
          },
          "metadata": {
            "tags": []
          },
          "execution_count": 7
        }
      ]
    },
    {
      "cell_type": "code",
      "metadata": {
        "id": "Xil9ihuvHALN"
      },
      "source": [
        "df3 = df3[df3.Analysis.notna()]"
      ],
      "execution_count": null,
      "outputs": []
    },
    {
      "cell_type": "code",
      "metadata": {
        "id": "iAmQbUlmKcJa"
      },
      "source": [
        "df3 = df3.reset_index(drop = True)"
      ],
      "execution_count": null,
      "outputs": []
    },
    {
      "cell_type": "code",
      "metadata": {
        "id": "y50vyenwLVjj",
        "colab": {
          "base_uri": "https://localhost:8080/",
          "height": 983
        },
        "outputId": "a27fe1c2-85b1-42ba-f9d2-7523615f03b6"
      },
      "source": [
        "df3"
      ],
      "execution_count": null,
      "outputs": [
        {
          "output_type": "execute_result",
          "data": {
            "text/html": [
              "<div>\n",
              "<style scoped>\n",
              "    .dataframe tbody tr th:only-of-type {\n",
              "        vertical-align: middle;\n",
              "    }\n",
              "\n",
              "    .dataframe tbody tr th {\n",
              "        vertical-align: top;\n",
              "    }\n",
              "\n",
              "    .dataframe thead th {\n",
              "        text-align: right;\n",
              "    }\n",
              "</style>\n",
              "<table border=\"1\" class=\"dataframe\">\n",
              "  <thead>\n",
              "    <tr style=\"text-align: right;\">\n",
              "      <th></th>\n",
              "      <th>Unnamed: 0</th>\n",
              "      <th>id</th>\n",
              "      <th>user_name</th>\n",
              "      <th>user_location</th>\n",
              "      <th>user_description</th>\n",
              "      <th>user_created</th>\n",
              "      <th>user_followers</th>\n",
              "      <th>user_friends</th>\n",
              "      <th>user_favourites</th>\n",
              "      <th>user_verified</th>\n",
              "      <th>date</th>\n",
              "      <th>text</th>\n",
              "      <th>hashtags</th>\n",
              "      <th>source</th>\n",
              "      <th>retweets</th>\n",
              "      <th>favorites</th>\n",
              "      <th>is_retweet</th>\n",
              "      <th>processed_tweets</th>\n",
              "      <th>Polarity</th>\n",
              "      <th>Analysis</th>\n",
              "      <th>long</th>\n",
              "      <th>lat</th>\n",
              "    </tr>\n",
              "  </thead>\n",
              "  <tbody>\n",
              "    <tr>\n",
              "      <th>0</th>\n",
              "      <td>1</td>\n",
              "      <td>1.340539e+18</td>\n",
              "      <td>Rachel Roh</td>\n",
              "      <td>La Crescenta-Montrose, CA</td>\n",
              "      <td>Aggregator of Asian American news; scanning di...</td>\n",
              "      <td>2009-04-08 17:52:46</td>\n",
              "      <td>405.0</td>\n",
              "      <td>1692.0</td>\n",
              "      <td>3247.0</td>\n",
              "      <td>False</td>\n",
              "      <td>2020-12-20 06:06:44</td>\n",
              "      <td>Same folks said daikon paste could treat a cyt...</td>\n",
              "      <td>['PfizerBioNTech']</td>\n",
              "      <td>Twitter for Android</td>\n",
              "      <td>0.0</td>\n",
              "      <td>0.0</td>\n",
              "      <td>False</td>\n",
              "      <td>folk said daikon paste could treat cytokine st...</td>\n",
              "      <td>0.761312</td>\n",
              "      <td>Positive</td>\n",
              "      <td>-118.231705</td>\n",
              "      <td>34.219170</td>\n",
              "    </tr>\n",
              "    <tr>\n",
              "      <th>1</th>\n",
              "      <td>2</td>\n",
              "      <td>1.338159e+18</td>\n",
              "      <td>Albert Fong</td>\n",
              "      <td>San Francisco, CA</td>\n",
              "      <td>Marketing dude, tech geek, heavy metal &amp; '80s ...</td>\n",
              "      <td>2009-09-21 15:27:30</td>\n",
              "      <td>834.0</td>\n",
              "      <td>666.0</td>\n",
              "      <td>178.0</td>\n",
              "      <td>False</td>\n",
              "      <td>2020-12-13 16:27:13</td>\n",
              "      <td>While the world has been on the wrong side of ...</td>\n",
              "      <td>NaN</td>\n",
              "      <td>Twitter Web App</td>\n",
              "      <td>1.0</td>\n",
              "      <td>1.0</td>\n",
              "      <td>False</td>\n",
              "      <td>world wrong side history year hopefully bigges...</td>\n",
              "      <td>0.641351</td>\n",
              "      <td>Positive</td>\n",
              "      <td>-122.727652</td>\n",
              "      <td>37.785063</td>\n",
              "    </tr>\n",
              "    <tr>\n",
              "      <th>2</th>\n",
              "      <td>3</td>\n",
              "      <td>1.337858e+18</td>\n",
              "      <td>eli🇱🇹🇪🇺👌</td>\n",
              "      <td>Your Bed</td>\n",
              "      <td>heil, hydra 🖐☺</td>\n",
              "      <td>2020-06-25 23:30:28</td>\n",
              "      <td>10.0</td>\n",
              "      <td>88.0</td>\n",
              "      <td>155.0</td>\n",
              "      <td>False</td>\n",
              "      <td>2020-12-12 20:33:45</td>\n",
              "      <td>#coronavirus #SputnikV #AstraZeneca #PfizerBio...</td>\n",
              "      <td>['coronavirus', 'SputnikV', 'AstraZeneca', 'Pf...</td>\n",
              "      <td>Twitter for Android</td>\n",
              "      <td>0.0</td>\n",
              "      <td>0.0</td>\n",
              "      <td>False</td>\n",
              "      <td>coronavirus sputnikv astrazeneca pfizerbiontec...</td>\n",
              "      <td>0.572634</td>\n",
              "      <td>Positive</td>\n",
              "      <td>-2.942752</td>\n",
              "      <td>42.685166</td>\n",
              "    </tr>\n",
              "    <tr>\n",
              "      <th>3</th>\n",
              "      <td>4</td>\n",
              "      <td>1.337856e+18</td>\n",
              "      <td>Charles Adler</td>\n",
              "      <td>Vancouver, BC - Canada</td>\n",
              "      <td>Hosting \"CharlesAdlerTonight\" Global News Radi...</td>\n",
              "      <td>2008-09-10 11:28:53</td>\n",
              "      <td>49165.0</td>\n",
              "      <td>3933.0</td>\n",
              "      <td>21853.0</td>\n",
              "      <td>True</td>\n",
              "      <td>2020-12-12 20:23:59</td>\n",
              "      <td>Facts are immutable, Senator, even when you're...</td>\n",
              "      <td>NaN</td>\n",
              "      <td>Twitter Web App</td>\n",
              "      <td>446.0</td>\n",
              "      <td>2129.0</td>\n",
              "      <td>False</td>\n",
              "      <td>fact immutable senator even youre not ethicall...</td>\n",
              "      <td>0.499397</td>\n",
              "      <td>Negative</td>\n",
              "      <td>-123.124101</td>\n",
              "      <td>49.257308</td>\n",
              "    </tr>\n",
              "    <tr>\n",
              "      <th>4</th>\n",
              "      <td>5</td>\n",
              "      <td>1.337854e+18</td>\n",
              "      <td>Citizen News Channel</td>\n",
              "      <td>NaN</td>\n",
              "      <td>Citizen News Channel bringing you an alternati...</td>\n",
              "      <td>2020-04-23 17:58:42</td>\n",
              "      <td>152.0</td>\n",
              "      <td>580.0</td>\n",
              "      <td>1473.0</td>\n",
              "      <td>False</td>\n",
              "      <td>2020-12-12 20:17:19</td>\n",
              "      <td>Explain to me again why we need a vaccine @Bor...</td>\n",
              "      <td>['whereareallthesickpeople', 'PfizerBioNTech']</td>\n",
              "      <td>Twitter for iPhone</td>\n",
              "      <td>0.0</td>\n",
              "      <td>0.0</td>\n",
              "      <td>False</td>\n",
              "      <td>explain need vaccine whereareallthesickpeople ...</td>\n",
              "      <td>0.786513</td>\n",
              "      <td>Positive</td>\n",
              "      <td>12.502155</td>\n",
              "      <td>13.187038</td>\n",
              "    </tr>\n",
              "    <tr>\n",
              "      <th>...</th>\n",
              "      <td>...</td>\n",
              "      <td>...</td>\n",
              "      <td>...</td>\n",
              "      <td>...</td>\n",
              "      <td>...</td>\n",
              "      <td>...</td>\n",
              "      <td>...</td>\n",
              "      <td>...</td>\n",
              "      <td>...</td>\n",
              "      <td>...</td>\n",
              "      <td>...</td>\n",
              "      <td>...</td>\n",
              "      <td>...</td>\n",
              "      <td>...</td>\n",
              "      <td>...</td>\n",
              "      <td>...</td>\n",
              "      <td>...</td>\n",
              "      <td>...</td>\n",
              "      <td>...</td>\n",
              "      <td>...</td>\n",
              "      <td>...</td>\n",
              "      <td>...</td>\n",
              "    </tr>\n",
              "    <tr>\n",
              "      <th>69718</th>\n",
              "      <td>69719</td>\n",
              "      <td>1.382248e+18</td>\n",
              "      <td>Russian Mission in Geneva</td>\n",
              "      <td>Geneve</td>\n",
              "      <td>Постпредство России при Отделении ООН и др. ме...</td>\n",
              "      <td>2011-07-26 08:40:47</td>\n",
              "      <td>9862.0</td>\n",
              "      <td>589.0</td>\n",
              "      <td>3502.0</td>\n",
              "      <td>True</td>\n",
              "      <td>2021-04-14 08:24:54</td>\n",
              "      <td>✅ 🇷🇺#Gamaleya Research Center in cooperation w...</td>\n",
              "      <td>['Gamaleya']</td>\n",
              "      <td>Twitter for iPhone</td>\n",
              "      <td>2.0</td>\n",
              "      <td>9.0</td>\n",
              "      <td>False</td>\n",
              "      <td>🇷🇺gamaleya research center cooperation 🇮🇹 spal...</td>\n",
              "      <td>0.609648</td>\n",
              "      <td>Positive</td>\n",
              "      <td>6.143047</td>\n",
              "      <td>46.204829</td>\n",
              "    </tr>\n",
              "    <tr>\n",
              "      <th>69719</th>\n",
              "      <td>69720</td>\n",
              "      <td>1.382246e+18</td>\n",
              "      <td>Mora Mosese</td>\n",
              "      <td>NtswanaTsatsi</td>\n",
              "      <td>#MoAfrika - #MoSotho</td>\n",
              "      <td>2019-12-06 11:11:07</td>\n",
              "      <td>164.0</td>\n",
              "      <td>101.0</td>\n",
              "      <td>6465.0</td>\n",
              "      <td>False</td>\n",
              "      <td>2021-04-14 08:16:35</td>\n",
              "      <td>@FloydShivambu #SputnikV. Where are #AfricanEx...</td>\n",
              "      <td>['SputnikV', 'AfricanExpertise', 'ShamDemic']</td>\n",
              "      <td>Twitter Web App</td>\n",
              "      <td>0.0</td>\n",
              "      <td>0.0</td>\n",
              "      <td>False</td>\n",
              "      <td>sputnikv africanexpertise medical academic voi...</td>\n",
              "      <td>0.502593</td>\n",
              "      <td>Positive</td>\n",
              "      <td>28.855412</td>\n",
              "      <td>-27.228607</td>\n",
              "    </tr>\n",
              "    <tr>\n",
              "      <th>69720</th>\n",
              "      <td>69721</td>\n",
              "      <td>1.382245e+18</td>\n",
              "      <td>Robert ka Boss</td>\n",
              "      <td>NaN</td>\n",
              "      <td>Lily don't be silly you want to know me just g...</td>\n",
              "      <td>2020-11-26 09:24:12</td>\n",
              "      <td>76.0</td>\n",
              "      <td>65.0</td>\n",
              "      <td>78.0</td>\n",
              "      <td>False</td>\n",
              "      <td>2021-04-14 08:11:21</td>\n",
              "      <td>Hello, it s because of this stubbornness and f...</td>\n",
              "      <td>NaN</td>\n",
              "      <td>Twitter Web App</td>\n",
              "      <td>0.0</td>\n",
              "      <td>0.0</td>\n",
              "      <td>False</td>\n",
              "      <td>hello stubbornness foolishness facing second w...</td>\n",
              "      <td>0.956859</td>\n",
              "      <td>Positive</td>\n",
              "      <td>12.502155</td>\n",
              "      <td>13.187038</td>\n",
              "    </tr>\n",
              "    <tr>\n",
              "      <th>69721</th>\n",
              "      <td>69722</td>\n",
              "      <td>1.382243e+18</td>\n",
              "      <td>Mick Brown</td>\n",
              "      <td>Cambridge, UK</td>\n",
              "      <td>Retired 1960s dropout, part-time self-appointe...</td>\n",
              "      <td>2011-12-05 14:11:05</td>\n",
              "      <td>1882.0</td>\n",
              "      <td>1850.0</td>\n",
              "      <td>83008.0</td>\n",
              "      <td>False</td>\n",
              "      <td>2021-04-14 08:04:35</td>\n",
              "      <td>In a lengthy interview on #wato some months ag...</td>\n",
              "      <td>['wato', 'SputnikV']</td>\n",
              "      <td>Twitter for Android</td>\n",
              "      <td>0.0</td>\n",
              "      <td>0.0</td>\n",
              "      <td>False</td>\n",
              "      <td>lengthy interview wato month ago representativ...</td>\n",
              "      <td>0.915655</td>\n",
              "      <td>Positive</td>\n",
              "      <td>0.126595</td>\n",
              "      <td>52.197586</td>\n",
              "    </tr>\n",
              "    <tr>\n",
              "      <th>69722</th>\n",
              "      <td>69723</td>\n",
              "      <td>1.382243e+18</td>\n",
              "      <td>#गांधीदूत Azaz Shaikh ऐजाज़ शेख اعجاز شیخ #WithRG</td>\n",
              "      <td>Thane, Maharashtra.</td>\n",
              "      <td>State GS @INCMaharashtra SM,\\n\\nEx-Coordinator...</td>\n",
              "      <td>2013-09-29 11:07:38</td>\n",
              "      <td>4120.0</td>\n",
              "      <td>1324.0</td>\n",
              "      <td>11633.0</td>\n",
              "      <td>False</td>\n",
              "      <td>2021-04-14 08:03:15</td>\n",
              "      <td>“First they ignore you\\nthen they laugh at you...</td>\n",
              "      <td>['vaccine', 'SputnikV']</td>\n",
              "      <td>Twitter for Android</td>\n",
              "      <td>0.0</td>\n",
              "      <td>1.0</td>\n",
              "      <td>False</td>\n",
              "      <td>first ignore laugh fight win vaccine sputnikv…</td>\n",
              "      <td>0.908176</td>\n",
              "      <td>Positive</td>\n",
              "      <td>72.977545</td>\n",
              "      <td>19.232121</td>\n",
              "    </tr>\n",
              "  </tbody>\n",
              "</table>\n",
              "<p>69723 rows × 22 columns</p>\n",
              "</div>"
            ],
            "text/plain": [
              "       Unnamed: 0            id  ...        long        lat\n",
              "0               1  1.340539e+18  ... -118.231705  34.219170\n",
              "1               2  1.338159e+18  ... -122.727652  37.785063\n",
              "2               3  1.337858e+18  ...   -2.942752  42.685166\n",
              "3               4  1.337856e+18  ... -123.124101  49.257308\n",
              "4               5  1.337854e+18  ...   12.502155  13.187038\n",
              "...           ...           ...  ...         ...        ...\n",
              "69718       69719  1.382248e+18  ...    6.143047  46.204829\n",
              "69719       69720  1.382246e+18  ...   28.855412 -27.228607\n",
              "69720       69721  1.382245e+18  ...   12.502155  13.187038\n",
              "69721       69722  1.382243e+18  ...    0.126595  52.197586\n",
              "69722       69723  1.382243e+18  ...   72.977545  19.232121\n",
              "\n",
              "[69723 rows x 22 columns]"
            ]
          },
          "metadata": {
            "tags": []
          },
          "execution_count": 118
        }
      ]
    },
    {
      "cell_type": "markdown",
      "metadata": {
        "id": "N1myQbFhiBB1"
      },
      "source": [
        "# Model Evaluation"
      ]
    },
    {
      "cell_type": "code",
      "metadata": {
        "id": "rwj-tE8djH0N"
      },
      "source": [
        "data = df3"
      ],
      "execution_count": null,
      "outputs": []
    },
    {
      "cell_type": "code",
      "metadata": {
        "id": "6l8fvj2mi53o"
      },
      "source": [
        "\n",
        "X = data['Clean_text'].values\n",
        "y = data['Analysis'].values\n",
        "\n"
      ],
      "execution_count": null,
      "outputs": []
    },
    {
      "cell_type": "code",
      "metadata": {
        "colab": {
          "base_uri": "https://localhost:8080/"
        },
        "id": "AYXk3aIgi53p",
        "outputId": "616c8146-669b-4ef5-8ddb-6b333a7ed01a"
      },
      "source": [
        "print(X.shape)\n",
        "print(y.shape)"
      ],
      "execution_count": null,
      "outputs": [
        {
          "output_type": "stream",
          "text": [
            "(69714,)\n",
            "(69714,)\n"
          ],
          "name": "stdout"
        }
      ]
    },
    {
      "cell_type": "markdown",
      "metadata": {
        "id": "cxKNzE_ni53q"
      },
      "source": [
        "**Convert text to word frequency vectors**"
      ]
    },
    {
      "cell_type": "code",
      "metadata": {
        "colab": {
          "base_uri": "https://localhost:8080/"
        },
        "id": "3sBAXclLi53q",
        "outputId": "164cc478-5362-4326-bda3-9a431f606920"
      },
      "source": [
        "\n",
        "#Convert a collection of raw documents to a matrix of TF-IDF features.\n",
        "vector = TfidfVectorizer(sublinear_tf=True)\n",
        "X = vector.fit_transform(X)\n",
        "print(f'Vector fitted.')\n",
        "print('No. of feature_words: ', len(vector.get_feature_names()))\n",
        "\n"
      ],
      "execution_count": null,
      "outputs": [
        {
          "output_type": "stream",
          "text": [
            "Vector fitted.\n",
            "No. of feature_words:  42252\n"
          ],
          "name": "stdout"
        }
      ]
    },
    {
      "cell_type": "code",
      "metadata": {
        "colab": {
          "base_uri": "https://localhost:8080/"
        },
        "id": "L-n7HamOi53r",
        "outputId": "fafe50fe-6864-4b3f-c692-11972daedd50"
      },
      "source": [
        "print(X.shape)\n",
        "print(y.shape)"
      ],
      "execution_count": null,
      "outputs": [
        {
          "output_type": "stream",
          "text": [
            "(69714, 42252)\n",
            "(69714,)\n"
          ],
          "name": "stdout"
        }
      ]
    },
    {
      "cell_type": "markdown",
      "metadata": {
        "id": "gLjJ2w4Zi53s"
      },
      "source": [
        "**Split and Train Test**"
      ]
    },
    {
      "cell_type": "markdown",
      "metadata": {
        "id": "D13jOYUei53s"
      },
      "source": [
        "\n",
        "\n",
        "The Preprocessed Data is divided into 2 sets of data:\n",
        "\n",
        "\n",
        "*   Training Data: The dataset upon which the model would be trained on. Contains 80% data.\n",
        "*  Test Data: The dataset upon which the model would be tested against. Contains 20% data.\n",
        "\n",
        "\n",
        "\n",
        "\n",
        "\n",
        "\n"
      ]
    },
    {
      "cell_type": "code",
      "metadata": {
        "id": "gwpNVbemi53t"
      },
      "source": [
        "X_train, X_test, y_train, y_test = train_test_split(X, y, test_size = 0.20, random_state=101)"
      ],
      "execution_count": null,
      "outputs": []
    },
    {
      "cell_type": "code",
      "metadata": {
        "colab": {
          "base_uri": "https://localhost:8080/"
        },
        "id": "qapiMWJxi53u",
        "outputId": "102903ae-43c1-4b56-879d-e136636dfe08"
      },
      "source": [
        "print(\"X_train\", X_train.shape)\n",
        "print(\"y_train\", y_train.shape)\n",
        "print()\n",
        "print(\"X_test\", X_test.shape)\n",
        "print(\"y_test\", y_test.shape)"
      ],
      "execution_count": null,
      "outputs": [
        {
          "output_type": "stream",
          "text": [
            "X_train (55771, 42252)\n",
            "y_train (55771,)\n",
            "\n",
            "X_test (13943, 42252)\n",
            "y_test (13943,)\n"
          ],
          "name": "stdout"
        }
      ]
    },
    {
      "cell_type": "code",
      "metadata": {
        "id": "BcnLgvdai53v"
      },
      "source": [
        "def model_Evaluate(model):\n",
        "    #accuracy of model on training data\n",
        "    acc_train=model.score(X_train, y_train)\n",
        "    #accuracy of model on test data\n",
        "    acc_test=model.score(X_test, y_test)\n",
        "    \n",
        "    print('Accuracy of model on training data : {}'.format(acc_train*100))\n",
        "    print('Accuracy of model on testing data : {} \\n'.format(acc_test*100))\n",
        "\n",
        "    # Predict values for Test dataset\n",
        "    y_pred = model.predict(X_test)\n",
        "\n",
        "    # Print the evaluation metrics for the dataset.\n",
        "    print(classification_report(y_test, y_pred))\n",
        "    \n",
        "    # Compute and plot the Confusion matrix\n",
        "    cf_matrix = confusion_matrix(y_test, y_pred)\n",
        "\n",
        "    categories  = ['Negative','Positive']\n",
        "    group_names = ['True Neg','False Pos', 'False Neg','True Pos']\n",
        "    group_percentages = ['{0:.2%}'.format(value) for value in cf_matrix.flatten() / np.sum(cf_matrix)]\n",
        "\n",
        "    labels = [f'{v1}\\n{v2}' for v1, v2 in zip(group_names,group_percentages)]\n",
        "    labels = np.asarray(labels).reshape(2,2)\n",
        "\n",
        "    sns.heatmap(cf_matrix, annot = labels, cmap = 'Reds',fmt = '',\n",
        "                xticklabels = categories, yticklabels = categories)\n",
        "\n",
        "    plt.xlabel(\"Predicted values\", fontdict = {'size':14}, labelpad = 10)\n",
        "    plt.ylabel(\"Actual values\"   , fontdict = {'size':14}, labelpad = 10)\n",
        "    plt.title (\"Confusion Matrix\", fontdict = {'size':18}, pad = 20)"
      ],
      "execution_count": null,
      "outputs": []
    },
    {
      "cell_type": "code",
      "metadata": {
        "colab": {
          "base_uri": "https://localhost:8080/",
          "height": 198
        },
        "id": "dysYTb-Vi53w",
        "outputId": "83702486-6a07-494c-deb1-8bbad1c1f306"
      },
      "source": [
        "lg = LogisticRegression()\n",
        "history=lg.fit(X_train, y_train)\n",
        "model_Evaluate(lg)"
      ],
      "execution_count": null,
      "outputs": [
        {
          "output_type": "error",
          "ename": "NameError",
          "evalue": "ignored",
          "traceback": [
            "\u001b[0;31m---------------------------------------------------------------------------\u001b[0m",
            "\u001b[0;31mNameError\u001b[0m                                 Traceback (most recent call last)",
            "\u001b[0;32m<ipython-input-1-4f498cc1d02a>\u001b[0m in \u001b[0;36m<module>\u001b[0;34m()\u001b[0m\n\u001b[0;32m----> 1\u001b[0;31m \u001b[0mlg\u001b[0m \u001b[0;34m=\u001b[0m \u001b[0mLogisticRegression\u001b[0m\u001b[0;34m(\u001b[0m\u001b[0;34m)\u001b[0m\u001b[0;34m\u001b[0m\u001b[0;34m\u001b[0m\u001b[0m\n\u001b[0m\u001b[1;32m      2\u001b[0m \u001b[0mhistory\u001b[0m\u001b[0;34m=\u001b[0m\u001b[0mlg\u001b[0m\u001b[0;34m.\u001b[0m\u001b[0mfit\u001b[0m\u001b[0;34m(\u001b[0m\u001b[0mX_train\u001b[0m\u001b[0;34m,\u001b[0m \u001b[0my_train\u001b[0m\u001b[0;34m)\u001b[0m\u001b[0;34m\u001b[0m\u001b[0;34m\u001b[0m\u001b[0m\n\u001b[1;32m      3\u001b[0m \u001b[0mmodel_Evaluate\u001b[0m\u001b[0;34m(\u001b[0m\u001b[0mlg\u001b[0m\u001b[0;34m)\u001b[0m\u001b[0;34m\u001b[0m\u001b[0;34m\u001b[0m\u001b[0m\n",
            "\u001b[0;31mNameError\u001b[0m: name 'LogisticRegression' is not defined"
          ]
        }
      ]
    },
    {
      "cell_type": "markdown",
      "metadata": {
        "id": "S39yQquLzd4P"
      },
      "source": [
        "\n",
        "\n",
        "\n",
        "\n",
        "# Data Visualization"
      ]
    },
    {
      "cell_type": "code",
      "metadata": {
        "id": "K7_-nRMfzhNY"
      },
      "source": [
        "#Create instances of positive and negative dataframes\n",
        "df_positive = df3.loc[df3['Analysis'] == 'Positive']\n",
        "df_negative = df3.loc[df3['Analysis'] == 'Negative']"
      ],
      "execution_count": null,
      "outputs": []
    },
    {
      "cell_type": "markdown",
      "metadata": {
        "id": "Ed4kB5wvXH33"
      },
      "source": [
        ""
      ]
    },
    {
      "cell_type": "code",
      "metadata": {
        "id": "AlQ2JljcOQ2v"
      },
      "source": [
        "#converting pandas object to a string type\n",
        "df3['processed_tweets'] = df3['processed_tweets'].astype('str')"
      ],
      "execution_count": null,
      "outputs": []
    },
    {
      "cell_type": "code",
      "metadata": {
        "colab": {
          "base_uri": "https://localhost:8080/",
          "height": 232
        },
        "id": "CrbZzLJZzuYg",
        "outputId": "e3cf4767-85ce-468c-bef9-965dca2ad833"
      },
      "source": [
        "#Plot the Word Cloud For Positive Tweets\n",
        "allWords = ' '.join( [twts for twts in df_positive['processed_tweets']])\n",
        "wordCloud = WordCloud(width= 500, height=300, random_state= 21, max_font_size= 119).generate(allWords)\n",
        "\n",
        "plt.imshow(wordCloud, interpolation=  \"bilinear\")\n",
        "plt.axis('off')\n",
        "plt.show()"
      ],
      "execution_count": null,
      "outputs": [
        {
          "output_type": "display_data",
          "data": {
            "image/png": "[encoded data removed]",
            "text/plain": [
              "<Figure size 432x288 with 1 Axes>"
            ]
          },
          "metadata": {
            "tags": [],
            "needs_background": "light"
          }
        }
      ]
    },
    {
      "cell_type": "code",
      "metadata": {
        "colab": {
          "base_uri": "https://localhost:8080/",
          "height": 232
        },
        "id": "eDuUt90Sz1gL",
        "outputId": "ac0fcc7c-a46b-4560-c9a4-45490d57d70b"
      },
      "source": [
        "#Plot the Word Cloud For Negative Tweets\n",
        "allWords = ' '.join( [twts for twts in df_negative['processed_tweets']])\n",
        "wordCloud = WordCloud(width= 500, height=300, random_state= 21, max_font_size= 119).generate(allWords)\n",
        "\n",
        "plt.imshow(wordCloud, interpolation=  \"bilinear\")\n",
        "plt.axis('off')\n",
        "plt.show()"
      ],
      "execution_count": null,
      "outputs": [
        {
          "output_type": "display_data",
          "data": {
            "image/png": "[encoded data removed]",
            "text/plain": [
              "<Figure size 432x288 with 1 Axes>"
            ]
          },
          "metadata": {
            "tags": [],
            "needs_background": "light"
          }
        }
      ]
    },
    {
      "cell_type": "code",
      "metadata": {
        "colab": {
          "base_uri": "https://localhost:8080/",
          "height": 232
        },
        "id": "K9ZTt6Xq0AFl",
        "outputId": "4fa109ca-4e5c-45ea-9df8-7e331f2b817a"
      },
      "source": [
        "#Plot the Word Cloud For All tweets Tweets\n",
        "allWords = ' '.join( [twts for twts in df3['processed_tweets']])\n",
        "wordCloud = WordCloud(width= 500, height=300, random_state= 21, max_font_size= 119).generate(allWords)\n",
        "\n",
        "plt.imshow(wordCloud, interpolation=  \"bilinear\")\n",
        "plt.axis('off')\n",
        "plt.show()"
      ],
      "execution_count": null,
      "outputs": [
        {
          "output_type": "display_data",
          "data": {
            "image/png": "[encoded data removed]",
            "text/plain": [
              "<Figure size 432x288 with 1 Axes>"
            ]
          },
          "metadata": {
            "tags": [],
            "needs_background": "light"
          }
        }
      ]
    },
    {
      "cell_type": "code",
      "metadata": {
        "colab": {
          "base_uri": "https://localhost:8080/",
          "height": 876
        },
        "id": "AQXqOz8G8rew",
        "outputId": "bc048971-051a-44b6-a380-b6a76057acce"
      },
      "source": [
        "# Plot sentiment value counts\n",
        "import plotly.express as px\n",
        "import matplotlib.pyplot as plt\n",
        "df3['Analysis'].value_counts(normalize=True).plot.bar();\n",
        "\n",
        "timeline = df3.groupby(['Analysis']).agg(**{'tweets': ('id', 'count')}).reset_index().dropna()\n",
        "print(timeline)\n",
        "fig = px.bar(timeline,\n",
        "            x='Analysis', y=\"tweets\", color='Analysis', color_discrete_sequence=[\"#EF553B\", \"#636EFA\", \"#00CC96\"]\n",
        "        )\n",
        "fig.show()"
      ],
      "execution_count": null,
      "outputs": [
        {
          "output_type": "stream",
          "text": [
            "   Analysis  tweets\n",
            "0  Negative   24869\n",
            "1  Positive   44845\n"
          ],
          "name": "stdout"
        },
        {
          "output_type": "display_data",
          "data": {
            "text/html": [
              "<html>\n",
              "<head><meta charset=\"utf-8\" /></head>\n",
              "<body>\n",
              "    <div>\n",
              "            <script src=\"https://cdnjs.cloudflare.com/ajax/libs/mathjax/2.7.5/MathJax.js?config=TeX-AMS-MML_SVG\"></script><script type=\"text/javascript\">if (window.MathJax) {MathJax.Hub.Config({SVG: {font: \"STIX-Web\"}});}</script>\n",
              "                <script type=\"text/javascript\">window.PlotlyConfig = {MathJaxConfig: 'local'};</script>\n",
              "        <script src=\"https://cdn.plot.ly/plotly-latest.min.js\"></script>    \n",
              "            <div id=\"b1fdd82b-d133-4bfc-ba0c-f0a4854c18d9\" class=\"plotly-graph-div\" style=\"height:525px; width:100%;\"></div>\n",
              "            <script type=\"text/javascript\">\n",
              "                \n",
              "                    window.PLOTLYENV=window.PLOTLYENV || {};\n",
              "                    \n",
              "                if (document.getElementById(\"b1fdd82b-d133-4bfc-ba0c-f0a4854c18d9\")) {\n",
              "                    Plotly.newPlot(\n",
              "                        'b1fdd82b-d133-4bfc-ba0c-f0a4854c18d9',\n",
              "                        [{\"alignmentgroup\": \"True\", \"hoverlabel\": {\"namelength\": 0}, \"hovertemplate\": \"Analysis=%{x}<br>tweets=%{y}\", \"legendgroup\": \"Analysis=Negative\", \"marker\": {\"color\": \"#EF553B\"}, \"name\": \"Analysis=Negative\", \"offsetgroup\": \"Analysis=Negative\", \"orientation\": \"v\", \"showlegend\": true, \"textposition\": \"auto\", \"type\": \"bar\", \"x\": [\"Negative\"], \"xaxis\": \"x\", \"y\": [24869], \"yaxis\": \"y\"}, {\"alignmentgroup\": \"True\", \"hoverlabel\": {\"namelength\": 0}, \"hovertemplate\": \"Analysis=%{x}<br>tweets=%{y}\", \"legendgroup\": \"Analysis=Positive\", \"marker\": {\"color\": \"#636EFA\"}, \"name\": \"Analysis=Positive\", \"offsetgroup\": \"Analysis=Positive\", \"orientation\": \"v\", \"showlegend\": true, \"textposition\": \"auto\", \"type\": \"bar\", \"x\": [\"Positive\"], \"xaxis\": \"x\", \"y\": [44845], \"yaxis\": \"y\"}],\n",
              "                        {\"barmode\": \"relative\", \"legend\": {\"tracegroupgap\": 0}, \"margin\": {\"t\": 60}, \"template\": {\"data\": {\"bar\": [{\"error_x\": {\"color\": \"#2a3f5f\"}, \"error_y\": {\"color\": \"#2a3f5f\"}, \"marker\": {\"line\": {\"color\": \"#E5ECF6\", \"width\": 0.5}}, \"type\": \"bar\"}], \"barpolar\": [{\"marker\": {\"line\": {\"color\": \"#E5ECF6\", \"width\": 0.5}}, \"type\": \"barpolar\"}], \"carpet\": [{\"aaxis\": {\"endlinecolor\": \"#2a3f5f\", \"gridcolor\": \"white\", \"linecolor\": \"white\", \"minorgridcolor\": \"white\", \"startlinecolor\": \"#2a3f5f\"}, \"baxis\": {\"endlinecolor\": \"#2a3f5f\", \"gridcolor\": \"white\", \"linecolor\": \"white\", \"minorgridcolor\": \"white\", \"startlinecolor\": \"#2a3f5f\"}, \"type\": \"carpet\"}], \"choropleth\": [{\"colorbar\": {\"outlinewidth\": 0, \"ticks\": \"\"}, \"type\": \"choropleth\"}], \"contour\": [{\"colorbar\": {\"outlinewidth\": 0, \"ticks\": \"\"}, \"colorscale\": [[0.0, \"#0d0887\"], [0.1111111111111111, \"#46039f\"], [0.2222222222222222, \"#7201a8\"], [0.3333333333333333, \"#9c179e\"], [0.4444444444444444, \"#bd3786\"], [0.5555555555555556, \"#d8576b\"], [0.6666666666666666, \"#ed7953\"], [0.7777777777777778, \"#fb9f3a\"], [0.8888888888888888, \"#fdca26\"], [1.0, \"#f0f921\"]], \"type\": \"contour\"}], \"contourcarpet\": [{\"colorbar\": {\"outlinewidth\": 0, \"ticks\": \"\"}, \"type\": \"contourcarpet\"}], \"heatmap\": [{\"colorbar\": {\"outlinewidth\": 0, \"ticks\": \"\"}, \"colorscale\": [[0.0, \"#0d0887\"], [0.1111111111111111, \"#46039f\"], [0.2222222222222222, \"#7201a8\"], [0.3333333333333333, \"#9c179e\"], [0.4444444444444444, \"#bd3786\"], [0.5555555555555556, \"#d8576b\"], [0.6666666666666666, \"#ed7953\"], [0.7777777777777778, \"#fb9f3a\"], [0.8888888888888888, \"#fdca26\"], [1.0, \"#f0f921\"]], \"type\": \"heatmap\"}], \"heatmapgl\": [{\"colorbar\": {\"outlinewidth\": 0, \"ticks\": \"\"}, \"colorscale\": [[0.0, \"#0d0887\"], [0.1111111111111111, \"#46039f\"], [0.2222222222222222, \"#7201a8\"], [0.3333333333333333, \"#9c179e\"], [0.4444444444444444, \"#bd3786\"], [0.5555555555555556, \"#d8576b\"], [0.6666666666666666, \"#ed7953\"], [0.7777777777777778, \"#fb9f3a\"], [0.8888888888888888, \"#fdca26\"], [1.0, \"#f0f921\"]], \"type\": \"heatmapgl\"}], \"histogram\": [{\"marker\": {\"colorbar\": {\"outlinewidth\": 0, \"ticks\": \"\"}}, \"type\": \"histogram\"}], \"histogram2d\": [{\"colorbar\": {\"outlinewidth\": 0, \"ticks\": \"\"}, \"colorscale\": [[0.0, \"#0d0887\"], [0.1111111111111111, \"#46039f\"], [0.2222222222222222, \"#7201a8\"], [0.3333333333333333, \"#9c179e\"], [0.4444444444444444, \"#bd3786\"], [0.5555555555555556, \"#d8576b\"], [0.6666666666666666, \"#ed7953\"], [0.7777777777777778, \"#fb9f3a\"], [0.8888888888888888, \"#fdca26\"], [1.0, \"#f0f921\"]], \"type\": \"histogram2d\"}], \"histogram2dcontour\": [{\"colorbar\": {\"outlinewidth\": 0, \"ticks\": \"\"}, \"colorscale\": [[0.0, \"#0d0887\"], [0.1111111111111111, \"#46039f\"], [0.2222222222222222, \"#7201a8\"], [0.3333333333333333, \"#9c179e\"], [0.4444444444444444, \"#bd3786\"], [0.5555555555555556, \"#d8576b\"], [0.6666666666666666, \"#ed7953\"], [0.7777777777777778, \"#fb9f3a\"], [0.8888888888888888, \"#fdca26\"], [1.0, \"#f0f921\"]], \"type\": \"histogram2dcontour\"}], \"mesh3d\": [{\"colorbar\": {\"outlinewidth\": 0, \"ticks\": \"\"}, \"type\": \"mesh3d\"}], \"parcoords\": [{\"line\": {\"colorbar\": {\"outlinewidth\": 0, \"ticks\": \"\"}}, \"type\": \"parcoords\"}], \"pie\": [{\"automargin\": true, \"type\": \"pie\"}], \"scatter\": [{\"marker\": {\"colorbar\": {\"outlinewidth\": 0, \"ticks\": \"\"}}, \"type\": \"scatter\"}], \"scatter3d\": [{\"line\": {\"colorbar\": {\"outlinewidth\": 0, \"ticks\": \"\"}}, \"marker\": {\"colorbar\": {\"outlinewidth\": 0, \"ticks\": \"\"}}, \"type\": \"scatter3d\"}], \"scattercarpet\": [{\"marker\": {\"colorbar\": {\"outlinewidth\": 0, \"ticks\": \"\"}}, \"type\": \"scattercarpet\"}], \"scattergeo\": [{\"marker\": {\"colorbar\": {\"outlinewidth\": 0, \"ticks\": \"\"}}, \"type\": \"scattergeo\"}], \"scattergl\": [{\"marker\": {\"colorbar\": {\"outlinewidth\": 0, \"ticks\": \"\"}}, \"type\": \"scattergl\"}], \"scattermapbox\": [{\"marker\": {\"colorbar\": {\"outlinewidth\": 0, \"ticks\": \"\"}}, \"type\": \"scattermapbox\"}], \"scatterpolar\": [{\"marker\": {\"colorbar\": {\"outlinewidth\": 0, \"ticks\": \"\"}}, \"type\": \"scatterpolar\"}], \"scatterpolargl\": [{\"marker\": {\"colorbar\": {\"outlinewidth\": 0, \"ticks\": \"\"}}, \"type\": \"scatterpolargl\"}], \"scatterternary\": [{\"marker\": {\"colorbar\": {\"outlinewidth\": 0, \"ticks\": \"\"}}, \"type\": \"scatterternary\"}], \"surface\": [{\"colorbar\": {\"outlinewidth\": 0, \"ticks\": \"\"}, \"colorscale\": [[0.0, \"#0d0887\"], [0.1111111111111111, \"#46039f\"], [0.2222222222222222, \"#7201a8\"], [0.3333333333333333, \"#9c179e\"], [0.4444444444444444, \"#bd3786\"], [0.5555555555555556, \"#d8576b\"], [0.6666666666666666, \"#ed7953\"], [0.7777777777777778, \"#fb9f3a\"], [0.8888888888888888, \"#fdca26\"], [1.0, \"#f0f921\"]], \"type\": \"surface\"}], \"table\": [{\"cells\": {\"fill\": {\"color\": \"#EBF0F8\"}, \"line\": {\"color\": \"white\"}}, \"header\": {\"fill\": {\"color\": \"#C8D4E3\"}, \"line\": {\"color\": \"white\"}}, \"type\": \"table\"}]}, \"layout\": {\"annotationdefaults\": {\"arrowcolor\": \"#2a3f5f\", \"arrowhead\": 0, \"arrowwidth\": 1}, \"coloraxis\": {\"colorbar\": {\"outlinewidth\": 0, \"ticks\": \"\"}}, \"colorscale\": {\"diverging\": [[0, \"#8e0152\"], [0.1, \"#c51b7d\"], [0.2, \"#de77ae\"], [0.3, \"#f1b6da\"], [0.4, \"#fde0ef\"], [0.5, \"#f7f7f7\"], [0.6, \"#e6f5d0\"], [0.7, \"#b8e186\"], [0.8, \"#7fbc41\"], [0.9, \"#4d9221\"], [1, \"#276419\"]], \"sequential\": [[0.0, \"#0d0887\"], [0.1111111111111111, \"#46039f\"], [0.2222222222222222, \"#7201a8\"], [0.3333333333333333, \"#9c179e\"], [0.4444444444444444, \"#bd3786\"], [0.5555555555555556, \"#d8576b\"], [0.6666666666666666, \"#ed7953\"], [0.7777777777777778, \"#fb9f3a\"], [0.8888888888888888, \"#fdca26\"], [1.0, \"#f0f921\"]], \"sequentialminus\": [[0.0, \"#0d0887\"], [0.1111111111111111, \"#46039f\"], [0.2222222222222222, \"#7201a8\"], [0.3333333333333333, \"#9c179e\"], [0.4444444444444444, \"#bd3786\"], [0.5555555555555556, \"#d8576b\"], [0.6666666666666666, \"#ed7953\"], [0.7777777777777778, \"#fb9f3a\"], [0.8888888888888888, \"#fdca26\"], [1.0, \"#f0f921\"]]}, \"colorway\": [\"#636efa\", \"#EF553B\", \"#00cc96\", \"#ab63fa\", \"#FFA15A\", \"#19d3f3\", \"#FF6692\", \"#B6E880\", \"#FF97FF\", \"#FECB52\"], \"font\": {\"color\": \"#2a3f5f\"}, \"geo\": {\"bgcolor\": \"white\", \"lakecolor\": \"white\", \"landcolor\": \"#E5ECF6\", \"showlakes\": true, \"showland\": true, \"subunitcolor\": \"white\"}, \"hoverlabel\": {\"align\": \"left\"}, \"hovermode\": \"closest\", \"mapbox\": {\"style\": \"light\"}, \"paper_bgcolor\": \"white\", \"plot_bgcolor\": \"#E5ECF6\", \"polar\": {\"angularaxis\": {\"gridcolor\": \"white\", \"linecolor\": \"white\", \"ticks\": \"\"}, \"bgcolor\": \"#E5ECF6\", \"radialaxis\": {\"gridcolor\": \"white\", \"linecolor\": \"white\", \"ticks\": \"\"}}, \"scene\": {\"xaxis\": {\"backgroundcolor\": \"#E5ECF6\", \"gridcolor\": \"white\", \"gridwidth\": 2, \"linecolor\": \"white\", \"showbackground\": true, \"ticks\": \"\", \"zerolinecolor\": \"white\"}, \"yaxis\": {\"backgroundcolor\": \"#E5ECF6\", \"gridcolor\": \"white\", \"gridwidth\": 2, \"linecolor\": \"white\", \"showbackground\": true, \"ticks\": \"\", \"zerolinecolor\": \"white\"}, \"zaxis\": {\"backgroundcolor\": \"#E5ECF6\", \"gridcolor\": \"white\", \"gridwidth\": 2, \"linecolor\": \"white\", \"showbackground\": true, \"ticks\": \"\", \"zerolinecolor\": \"white\"}}, \"shapedefaults\": {\"line\": {\"color\": \"#2a3f5f\"}}, \"ternary\": {\"aaxis\": {\"gridcolor\": \"white\", \"linecolor\": \"white\", \"ticks\": \"\"}, \"baxis\": {\"gridcolor\": \"white\", \"linecolor\": \"white\", \"ticks\": \"\"}, \"bgcolor\": \"#E5ECF6\", \"caxis\": {\"gridcolor\": \"white\", \"linecolor\": \"white\", \"ticks\": \"\"}}, \"title\": {\"x\": 0.05}, \"xaxis\": {\"automargin\": true, \"gridcolor\": \"white\", \"linecolor\": \"white\", \"ticks\": \"\", \"title\": {\"standoff\": 15}, \"zerolinecolor\": \"white\", \"zerolinewidth\": 2}, \"yaxis\": {\"automargin\": true, \"gridcolor\": \"white\", \"linecolor\": \"white\", \"ticks\": \"\", \"title\": {\"standoff\": 15}, \"zerolinecolor\": \"white\", \"zerolinewidth\": 2}}}, \"xaxis\": {\"anchor\": \"y\", \"categoryarray\": [\"Negative\", \"Positive\"], \"categoryorder\": \"array\", \"domain\": [0.0, 1.0], \"title\": {\"text\": \"Analysis\"}}, \"yaxis\": {\"anchor\": \"x\", \"domain\": [0.0, 1.0], \"title\": {\"text\": \"tweets\"}}},\n",
              "                        {\"responsive\": true}\n",
              "                    ).then(function(){\n",
              "                            \n",
              "var gd = document.getElementById('b1fdd82b-d133-4bfc-ba0c-f0a4854c18d9');\n",
              "var x = new MutationObserver(function (mutations, observer) {{\n",
              "        var display = window.getComputedStyle(gd).display;\n",
              "        if (!display || display === 'none') {{\n",
              "            console.log([gd, 'removed!']);\n",
              "            Plotly.purge(gd);\n",
              "            observer.disconnect();\n",
              "        }}\n",
              "}});\n",
              "\n",
              "// Listen for the removal of the full notebook cells\n",
              "var notebookContainer = gd.closest('#notebook-container');\n",
              "if (notebookContainer) {{\n",
              "    x.observe(notebookContainer, {childList: true});\n",
              "}}\n",
              "\n",
              "// Listen for the clearing of the current output cell\n",
              "var outputEl = gd.closest('.output');\n",
              "if (outputEl) {{\n",
              "    x.observe(outputEl, {childList: true});\n",
              "}}\n",
              "\n",
              "                        })\n",
              "                };\n",
              "                \n",
              "            </script>\n",
              "        </div>\n",
              "</body>\n",
              "</html>"
            ]
          },
          "metadata": {
            "tags": []
          }
        },
        {
          "output_type": "display_data",
          "data": {
            "image/png": "[encoded data removed]",
            "text/plain": [
              "<Figure size 432x288 with 1 Axes>"
            ]
          },
          "metadata": {
            "tags": [],
            "needs_background": "light"
          }
        }
      ]
    },
    {
      "cell_type": "code",
      "metadata": {
        "colab": {
          "base_uri": "https://localhost:8080/",
          "height": 542
        },
        "id": "SNto320p9CYN",
        "outputId": "d560cc3e-c1c2-4c81-a6a3-45c898098650"
      },
      "source": [
        "# Convert dates\n",
        "df3['date'] = pd.to_datetime(df3['date'], errors='coerce').dt.date\n",
        "\n",
        "# Get counts of number of tweets by sentiment for each date\n",
        "timeline = df3.groupby(['date', 'Analysis']).agg(**{'tweets': ('id', 'count')}).reset_index().dropna()\n",
        "\n",
        "fig = px.line(timeline, x='date', y='tweets', color='Analysis', color_discrete_sequence=[\"#EF553B\", \"#636EFA\"], category_orders={'sentiment': ['negative', 'positive']},\n",
        "             title='Timeline showing sentiment of tweets about COVID-19 vaccines')\n",
        "fig.show()"
      ],
      "execution_count": null,
      "outputs": [
        {
          "output_type": "display_data",
          "data": {
            "text/html": [
              "<html>\n",
              "<head><meta charset=\"utf-8\" /></head>\n",
              "<body>\n",
              "    <div>\n",
              "            <script src=\"https://cdnjs.cloudflare.com/ajax/libs/mathjax/2.7.5/MathJax.js?config=TeX-AMS-MML_SVG\"></script><script type=\"text/javascript\">if (window.MathJax) {MathJax.Hub.Config({SVG: {font: \"STIX-Web\"}});}</script>\n",
              "                <script type=\"text/javascript\">window.PlotlyConfig = {MathJaxConfig: 'local'};</script>\n",
              "        <script src=\"https://cdn.plot.ly/plotly-latest.min.js\"></script>    \n",
              "            <div id=\"bb8a2365-fade-4998-9671-619598d13573\" class=\"plotly-graph-div\" style=\"height:525px; width:100%;\"></div>\n",
              "            <script type=\"text/javascript\">\n",
              "                \n",
              "                    window.PLOTLYENV=window.PLOTLYENV || {};\n",
              "                    \n",
              "                if (document.getElementById(\"bb8a2365-fade-4998-9671-619598d13573\")) {\n",
              "                    Plotly.newPlot(\n",
              "                        'bb8a2365-fade-4998-9671-619598d13573',\n",
              "                        [{\"hoverlabel\": {\"namelength\": 0}, \"hovertemplate\": \"Analysis=Negative<br>date=%{x}<br>tweets=%{y}\", \"legendgroup\": \"Analysis=Negative\", \"line\": {\"color\": \"#EF553B\", \"dash\": \"solid\"}, \"mode\": \"lines\", \"name\": \"Analysis=Negative\", \"showlegend\": true, \"type\": \"scatter\", \"x\": [\"2020-12-12\", \"2020-12-13\", \"2020-12-14\", \"2020-12-15\", \"2020-12-16\", \"2020-12-17\", \"2020-12-18\", \"2020-12-19\", \"2020-12-20\", \"2020-12-21\", \"2020-12-22\", \"2020-12-23\", \"2020-12-24\", \"2020-12-25\", \"2020-12-26\", \"2020-12-27\", \"2020-12-28\", \"2020-12-29\", \"2020-12-30\", \"2020-12-31\", \"2021-01-01\", \"2021-01-02\", \"2021-01-03\", \"2021-01-04\", \"2021-01-05\", \"2021-01-06\", \"2021-01-07\", \"2021-01-08\", \"2021-01-09\", \"2021-01-10\", \"2021-01-11\", \"2021-01-12\", \"2021-01-13\", \"2021-01-14\", \"2021-01-15\", \"2021-01-16\", \"2021-01-17\", \"2021-01-18\", \"2021-01-19\", \"2021-01-20\", \"2021-01-21\", \"2021-01-22\", \"2021-01-23\", \"2021-01-24\", \"2021-01-25\", \"2021-01-26\", \"2021-01-27\", \"2021-01-28\", \"2021-01-29\", \"2021-01-30\", \"2021-01-31\", \"2021-02-01\", \"2021-02-02\", \"2021-02-03\", \"2021-02-04\", \"2021-02-05\", \"2021-02-06\", \"2021-02-07\", \"2021-02-08\", \"2021-02-09\", \"2021-02-10\", \"2021-02-11\", \"2021-02-12\", \"2021-02-13\", \"2021-02-14\", \"2021-02-15\", \"2021-02-16\", \"2021-02-17\", \"2021-02-18\", \"2021-02-19\", \"2021-02-20\", \"2021-02-21\", \"2021-02-22\", \"2021-02-23\", \"2021-02-24\", \"2021-02-25\", \"2021-02-26\", \"2021-02-27\", \"2021-02-28\", \"2021-03-01\", \"2021-03-02\", \"2021-03-03\", \"2021-03-04\", \"2021-03-05\", \"2021-03-06\", \"2021-03-07\", \"2021-03-08\", \"2021-03-09\", \"2021-03-10\", \"2021-03-11\", \"2021-03-12\", \"2021-03-13\", \"2021-03-14\", \"2021-03-15\", \"2021-03-16\", \"2021-03-17\", \"2021-03-18\", \"2021-03-19\", \"2021-03-20\", \"2021-03-21\", \"2021-03-22\", \"2021-03-23\", \"2021-03-24\", \"2021-03-25\", \"2021-03-26\", \"2021-03-27\", \"2021-03-28\", \"2021-03-29\", \"2021-03-30\", \"2021-03-31\", \"2021-04-01\", \"2021-04-02\", \"2021-04-03\", \"2021-04-04\", \"2021-04-05\", \"2021-04-06\", \"2021-04-07\", \"2021-04-08\", \"2021-04-09\", \"2021-04-10\", \"2021-04-11\", \"2021-04-12\", \"2021-04-13\", \"2021-04-14\", \"2021-04-15\", \"2021-04-16\", \"2021-04-17\", \"2021-04-18\", \"2021-04-19\", \"2021-04-20\", \"2021-04-21\", \"2021-04-22\"], \"xaxis\": \"x\", \"y\": [27, 40, 45, 46, 55, 49, 48, 34, 29, 36, 50, 38, 40, 10, 15, 16, 19, 35, 35, 26, 51, 39, 24, 35, 44, 43, 32, 93, 67, 53, 35, 37, 50, 45, 68, 62, 54, 31, 36, 46, 61, 26, 32, 21, 34, 42, 35, 33, 36, 32, 12, 8, 16, 14, 27, 39, 10, 124, 201, 179, 186, 171, 177, 171, 94, 138, 178, 180, 234, 208, 184, 115, 190, 169, 236, 214, 268, 177, 216, 997, 305, 452, 351, 333, 200, 146, 202, 266, 275, 355, 379, 202, 183, 375, 579, 369, 379, 407, 387, 277, 346, 295, 341, 295, 225, 241, 182, 301, 406, 457, 388, 315, 312, 199, 201, 302, 690, 852, 508, 407, 378, 943, 829, 619, 652, 577, 453, 333, 426, 360, 1014, 389], \"yaxis\": \"y\"}, {\"hoverlabel\": {\"namelength\": 0}, \"hovertemplate\": \"Analysis=Positive<br>date=%{x}<br>tweets=%{y}\", \"legendgroup\": \"Analysis=Positive\", \"line\": {\"color\": \"#636EFA\", \"dash\": \"solid\"}, \"mode\": \"lines\", \"name\": \"Analysis=Positive\", \"showlegend\": true, \"type\": \"scatter\", \"x\": [\"2020-12-12\", \"2020-12-13\", \"2020-12-14\", \"2020-12-15\", \"2020-12-16\", \"2020-12-17\", \"2020-12-18\", \"2020-12-19\", \"2020-12-20\", \"2020-12-21\", \"2020-12-22\", \"2020-12-23\", \"2020-12-24\", \"2020-12-25\", \"2020-12-26\", \"2020-12-27\", \"2020-12-28\", \"2020-12-29\", \"2020-12-30\", \"2020-12-31\", \"2021-01-01\", \"2021-01-02\", \"2021-01-03\", \"2021-01-04\", \"2021-01-05\", \"2021-01-06\", \"2021-01-07\", \"2021-01-08\", \"2021-01-09\", \"2021-01-10\", \"2021-01-11\", \"2021-01-12\", \"2021-01-13\", \"2021-01-14\", \"2021-01-15\", \"2021-01-16\", \"2021-01-17\", \"2021-01-18\", \"2021-01-19\", \"2021-01-20\", \"2021-01-21\", \"2021-01-22\", \"2021-01-23\", \"2021-01-24\", \"2021-01-25\", \"2021-01-26\", \"2021-01-27\", \"2021-01-28\", \"2021-01-29\", \"2021-01-30\", \"2021-01-31\", \"2021-02-01\", \"2021-02-02\", \"2021-02-03\", \"2021-02-04\", \"2021-02-05\", \"2021-02-06\", \"2021-02-07\", \"2021-02-08\", \"2021-02-09\", \"2021-02-10\", \"2021-02-11\", \"2021-02-12\", \"2021-02-13\", \"2021-02-14\", \"2021-02-15\", \"2021-02-16\", \"2021-02-17\", \"2021-02-18\", \"2021-02-19\", \"2021-02-20\", \"2021-02-21\", \"2021-02-22\", \"2021-02-23\", \"2021-02-24\", \"2021-02-25\", \"2021-02-26\", \"2021-02-27\", \"2021-02-28\", \"2021-03-01\", \"2021-03-02\", \"2021-03-03\", \"2021-03-04\", \"2021-03-05\", \"2021-03-06\", \"2021-03-07\", \"2021-03-08\", \"2021-03-09\", \"2021-03-10\", \"2021-03-11\", \"2021-03-12\", \"2021-03-13\", \"2021-03-14\", \"2021-03-15\", \"2021-03-16\", \"2021-03-17\", \"2021-03-18\", \"2021-03-19\", \"2021-03-20\", \"2021-03-21\", \"2021-03-22\", \"2021-03-23\", \"2021-03-24\", \"2021-03-25\", \"2021-03-26\", \"2021-03-27\", \"2021-03-28\", \"2021-03-29\", \"2021-03-30\", \"2021-03-31\", \"2021-04-01\", \"2021-04-02\", \"2021-04-03\", \"2021-04-04\", \"2021-04-05\", \"2021-04-06\", \"2021-04-07\", \"2021-04-08\", \"2021-04-09\", \"2021-04-10\", \"2021-04-11\", \"2021-04-12\", \"2021-04-13\", \"2021-04-14\", \"2021-04-15\", \"2021-04-16\", \"2021-04-17\", \"2021-04-18\", \"2021-04-19\", \"2021-04-20\", \"2021-04-21\", \"2021-04-22\"], \"xaxis\": \"x\", \"y\": [36, 58, 92, 104, 89, 90, 64, 76, 39, 66, 107, 85, 74, 30, 32, 43, 34, 50, 72, 46, 44, 44, 32, 37, 67, 69, 44, 117, 103, 65, 58, 69, 61, 61, 80, 67, 45, 35, 64, 58, 84, 39, 33, 32, 43, 49, 54, 47, 60, 41, 18, 23, 37, 23, 42, 31, 29, 215, 310, 280, 318, 277, 320, 220, 165, 205, 243, 319, 328, 309, 209, 154, 290, 237, 422, 408, 409, 285, 292, 1914, 554, 896, 664, 484, 357, 241, 344, 442, 485, 556, 474, 335, 264, 583, 836, 612, 590, 565, 608, 343, 573, 508, 533, 428, 404, 315, 266, 472, 608, 802, 560, 395, 497, 282, 403, 543, 907, 1128, 725, 578, 504, 1106, 1088, 848, 798, 867, 588, 438, 660, 695, 1409, 451], \"yaxis\": \"y\"}],\n",
              "                        {\"legend\": {\"tracegroupgap\": 0}, \"template\": {\"data\": {\"bar\": [{\"error_x\": {\"color\": \"#2a3f5f\"}, \"error_y\": {\"color\": \"#2a3f5f\"}, \"marker\": {\"line\": {\"color\": \"#E5ECF6\", \"width\": 0.5}}, \"type\": \"bar\"}], \"barpolar\": [{\"marker\": {\"line\": {\"color\": \"#E5ECF6\", \"width\": 0.5}}, \"type\": \"barpolar\"}], \"carpet\": [{\"aaxis\": {\"endlinecolor\": \"#2a3f5f\", \"gridcolor\": \"white\", \"linecolor\": \"white\", \"minorgridcolor\": \"white\", \"startlinecolor\": \"#2a3f5f\"}, \"baxis\": {\"endlinecolor\": \"#2a3f5f\", \"gridcolor\": \"white\", \"linecolor\": \"white\", \"minorgridcolor\": \"white\", \"startlinecolor\": \"#2a3f5f\"}, \"type\": \"carpet\"}], \"choropleth\": [{\"colorbar\": {\"outlinewidth\": 0, \"ticks\": \"\"}, \"type\": \"choropleth\"}], \"contour\": [{\"colorbar\": {\"outlinewidth\": 0, \"ticks\": \"\"}, \"colorscale\": [[0.0, \"#0d0887\"], [0.1111111111111111, \"#46039f\"], [0.2222222222222222, \"#7201a8\"], [0.3333333333333333, \"#9c179e\"], [0.4444444444444444, \"#bd3786\"], [0.5555555555555556, \"#d8576b\"], [0.6666666666666666, \"#ed7953\"], [0.7777777777777778, \"#fb9f3a\"], [0.8888888888888888, \"#fdca26\"], [1.0, \"#f0f921\"]], \"type\": \"contour\"}], \"contourcarpet\": [{\"colorbar\": {\"outlinewidth\": 0, \"ticks\": \"\"}, \"type\": \"contourcarpet\"}], \"heatmap\": [{\"colorbar\": {\"outlinewidth\": 0, \"ticks\": \"\"}, \"colorscale\": [[0.0, \"#0d0887\"], [0.1111111111111111, \"#46039f\"], [0.2222222222222222, \"#7201a8\"], [0.3333333333333333, \"#9c179e\"], [0.4444444444444444, \"#bd3786\"], [0.5555555555555556, \"#d8576b\"], [0.6666666666666666, \"#ed7953\"], [0.7777777777777778, \"#fb9f3a\"], [0.8888888888888888, \"#fdca26\"], [1.0, \"#f0f921\"]], \"type\": \"heatmap\"}], \"heatmapgl\": [{\"colorbar\": {\"outlinewidth\": 0, \"ticks\": \"\"}, \"colorscale\": [[0.0, \"#0d0887\"], [0.1111111111111111, \"#46039f\"], [0.2222222222222222, \"#7201a8\"], [0.3333333333333333, \"#9c179e\"], [0.4444444444444444, \"#bd3786\"], [0.5555555555555556, \"#d8576b\"], [0.6666666666666666, \"#ed7953\"], [0.7777777777777778, \"#fb9f3a\"], [0.8888888888888888, \"#fdca26\"], [1.0, \"#f0f921\"]], \"type\": \"heatmapgl\"}], \"histogram\": [{\"marker\": {\"colorbar\": {\"outlinewidth\": 0, \"ticks\": \"\"}}, \"type\": \"histogram\"}], \"histogram2d\": [{\"colorbar\": {\"outlinewidth\": 0, \"ticks\": \"\"}, \"colorscale\": [[0.0, \"#0d0887\"], [0.1111111111111111, \"#46039f\"], [0.2222222222222222, \"#7201a8\"], [0.3333333333333333, \"#9c179e\"], [0.4444444444444444, \"#bd3786\"], [0.5555555555555556, \"#d8576b\"], [0.6666666666666666, \"#ed7953\"], [0.7777777777777778, \"#fb9f3a\"], [0.8888888888888888, \"#fdca26\"], [1.0, \"#f0f921\"]], \"type\": \"histogram2d\"}], \"histogram2dcontour\": [{\"colorbar\": {\"outlinewidth\": 0, \"ticks\": \"\"}, \"colorscale\": [[0.0, \"#0d0887\"], [0.1111111111111111, \"#46039f\"], [0.2222222222222222, \"#7201a8\"], [0.3333333333333333, \"#9c179e\"], [0.4444444444444444, \"#bd3786\"], [0.5555555555555556, \"#d8576b\"], [0.6666666666666666, \"#ed7953\"], [0.7777777777777778, \"#fb9f3a\"], [0.8888888888888888, \"#fdca26\"], [1.0, \"#f0f921\"]], \"type\": \"histogram2dcontour\"}], \"mesh3d\": [{\"colorbar\": {\"outlinewidth\": 0, \"ticks\": \"\"}, \"type\": \"mesh3d\"}], \"parcoords\": [{\"line\": {\"colorbar\": {\"outlinewidth\": 0, \"ticks\": \"\"}}, \"type\": \"parcoords\"}], \"pie\": [{\"automargin\": true, \"type\": \"pie\"}], \"scatter\": [{\"marker\": {\"colorbar\": {\"outlinewidth\": 0, \"ticks\": \"\"}}, \"type\": \"scatter\"}], \"scatter3d\": [{\"line\": {\"colorbar\": {\"outlinewidth\": 0, \"ticks\": \"\"}}, \"marker\": {\"colorbar\": {\"outlinewidth\": 0, \"ticks\": \"\"}}, \"type\": \"scatter3d\"}], \"scattercarpet\": [{\"marker\": {\"colorbar\": {\"outlinewidth\": 0, \"ticks\": \"\"}}, \"type\": \"scattercarpet\"}], \"scattergeo\": [{\"marker\": {\"colorbar\": {\"outlinewidth\": 0, \"ticks\": \"\"}}, \"type\": \"scattergeo\"}], \"scattergl\": [{\"marker\": {\"colorbar\": {\"outlinewidth\": 0, \"ticks\": \"\"}}, \"type\": \"scattergl\"}], \"scattermapbox\": [{\"marker\": {\"colorbar\": {\"outlinewidth\": 0, \"ticks\": \"\"}}, \"type\": \"scattermapbox\"}], \"scatterpolar\": [{\"marker\": {\"colorbar\": {\"outlinewidth\": 0, \"ticks\": \"\"}}, \"type\": \"scatterpolar\"}], \"scatterpolargl\": [{\"marker\": {\"colorbar\": {\"outlinewidth\": 0, \"ticks\": \"\"}}, \"type\": \"scatterpolargl\"}], \"scatterternary\": [{\"marker\": {\"colorbar\": {\"outlinewidth\": 0, \"ticks\": \"\"}}, \"type\": \"scatterternary\"}], \"surface\": [{\"colorbar\": {\"outlinewidth\": 0, \"ticks\": \"\"}, \"colorscale\": [[0.0, \"#0d0887\"], [0.1111111111111111, \"#46039f\"], [0.2222222222222222, \"#7201a8\"], [0.3333333333333333, \"#9c179e\"], [0.4444444444444444, \"#bd3786\"], [0.5555555555555556, \"#d8576b\"], [0.6666666666666666, \"#ed7953\"], [0.7777777777777778, \"#fb9f3a\"], [0.8888888888888888, \"#fdca26\"], [1.0, \"#f0f921\"]], \"type\": \"surface\"}], \"table\": [{\"cells\": {\"fill\": {\"color\": \"#EBF0F8\"}, \"line\": {\"color\": \"white\"}}, \"header\": {\"fill\": {\"color\": \"#C8D4E3\"}, \"line\": {\"color\": \"white\"}}, \"type\": \"table\"}]}, \"layout\": {\"annotationdefaults\": {\"arrowcolor\": \"#2a3f5f\", \"arrowhead\": 0, \"arrowwidth\": 1}, \"coloraxis\": {\"colorbar\": {\"outlinewidth\": 0, \"ticks\": \"\"}}, \"colorscale\": {\"diverging\": [[0, \"#8e0152\"], [0.1, \"#c51b7d\"], [0.2, \"#de77ae\"], [0.3, \"#f1b6da\"], [0.4, \"#fde0ef\"], [0.5, \"#f7f7f7\"], [0.6, \"#e6f5d0\"], [0.7, \"#b8e186\"], [0.8, \"#7fbc41\"], [0.9, \"#4d9221\"], [1, \"#276419\"]], \"sequential\": [[0.0, \"#0d0887\"], [0.1111111111111111, \"#46039f\"], [0.2222222222222222, \"#7201a8\"], [0.3333333333333333, \"#9c179e\"], [0.4444444444444444, \"#bd3786\"], [0.5555555555555556, \"#d8576b\"], [0.6666666666666666, \"#ed7953\"], [0.7777777777777778, \"#fb9f3a\"], [0.8888888888888888, \"#fdca26\"], [1.0, \"#f0f921\"]], \"sequentialminus\": [[0.0, \"#0d0887\"], [0.1111111111111111, \"#46039f\"], [0.2222222222222222, \"#7201a8\"], [0.3333333333333333, \"#9c179e\"], [0.4444444444444444, \"#bd3786\"], [0.5555555555555556, \"#d8576b\"], [0.6666666666666666, \"#ed7953\"], [0.7777777777777778, \"#fb9f3a\"], [0.8888888888888888, \"#fdca26\"], [1.0, \"#f0f921\"]]}, \"colorway\": [\"#636efa\", \"#EF553B\", \"#00cc96\", \"#ab63fa\", \"#FFA15A\", \"#19d3f3\", \"#FF6692\", \"#B6E880\", \"#FF97FF\", \"#FECB52\"], \"font\": {\"color\": \"#2a3f5f\"}, \"geo\": {\"bgcolor\": \"white\", \"lakecolor\": \"white\", \"landcolor\": \"#E5ECF6\", \"showlakes\": true, \"showland\": true, \"subunitcolor\": \"white\"}, \"hoverlabel\": {\"align\": \"left\"}, \"hovermode\": \"closest\", \"mapbox\": {\"style\": \"light\"}, \"paper_bgcolor\": \"white\", \"plot_bgcolor\": \"#E5ECF6\", \"polar\": {\"angularaxis\": {\"gridcolor\": \"white\", \"linecolor\": \"white\", \"ticks\": \"\"}, \"bgcolor\": \"#E5ECF6\", \"radialaxis\": {\"gridcolor\": \"white\", \"linecolor\": \"white\", \"ticks\": \"\"}}, \"scene\": {\"xaxis\": {\"backgroundcolor\": \"#E5ECF6\", \"gridcolor\": \"white\", \"gridwidth\": 2, \"linecolor\": \"white\", \"showbackground\": true, \"ticks\": \"\", \"zerolinecolor\": \"white\"}, \"yaxis\": {\"backgroundcolor\": \"#E5ECF6\", \"gridcolor\": \"white\", \"gridwidth\": 2, \"linecolor\": \"white\", \"showbackground\": true, \"ticks\": \"\", \"zerolinecolor\": \"white\"}, \"zaxis\": {\"backgroundcolor\": \"#E5ECF6\", \"gridcolor\": \"white\", \"gridwidth\": 2, \"linecolor\": \"white\", \"showbackground\": true, \"ticks\": \"\", \"zerolinecolor\": \"white\"}}, \"shapedefaults\": {\"line\": {\"color\": \"#2a3f5f\"}}, \"ternary\": {\"aaxis\": {\"gridcolor\": \"white\", \"linecolor\": \"white\", \"ticks\": \"\"}, \"baxis\": {\"gridcolor\": \"white\", \"linecolor\": \"white\", \"ticks\": \"\"}, \"bgcolor\": \"#E5ECF6\", \"caxis\": {\"gridcolor\": \"white\", \"linecolor\": \"white\", \"ticks\": \"\"}}, \"title\": {\"x\": 0.05}, \"xaxis\": {\"automargin\": true, \"gridcolor\": \"white\", \"linecolor\": \"white\", \"ticks\": \"\", \"title\": {\"standoff\": 15}, \"zerolinecolor\": \"white\", \"zerolinewidth\": 2}, \"yaxis\": {\"automargin\": true, \"gridcolor\": \"white\", \"linecolor\": \"white\", \"ticks\": \"\", \"title\": {\"standoff\": 15}, \"zerolinecolor\": \"white\", \"zerolinewidth\": 2}}}, \"title\": {\"text\": \"Timeline showing sentiment of tweets about COVID-19 vaccines\"}, \"xaxis\": {\"anchor\": \"y\", \"domain\": [0.0, 1.0], \"title\": {\"text\": \"date\"}}, \"yaxis\": {\"anchor\": \"x\", \"domain\": [0.0, 1.0], \"title\": {\"text\": \"tweets\"}}},\n",
              "                        {\"responsive\": true}\n",
              "                    ).then(function(){\n",
              "                            \n",
              "var gd = document.getElementById('bb8a2365-fade-4998-9671-619598d13573');\n",
              "var x = new MutationObserver(function (mutations, observer) {{\n",
              "        var display = window.getComputedStyle(gd).display;\n",
              "        if (!display || display === 'none') {{\n",
              "            console.log([gd, 'removed!']);\n",
              "            Plotly.purge(gd);\n",
              "            observer.disconnect();\n",
              "        }}\n",
              "}});\n",
              "\n",
              "// Listen for the removal of the full notebook cells\n",
              "var notebookContainer = gd.closest('#notebook-container');\n",
              "if (notebookContainer) {{\n",
              "    x.observe(notebookContainer, {childList: true});\n",
              "}}\n",
              "\n",
              "// Listen for the clearing of the current output cell\n",
              "var outputEl = gd.closest('.output');\n",
              "if (outputEl) {{\n",
              "    x.observe(outputEl, {childList: true});\n",
              "}}\n",
              "\n",
              "                        })\n",
              "                };\n",
              "                \n",
              "            </script>\n",
              "        </div>\n",
              "</body>\n",
              "</html>"
            ]
          },
          "metadata": {
            "tags": []
          }
        }
      ]
    },
    {
      "cell_type": "code",
      "metadata": {
        "id": "nuJadBbe9KvE"
      },
      "source": [
        "all_vax = ['covaxin', 'sinopharm', 'sinovac', 'moderna', 'pfizer', 'biontech', 'oxford', 'astrazeneca', 'sputnik']\n",
        "\n",
        "# Function to filter the data to a single vaccine and plot the timeline\n",
        "# Note: a lot of the tweets seem to contain hashtags for multiple vaccines even though they are specifically referring to one vaccine - not very helpful!\n",
        "def filtered_timeline(df, vax, title):\n",
        "    df = df.dropna()\n",
        "    title_str = 'Timeline showing sentiment of tweets about the '+title+' vaccine'\n",
        "    df_filt = pd.DataFrame()\n",
        "    for o in vax:\n",
        "        df_filt = df_filt.append(df[df['text'].str.lower().str.contains(o)])\n",
        "    other_vax = list(set(all_vax)-set(vax))\n",
        "    for o in other_vax:\n",
        "        df_filt = df_filt[~df_filt['text'].str.lower().str.contains(o)]\n",
        "    #df_filt = df_filt.drop_duplicates()\n",
        "    timeline = df_filt.groupby(['date', 'Analysis']).agg(**{'tweets': ('id', 'count')}).reset_index()\n",
        "    fig = px.line(timeline, x='date', y='tweets', color='Analysis',  color_discrete_sequence=[\"#636EFA\",\"#EF553B\" ], category_orders={'Analysis': ['negative', 'positive']},title=title_str)\n",
        "    fig.show()\n",
        "    return df_filt\n",
        "\n",
        "covaxin = filtered_timeline(df3, ['covaxin'], title='Covaxin')\n",
        "sinovac = filtered_timeline(df3, ['sinovac'], title='Sinovac')\n",
        "sinopharm = filtered_timeline(df3, ['sinopharm'], title='Sinopharm')\n",
        "moderna = filtered_timeline(df3, ['moderna'], title='Moderna')\n",
        "sputnikv = filtered_timeline(df3, ['sputnik'], title='Sputnik V')\n",
        "oxford = filtered_timeline(df3, ['oxford', 'astrazeneca'], title='Oxford/AstraZeneca')\n",
        "pfizer = filtered_timeline(df3, ['pfizer', 'biontech'], title='Pfizer/BioNTech')\n",
        "\n",
        "# Get z scores of sentiment for each vaccine\n",
        "vax_names = {'Covaxin': covaxin, 'Sputnik V': sputnikv, 'Sinovac': sinovac, 'Sinopharm': sinopharm,\n",
        "            'Moderna': moderna, 'Oxford/AstraZeneca': oxford, 'PfizerBioNTech': pfizer}\n",
        "sentiment_zscores = pd.DataFrame()\n",
        "for k, v in vax_names.items():\n",
        "    senti = v['Analysis'].value_counts(normalize=True)\n",
        "    senti['vaccine'] = k\n",
        "    sentiment_zscores = sentiment_zscores.append(senti)\n",
        "for col in ['Negative','Positive']:\n",
        "    sentiment_zscores[col+'_zscore'] = (sentiment_zscores[col] - sentiment_zscores[col].mean())/sentiment_zscores[col].std(ddof=0)\n",
        "sentiment_zscores.set_index('vaccine', inplace=True)\n",
        "\n",
        "# Plot the results\n",
        "ax = sentiment_zscores.sort_values('Negative_zscore')['Negative_zscore'].plot.barh(title='Z scores of negative sentiment')\n",
        "ax.set_ylabel('Vaccine')\n",
        "ax.set_xlabel('Z score');"
      ],
      "execution_count": null,
      "outputs": []
    },
    {
      "cell_type": "markdown",
      "metadata": {
        "id": "m3nYg29aWQ8M"
      },
      "source": [
        "# Event Detection\n"
      ]
    },
    {
      "cell_type": "code",
      "metadata": {
        "colab": {
          "base_uri": "https://localhost:8080/",
          "height": 191
        },
        "id": "IAVld6-3YNIl",
        "outputId": "9dfb1660-7d19-443b-d3b7-4242599753ad"
      },
      "source": [
        "#converting pandas object to a string type\n",
        "data['text'] = data['text'].astype('str')"
      ],
      "execution_count": null,
      "outputs": [
        {
          "output_type": "error",
          "ename": "NameError",
          "evalue": "ignored",
          "traceback": [
            "\u001b[0;31m---------------------------------------------------------------------------\u001b[0m",
            "\u001b[0;31mNameError\u001b[0m                                 Traceback (most recent call last)",
            "\u001b[0;32m<ipython-input-5-c88d94e8c675>\u001b[0m in \u001b[0;36m<module>\u001b[0;34m()\u001b[0m\n\u001b[1;32m      1\u001b[0m \u001b[0;31m#converting pandas object to a string type\u001b[0m\u001b[0;34m\u001b[0m\u001b[0;34m\u001b[0m\u001b[0;34m\u001b[0m\u001b[0m\n\u001b[0;32m----> 2\u001b[0;31m \u001b[0mdata\u001b[0m\u001b[0;34m[\u001b[0m\u001b[0;34m'text'\u001b[0m\u001b[0;34m]\u001b[0m \u001b[0;34m=\u001b[0m \u001b[0mdata\u001b[0m\u001b[0;34m[\u001b[0m\u001b[0;34m'text'\u001b[0m\u001b[0;34m]\u001b[0m\u001b[0;34m.\u001b[0m\u001b[0mastype\u001b[0m\u001b[0;34m(\u001b[0m\u001b[0;34m'str'\u001b[0m\u001b[0;34m)\u001b[0m\u001b[0;34m\u001b[0m\u001b[0;34m\u001b[0m\u001b[0m\n\u001b[0m",
            "\u001b[0;31mNameError\u001b[0m: name 'data' is not defined"
          ]
        }
      ]
    },
    {
      "cell_type": "code",
      "metadata": {
        "id": "xZs_rRRMWVeJ"
      },
      "source": [
        "Event_data = df3\n",
        "\n",
        "#converting pandas object to a string type\n",
        "Event_data['user_favourites'] = Event_data['user_favourites'].astype('int')\n",
        "Event_data['user_followers'] = Event_data['user_followers'].astype('int')\n",
        "Event_data['user_friends'] = Event_data['user_friends'].astype('int')\n",
        "\n",
        "Event_data = Event_data.loc[(Event_data['user_favourites'] > 10000) & (Event_data['user_followers'] > 10000)]"
      ],
      "execution_count": null,
      "outputs": []
    },
    {
      "cell_type": "code",
      "metadata": {
        "colab": {
          "base_uri": "https://localhost:8080/",
          "height": 913
        },
        "id": "e7FaIb5aYk_t",
        "outputId": "23fad123-5ae2-4a2f-e15f-f535c3d19c08"
      },
      "source": [
        "Event_data"
      ],
      "execution_count": null,
      "outputs": [
        {
          "output_type": "execute_result",
          "data": {
            "text/html": [
              "<div>\n",
              "<style scoped>\n",
              "    .dataframe tbody tr th:only-of-type {\n",
              "        vertical-align: middle;\n",
              "    }\n",
              "\n",
              "    .dataframe tbody tr th {\n",
              "        vertical-align: top;\n",
              "    }\n",
              "\n",
              "    .dataframe thead th {\n",
              "        text-align: right;\n",
              "    }\n",
              "</style>\n",
              "<table border=\"1\" class=\"dataframe\">\n",
              "  <thead>\n",
              "    <tr style=\"text-align: right;\">\n",
              "      <th></th>\n",
              "      <th>id</th>\n",
              "      <th>user_name</th>\n",
              "      <th>user_location</th>\n",
              "      <th>user_description</th>\n",
              "      <th>user_created</th>\n",
              "      <th>user_followers</th>\n",
              "      <th>user_friends</th>\n",
              "      <th>user_favourites</th>\n",
              "      <th>user_verified</th>\n",
              "      <th>date</th>\n",
              "      <th>text</th>\n",
              "      <th>hashtags</th>\n",
              "      <th>source</th>\n",
              "      <th>retweets</th>\n",
              "      <th>favorites</th>\n",
              "      <th>is_retweet</th>\n",
              "      <th>Clean_text</th>\n",
              "      <th>Tweet_tokenized</th>\n",
              "      <th>Tweet_nonstop</th>\n",
              "      <th>Tweet_lemma</th>\n",
              "      <th>Polarity</th>\n",
              "      <th>Analysis</th>\n",
              "    </tr>\n",
              "  </thead>\n",
              "  <tbody>\n",
              "    <tr>\n",
              "      <th>3</th>\n",
              "      <td>1337855739918835717</td>\n",
              "      <td>Charles Adler</td>\n",
              "      <td>Vancouver, BC - Canada</td>\n",
              "      <td>Hosting \"CharlesAdlerTonight\" Global News Radi...</td>\n",
              "      <td>2008-09-10 11:28:53</td>\n",
              "      <td>49165</td>\n",
              "      <td>3933</td>\n",
              "      <td>49165</td>\n",
              "      <td>True</td>\n",
              "      <td>2020-12-12 20:23:59</td>\n",
              "      <td>Facts are immutable, Senator, even when you're...</td>\n",
              "      <td>NaN</td>\n",
              "      <td>Twitter Web App</td>\n",
              "      <td>446</td>\n",
              "      <td>2129</td>\n",
              "      <td>False</td>\n",
              "      <td>facts are immutable senator even when youre no...</td>\n",
              "      <td>['facts', 'are', 'immutable', 'senator', 'even...</td>\n",
              "      <td>['facts', 'immutable', 'senator', 'even', 'you...</td>\n",
              "      <td>['fact', 'immutable', 'senator', 'even', 'your...</td>\n",
              "      <td>0.429918</td>\n",
              "      <td>Negative</td>\n",
              "    </tr>\n",
              "    <tr>\n",
              "      <th>7</th>\n",
              "      <td>1337850832256176136</td>\n",
              "      <td>Dr.Krutika Kuppalli</td>\n",
              "      <td>NaN</td>\n",
              "      <td>ID, Global Health, VHF, Pandemic Prep, Emergin...</td>\n",
              "      <td>2019-03-25 04:14:29</td>\n",
              "      <td>21924</td>\n",
              "      <td>593</td>\n",
              "      <td>21924</td>\n",
              "      <td>True</td>\n",
              "      <td>2020-12-12 20:04:29</td>\n",
              "      <td>There have not been many bright days in 2020 b...</td>\n",
              "      <td>['BidenHarris', 'Election2020']</td>\n",
              "      <td>Twitter for iPhone</td>\n",
              "      <td>2</td>\n",
              "      <td>22</td>\n",
              "      <td>False</td>\n",
              "      <td>there have not been many bright days in  but h...</td>\n",
              "      <td>['there', 'have', 'not', 'been', 'many', 'brig...</td>\n",
              "      <td>['not', 'many', 'bright', 'days', 'best', 'bid...</td>\n",
              "      <td>['not', 'many', 'bright', 'day', 'best', 'bide...</td>\n",
              "      <td>0.386054</td>\n",
              "      <td>Negative</td>\n",
              "    </tr>\n",
              "    <tr>\n",
              "      <th>12</th>\n",
              "      <td>1337815730486702087</td>\n",
              "      <td>WION</td>\n",
              "      <td>India</td>\n",
              "      <td>#WION: World Is One | Welcome to India’s first...</td>\n",
              "      <td>2016-03-21 03:44:54</td>\n",
              "      <td>292510</td>\n",
              "      <td>91</td>\n",
              "      <td>292510</td>\n",
              "      <td>True</td>\n",
              "      <td>2020-12-12 17:45:00</td>\n",
              "      <td>The agency also released new information for h...</td>\n",
              "      <td>NaN</td>\n",
              "      <td>TweetDeck</td>\n",
              "      <td>0</td>\n",
              "      <td>18</td>\n",
              "      <td>False</td>\n",
              "      <td>the agency also released new information for h...</td>\n",
              "      <td>['the', 'agency', 'also', 'released', 'new', '...</td>\n",
              "      <td>['agency', 'also', 'released', 'new', 'informa...</td>\n",
              "      <td>['agency', 'also', 'released', 'new', 'informa...</td>\n",
              "      <td>0.837633</td>\n",
              "      <td>Positive</td>\n",
              "    </tr>\n",
              "    <tr>\n",
              "      <th>13</th>\n",
              "      <td>1337809196453081088</td>\n",
              "      <td>Dr.Krutika Kuppalli</td>\n",
              "      <td>NaN</td>\n",
              "      <td>ID, Global Health, VHF, Pandemic Prep, Emergin...</td>\n",
              "      <td>2019-03-25 04:14:29</td>\n",
              "      <td>21924</td>\n",
              "      <td>593</td>\n",
              "      <td>21924</td>\n",
              "      <td>True</td>\n",
              "      <td>2020-12-12 17:19:02</td>\n",
              "      <td>For all the women and healthcare providers who...</td>\n",
              "      <td>['PfizerBioNTech']</td>\n",
              "      <td>Twitter for iPhone</td>\n",
              "      <td>48</td>\n",
              "      <td>82</td>\n",
              "      <td>False</td>\n",
              "      <td>for all the women and healthcare providers who...</td>\n",
              "      <td>['for', 'all', 'the', 'women', 'and', 'healthc...</td>\n",
              "      <td>['women', 'healthcare', 'providers', 'asking',...</td>\n",
              "      <td>['woman', 'healthcare', 'provider', 'asking', ...</td>\n",
              "      <td>0.763494</td>\n",
              "      <td>Positive</td>\n",
              "    </tr>\n",
              "    <tr>\n",
              "      <th>14</th>\n",
              "      <td>1337807109010780162</td>\n",
              "      <td>Opoyi</td>\n",
              "      <td>NaN</td>\n",
              "      <td>High-quality trusted conversations around news...</td>\n",
              "      <td>2019-01-13 18:33:22</td>\n",
              "      <td>10332</td>\n",
              "      <td>49</td>\n",
              "      <td>10332</td>\n",
              "      <td>False</td>\n",
              "      <td>2020-12-12 17:10:44</td>\n",
              "      <td>\"Expect 145 sites across all the states to rec...</td>\n",
              "      <td>NaN</td>\n",
              "      <td>TweetDeck</td>\n",
              "      <td>0</td>\n",
              "      <td>0</td>\n",
              "      <td>False</td>\n",
              "      <td>expect  sites across all the states to receive...</td>\n",
              "      <td>['expect', 'sites', 'across', 'all', 'the', 's...</td>\n",
              "      <td>['expect', 'sites', 'across', 'states', 'recei...</td>\n",
              "      <td>['expect', 'site', 'across', 'state', 'receive...</td>\n",
              "      <td>0.607818</td>\n",
              "      <td>Positive</td>\n",
              "    </tr>\n",
              "    <tr>\n",
              "      <th>...</th>\n",
              "      <td>...</td>\n",
              "      <td>...</td>\n",
              "      <td>...</td>\n",
              "      <td>...</td>\n",
              "      <td>...</td>\n",
              "      <td>...</td>\n",
              "      <td>...</td>\n",
              "      <td>...</td>\n",
              "      <td>...</td>\n",
              "      <td>...</td>\n",
              "      <td>...</td>\n",
              "      <td>...</td>\n",
              "      <td>...</td>\n",
              "      <td>...</td>\n",
              "      <td>...</td>\n",
              "      <td>...</td>\n",
              "      <td>...</td>\n",
              "      <td>...</td>\n",
              "      <td>...</td>\n",
              "      <td>...</td>\n",
              "      <td>...</td>\n",
              "      <td>...</td>\n",
              "    </tr>\n",
              "    <tr>\n",
              "      <th>69696</th>\n",
              "      <td>1382257587656171521</td>\n",
              "      <td>ET NOW</td>\n",
              "      <td>India</td>\n",
              "      <td>Youtube: https://t.co/u54RR8zcQ8 Facebook: htt...</td>\n",
              "      <td>2010-12-10 12:49:29</td>\n",
              "      <td>641608</td>\n",
              "      <td>79</td>\n",
              "      <td>641608</td>\n",
              "      <td>True</td>\n",
              "      <td>2021-04-14 09:01:04</td>\n",
              "      <td>#SputnikV will initially be imported from #Rus...</td>\n",
              "      <td>['SputnikV', 'Russia']</td>\n",
              "      <td>Twitter Web App</td>\n",
              "      <td>2</td>\n",
              "      <td>36</td>\n",
              "      <td>False</td>\n",
              "      <td>sputnikv will initially be imported from russi...</td>\n",
              "      <td>['sputnikv', 'will', 'initially', 'be', 'impor...</td>\n",
              "      <td>['sputnikv', 'initially', 'imported', 'russia'...</td>\n",
              "      <td>['sputnikv', 'initially', 'imported', 'russia'...</td>\n",
              "      <td>0.545916</td>\n",
              "      <td>Positive</td>\n",
              "    </tr>\n",
              "    <tr>\n",
              "      <th>69699</th>\n",
              "      <td>1382255193832661000</td>\n",
              "      <td>ET NOW</td>\n",
              "      <td>India</td>\n",
              "      <td>Youtube: https://t.co/u54RR8zcQ8 Facebook: htt...</td>\n",
              "      <td>2010-12-10 12:49:29</td>\n",
              "      <td>641608</td>\n",
              "      <td>79</td>\n",
              "      <td>641608</td>\n",
              "      <td>True</td>\n",
              "      <td>2021-04-14 08:51:33</td>\n",
              "      <td>#BREAKING | We don't expect to seek funding . ...</td>\n",
              "      <td>['BREAKING', 'SputnikV']</td>\n",
              "      <td>Twitter Web App</td>\n",
              "      <td>0</td>\n",
              "      <td>9</td>\n",
              "      <td>False</td>\n",
              "      <td>breaking  we dont expect to seek funding  dont...</td>\n",
              "      <td>['breaking', 'we', 'dont', 'expect', 'to', 'se...</td>\n",
              "      <td>['breaking', 'dont', 'expect', 'seek', 'fundin...</td>\n",
              "      <td>['breaking', 'dont', 'expect', 'seek', 'fundin...</td>\n",
              "      <td>0.089976</td>\n",
              "      <td>Negative</td>\n",
              "    </tr>\n",
              "    <tr>\n",
              "      <th>69706</th>\n",
              "      <td>1382251000321298432</td>\n",
              "      <td>CNBC-TV18</td>\n",
              "      <td>NaN</td>\n",
              "      <td>Follow business news with India's Leading Busi...</td>\n",
              "      <td>2012-07-10 08:32:06</td>\n",
              "      <td>901778</td>\n",
              "      <td>213</td>\n",
              "      <td>901778</td>\n",
              "      <td>True</td>\n",
              "      <td>2021-04-14 08:34:54</td>\n",
              "      <td>#IndiaFightsCorona | After govt's approval for...</td>\n",
              "      <td>['IndiaFightsCorona']</td>\n",
              "      <td>Periscope</td>\n",
              "      <td>3</td>\n",
              "      <td>3</td>\n",
              "      <td>False</td>\n",
              "      <td>indiafightscorona  after govts approval for em...</td>\n",
              "      <td>['indiafightscorona', 'after', 'govts', 'appro...</td>\n",
              "      <td>['indiafightscorona', 'govts', 'approval', 'em...</td>\n",
              "      <td>['indiafightscorona', 'govts', 'approval', 'em...</td>\n",
              "      <td>0.239870</td>\n",
              "      <td>Negative</td>\n",
              "    </tr>\n",
              "    <tr>\n",
              "      <th>69707</th>\n",
              "      <td>1382250817189597189</td>\n",
              "      <td>moneycontrol</td>\n",
              "      <td>Mumbai</td>\n",
              "      <td>Moneycontrol is India’s No. 1 financial portal...</td>\n",
              "      <td>2009-08-26 07:55:29</td>\n",
              "      <td>1077795</td>\n",
              "      <td>297</td>\n",
              "      <td>1077795</td>\n",
              "      <td>True</td>\n",
              "      <td>2021-04-14 08:34:10</td>\n",
              "      <td>.@viswanath_pilla looks at how #SputnikV stack...</td>\n",
              "      <td>['SputnikV', 'Covishield', 'Covaxin']</td>\n",
              "      <td>Twitter Web App</td>\n",
              "      <td>2</td>\n",
              "      <td>4</td>\n",
              "      <td>False</td>\n",
              "      <td>pilla looks at how sputnikv stacks up against ...</td>\n",
              "      <td>['pilla', 'looks', 'at', 'how', 'sputnikv', 's...</td>\n",
              "      <td>['pilla', 'looks', 'sputnikv', 'stacks', 'covi...</td>\n",
              "      <td>['pilla', 'look', 'sputnikv', 'stack', 'covish...</td>\n",
              "      <td>0.685281</td>\n",
              "      <td>Positive</td>\n",
              "    </tr>\n",
              "    <tr>\n",
              "      <th>69708</th>\n",
              "      <td>1382250738760384515</td>\n",
              "      <td>ET NOW</td>\n",
              "      <td>India</td>\n",
              "      <td>Youtube: https://t.co/u54RR8zcQ8 Facebook: htt...</td>\n",
              "      <td>2010-12-10 12:49:29</td>\n",
              "      <td>641608</td>\n",
              "      <td>79</td>\n",
              "      <td>641608</td>\n",
              "      <td>True</td>\n",
              "      <td>2021-04-14 08:33:51</td>\n",
              "      <td>Watch @drreddys address #SputnikV EUA #LIVE  h...</td>\n",
              "      <td>['SputnikV', 'LIVE']</td>\n",
              "      <td>Twitter Media Studio</td>\n",
              "      <td>1</td>\n",
              "      <td>10</td>\n",
              "      <td>False</td>\n",
              "      <td>watch address sputnikv eua live</td>\n",
              "      <td>['watch', 'address', 'sputnikv', 'eua', 'live'...</td>\n",
              "      <td>['watch', 'address', 'sputnikv', 'eua', 'live'...</td>\n",
              "      <td>['watch', 'address', 'sputnikv', 'eua', 'live'...</td>\n",
              "      <td>0.833648</td>\n",
              "      <td>Positive</td>\n",
              "    </tr>\n",
              "  </tbody>\n",
              "</table>\n",
              "<p>8778 rows × 22 columns</p>\n",
              "</div>"
            ],
            "text/plain": [
              "                        id            user_name  ...  Polarity  Analysis\n",
              "3      1337855739918835717        Charles Adler  ...  0.429918  Negative\n",
              "7      1337850832256176136  Dr.Krutika Kuppalli  ...  0.386054  Negative\n",
              "12     1337815730486702087                 WION  ...  0.837633  Positive\n",
              "13     1337809196453081088  Dr.Krutika Kuppalli  ...  0.763494  Positive\n",
              "14     1337807109010780162                Opoyi  ...  0.607818  Positive\n",
              "...                    ...                  ...  ...       ...       ...\n",
              "69696  1382257587656171521               ET NOW  ...  0.545916  Positive\n",
              "69699  1382255193832661000               ET NOW  ...  0.089976  Negative\n",
              "69706  1382251000321298432            CNBC-TV18  ...  0.239870  Negative\n",
              "69707  1382250817189597189         moneycontrol  ...  0.685281  Positive\n",
              "69708  1382250738760384515               ET NOW  ...  0.833648  Positive\n",
              "\n",
              "[8778 rows x 22 columns]"
            ]
          },
          "metadata": {
            "tags": []
          },
          "execution_count": 55
        }
      ]
    },
    {
      "cell_type": "code",
      "metadata": {
        "colab": {
          "base_uri": "https://localhost:8080/",
          "height": 246
        },
        "id": "DEmFV-OIYt8r",
        "outputId": "0822ac44-efcd-4872-fbfa-ad97b9d2c1ee"
      },
      "source": [
        "# Plot sentiment value counts\n",
        "import plotly.express as px\n",
        "import matplotlib.pyplot as plt\n",
        "Event_data['Analysis'].value_counts(normalize=True).plot.bar();\n",
        "\n",
        "timeline = Event_data.groupby(['Analysis']).agg(**{'tweets': ('id', 'count')}).reset_index().dropna()\n",
        "print(timeline)\n",
        "fig = px.bar(timeline,\n",
        "            x='Analysis', y=\"tweets\", color='Analysis', color_discrete_sequence=[\"#EF553B\", \"#636EFA\", \"#00CC96\"]\n",
        "        )\n",
        "fig.show()"
      ],
      "execution_count": null,
      "outputs": [
        {
          "output_type": "error",
          "ename": "NameError",
          "evalue": "ignored",
          "traceback": [
            "\u001b[0;31m---------------------------------------------------------------------------\u001b[0m",
            "\u001b[0;31mNameError\u001b[0m                                 Traceback (most recent call last)",
            "\u001b[0;32m<ipython-input-145-a089adba3117>\u001b[0m in \u001b[0;36m<module>\u001b[0;34m()\u001b[0m\n\u001b[1;32m      2\u001b[0m \u001b[0;32mimport\u001b[0m \u001b[0mplotly\u001b[0m\u001b[0;34m.\u001b[0m\u001b[0mexpress\u001b[0m \u001b[0;32mas\u001b[0m \u001b[0mpx\u001b[0m\u001b[0;34m\u001b[0m\u001b[0;34m\u001b[0m\u001b[0m\n\u001b[1;32m      3\u001b[0m \u001b[0;32mimport\u001b[0m \u001b[0mmatplotlib\u001b[0m\u001b[0;34m.\u001b[0m\u001b[0mpyplot\u001b[0m \u001b[0;32mas\u001b[0m \u001b[0mplt\u001b[0m\u001b[0;34m\u001b[0m\u001b[0;34m\u001b[0m\u001b[0m\n\u001b[0;32m----> 4\u001b[0;31m \u001b[0mEvent_data\u001b[0m\u001b[0;34m[\u001b[0m\u001b[0;34m'Analysis'\u001b[0m\u001b[0;34m]\u001b[0m\u001b[0;34m.\u001b[0m\u001b[0mvalue_counts\u001b[0m\u001b[0;34m(\u001b[0m\u001b[0mnormalize\u001b[0m\u001b[0;34m=\u001b[0m\u001b[0;32mTrue\u001b[0m\u001b[0;34m)\u001b[0m\u001b[0;34m.\u001b[0m\u001b[0mplot\u001b[0m\u001b[0;34m.\u001b[0m\u001b[0mbar\u001b[0m\u001b[0;34m(\u001b[0m\u001b[0;34m)\u001b[0m\u001b[0;34m;\u001b[0m\u001b[0;34m\u001b[0m\u001b[0;34m\u001b[0m\u001b[0m\n\u001b[0m\u001b[1;32m      5\u001b[0m \u001b[0;34m\u001b[0m\u001b[0m\n\u001b[1;32m      6\u001b[0m \u001b[0mtimeline\u001b[0m \u001b[0;34m=\u001b[0m \u001b[0mEvent_data\u001b[0m\u001b[0;34m.\u001b[0m\u001b[0mgroupby\u001b[0m\u001b[0;34m(\u001b[0m\u001b[0;34m[\u001b[0m\u001b[0;34m'Analysis'\u001b[0m\u001b[0;34m]\u001b[0m\u001b[0;34m)\u001b[0m\u001b[0;34m.\u001b[0m\u001b[0magg\u001b[0m\u001b[0;34m(\u001b[0m\u001b[0;34m**\u001b[0m\u001b[0;34m{\u001b[0m\u001b[0;34m'tweets'\u001b[0m\u001b[0;34m:\u001b[0m \u001b[0;34m(\u001b[0m\u001b[0;34m'id'\u001b[0m\u001b[0;34m,\u001b[0m \u001b[0;34m'count'\u001b[0m\u001b[0;34m)\u001b[0m\u001b[0;34m}\u001b[0m\u001b[0;34m)\u001b[0m\u001b[0;34m.\u001b[0m\u001b[0mreset_index\u001b[0m\u001b[0;34m(\u001b[0m\u001b[0;34m)\u001b[0m\u001b[0;34m.\u001b[0m\u001b[0mdropna\u001b[0m\u001b[0;34m(\u001b[0m\u001b[0;34m)\u001b[0m\u001b[0;34m\u001b[0m\u001b[0;34m\u001b[0m\u001b[0m\n",
            "\u001b[0;31mNameError\u001b[0m: name 'Event_data' is not defined"
          ]
        }
      ]
    },
    {
      "cell_type": "code",
      "metadata": {
        "colab": {
          "base_uri": "https://localhost:8080/",
          "height": 542
        },
        "id": "2S_Hm5zFePw-",
        "outputId": "2c6c6a06-72cc-4cf2-8b71-27815d894a81"
      },
      "source": [
        "# Convert dates\n",
        "Event_data['date'] = pd.to_datetime(Event_data['date'], errors='coerce').dt.date\n",
        "\n",
        "# Get counts of number of tweets by sentiment for each date\n",
        "timeline = Event_data.groupby(['date', 'Analysis']).agg(**{'tweets': ('id', 'count')}).reset_index().dropna()\n",
        "\n",
        "fig = px.line(timeline, x='date', y='tweets', color='Analysis', color_discrete_sequence=[\"#EF553B\", \"#636EFA\"], category_orders={'Analysis': ['Negative', 'Positive']},\n",
        "             title='Timeline showing sentiment of tweets about COVID-19 vaccines')\n",
        "fig.show()"
      ],
      "execution_count": null,
      "outputs": [
        {
          "output_type": "display_data",
          "data": {
            "text/html": [
              "<html>\n",
              "<head><meta charset=\"utf-8\" /></head>\n",
              "<body>\n",
              "    <div>\n",
              "            <script src=\"https://cdnjs.cloudflare.com/ajax/libs/mathjax/2.7.5/MathJax.js?config=TeX-AMS-MML_SVG\"></script><script type=\"text/javascript\">if (window.MathJax) {MathJax.Hub.Config({SVG: {font: \"STIX-Web\"}});}</script>\n",
              "                <script type=\"text/javascript\">window.PlotlyConfig = {MathJaxConfig: 'local'};</script>\n",
              "        <script src=\"https://cdn.plot.ly/plotly-latest.min.js\"></script>    \n",
              "            <div id=\"00248e7f-cc17-4e9b-98ac-7b8d0c67b15a\" class=\"plotly-graph-div\" style=\"height:525px; width:100%;\"></div>\n",
              "            <script type=\"text/javascript\">\n",
              "                \n",
              "                    window.PLOTLYENV=window.PLOTLYENV || {};\n",
              "                    \n",
              "                if (document.getElementById(\"00248e7f-cc17-4e9b-98ac-7b8d0c67b15a\")) {\n",
              "                    Plotly.newPlot(\n",
              "                        '00248e7f-cc17-4e9b-98ac-7b8d0c67b15a',\n",
              "                        [{\"hoverlabel\": {\"namelength\": 0}, \"hovertemplate\": \"Analysis=Negative<br>date=%{x}<br>tweets=%{y}\", \"legendgroup\": \"Analysis=Negative\", \"line\": {\"color\": \"#EF553B\", \"dash\": \"solid\"}, \"mode\": \"lines\", \"name\": \"Analysis=Negative\", \"showlegend\": true, \"type\": \"scatter\", \"x\": [\"2020-12-12\", \"2020-12-14\", \"2020-12-15\", \"2020-12-16\", \"2020-12-17\", \"2020-12-18\", \"2020-12-20\", \"2020-12-21\", \"2020-12-22\", \"2020-12-23\", \"2020-12-24\", \"2020-12-28\", \"2020-12-30\", \"2021-01-01\", \"2021-01-06\", \"2021-01-08\", \"2021-01-11\", \"2021-01-12\", \"2021-01-13\", \"2021-01-14\", \"2021-01-15\", \"2021-01-16\", \"2021-01-18\", \"2021-01-19\", \"2021-01-20\", \"2021-01-21\", \"2021-01-23\", \"2021-01-25\", \"2021-01-26\", \"2021-01-27\", \"2021-01-29\", \"2021-02-02\", \"2021-02-07\", \"2021-02-08\", \"2021-02-09\", \"2021-02-10\", \"2021-02-11\", \"2021-02-12\", \"2021-02-13\", \"2021-02-14\", \"2021-02-15\", \"2021-02-16\", \"2021-02-17\", \"2021-02-18\", \"2021-02-19\", \"2021-02-20\", \"2021-02-21\", \"2021-02-22\", \"2021-02-23\", \"2021-02-24\", \"2021-02-25\", \"2021-02-26\", \"2021-02-28\", \"2021-03-01\", \"2021-03-02\", \"2021-03-03\", \"2021-03-04\", \"2021-03-05\", \"2021-03-06\", \"2021-03-07\", \"2021-03-08\", \"2021-03-09\", \"2021-03-10\", \"2021-03-11\", \"2021-03-12\", \"2021-03-13\", \"2021-03-14\", \"2021-03-15\", \"2021-03-16\", \"2021-03-17\", \"2021-03-18\", \"2021-03-19\", \"2021-03-20\", \"2021-03-21\", \"2021-03-22\", \"2021-03-23\", \"2021-03-24\", \"2021-03-25\", \"2021-03-26\", \"2021-03-27\", \"2021-03-28\", \"2021-03-29\", \"2021-03-30\", \"2021-03-31\", \"2021-04-01\", \"2021-04-02\", \"2021-04-03\", \"2021-04-04\", \"2021-04-05\", \"2021-04-06\", \"2021-04-07\", \"2021-04-08\", \"2021-04-09\", \"2021-04-10\", \"2021-04-11\", \"2021-04-12\", \"2021-04-13\", \"2021-04-14\", \"2021-04-15\", \"2021-04-16\", \"2021-04-17\", \"2021-04-18\", \"2021-04-19\", \"2021-04-20\", \"2021-04-21\", \"2021-04-22\"], \"xaxis\": \"x\", \"y\": [2, 4, 2, 3, 1, 1, 2, 1, 3, 2, 1, 1, 1, 1, 2, 2, 2, 3, 1, 1, 2, 3, 3, 1, 1, 1, 1, 1, 1, 1, 3, 2, 4, 7, 3, 7, 3, 1, 5, 4, 5, 7, 7, 6, 8, 6, 1, 9, 4, 14, 11, 17, 11, 41, 3, 9, 6, 10, 6, 5, 6, 18, 6, 9, 8, 5, 5, 10, 13, 11, 8, 16, 18, 12, 10, 14, 11, 9, 4, 5, 11, 10, 17, 16, 9, 8, 12, 5, 4, 6, 20, 18, 8, 7, 5, 27, 18, 15, 17, 13, 16, 7, 7, 5, 22, 10], \"yaxis\": \"y\"}, {\"hoverlabel\": {\"namelength\": 0}, \"hovertemplate\": \"Analysis=Positive<br>date=%{x}<br>tweets=%{y}\", \"legendgroup\": \"Analysis=Positive\", \"line\": {\"color\": \"#636EFA\", \"dash\": \"solid\"}, \"mode\": \"lines\", \"name\": \"Analysis=Positive\", \"showlegend\": true, \"type\": \"scatter\", \"x\": [\"2020-12-12\", \"2020-12-13\", \"2020-12-14\", \"2020-12-15\", \"2020-12-16\", \"2020-12-17\", \"2020-12-18\", \"2020-12-19\", \"2020-12-20\", \"2020-12-21\", \"2020-12-22\", \"2020-12-23\", \"2020-12-24\", \"2020-12-27\", \"2020-12-28\", \"2020-12-30\", \"2020-12-31\", \"2021-01-01\", \"2021-01-02\", \"2021-01-03\", \"2021-01-04\", \"2021-01-05\", \"2021-01-06\", \"2021-01-09\", \"2021-01-10\", \"2021-01-14\", \"2021-01-15\", \"2021-01-16\", \"2021-01-17\", \"2021-01-18\", \"2021-01-19\", \"2021-01-20\", \"2021-01-21\", \"2021-01-24\", \"2021-01-27\", \"2021-01-29\", \"2021-02-02\", \"2021-02-03\", \"2021-02-04\", \"2021-02-07\", \"2021-02-08\", \"2021-02-09\", \"2021-02-10\", \"2021-02-11\", \"2021-02-12\", \"2021-02-13\", \"2021-02-14\", \"2021-02-15\", \"2021-02-16\", \"2021-02-17\", \"2021-02-18\", \"2021-02-19\", \"2021-02-20\", \"2021-02-21\", \"2021-02-22\", \"2021-02-23\", \"2021-02-24\", \"2021-02-25\", \"2021-02-26\", \"2021-02-27\", \"2021-02-28\", \"2021-03-01\", \"2021-03-02\", \"2021-03-03\", \"2021-03-04\", \"2021-03-05\", \"2021-03-06\", \"2021-03-07\", \"2021-03-08\", \"2021-03-09\", \"2021-03-10\", \"2021-03-11\", \"2021-03-12\", \"2021-03-13\", \"2021-03-14\", \"2021-03-15\", \"2021-03-16\", \"2021-03-17\", \"2021-03-18\", \"2021-03-19\", \"2021-03-20\", \"2021-03-21\", \"2021-03-22\", \"2021-03-23\", \"2021-03-24\", \"2021-03-25\", \"2021-03-26\", \"2021-03-27\", \"2021-03-28\", \"2021-03-29\", \"2021-03-30\", \"2021-03-31\", \"2021-04-01\", \"2021-04-02\", \"2021-04-03\", \"2021-04-04\", \"2021-04-05\", \"2021-04-06\", \"2021-04-07\", \"2021-04-08\", \"2021-04-09\", \"2021-04-10\", \"2021-04-11\", \"2021-04-12\", \"2021-04-13\", \"2021-04-14\", \"2021-04-15\", \"2021-04-16\", \"2021-04-17\", \"2021-04-18\", \"2021-04-19\", \"2021-04-20\", \"2021-04-21\", \"2021-04-22\"], \"xaxis\": \"x\", \"y\": [2, 2, 5, 5, 4, 3, 1, 3, 1, 3, 2, 5, 4, 1, 1, 4, 1, 2, 1, 1, 2, 3, 4, 4, 1, 1, 1, 1, 2, 1, 2, 1, 1, 1, 2, 3, 1, 1, 1, 7, 11, 10, 8, 8, 7, 8, 3, 7, 11, 14, 19, 7, 5, 3, 6, 8, 14, 13, 12, 7, 12, 55, 12, 36, 17, 11, 12, 10, 12, 15, 10, 6, 12, 7, 6, 17, 29, 16, 22, 19, 22, 9, 21, 12, 15, 15, 4, 12, 8, 14, 33, 22, 12, 10, 21, 9, 9, 18, 27, 19, 26, 18, 11, 39, 40, 19, 23, 16, 24, 14, 13, 22, 44, 9], \"yaxis\": \"y\"}],\n",
              "                        {\"legend\": {\"tracegroupgap\": 0}, \"template\": {\"data\": {\"bar\": [{\"error_x\": {\"color\": \"#2a3f5f\"}, \"error_y\": {\"color\": \"#2a3f5f\"}, \"marker\": {\"line\": {\"color\": \"#E5ECF6\", \"width\": 0.5}}, \"type\": \"bar\"}], \"barpolar\": [{\"marker\": {\"line\": {\"color\": \"#E5ECF6\", \"width\": 0.5}}, \"type\": \"barpolar\"}], \"carpet\": [{\"aaxis\": {\"endlinecolor\": \"#2a3f5f\", \"gridcolor\": \"white\", \"linecolor\": \"white\", \"minorgridcolor\": \"white\", \"startlinecolor\": \"#2a3f5f\"}, \"baxis\": {\"endlinecolor\": \"#2a3f5f\", \"gridcolor\": \"white\", \"linecolor\": \"white\", \"minorgridcolor\": \"white\", \"startlinecolor\": \"#2a3f5f\"}, \"type\": \"carpet\"}], \"choropleth\": [{\"colorbar\": {\"outlinewidth\": 0, \"ticks\": \"\"}, \"type\": \"choropleth\"}], \"contour\": [{\"colorbar\": {\"outlinewidth\": 0, \"ticks\": \"\"}, \"colorscale\": [[0.0, \"#0d0887\"], [0.1111111111111111, \"#46039f\"], [0.2222222222222222, \"#7201a8\"], [0.3333333333333333, \"#9c179e\"], [0.4444444444444444, \"#bd3786\"], [0.5555555555555556, \"#d8576b\"], [0.6666666666666666, \"#ed7953\"], [0.7777777777777778, \"#fb9f3a\"], [0.8888888888888888, \"#fdca26\"], [1.0, \"#f0f921\"]], \"type\": \"contour\"}], \"contourcarpet\": [{\"colorbar\": {\"outlinewidth\": 0, \"ticks\": \"\"}, \"type\": \"contourcarpet\"}], \"heatmap\": [{\"colorbar\": {\"outlinewidth\": 0, \"ticks\": \"\"}, \"colorscale\": [[0.0, \"#0d0887\"], [0.1111111111111111, \"#46039f\"], [0.2222222222222222, \"#7201a8\"], [0.3333333333333333, \"#9c179e\"], [0.4444444444444444, \"#bd3786\"], [0.5555555555555556, \"#d8576b\"], [0.6666666666666666, \"#ed7953\"], [0.7777777777777778, \"#fb9f3a\"], [0.8888888888888888, \"#fdca26\"], [1.0, \"#f0f921\"]], \"type\": \"heatmap\"}], \"heatmapgl\": [{\"colorbar\": {\"outlinewidth\": 0, \"ticks\": \"\"}, \"colorscale\": [[0.0, \"#0d0887\"], [0.1111111111111111, \"#46039f\"], [0.2222222222222222, \"#7201a8\"], [0.3333333333333333, \"#9c179e\"], [0.4444444444444444, \"#bd3786\"], [0.5555555555555556, \"#d8576b\"], [0.6666666666666666, \"#ed7953\"], [0.7777777777777778, \"#fb9f3a\"], [0.8888888888888888, \"#fdca26\"], [1.0, \"#f0f921\"]], \"type\": \"heatmapgl\"}], \"histogram\": [{\"marker\": {\"colorbar\": {\"outlinewidth\": 0, \"ticks\": \"\"}}, \"type\": \"histogram\"}], \"histogram2d\": [{\"colorbar\": {\"outlinewidth\": 0, \"ticks\": \"\"}, \"colorscale\": [[0.0, \"#0d0887\"], [0.1111111111111111, \"#46039f\"], [0.2222222222222222, \"#7201a8\"], [0.3333333333333333, \"#9c179e\"], [0.4444444444444444, \"#bd3786\"], [0.5555555555555556, \"#d8576b\"], [0.6666666666666666, \"#ed7953\"], [0.7777777777777778, \"#fb9f3a\"], [0.8888888888888888, \"#fdca26\"], [1.0, \"#f0f921\"]], \"type\": \"histogram2d\"}], \"histogram2dcontour\": [{\"colorbar\": {\"outlinewidth\": 0, \"ticks\": \"\"}, \"colorscale\": [[0.0, \"#0d0887\"], [0.1111111111111111, \"#46039f\"], [0.2222222222222222, \"#7201a8\"], [0.3333333333333333, \"#9c179e\"], [0.4444444444444444, \"#bd3786\"], [0.5555555555555556, \"#d8576b\"], [0.6666666666666666, \"#ed7953\"], [0.7777777777777778, \"#fb9f3a\"], [0.8888888888888888, \"#fdca26\"], [1.0, \"#f0f921\"]], \"type\": \"histogram2dcontour\"}], \"mesh3d\": [{\"colorbar\": {\"outlinewidth\": 0, \"ticks\": \"\"}, \"type\": \"mesh3d\"}], \"parcoords\": [{\"line\": {\"colorbar\": {\"outlinewidth\": 0, \"ticks\": \"\"}}, \"type\": \"parcoords\"}], \"pie\": [{\"automargin\": true, \"type\": \"pie\"}], \"scatter\": [{\"marker\": {\"colorbar\": {\"outlinewidth\": 0, \"ticks\": \"\"}}, \"type\": \"scatter\"}], \"scatter3d\": [{\"line\": {\"colorbar\": {\"outlinewidth\": 0, \"ticks\": \"\"}}, \"marker\": {\"colorbar\": {\"outlinewidth\": 0, \"ticks\": \"\"}}, \"type\": \"scatter3d\"}], \"scattercarpet\": [{\"marker\": {\"colorbar\": {\"outlinewidth\": 0, \"ticks\": \"\"}}, \"type\": \"scattercarpet\"}], \"scattergeo\": [{\"marker\": {\"colorbar\": {\"outlinewidth\": 0, \"ticks\": \"\"}}, \"type\": \"scattergeo\"}], \"scattergl\": [{\"marker\": {\"colorbar\": {\"outlinewidth\": 0, \"ticks\": \"\"}}, \"type\": \"scattergl\"}], \"scattermapbox\": [{\"marker\": {\"colorbar\": {\"outlinewidth\": 0, \"ticks\": \"\"}}, \"type\": \"scattermapbox\"}], \"scatterpolar\": [{\"marker\": {\"colorbar\": {\"outlinewidth\": 0, \"ticks\": \"\"}}, \"type\": \"scatterpolar\"}], \"scatterpolargl\": [{\"marker\": {\"colorbar\": {\"outlinewidth\": 0, \"ticks\": \"\"}}, \"type\": \"scatterpolargl\"}], \"scatterternary\": [{\"marker\": {\"colorbar\": {\"outlinewidth\": 0, \"ticks\": \"\"}}, \"type\": \"scatterternary\"}], \"surface\": [{\"colorbar\": {\"outlinewidth\": 0, \"ticks\": \"\"}, \"colorscale\": [[0.0, \"#0d0887\"], [0.1111111111111111, \"#46039f\"], [0.2222222222222222, \"#7201a8\"], [0.3333333333333333, \"#9c179e\"], [0.4444444444444444, \"#bd3786\"], [0.5555555555555556, \"#d8576b\"], [0.6666666666666666, \"#ed7953\"], [0.7777777777777778, \"#fb9f3a\"], [0.8888888888888888, \"#fdca26\"], [1.0, \"#f0f921\"]], \"type\": \"surface\"}], \"table\": [{\"cells\": {\"fill\": {\"color\": \"#EBF0F8\"}, \"line\": {\"color\": \"white\"}}, \"header\": {\"fill\": {\"color\": \"#C8D4E3\"}, \"line\": {\"color\": \"white\"}}, \"type\": \"table\"}]}, \"layout\": {\"annotationdefaults\": {\"arrowcolor\": \"#2a3f5f\", \"arrowhead\": 0, \"arrowwidth\": 1}, \"coloraxis\": {\"colorbar\": {\"outlinewidth\": 0, \"ticks\": \"\"}}, \"colorscale\": {\"diverging\": [[0, \"#8e0152\"], [0.1, \"#c51b7d\"], [0.2, \"#de77ae\"], [0.3, \"#f1b6da\"], [0.4, \"#fde0ef\"], [0.5, \"#f7f7f7\"], [0.6, \"#e6f5d0\"], [0.7, \"#b8e186\"], [0.8, \"#7fbc41\"], [0.9, \"#4d9221\"], [1, \"#276419\"]], \"sequential\": [[0.0, \"#0d0887\"], [0.1111111111111111, \"#46039f\"], [0.2222222222222222, \"#7201a8\"], [0.3333333333333333, \"#9c179e\"], [0.4444444444444444, \"#bd3786\"], [0.5555555555555556, \"#d8576b\"], [0.6666666666666666, \"#ed7953\"], [0.7777777777777778, \"#fb9f3a\"], [0.8888888888888888, \"#fdca26\"], [1.0, \"#f0f921\"]], \"sequentialminus\": [[0.0, \"#0d0887\"], [0.1111111111111111, \"#46039f\"], [0.2222222222222222, \"#7201a8\"], [0.3333333333333333, \"#9c179e\"], [0.4444444444444444, \"#bd3786\"], [0.5555555555555556, \"#d8576b\"], [0.6666666666666666, \"#ed7953\"], [0.7777777777777778, \"#fb9f3a\"], [0.8888888888888888, \"#fdca26\"], [1.0, \"#f0f921\"]]}, \"colorway\": [\"#636efa\", \"#EF553B\", \"#00cc96\", \"#ab63fa\", \"#FFA15A\", \"#19d3f3\", \"#FF6692\", \"#B6E880\", \"#FF97FF\", \"#FECB52\"], \"font\": {\"color\": \"#2a3f5f\"}, \"geo\": {\"bgcolor\": \"white\", \"lakecolor\": \"white\", \"landcolor\": \"#E5ECF6\", \"showlakes\": true, \"showland\": true, \"subunitcolor\": \"white\"}, \"hoverlabel\": {\"align\": \"left\"}, \"hovermode\": \"closest\", \"mapbox\": {\"style\": \"light\"}, \"paper_bgcolor\": \"white\", \"plot_bgcolor\": \"#E5ECF6\", \"polar\": {\"angularaxis\": {\"gridcolor\": \"white\", \"linecolor\": \"white\", \"ticks\": \"\"}, \"bgcolor\": \"#E5ECF6\", \"radialaxis\": {\"gridcolor\": \"white\", \"linecolor\": \"white\", \"ticks\": \"\"}}, \"scene\": {\"xaxis\": {\"backgroundcolor\": \"#E5ECF6\", \"gridcolor\": \"white\", \"gridwidth\": 2, \"linecolor\": \"white\", \"showbackground\": true, \"ticks\": \"\", \"zerolinecolor\": \"white\"}, \"yaxis\": {\"backgroundcolor\": \"#E5ECF6\", \"gridcolor\": \"white\", \"gridwidth\": 2, \"linecolor\": \"white\", \"showbackground\": true, \"ticks\": \"\", \"zerolinecolor\": \"white\"}, \"zaxis\": {\"backgroundcolor\": \"#E5ECF6\", \"gridcolor\": \"white\", \"gridwidth\": 2, \"linecolor\": \"white\", \"showbackground\": true, \"ticks\": \"\", \"zerolinecolor\": \"white\"}}, \"shapedefaults\": {\"line\": {\"color\": \"#2a3f5f\"}}, \"ternary\": {\"aaxis\": {\"gridcolor\": \"white\", \"linecolor\": \"white\", \"ticks\": \"\"}, \"baxis\": {\"gridcolor\": \"white\", \"linecolor\": \"white\", \"ticks\": \"\"}, \"bgcolor\": \"#E5ECF6\", \"caxis\": {\"gridcolor\": \"white\", \"linecolor\": \"white\", \"ticks\": \"\"}}, \"title\": {\"x\": 0.05}, \"xaxis\": {\"automargin\": true, \"gridcolor\": \"white\", \"linecolor\": \"white\", \"ticks\": \"\", \"title\": {\"standoff\": 15}, \"zerolinecolor\": \"white\", \"zerolinewidth\": 2}, \"yaxis\": {\"automargin\": true, \"gridcolor\": \"white\", \"linecolor\": \"white\", \"ticks\": \"\", \"title\": {\"standoff\": 15}, \"zerolinecolor\": \"white\", \"zerolinewidth\": 2}}}, \"title\": {\"text\": \"Timeline showing sentiment of tweets about COVID-19 vaccines\"}, \"xaxis\": {\"anchor\": \"y\", \"domain\": [0.0, 1.0], \"title\": {\"text\": \"date\"}}, \"yaxis\": {\"anchor\": \"x\", \"domain\": [0.0, 1.0], \"title\": {\"text\": \"tweets\"}}},\n",
              "                        {\"responsive\": true}\n",
              "                    ).then(function(){\n",
              "                            \n",
              "var gd = document.getElementById('00248e7f-cc17-4e9b-98ac-7b8d0c67b15a');\n",
              "var x = new MutationObserver(function (mutations, observer) {{\n",
              "        var display = window.getComputedStyle(gd).display;\n",
              "        if (!display || display === 'none') {{\n",
              "            console.log([gd, 'removed!']);\n",
              "            Plotly.purge(gd);\n",
              "            observer.disconnect();\n",
              "        }}\n",
              "}});\n",
              "\n",
              "// Listen for the removal of the full notebook cells\n",
              "var notebookContainer = gd.closest('#notebook-container');\n",
              "if (notebookContainer) {{\n",
              "    x.observe(notebookContainer, {childList: true});\n",
              "}}\n",
              "\n",
              "// Listen for the clearing of the current output cell\n",
              "var outputEl = gd.closest('.output');\n",
              "if (outputEl) {{\n",
              "    x.observe(outputEl, {childList: true});\n",
              "}}\n",
              "\n",
              "                        })\n",
              "                };\n",
              "                \n",
              "            </script>\n",
              "        </div>\n",
              "</body>\n",
              "</html>"
            ]
          },
          "metadata": {
            "tags": []
          }
        }
      ]
    },
    {
      "cell_type": "code",
      "metadata": {
        "colab": {
          "base_uri": "https://localhost:8080/",
          "height": 1000
        },
        "id": "93hPxW6rUJes",
        "outputId": "7ae8f8cb-57ec-448f-ab24-fb2c770d79d2"
      },
      "source": [
        "# Function to filter the data to a single date and print tweets from users with the most followers\n",
        "Event_data_date = Event_data\n",
        "def date_filter(df, date):\n",
        "    return df[df['date'].astype(str)==date].sort_values('user_followers', ascending=False)[['date' ,'Clean_text']]\n",
        "\n",
        "def date_printer(df, dates, num=10): \n",
        "    for date in dates:\n",
        "        display(date_filter(df, date).head(num))\n",
        "\n",
        "date_printer(Event_data, ['2021-03-01', '2021-03-03','2021-04-08','2021-04-21'])"
      ],
      "execution_count": null,
      "outputs": [
        {
          "output_type": "display_data",
          "data": {
            "text/html": [
              "<div>\n",
              "<style scoped>\n",
              "    .dataframe tbody tr th:only-of-type {\n",
              "        vertical-align: middle;\n",
              "    }\n",
              "\n",
              "    .dataframe tbody tr th {\n",
              "        vertical-align: top;\n",
              "    }\n",
              "\n",
              "    .dataframe thead th {\n",
              "        text-align: right;\n",
              "    }\n",
              "</style>\n",
              "<table border=\"1\" class=\"dataframe\">\n",
              "  <thead>\n",
              "    <tr style=\"text-align: right;\">\n",
              "      <th></th>\n",
              "      <th>date</th>\n",
              "      <th>Clean_text</th>\n",
              "    </tr>\n",
              "  </thead>\n",
              "  <tbody>\n",
              "    <tr>\n",
              "      <th>15275</th>\n",
              "      <td>2021-03-01</td>\n",
              "      <td>pm has always led from the front in encouragin...</td>\n",
              "    </tr>\n",
              "    <tr>\n",
              "      <th>13162</th>\n",
              "      <td>2021-03-01</td>\n",
              "      <td>always the first to lead from the front we are...</td>\n",
              "    </tr>\n",
              "    <tr>\n",
              "      <th>13246</th>\n",
              "      <td>2021-03-01</td>\n",
              "      <td>prime minister of india takes made in india co...</td>\n",
              "    </tr>\n",
              "    <tr>\n",
              "      <th>13101</th>\n",
              "      <td>2021-03-01</td>\n",
              "      <td>aiims nurse who gave the covaxin jab to prime ...</td>\n",
              "    </tr>\n",
              "    <tr>\n",
              "      <th>17527</th>\n",
              "      <td>2021-03-01</td>\n",
              "      <td>pm takes first dose of covid vaccine covaxin a...</td>\n",
              "    </tr>\n",
              "    <tr>\n",
              "      <th>18204</th>\n",
              "      <td>2021-03-01</td>\n",
              "      <td>poll  now that there are  options of the covid...</td>\n",
              "    </tr>\n",
              "    <tr>\n",
              "      <th>18778</th>\n",
              "      <td>2021-03-01</td>\n",
              "      <td>are there no parallel phase  trials on for cov...</td>\n",
              "    </tr>\n",
              "    <tr>\n",
              "      <th>13354</th>\n",
              "      <td>2021-03-01</td>\n",
              "      <td>pm ‘s vaccine jab comes at a time when india i...</td>\n",
              "    </tr>\n",
              "    <tr>\n",
              "      <th>18010</th>\n",
              "      <td>2021-03-01</td>\n",
              "      <td>should zimbabweans trust the sinopharm vaccine...</td>\n",
              "    </tr>\n",
              "    <tr>\n",
              "      <th>18009</th>\n",
              "      <td>2021-03-01</td>\n",
              "      <td>as committee on health when are you going to d...</td>\n",
              "    </tr>\n",
              "  </tbody>\n",
              "</table>\n",
              "</div>"
            ],
            "text/plain": [
              "             date                                         Clean_text\n",
              "15275  2021-03-01  pm has always led from the front in encouragin...\n",
              "13162  2021-03-01  always the first to lead from the front we are...\n",
              "13246  2021-03-01  prime minister of india takes made in india co...\n",
              "13101  2021-03-01  aiims nurse who gave the covaxin jab to prime ...\n",
              "17527  2021-03-01  pm takes first dose of covid vaccine covaxin a...\n",
              "18204  2021-03-01  poll  now that there are  options of the covid...\n",
              "18778  2021-03-01  are there no parallel phase  trials on for cov...\n",
              "13354  2021-03-01  pm ‘s vaccine jab comes at a time when india i...\n",
              "18010  2021-03-01  should zimbabweans trust the sinopharm vaccine...\n",
              "18009  2021-03-01  as committee on health when are you going to d..."
            ]
          },
          "metadata": {
            "tags": []
          }
        },
        {
          "output_type": "display_data",
          "data": {
            "text/html": [
              "<div>\n",
              "<style scoped>\n",
              "    .dataframe tbody tr th:only-of-type {\n",
              "        vertical-align: middle;\n",
              "    }\n",
              "\n",
              "    .dataframe tbody tr th {\n",
              "        vertical-align: top;\n",
              "    }\n",
              "\n",
              "    .dataframe thead th {\n",
              "        text-align: right;\n",
              "    }\n",
              "</style>\n",
              "<table border=\"1\" class=\"dataframe\">\n",
              "  <thead>\n",
              "    <tr style=\"text-align: right;\">\n",
              "      <th></th>\n",
              "      <th>date</th>\n",
              "      <th>Clean_text</th>\n",
              "    </tr>\n",
              "  </thead>\n",
              "  <tbody>\n",
              "    <tr>\n",
              "      <th>20411</th>\n",
              "      <td>2021-03-03</td>\n",
              "      <td>for those like me who were concerned that cova...</td>\n",
              "    </tr>\n",
              "    <tr>\n",
              "      <th>20698</th>\n",
              "      <td>2021-03-03</td>\n",
              "      <td>a great win for atmanirbhar bharat india’s ind...</td>\n",
              "    </tr>\n",
              "    <tr>\n",
              "      <th>20924</th>\n",
              "      <td>2021-03-03</td>\n",
              "      <td>phase  results of covaxin  announced by  demon...</td>\n",
              "    </tr>\n",
              "    <tr>\n",
              "      <th>20925</th>\n",
              "      <td>2021-03-03</td>\n",
              "      <td>breaking  bharat biotech says its covaxin show...</td>\n",
              "    </tr>\n",
              "    <tr>\n",
              "      <th>20913</th>\n",
              "      <td>2021-03-03</td>\n",
              "      <td>clinical efficacy of indiamade covaxin is  say...</td>\n",
              "    </tr>\n",
              "    <tr>\n",
              "      <th>20745</th>\n",
              "      <td>2021-03-03</td>\n",
              "      <td>phase  clinical trial of covaxin developed by ...</td>\n",
              "    </tr>\n",
              "    <tr>\n",
              "      <th>19132</th>\n",
              "      <td>2021-03-03</td>\n",
              "      <td>carrie lam demoed vigorously that seniors can ...</td>\n",
              "    </tr>\n",
              "    <tr>\n",
              "      <th>20723</th>\n",
              "      <td>2021-03-03</td>\n",
              "      <td>afaik covaxin is only in hospitals that have ...</td>\n",
              "    </tr>\n",
              "    <tr>\n",
              "      <th>19237</th>\n",
              "      <td>2021-03-03</td>\n",
              "      <td>i love dollyparton and i dont even like countr...</td>\n",
              "    </tr>\n",
              "    <tr>\n",
              "      <th>20183</th>\n",
              "      <td>2021-03-03</td>\n",
              "      <td>this is the definition of acute stockholm synd...</td>\n",
              "    </tr>\n",
              "  </tbody>\n",
              "</table>\n",
              "</div>"
            ],
            "text/plain": [
              "             date                                         Clean_text\n",
              "20411  2021-03-03  for those like me who were concerned that cova...\n",
              "20698  2021-03-03  a great win for atmanirbhar bharat india’s ind...\n",
              "20924  2021-03-03  phase  results of covaxin  announced by  demon...\n",
              "20925  2021-03-03  breaking  bharat biotech says its covaxin show...\n",
              "20913  2021-03-03  clinical efficacy of indiamade covaxin is  say...\n",
              "20745  2021-03-03  phase  clinical trial of covaxin developed by ...\n",
              "19132  2021-03-03  carrie lam demoed vigorously that seniors can ...\n",
              "20723  2021-03-03   afaik covaxin is only in hospitals that have ...\n",
              "19237  2021-03-03  i love dollyparton and i dont even like countr...\n",
              "20183  2021-03-03  this is the definition of acute stockholm synd..."
            ]
          },
          "metadata": {
            "tags": []
          }
        },
        {
          "output_type": "display_data",
          "data": {
            "text/html": [
              "<div>\n",
              "<style scoped>\n",
              "    .dataframe tbody tr th:only-of-type {\n",
              "        vertical-align: middle;\n",
              "    }\n",
              "\n",
              "    .dataframe tbody tr th {\n",
              "        vertical-align: top;\n",
              "    }\n",
              "\n",
              "    .dataframe thead th {\n",
              "        text-align: right;\n",
              "    }\n",
              "</style>\n",
              "<table border=\"1\" class=\"dataframe\">\n",
              "  <thead>\n",
              "    <tr style=\"text-align: right;\">\n",
              "      <th></th>\n",
              "      <th>date</th>\n",
              "      <th>Clean_text</th>\n",
              "    </tr>\n",
              "  </thead>\n",
              "  <tbody>\n",
              "    <tr>\n",
              "      <th>55079</th>\n",
              "      <td>2021-04-08</td>\n",
              "      <td>has anyone seen the phase  data on covaxin  wh...</td>\n",
              "    </tr>\n",
              "    <tr>\n",
              "      <th>55283</th>\n",
              "      <td>2021-04-08</td>\n",
              "      <td>i asked on why were we being denied vaccines w...</td>\n",
              "    </tr>\n",
              "    <tr>\n",
              "      <th>55018</th>\n",
              "      <td>2021-04-08</td>\n",
              "      <td>i am again now live on pleading the honble pm ...</td>\n",
              "    </tr>\n",
              "    <tr>\n",
              "      <th>49159</th>\n",
              "      <td>2021-04-08</td>\n",
              "      <td>he tried to control it  like he tries control ...</td>\n",
              "    </tr>\n",
              "    <tr>\n",
              "      <th>49316</th>\n",
              "      <td>2021-04-08</td>\n",
              "      <td>we are begging for more vaccine  with folded h...</td>\n",
              "    </tr>\n",
              "    <tr>\n",
              "      <th>55197</th>\n",
              "      <td>2021-04-08</td>\n",
              "      <td>covaxin first dose taken come on india get vac...</td>\n",
              "    </tr>\n",
              "    <tr>\n",
              "      <th>49035</th>\n",
              "      <td>2021-04-08</td>\n",
              "      <td>the covid vaccines from pfizer moderna and joh...</td>\n",
              "    </tr>\n",
              "    <tr>\n",
              "      <th>54900</th>\n",
              "      <td>2021-04-08</td>\n",
              "      <td>classic chameleonthis👇 chattisgarh has seen ra...</td>\n",
              "    </tr>\n",
              "    <tr>\n",
              "      <th>49156</th>\n",
              "      <td>2021-04-08</td>\n",
              "      <td>an after effect of the moderna covid vaccine t...</td>\n",
              "    </tr>\n",
              "    <tr>\n",
              "      <th>50430</th>\n",
              "      <td>2021-04-08</td>\n",
              "      <td>got my first does of sputnikv covid vaccinatio...</td>\n",
              "    </tr>\n",
              "  </tbody>\n",
              "</table>\n",
              "</div>"
            ],
            "text/plain": [
              "             date                                         Clean_text\n",
              "55079  2021-04-08  has anyone seen the phase  data on covaxin  wh...\n",
              "55283  2021-04-08  i asked on why were we being denied vaccines w...\n",
              "55018  2021-04-08  i am again now live on pleading the honble pm ...\n",
              "49159  2021-04-08  he tried to control it  like he tries control ...\n",
              "49316  2021-04-08  we are begging for more vaccine  with folded h...\n",
              "55197  2021-04-08  covaxin first dose taken come on india get vac...\n",
              "49035  2021-04-08  the covid vaccines from pfizer moderna and joh...\n",
              "54900  2021-04-08  classic chameleonthis👇 chattisgarh has seen ra...\n",
              "49156  2021-04-08  an after effect of the moderna covid vaccine t...\n",
              "50430  2021-04-08  got my first does of sputnikv covid vaccinatio..."
            ]
          },
          "metadata": {
            "tags": []
          }
        },
        {
          "output_type": "display_data",
          "data": {
            "text/html": [
              "<div>\n",
              "<style scoped>\n",
              "    .dataframe tbody tr th:only-of-type {\n",
              "        vertical-align: middle;\n",
              "    }\n",
              "\n",
              "    .dataframe tbody tr th {\n",
              "        vertical-align: top;\n",
              "    }\n",
              "\n",
              "    .dataframe thead th {\n",
              "        text-align: right;\n",
              "    }\n",
              "</style>\n",
              "<table border=\"1\" class=\"dataframe\">\n",
              "  <thead>\n",
              "    <tr style=\"text-align: right;\">\n",
              "      <th></th>\n",
              "      <th>date</th>\n",
              "      <th>Clean_text</th>\n",
              "    </tr>\n",
              "  </thead>\n",
              "  <tbody>\n",
              "    <tr>\n",
              "      <th>66439</th>\n",
              "      <td>2021-04-21</td>\n",
              "      <td>great news bharat biotech covaxin announcement...</td>\n",
              "    </tr>\n",
              "    <tr>\n",
              "      <th>66818</th>\n",
              "      <td>2021-04-21</td>\n",
              "      <td>icmr study shows covaxin neutralises against m...</td>\n",
              "    </tr>\n",
              "    <tr>\n",
              "      <th>65683</th>\n",
              "      <td>2021-04-21</td>\n",
              "      <td>india  of those vaccinated with covaxin tested...</td>\n",
              "    </tr>\n",
              "    <tr>\n",
              "      <th>65859</th>\n",
              "      <td>2021-04-21</td>\n",
              "      <td>ok we need more clarity on this covaxin vaccine</td>\n",
              "    </tr>\n",
              "    <tr>\n",
              "      <th>65543</th>\n",
              "      <td>2021-04-21</td>\n",
              "      <td>my debate on todaywhere i call out hypocrisy o...</td>\n",
              "    </tr>\n",
              "    <tr>\n",
              "      <th>65463</th>\n",
              "      <td>2021-04-21</td>\n",
              "      <td>from shashi tharoor to manish tewari ampofcour...</td>\n",
              "    </tr>\n",
              "    <tr>\n",
              "      <th>62057</th>\n",
              "      <td>2021-04-21</td>\n",
              "      <td>initial health checkin vsafe cdc enter info ab...</td>\n",
              "    </tr>\n",
              "    <tr>\n",
              "      <th>66495</th>\n",
              "      <td>2021-04-21</td>\n",
              "      <td>covaxin neutralises multiple variants of coron...</td>\n",
              "    </tr>\n",
              "    <tr>\n",
              "      <th>65736</th>\n",
              "      <td>2021-04-21</td>\n",
              "      <td>just  out of k people who were administered bo...</td>\n",
              "    </tr>\n",
              "    <tr>\n",
              "      <th>66607</th>\n",
              "      <td>2021-04-21</td>\n",
              "      <td>study shows covaxin neutralises against multi...</td>\n",
              "    </tr>\n",
              "  </tbody>\n",
              "</table>\n",
              "</div>"
            ],
            "text/plain": [
              "             date                                         Clean_text\n",
              "66439  2021-04-21  great news bharat biotech covaxin announcement...\n",
              "66818  2021-04-21  icmr study shows covaxin neutralises against m...\n",
              "65683  2021-04-21  india  of those vaccinated with covaxin tested...\n",
              "65859  2021-04-21   ok we need more clarity on this covaxin vaccine \n",
              "65543  2021-04-21  my debate on todaywhere i call out hypocrisy o...\n",
              "65463  2021-04-21  from shashi tharoor to manish tewari ampofcour...\n",
              "62057  2021-04-21  initial health checkin vsafe cdc enter info ab...\n",
              "66495  2021-04-21  covaxin neutralises multiple variants of coron...\n",
              "65736  2021-04-21  just  out of k people who were administered bo...\n",
              "66607  2021-04-21   study shows covaxin neutralises against multi..."
            ]
          },
          "metadata": {
            "tags": []
          }
        }
      ]
    },
    {
      "cell_type": "markdown",
      "metadata": {
        "id": "C6Ah_caOv8OF"
      },
      "source": [
        "# Select 100 random Tweets\n"
      ]
    },
    {
      "cell_type": "code",
      "metadata": {
        "colab": {
          "base_uri": "https://localhost:8080/",
          "height": 830
        },
        "id": "g9dICiemwCjD",
        "outputId": "c028f029-7043-47ab-95dc-e9197dd217a8"
      },
      "source": [
        "#Random_100=np.random.choice(df3, 100)\n",
        "Random_100=df3.sample(100)\n",
        "Random_100"
      ],
      "execution_count": null,
      "outputs": [
        {
          "output_type": "execute_result",
          "data": {
            "text/html": [
              "<div>\n",
              "<style scoped>\n",
              "    .dataframe tbody tr th:only-of-type {\n",
              "        vertical-align: middle;\n",
              "    }\n",
              "\n",
              "    .dataframe tbody tr th {\n",
              "        vertical-align: top;\n",
              "    }\n",
              "\n",
              "    .dataframe thead th {\n",
              "        text-align: right;\n",
              "    }\n",
              "</style>\n",
              "<table border=\"1\" class=\"dataframe\">\n",
              "  <thead>\n",
              "    <tr style=\"text-align: right;\">\n",
              "      <th></th>\n",
              "      <th>Unnamed: 0</th>\n",
              "      <th>id</th>\n",
              "      <th>user_name</th>\n",
              "      <th>user_location</th>\n",
              "      <th>user_description</th>\n",
              "      <th>user_created</th>\n",
              "      <th>user_followers</th>\n",
              "      <th>user_friends</th>\n",
              "      <th>user_favourites</th>\n",
              "      <th>user_verified</th>\n",
              "      <th>date</th>\n",
              "      <th>text</th>\n",
              "      <th>hashtags</th>\n",
              "      <th>source</th>\n",
              "      <th>retweets</th>\n",
              "      <th>favorites</th>\n",
              "      <th>is_retweet</th>\n",
              "      <th>processed_tweets</th>\n",
              "      <th>Polarity</th>\n",
              "      <th>Analysis</th>\n",
              "      <th>long</th>\n",
              "      <th>lat</th>\n",
              "    </tr>\n",
              "  </thead>\n",
              "  <tbody>\n",
              "    <tr>\n",
              "      <th>49370</th>\n",
              "      <td>49371</td>\n",
              "      <td>1.380011e+18</td>\n",
              "      <td>Kumauni</td>\n",
              "      <td>New Delhi, Uttarakhand India</td>\n",
              "      <td>Uttarakhand, Delhi, India.</td>\n",
              "      <td>2012-06-20 19:56:17</td>\n",
              "      <td>7627.0</td>\n",
              "      <td>1149.0</td>\n",
              "      <td>8952.0</td>\n",
              "      <td>False</td>\n",
              "      <td>2021-04-08 04:14:25</td>\n",
              "      <td>If BJP can't manage Covid vaccine management p...</td>\n",
              "      <td>NaN</td>\n",
              "      <td>Twitter Web App</td>\n",
              "      <td>31.0</td>\n",
              "      <td>36.0</td>\n",
              "      <td>False</td>\n",
              "      <td>bjp cant manage covid vaccine management prope...</td>\n",
              "      <td>0.348898</td>\n",
              "      <td>Negative</td>\n",
              "      <td>77.190346</td>\n",
              "      <td>28.583387</td>\n",
              "    </tr>\n",
              "    <tr>\n",
              "      <th>62859</th>\n",
              "      <td>62860</td>\n",
              "      <td>1.384501e+18</td>\n",
              "      <td>#VishalThakkar®🇮🇳</td>\n",
              "      <td>Global</td>\n",
              "      <td>Nationalist | News Savvy | Fact Reader | Data ...</td>\n",
              "      <td>2011-08-03 07:44:48</td>\n",
              "      <td>233.0</td>\n",
              "      <td>411.0</td>\n",
              "      <td>388.0</td>\n",
              "      <td>False</td>\n",
              "      <td>2021-04-20 13:37:24</td>\n",
              "      <td>Companies like #Pfizer and #Moderna refuse to ...</td>\n",
              "      <td>['Pfizer', 'Moderna']</td>\n",
              "      <td>Twitter for Android</td>\n",
              "      <td>0.0</td>\n",
              "      <td>0.0</td>\n",
              "      <td>False</td>\n",
              "      <td>company like pfizer moderna refuse test safety...</td>\n",
              "      <td>0.804106</td>\n",
              "      <td>Positive</td>\n",
              "      <td>-79.348975</td>\n",
              "      <td>43.728619</td>\n",
              "    </tr>\n",
              "    <tr>\n",
              "      <th>897</th>\n",
              "      <td>898</td>\n",
              "      <td>1.339939e+18</td>\n",
              "      <td>DT Next</td>\n",
              "      <td>Chennai, India</td>\n",
              "      <td>English language newspaper by the Daily Thanth...</td>\n",
              "      <td>2015-10-23 12:33:47</td>\n",
              "      <td>6859.0</td>\n",
              "      <td>418.0</td>\n",
              "      <td>148.0</td>\n",
              "      <td>True</td>\n",
              "      <td>2020-12-18 14:20:22</td>\n",
              "      <td>US Vice President @Mike_Pence and his wife @Ka...</td>\n",
              "      <td>NaN</td>\n",
              "      <td>TweetDeck</td>\n",
              "      <td>0.0</td>\n",
              "      <td>0.0</td>\n",
              "      <td>False</td>\n",
              "      <td>u vice president wife received shot friday mor...</td>\n",
              "      <td>0.720105</td>\n",
              "      <td>Positive</td>\n",
              "      <td>80.236543</td>\n",
              "      <td>13.043568</td>\n",
              "    </tr>\n",
              "    <tr>\n",
              "      <th>29631</th>\n",
              "      <td>29632</td>\n",
              "      <td>1.371502e+18</td>\n",
              "      <td>Bring 🇨🇦 Troops Home!</td>\n",
              "      <td>NaN</td>\n",
              "      <td>🇨🇦doesn't need to be in 🇮🇱 Wars!</td>\n",
              "      <td>2013-12-28 13:09:55</td>\n",
              "      <td>926.0</td>\n",
              "      <td>235.0</td>\n",
              "      <td>6475.0</td>\n",
              "      <td>False</td>\n",
              "      <td>2021-03-15 16:40:30</td>\n",
              "      <td>@kady @LeonaAlleslev @lraitt @DavidLametti @CT...</td>\n",
              "      <td>NaN</td>\n",
              "      <td>Twitter Web App</td>\n",
              "      <td>0.0</td>\n",
              "      <td>0.0</td>\n",
              "      <td>False</td>\n",
              "      <td>nan</td>\n",
              "      <td>0.586637</td>\n",
              "      <td>Positive</td>\n",
              "      <td>12.502155</td>\n",
              "      <td>13.187038</td>\n",
              "    </tr>\n",
              "    <tr>\n",
              "      <th>56394</th>\n",
              "      <td>56395</td>\n",
              "      <td>1.381622e+18</td>\n",
              "      <td>𝐂𝐀𝐏𝐓𝐈𝐕𝐀𝐓𝐄𝐃 𝐁𝐘 𝐘𝐎𝐔 ⚡💫</td>\n",
              "      <td>EXO Planet</td>\n",
              "      <td>𝓢𝓱𝓪𝓵𝓵 𝓦𝓮 𝓬𝓻𝓸𝓼𝓼 𝓽𝓱𝓮 𝓼𝓹𝓪𝓻𝓴𝓵𝓲𝓷𝓰 𝓰𝓪𝓵𝓪𝔁𝔂 𝓽𝓸𝓰𝓮𝓽𝓱𝓮𝓻? ...</td>\n",
              "      <td>2017-09-10 16:12:20</td>\n",
              "      <td>113.0</td>\n",
              "      <td>501.0</td>\n",
              "      <td>30054.0</td>\n",
              "      <td>False</td>\n",
              "      <td>2021-04-12 14:55:17</td>\n",
              "      <td>So thankful and blessed to be part of History....</td>\n",
              "      <td>NaN</td>\n",
              "      <td>Twitter Web App</td>\n",
              "      <td>0.0</td>\n",
              "      <td>0.0</td>\n",
              "      <td>False</td>\n",
              "      <td>thankful blessed part history got 2nd dose sin...</td>\n",
              "      <td>0.825490</td>\n",
              "      <td>Positive</td>\n",
              "      <td>NaN</td>\n",
              "      <td>NaN</td>\n",
              "    </tr>\n",
              "    <tr>\n",
              "      <th>...</th>\n",
              "      <td>...</td>\n",
              "      <td>...</td>\n",
              "      <td>...</td>\n",
              "      <td>...</td>\n",
              "      <td>...</td>\n",
              "      <td>...</td>\n",
              "      <td>...</td>\n",
              "      <td>...</td>\n",
              "      <td>...</td>\n",
              "      <td>...</td>\n",
              "      <td>...</td>\n",
              "      <td>...</td>\n",
              "      <td>...</td>\n",
              "      <td>...</td>\n",
              "      <td>...</td>\n",
              "      <td>...</td>\n",
              "      <td>...</td>\n",
              "      <td>...</td>\n",
              "      <td>...</td>\n",
              "      <td>...</td>\n",
              "      <td>...</td>\n",
              "      <td>...</td>\n",
              "    </tr>\n",
              "    <tr>\n",
              "      <th>48520</th>\n",
              "      <td>48521</td>\n",
              "      <td>1.380602e+18</td>\n",
              "      <td>Carole Ferguson</td>\n",
              "      <td>Calif</td>\n",
              "      <td>Lover of big books, big music, big hair, big i...</td>\n",
              "      <td>2018-03-30 21:13:19</td>\n",
              "      <td>151.0</td>\n",
              "      <td>1184.0</td>\n",
              "      <td>1693.0</td>\n",
              "      <td>False</td>\n",
              "      <td>2021-04-09 19:23:02</td>\n",
              "      <td>Dang, this #Moderna shot is trippy.</td>\n",
              "      <td>['Moderna']</td>\n",
              "      <td>Twitter for iPhone</td>\n",
              "      <td>0.0</td>\n",
              "      <td>0.0</td>\n",
              "      <td>False</td>\n",
              "      <td>dang moderna shot trippy</td>\n",
              "      <td>0.182329</td>\n",
              "      <td>Negative</td>\n",
              "      <td>-119.306392</td>\n",
              "      <td>37.269511</td>\n",
              "    </tr>\n",
              "    <tr>\n",
              "      <th>59286</th>\n",
              "      <td>59287</td>\n",
              "      <td>1.382893e+18</td>\n",
              "      <td>NTD News</td>\n",
              "      <td>New York, NY</td>\n",
              "      <td>Your independent voice in TV news—bringing bac...</td>\n",
              "      <td>2018-11-08 16:41:42</td>\n",
              "      <td>69795.0</td>\n",
              "      <td>34.0</td>\n",
              "      <td>1089.0</td>\n",
              "      <td>False</td>\n",
              "      <td>2021-04-16 03:05:01</td>\n",
              "      <td>“I anticipate in the next year or so, we’re go...</td>\n",
              "      <td>NaN</td>\n",
              "      <td>Buffer</td>\n",
              "      <td>12.0</td>\n",
              "      <td>5.0</td>\n",
              "      <td>False</td>\n",
              "      <td>anticipate next year going see lot variant ceo...</td>\n",
              "      <td>0.772809</td>\n",
              "      <td>Positive</td>\n",
              "      <td>-73.979635</td>\n",
              "      <td>40.696789</td>\n",
              "    </tr>\n",
              "    <tr>\n",
              "      <th>33493</th>\n",
              "      <td>33494</td>\n",
              "      <td>1.372882e+18</td>\n",
              "      <td>Mark”Charlie”Philpott</td>\n",
              "      <td>Falmouth, England</td>\n",
              "      <td>West Ham fan since 1975 All opinions are my own.</td>\n",
              "      <td>2012-08-16 21:07:33</td>\n",
              "      <td>469.0</td>\n",
              "      <td>1035.0</td>\n",
              "      <td>2852.0</td>\n",
              "      <td>False</td>\n",
              "      <td>2021-03-19 12:05:35</td>\n",
              "      <td>Just had my #OxfordAstraZeneca jab. So far so ...</td>\n",
              "      <td>['OxfordAstraZeneca', 'therealheroes', 'volunt...</td>\n",
              "      <td>Twitter for iPhone</td>\n",
              "      <td>0.0</td>\n",
              "      <td>3.0</td>\n",
              "      <td>False</td>\n",
              "      <td>oxfordastrazeneca jab far good thank therealhe...</td>\n",
              "      <td>0.991370</td>\n",
              "      <td>Positive</td>\n",
              "      <td>-5.068826</td>\n",
              "      <td>50.155220</td>\n",
              "    </tr>\n",
              "    <tr>\n",
              "      <th>38646</th>\n",
              "      <td>38647</td>\n",
              "      <td>1.375565e+18</td>\n",
              "      <td>The Win Ott 🇺🇸</td>\n",
              "      <td>South Carolina, USA</td>\n",
              "      <td>Naturalist, photographer, anti-fascist, actor,...</td>\n",
              "      <td>2016-08-15 23:47:17</td>\n",
              "      <td>276.0</td>\n",
              "      <td>543.0</td>\n",
              "      <td>51173.0</td>\n",
              "      <td>False</td>\n",
              "      <td>2021-03-26 21:47:03</td>\n",
              "      <td>Aw yeah... I gots all my shots!\\n#PfizerBioNTe...</td>\n",
              "      <td>['PfizerBioNTech', 'vaccinated', 'TenFeetTallA...</td>\n",
              "      <td>Twitter for iPhone</td>\n",
              "      <td>0.0</td>\n",
              "      <td>8.0</td>\n",
              "      <td>False</td>\n",
              "      <td>aw yeah gots shot pfizerbiontech vaccinated te...</td>\n",
              "      <td>0.334594</td>\n",
              "      <td>Negative</td>\n",
              "      <td>-80.947676</td>\n",
              "      <td>33.624470</td>\n",
              "    </tr>\n",
              "    <tr>\n",
              "      <th>69106</th>\n",
              "      <td>69107</td>\n",
              "      <td>1.382954e+18</td>\n",
              "      <td>The Daily Star</td>\n",
              "      <td>Bangladesh</td>\n",
              "      <td>Bangladesh's largest English Daily. The latest...</td>\n",
              "      <td>2009-09-27 08:54:28</td>\n",
              "      <td>923772.0</td>\n",
              "      <td>59.0</td>\n",
              "      <td>481.0</td>\n",
              "      <td>True</td>\n",
              "      <td>2021-04-16 07:08:10</td>\n",
              "      <td>#SouthKorea 's Huons Global said on Friday (Ap...</td>\n",
              "      <td>['SouthKorea']</td>\n",
              "      <td>Twitter Web App</td>\n",
              "      <td>1.0</td>\n",
              "      <td>8.0</td>\n",
              "      <td>False</td>\n",
              "      <td>southkorea huons global said friday apr 16 lea...</td>\n",
              "      <td>0.415346</td>\n",
              "      <td>Negative</td>\n",
              "      <td>90.344206</td>\n",
              "      <td>23.506956</td>\n",
              "    </tr>\n",
              "  </tbody>\n",
              "</table>\n",
              "<p>100 rows × 22 columns</p>\n",
              "</div>"
            ],
            "text/plain": [
              "       Unnamed: 0            id  ...        long        lat\n",
              "49370       49371  1.380011e+18  ...   77.190346  28.583387\n",
              "62859       62860  1.384501e+18  ...  -79.348975  43.728619\n",
              "897           898  1.339939e+18  ...   80.236543  13.043568\n",
              "29631       29632  1.371502e+18  ...   12.502155  13.187038\n",
              "56394       56395  1.381622e+18  ...         NaN        NaN\n",
              "...           ...           ...  ...         ...        ...\n",
              "48520       48521  1.380602e+18  ... -119.306392  37.269511\n",
              "59286       59287  1.382893e+18  ...  -73.979635  40.696789\n",
              "33493       33494  1.372882e+18  ...   -5.068826  50.155220\n",
              "38646       38647  1.375565e+18  ...  -80.947676  33.624470\n",
              "69106       69107  1.382954e+18  ...   90.344206  23.506956\n",
              "\n",
              "[100 rows x 22 columns]"
            ]
          },
          "metadata": {
            "tags": []
          },
          "execution_count": 29
        }
      ]
    },
    {
      "cell_type": "code",
      "metadata": {
        "id": "QHfJ1poyz66B"
      },
      "source": [
        "Random_100.to_csv(\"100_test.csv\")"
      ],
      "execution_count": null,
      "outputs": []
    },
    {
      "cell_type": "code",
      "metadata": {
        "colab": {
          "base_uri": "https://localhost:8080/",
          "height": 37
        },
        "id": "T8FXhlym-7Z-",
        "outputId": "60eb5fe9-27cf-4826-80a9-4c54e079905a"
      },
      "source": [
        "true_sentiment = pd.read_csv(\"/content/true_sentiment.csv\")\n",
        "true_sentiment[\"100_test\"][0]"
      ],
      "execution_count": null,
      "outputs": [
        {
          "output_type": "execute_result",
          "data": {
            "application/vnd.google.colaboratory.intrinsic+json": {
              "type": "string"
            },
            "text/plain": [
              "'True Sentiment'"
            ]
          },
          "metadata": {
            "tags": []
          },
          "execution_count": 68
        }
      ]
    },
    {
      "cell_type": "code",
      "metadata": {
        "id": "kJK_NxYqC4aN"
      },
      "source": [
        "#converting pandas object to a string type\n",
        "true_sentiment['100_test'] = true_sentiment['100_test'].astype('str')"
      ],
      "execution_count": null,
      "outputs": []
    },
    {
      "cell_type": "code",
      "metadata": {
        "id": "svrGnY9pBCkc"
      },
      "source": [
        "Random_100 = Random_100.reset_index(drop = True)"
      ],
      "execution_count": null,
      "outputs": []
    },
    {
      "cell_type": "code",
      "metadata": {
        "colab": {
          "base_uri": "https://localhost:8080/",
          "height": 830
        },
        "id": "QQcGJPW8KrR7",
        "outputId": "a5b5701b-6828-43c9-c6ec-26b645fcf30b"
      },
      "source": [
        "Random_100"
      ],
      "execution_count": null,
      "outputs": [
        {
          "output_type": "execute_result",
          "data": {
            "text/html": [
              "<div>\n",
              "<style scoped>\n",
              "    .dataframe tbody tr th:only-of-type {\n",
              "        vertical-align: middle;\n",
              "    }\n",
              "\n",
              "    .dataframe tbody tr th {\n",
              "        vertical-align: top;\n",
              "    }\n",
              "\n",
              "    .dataframe thead th {\n",
              "        text-align: right;\n",
              "    }\n",
              "</style>\n",
              "<table border=\"1\" class=\"dataframe\">\n",
              "  <thead>\n",
              "    <tr style=\"text-align: right;\">\n",
              "      <th></th>\n",
              "      <th>Unnamed: 0</th>\n",
              "      <th>id</th>\n",
              "      <th>user_name</th>\n",
              "      <th>user_location</th>\n",
              "      <th>user_description</th>\n",
              "      <th>user_created</th>\n",
              "      <th>user_followers</th>\n",
              "      <th>user_friends</th>\n",
              "      <th>user_favourites</th>\n",
              "      <th>user_verified</th>\n",
              "      <th>date</th>\n",
              "      <th>text</th>\n",
              "      <th>hashtags</th>\n",
              "      <th>source</th>\n",
              "      <th>retweets</th>\n",
              "      <th>favorites</th>\n",
              "      <th>is_retweet</th>\n",
              "      <th>processed_tweets</th>\n",
              "      <th>Polarity</th>\n",
              "      <th>Analysis</th>\n",
              "      <th>long</th>\n",
              "      <th>lat</th>\n",
              "      <th>True Sentiment</th>\n",
              "    </tr>\n",
              "  </thead>\n",
              "  <tbody>\n",
              "    <tr>\n",
              "      <th>0</th>\n",
              "      <td>49371</td>\n",
              "      <td>1.380011e+18</td>\n",
              "      <td>Kumauni</td>\n",
              "      <td>New Delhi, Uttarakhand India</td>\n",
              "      <td>Uttarakhand, Delhi, India.</td>\n",
              "      <td>2012-06-20 19:56:17</td>\n",
              "      <td>7627.0</td>\n",
              "      <td>1149.0</td>\n",
              "      <td>8952.0</td>\n",
              "      <td>False</td>\n",
              "      <td>2021-04-08 04:14:25</td>\n",
              "      <td>If BJP can't manage Covid vaccine management p...</td>\n",
              "      <td>NaN</td>\n",
              "      <td>Twitter Web App</td>\n",
              "      <td>31.0</td>\n",
              "      <td>36.0</td>\n",
              "      <td>False</td>\n",
              "      <td>bjp cant manage covid vaccine management prope...</td>\n",
              "      <td>0.348898</td>\n",
              "      <td>Negative</td>\n",
              "      <td>77.190346</td>\n",
              "      <td>28.583387</td>\n",
              "      <td>NaN</td>\n",
              "    </tr>\n",
              "    <tr>\n",
              "      <th>1</th>\n",
              "      <td>62860</td>\n",
              "      <td>1.384501e+18</td>\n",
              "      <td>#VishalThakkar®🇮🇳</td>\n",
              "      <td>Global</td>\n",
              "      <td>Nationalist | News Savvy | Fact Reader | Data ...</td>\n",
              "      <td>2011-08-03 07:44:48</td>\n",
              "      <td>233.0</td>\n",
              "      <td>411.0</td>\n",
              "      <td>388.0</td>\n",
              "      <td>False</td>\n",
              "      <td>2021-04-20 13:37:24</td>\n",
              "      <td>Companies like #Pfizer and #Moderna refuse to ...</td>\n",
              "      <td>['Pfizer', 'Moderna']</td>\n",
              "      <td>Twitter for Android</td>\n",
              "      <td>0.0</td>\n",
              "      <td>0.0</td>\n",
              "      <td>False</td>\n",
              "      <td>company like pfizer moderna refuse test safety...</td>\n",
              "      <td>0.804106</td>\n",
              "      <td>Positive</td>\n",
              "      <td>-79.348975</td>\n",
              "      <td>43.728619</td>\n",
              "      <td>NaN</td>\n",
              "    </tr>\n",
              "    <tr>\n",
              "      <th>2</th>\n",
              "      <td>898</td>\n",
              "      <td>1.339939e+18</td>\n",
              "      <td>DT Next</td>\n",
              "      <td>Chennai, India</td>\n",
              "      <td>English language newspaper by the Daily Thanth...</td>\n",
              "      <td>2015-10-23 12:33:47</td>\n",
              "      <td>6859.0</td>\n",
              "      <td>418.0</td>\n",
              "      <td>148.0</td>\n",
              "      <td>True</td>\n",
              "      <td>2020-12-18 14:20:22</td>\n",
              "      <td>US Vice President @Mike_Pence and his wife @Ka...</td>\n",
              "      <td>NaN</td>\n",
              "      <td>TweetDeck</td>\n",
              "      <td>0.0</td>\n",
              "      <td>0.0</td>\n",
              "      <td>False</td>\n",
              "      <td>u vice president wife received shot friday mor...</td>\n",
              "      <td>0.720105</td>\n",
              "      <td>Positive</td>\n",
              "      <td>80.236543</td>\n",
              "      <td>13.043568</td>\n",
              "      <td>NaN</td>\n",
              "    </tr>\n",
              "    <tr>\n",
              "      <th>3</th>\n",
              "      <td>29632</td>\n",
              "      <td>1.371502e+18</td>\n",
              "      <td>Bring 🇨🇦 Troops Home!</td>\n",
              "      <td>NaN</td>\n",
              "      <td>🇨🇦doesn't need to be in 🇮🇱 Wars!</td>\n",
              "      <td>2013-12-28 13:09:55</td>\n",
              "      <td>926.0</td>\n",
              "      <td>235.0</td>\n",
              "      <td>6475.0</td>\n",
              "      <td>False</td>\n",
              "      <td>2021-03-15 16:40:30</td>\n",
              "      <td>@kady @LeonaAlleslev @lraitt @DavidLametti @CT...</td>\n",
              "      <td>NaN</td>\n",
              "      <td>Twitter Web App</td>\n",
              "      <td>0.0</td>\n",
              "      <td>0.0</td>\n",
              "      <td>False</td>\n",
              "      <td>nan</td>\n",
              "      <td>0.586637</td>\n",
              "      <td>Positive</td>\n",
              "      <td>12.502155</td>\n",
              "      <td>13.187038</td>\n",
              "      <td>NaN</td>\n",
              "    </tr>\n",
              "    <tr>\n",
              "      <th>4</th>\n",
              "      <td>56395</td>\n",
              "      <td>1.381622e+18</td>\n",
              "      <td>𝐂𝐀𝐏𝐓𝐈𝐕𝐀𝐓𝐄𝐃 𝐁𝐘 𝐘𝐎𝐔 ⚡💫</td>\n",
              "      <td>EXO Planet</td>\n",
              "      <td>𝓢𝓱𝓪𝓵𝓵 𝓦𝓮 𝓬𝓻𝓸𝓼𝓼 𝓽𝓱𝓮 𝓼𝓹𝓪𝓻𝓴𝓵𝓲𝓷𝓰 𝓰𝓪𝓵𝓪𝔁𝔂 𝓽𝓸𝓰𝓮𝓽𝓱𝓮𝓻? ...</td>\n",
              "      <td>2017-09-10 16:12:20</td>\n",
              "      <td>113.0</td>\n",
              "      <td>501.0</td>\n",
              "      <td>30054.0</td>\n",
              "      <td>False</td>\n",
              "      <td>2021-04-12 14:55:17</td>\n",
              "      <td>So thankful and blessed to be part of History....</td>\n",
              "      <td>NaN</td>\n",
              "      <td>Twitter Web App</td>\n",
              "      <td>0.0</td>\n",
              "      <td>0.0</td>\n",
              "      <td>False</td>\n",
              "      <td>thankful blessed part history got 2nd dose sin...</td>\n",
              "      <td>0.825490</td>\n",
              "      <td>Positive</td>\n",
              "      <td>NaN</td>\n",
              "      <td>NaN</td>\n",
              "      <td>NaN</td>\n",
              "    </tr>\n",
              "    <tr>\n",
              "      <th>...</th>\n",
              "      <td>...</td>\n",
              "      <td>...</td>\n",
              "      <td>...</td>\n",
              "      <td>...</td>\n",
              "      <td>...</td>\n",
              "      <td>...</td>\n",
              "      <td>...</td>\n",
              "      <td>...</td>\n",
              "      <td>...</td>\n",
              "      <td>...</td>\n",
              "      <td>...</td>\n",
              "      <td>...</td>\n",
              "      <td>...</td>\n",
              "      <td>...</td>\n",
              "      <td>...</td>\n",
              "      <td>...</td>\n",
              "      <td>...</td>\n",
              "      <td>...</td>\n",
              "      <td>...</td>\n",
              "      <td>...</td>\n",
              "      <td>...</td>\n",
              "      <td>...</td>\n",
              "      <td>...</td>\n",
              "    </tr>\n",
              "    <tr>\n",
              "      <th>95</th>\n",
              "      <td>48521</td>\n",
              "      <td>1.380602e+18</td>\n",
              "      <td>Carole Ferguson</td>\n",
              "      <td>Calif</td>\n",
              "      <td>Lover of big books, big music, big hair, big i...</td>\n",
              "      <td>2018-03-30 21:13:19</td>\n",
              "      <td>151.0</td>\n",
              "      <td>1184.0</td>\n",
              "      <td>1693.0</td>\n",
              "      <td>False</td>\n",
              "      <td>2021-04-09 19:23:02</td>\n",
              "      <td>Dang, this #Moderna shot is trippy.</td>\n",
              "      <td>['Moderna']</td>\n",
              "      <td>Twitter for iPhone</td>\n",
              "      <td>0.0</td>\n",
              "      <td>0.0</td>\n",
              "      <td>False</td>\n",
              "      <td>dang moderna shot trippy</td>\n",
              "      <td>0.182329</td>\n",
              "      <td>Negative</td>\n",
              "      <td>-119.306392</td>\n",
              "      <td>37.269511</td>\n",
              "      <td>NaN</td>\n",
              "    </tr>\n",
              "    <tr>\n",
              "      <th>96</th>\n",
              "      <td>59287</td>\n",
              "      <td>1.382893e+18</td>\n",
              "      <td>NTD News</td>\n",
              "      <td>New York, NY</td>\n",
              "      <td>Your independent voice in TV news—bringing bac...</td>\n",
              "      <td>2018-11-08 16:41:42</td>\n",
              "      <td>69795.0</td>\n",
              "      <td>34.0</td>\n",
              "      <td>1089.0</td>\n",
              "      <td>False</td>\n",
              "      <td>2021-04-16 03:05:01</td>\n",
              "      <td>“I anticipate in the next year or so, we’re go...</td>\n",
              "      <td>NaN</td>\n",
              "      <td>Buffer</td>\n",
              "      <td>12.0</td>\n",
              "      <td>5.0</td>\n",
              "      <td>False</td>\n",
              "      <td>anticipate next year going see lot variant ceo...</td>\n",
              "      <td>0.772809</td>\n",
              "      <td>Positive</td>\n",
              "      <td>-73.979635</td>\n",
              "      <td>40.696789</td>\n",
              "      <td>NaN</td>\n",
              "    </tr>\n",
              "    <tr>\n",
              "      <th>97</th>\n",
              "      <td>33494</td>\n",
              "      <td>1.372882e+18</td>\n",
              "      <td>Mark”Charlie”Philpott</td>\n",
              "      <td>Falmouth, England</td>\n",
              "      <td>West Ham fan since 1975 All opinions are my own.</td>\n",
              "      <td>2012-08-16 21:07:33</td>\n",
              "      <td>469.0</td>\n",
              "      <td>1035.0</td>\n",
              "      <td>2852.0</td>\n",
              "      <td>False</td>\n",
              "      <td>2021-03-19 12:05:35</td>\n",
              "      <td>Just had my #OxfordAstraZeneca jab. So far so ...</td>\n",
              "      <td>['OxfordAstraZeneca', 'therealheroes', 'volunt...</td>\n",
              "      <td>Twitter for iPhone</td>\n",
              "      <td>0.0</td>\n",
              "      <td>3.0</td>\n",
              "      <td>False</td>\n",
              "      <td>oxfordastrazeneca jab far good thank therealhe...</td>\n",
              "      <td>0.991370</td>\n",
              "      <td>Positive</td>\n",
              "      <td>-5.068826</td>\n",
              "      <td>50.155220</td>\n",
              "      <td>NaN</td>\n",
              "    </tr>\n",
              "    <tr>\n",
              "      <th>98</th>\n",
              "      <td>38647</td>\n",
              "      <td>1.375565e+18</td>\n",
              "      <td>The Win Ott 🇺🇸</td>\n",
              "      <td>South Carolina, USA</td>\n",
              "      <td>Naturalist, photographer, anti-fascist, actor,...</td>\n",
              "      <td>2016-08-15 23:47:17</td>\n",
              "      <td>276.0</td>\n",
              "      <td>543.0</td>\n",
              "      <td>51173.0</td>\n",
              "      <td>False</td>\n",
              "      <td>2021-03-26 21:47:03</td>\n",
              "      <td>Aw yeah... I gots all my shots!\\n#PfizerBioNTe...</td>\n",
              "      <td>['PfizerBioNTech', 'vaccinated', 'TenFeetTallA...</td>\n",
              "      <td>Twitter for iPhone</td>\n",
              "      <td>0.0</td>\n",
              "      <td>8.0</td>\n",
              "      <td>False</td>\n",
              "      <td>aw yeah gots shot pfizerbiontech vaccinated te...</td>\n",
              "      <td>0.334594</td>\n",
              "      <td>Negative</td>\n",
              "      <td>-80.947676</td>\n",
              "      <td>33.624470</td>\n",
              "      <td>NaN</td>\n",
              "    </tr>\n",
              "    <tr>\n",
              "      <th>99</th>\n",
              "      <td>69107</td>\n",
              "      <td>1.382954e+18</td>\n",
              "      <td>The Daily Star</td>\n",
              "      <td>Bangladesh</td>\n",
              "      <td>Bangladesh's largest English Daily. The latest...</td>\n",
              "      <td>2009-09-27 08:54:28</td>\n",
              "      <td>923772.0</td>\n",
              "      <td>59.0</td>\n",
              "      <td>481.0</td>\n",
              "      <td>True</td>\n",
              "      <td>2021-04-16 07:08:10</td>\n",
              "      <td>#SouthKorea 's Huons Global said on Friday (Ap...</td>\n",
              "      <td>['SouthKorea']</td>\n",
              "      <td>Twitter Web App</td>\n",
              "      <td>1.0</td>\n",
              "      <td>8.0</td>\n",
              "      <td>False</td>\n",
              "      <td>southkorea huons global said friday apr 16 lea...</td>\n",
              "      <td>0.415346</td>\n",
              "      <td>Negative</td>\n",
              "      <td>90.344206</td>\n",
              "      <td>23.506956</td>\n",
              "      <td>NaN</td>\n",
              "    </tr>\n",
              "  </tbody>\n",
              "</table>\n",
              "<p>100 rows × 23 columns</p>\n",
              "</div>"
            ],
            "text/plain": [
              "    Unnamed: 0            id  ...        lat True Sentiment\n",
              "0        49371  1.380011e+18  ...  28.583387            NaN\n",
              "1        62860  1.384501e+18  ...  43.728619            NaN\n",
              "2          898  1.339939e+18  ...  13.043568            NaN\n",
              "3        29632  1.371502e+18  ...  13.187038            NaN\n",
              "4        56395  1.381622e+18  ...        NaN            NaN\n",
              "..         ...           ...  ...        ...            ...\n",
              "95       48521  1.380602e+18  ...  37.269511            NaN\n",
              "96       59287  1.382893e+18  ...  40.696789            NaN\n",
              "97       33494  1.372882e+18  ...  50.155220            NaN\n",
              "98       38647  1.375565e+18  ...  33.624470            NaN\n",
              "99       69107  1.382954e+18  ...  23.506956            NaN\n",
              "\n",
              "[100 rows x 23 columns]"
            ]
          },
          "metadata": {
            "tags": []
          },
          "execution_count": 74
        }
      ]
    },
    {
      "cell_type": "code",
      "metadata": {
        "id": "P6jlRBkhLbjB"
      },
      "source": [
        "true_sentiment = true_sentiment[\"100_test\"][1:]\n"
      ],
      "execution_count": null,
      "outputs": []
    },
    {
      "cell_type": "code",
      "metadata": {
        "colab": {
          "base_uri": "https://localhost:8080/"
        },
        "id": "Xw-DO1ATMC3N",
        "outputId": "de6cb70d-b16b-47ac-a594-38e2c5f7490e"
      },
      "source": [
        "true_sentiment = true_sentiment.reset_index(drop = True)\n",
        "true_sentiment"
      ],
      "execution_count": null,
      "outputs": [
        {
          "output_type": "execute_result",
          "data": {
            "text/plain": [
              "0     Negative\n",
              "1     Positive\n",
              "2     Positive\n",
              "3          NaN\n",
              "4     Positive\n",
              "        ...   \n",
              "95    Negative\n",
              "96    Positive\n",
              "97    Positive\n",
              "98    Positive\n",
              "99    Positive\n",
              "Name: 100_test, Length: 100, dtype: object"
            ]
          },
          "metadata": {
            "tags": []
          },
          "execution_count": 87
        }
      ]
    },
    {
      "cell_type": "code",
      "metadata": {
        "colab": {
          "base_uri": "https://localhost:8080/",
          "height": 830
        },
        "id": "pTEKssYFA0gM",
        "outputId": "ad5f4b94-15b1-473a-dffd-36c25a1beb46"
      },
      "source": [
        "Random_100[\"True Sentiment\"] = true_sentiment\n",
        "Metric_test = Random_100\n",
        "Metric_test"
      ],
      "execution_count": null,
      "outputs": [
        {
          "output_type": "execute_result",
          "data": {
            "text/html": [
              "<div>\n",
              "<style scoped>\n",
              "    .dataframe tbody tr th:only-of-type {\n",
              "        vertical-align: middle;\n",
              "    }\n",
              "\n",
              "    .dataframe tbody tr th {\n",
              "        vertical-align: top;\n",
              "    }\n",
              "\n",
              "    .dataframe thead th {\n",
              "        text-align: right;\n",
              "    }\n",
              "</style>\n",
              "<table border=\"1\" class=\"dataframe\">\n",
              "  <thead>\n",
              "    <tr style=\"text-align: right;\">\n",
              "      <th></th>\n",
              "      <th>Unnamed: 0</th>\n",
              "      <th>id</th>\n",
              "      <th>user_name</th>\n",
              "      <th>user_location</th>\n",
              "      <th>user_description</th>\n",
              "      <th>user_created</th>\n",
              "      <th>user_followers</th>\n",
              "      <th>user_friends</th>\n",
              "      <th>user_favourites</th>\n",
              "      <th>user_verified</th>\n",
              "      <th>date</th>\n",
              "      <th>text</th>\n",
              "      <th>hashtags</th>\n",
              "      <th>source</th>\n",
              "      <th>retweets</th>\n",
              "      <th>favorites</th>\n",
              "      <th>is_retweet</th>\n",
              "      <th>processed_tweets</th>\n",
              "      <th>Polarity</th>\n",
              "      <th>Analysis</th>\n",
              "      <th>long</th>\n",
              "      <th>lat</th>\n",
              "      <th>True Sentiment</th>\n",
              "    </tr>\n",
              "  </thead>\n",
              "  <tbody>\n",
              "    <tr>\n",
              "      <th>0</th>\n",
              "      <td>49371</td>\n",
              "      <td>1.380011e+18</td>\n",
              "      <td>Kumauni</td>\n",
              "      <td>New Delhi, Uttarakhand India</td>\n",
              "      <td>Uttarakhand, Delhi, India.</td>\n",
              "      <td>2012-06-20 19:56:17</td>\n",
              "      <td>7627.0</td>\n",
              "      <td>1149.0</td>\n",
              "      <td>8952.0</td>\n",
              "      <td>False</td>\n",
              "      <td>2021-04-08 04:14:25</td>\n",
              "      <td>If BJP can't manage Covid vaccine management p...</td>\n",
              "      <td>NaN</td>\n",
              "      <td>Twitter Web App</td>\n",
              "      <td>31.0</td>\n",
              "      <td>36.0</td>\n",
              "      <td>False</td>\n",
              "      <td>bjp cant manage covid vaccine management prope...</td>\n",
              "      <td>0.348898</td>\n",
              "      <td>Negative</td>\n",
              "      <td>77.190346</td>\n",
              "      <td>28.583387</td>\n",
              "      <td>Negative</td>\n",
              "    </tr>\n",
              "    <tr>\n",
              "      <th>1</th>\n",
              "      <td>62860</td>\n",
              "      <td>1.384501e+18</td>\n",
              "      <td>#VishalThakkar®🇮🇳</td>\n",
              "      <td>Global</td>\n",
              "      <td>Nationalist | News Savvy | Fact Reader | Data ...</td>\n",
              "      <td>2011-08-03 07:44:48</td>\n",
              "      <td>233.0</td>\n",
              "      <td>411.0</td>\n",
              "      <td>388.0</td>\n",
              "      <td>False</td>\n",
              "      <td>2021-04-20 13:37:24</td>\n",
              "      <td>Companies like #Pfizer and #Moderna refuse to ...</td>\n",
              "      <td>['Pfizer', 'Moderna']</td>\n",
              "      <td>Twitter for Android</td>\n",
              "      <td>0.0</td>\n",
              "      <td>0.0</td>\n",
              "      <td>False</td>\n",
              "      <td>company like pfizer moderna refuse test safety...</td>\n",
              "      <td>0.804106</td>\n",
              "      <td>Positive</td>\n",
              "      <td>-79.348975</td>\n",
              "      <td>43.728619</td>\n",
              "      <td>Positive</td>\n",
              "    </tr>\n",
              "    <tr>\n",
              "      <th>2</th>\n",
              "      <td>898</td>\n",
              "      <td>1.339939e+18</td>\n",
              "      <td>DT Next</td>\n",
              "      <td>Chennai, India</td>\n",
              "      <td>English language newspaper by the Daily Thanth...</td>\n",
              "      <td>2015-10-23 12:33:47</td>\n",
              "      <td>6859.0</td>\n",
              "      <td>418.0</td>\n",
              "      <td>148.0</td>\n",
              "      <td>True</td>\n",
              "      <td>2020-12-18 14:20:22</td>\n",
              "      <td>US Vice President @Mike_Pence and his wife @Ka...</td>\n",
              "      <td>NaN</td>\n",
              "      <td>TweetDeck</td>\n",
              "      <td>0.0</td>\n",
              "      <td>0.0</td>\n",
              "      <td>False</td>\n",
              "      <td>u vice president wife received shot friday mor...</td>\n",
              "      <td>0.720105</td>\n",
              "      <td>Positive</td>\n",
              "      <td>80.236543</td>\n",
              "      <td>13.043568</td>\n",
              "      <td>Positive</td>\n",
              "    </tr>\n",
              "    <tr>\n",
              "      <th>3</th>\n",
              "      <td>29632</td>\n",
              "      <td>1.371502e+18</td>\n",
              "      <td>Bring 🇨🇦 Troops Home!</td>\n",
              "      <td>NaN</td>\n",
              "      <td>🇨🇦doesn't need to be in 🇮🇱 Wars!</td>\n",
              "      <td>2013-12-28 13:09:55</td>\n",
              "      <td>926.0</td>\n",
              "      <td>235.0</td>\n",
              "      <td>6475.0</td>\n",
              "      <td>False</td>\n",
              "      <td>2021-03-15 16:40:30</td>\n",
              "      <td>@kady @LeonaAlleslev @lraitt @DavidLametti @CT...</td>\n",
              "      <td>NaN</td>\n",
              "      <td>Twitter Web App</td>\n",
              "      <td>0.0</td>\n",
              "      <td>0.0</td>\n",
              "      <td>False</td>\n",
              "      <td>nan</td>\n",
              "      <td>0.586637</td>\n",
              "      <td>Positive</td>\n",
              "      <td>12.502155</td>\n",
              "      <td>13.187038</td>\n",
              "      <td>NaN</td>\n",
              "    </tr>\n",
              "    <tr>\n",
              "      <th>4</th>\n",
              "      <td>56395</td>\n",
              "      <td>1.381622e+18</td>\n",
              "      <td>𝐂𝐀𝐏𝐓𝐈𝐕𝐀𝐓𝐄𝐃 𝐁𝐘 𝐘𝐎𝐔 ⚡💫</td>\n",
              "      <td>EXO Planet</td>\n",
              "      <td>𝓢𝓱𝓪𝓵𝓵 𝓦𝓮 𝓬𝓻𝓸𝓼𝓼 𝓽𝓱𝓮 𝓼𝓹𝓪𝓻𝓴𝓵𝓲𝓷𝓰 𝓰𝓪𝓵𝓪𝔁𝔂 𝓽𝓸𝓰𝓮𝓽𝓱𝓮𝓻? ...</td>\n",
              "      <td>2017-09-10 16:12:20</td>\n",
              "      <td>113.0</td>\n",
              "      <td>501.0</td>\n",
              "      <td>30054.0</td>\n",
              "      <td>False</td>\n",
              "      <td>2021-04-12 14:55:17</td>\n",
              "      <td>So thankful and blessed to be part of History....</td>\n",
              "      <td>NaN</td>\n",
              "      <td>Twitter Web App</td>\n",
              "      <td>0.0</td>\n",
              "      <td>0.0</td>\n",
              "      <td>False</td>\n",
              "      <td>thankful blessed part history got 2nd dose sin...</td>\n",
              "      <td>0.825490</td>\n",
              "      <td>Positive</td>\n",
              "      <td>NaN</td>\n",
              "      <td>NaN</td>\n",
              "      <td>Positive</td>\n",
              "    </tr>\n",
              "    <tr>\n",
              "      <th>...</th>\n",
              "      <td>...</td>\n",
              "      <td>...</td>\n",
              "      <td>...</td>\n",
              "      <td>...</td>\n",
              "      <td>...</td>\n",
              "      <td>...</td>\n",
              "      <td>...</td>\n",
              "      <td>...</td>\n",
              "      <td>...</td>\n",
              "      <td>...</td>\n",
              "      <td>...</td>\n",
              "      <td>...</td>\n",
              "      <td>...</td>\n",
              "      <td>...</td>\n",
              "      <td>...</td>\n",
              "      <td>...</td>\n",
              "      <td>...</td>\n",
              "      <td>...</td>\n",
              "      <td>...</td>\n",
              "      <td>...</td>\n",
              "      <td>...</td>\n",
              "      <td>...</td>\n",
              "      <td>...</td>\n",
              "    </tr>\n",
              "    <tr>\n",
              "      <th>95</th>\n",
              "      <td>48521</td>\n",
              "      <td>1.380602e+18</td>\n",
              "      <td>Carole Ferguson</td>\n",
              "      <td>Calif</td>\n",
              "      <td>Lover of big books, big music, big hair, big i...</td>\n",
              "      <td>2018-03-30 21:13:19</td>\n",
              "      <td>151.0</td>\n",
              "      <td>1184.0</td>\n",
              "      <td>1693.0</td>\n",
              "      <td>False</td>\n",
              "      <td>2021-04-09 19:23:02</td>\n",
              "      <td>Dang, this #Moderna shot is trippy.</td>\n",
              "      <td>['Moderna']</td>\n",
              "      <td>Twitter for iPhone</td>\n",
              "      <td>0.0</td>\n",
              "      <td>0.0</td>\n",
              "      <td>False</td>\n",
              "      <td>dang moderna shot trippy</td>\n",
              "      <td>0.182329</td>\n",
              "      <td>Negative</td>\n",
              "      <td>-119.306392</td>\n",
              "      <td>37.269511</td>\n",
              "      <td>Negative</td>\n",
              "    </tr>\n",
              "    <tr>\n",
              "      <th>96</th>\n",
              "      <td>59287</td>\n",
              "      <td>1.382893e+18</td>\n",
              "      <td>NTD News</td>\n",
              "      <td>New York, NY</td>\n",
              "      <td>Your independent voice in TV news—bringing bac...</td>\n",
              "      <td>2018-11-08 16:41:42</td>\n",
              "      <td>69795.0</td>\n",
              "      <td>34.0</td>\n",
              "      <td>1089.0</td>\n",
              "      <td>False</td>\n",
              "      <td>2021-04-16 03:05:01</td>\n",
              "      <td>“I anticipate in the next year or so, we’re go...</td>\n",
              "      <td>NaN</td>\n",
              "      <td>Buffer</td>\n",
              "      <td>12.0</td>\n",
              "      <td>5.0</td>\n",
              "      <td>False</td>\n",
              "      <td>anticipate next year going see lot variant ceo...</td>\n",
              "      <td>0.772809</td>\n",
              "      <td>Positive</td>\n",
              "      <td>-73.979635</td>\n",
              "      <td>40.696789</td>\n",
              "      <td>Positive</td>\n",
              "    </tr>\n",
              "    <tr>\n",
              "      <th>97</th>\n",
              "      <td>33494</td>\n",
              "      <td>1.372882e+18</td>\n",
              "      <td>Mark”Charlie”Philpott</td>\n",
              "      <td>Falmouth, England</td>\n",
              "      <td>West Ham fan since 1975 All opinions are my own.</td>\n",
              "      <td>2012-08-16 21:07:33</td>\n",
              "      <td>469.0</td>\n",
              "      <td>1035.0</td>\n",
              "      <td>2852.0</td>\n",
              "      <td>False</td>\n",
              "      <td>2021-03-19 12:05:35</td>\n",
              "      <td>Just had my #OxfordAstraZeneca jab. So far so ...</td>\n",
              "      <td>['OxfordAstraZeneca', 'therealheroes', 'volunt...</td>\n",
              "      <td>Twitter for iPhone</td>\n",
              "      <td>0.0</td>\n",
              "      <td>3.0</td>\n",
              "      <td>False</td>\n",
              "      <td>oxfordastrazeneca jab far good thank therealhe...</td>\n",
              "      <td>0.991370</td>\n",
              "      <td>Positive</td>\n",
              "      <td>-5.068826</td>\n",
              "      <td>50.155220</td>\n",
              "      <td>Positive</td>\n",
              "    </tr>\n",
              "    <tr>\n",
              "      <th>98</th>\n",
              "      <td>38647</td>\n",
              "      <td>1.375565e+18</td>\n",
              "      <td>The Win Ott 🇺🇸</td>\n",
              "      <td>South Carolina, USA</td>\n",
              "      <td>Naturalist, photographer, anti-fascist, actor,...</td>\n",
              "      <td>2016-08-15 23:47:17</td>\n",
              "      <td>276.0</td>\n",
              "      <td>543.0</td>\n",
              "      <td>51173.0</td>\n",
              "      <td>False</td>\n",
              "      <td>2021-03-26 21:47:03</td>\n",
              "      <td>Aw yeah... I gots all my shots!\\n#PfizerBioNTe...</td>\n",
              "      <td>['PfizerBioNTech', 'vaccinated', 'TenFeetTallA...</td>\n",
              "      <td>Twitter for iPhone</td>\n",
              "      <td>0.0</td>\n",
              "      <td>8.0</td>\n",
              "      <td>False</td>\n",
              "      <td>aw yeah gots shot pfizerbiontech vaccinated te...</td>\n",
              "      <td>0.334594</td>\n",
              "      <td>Negative</td>\n",
              "      <td>-80.947676</td>\n",
              "      <td>33.624470</td>\n",
              "      <td>Positive</td>\n",
              "    </tr>\n",
              "    <tr>\n",
              "      <th>99</th>\n",
              "      <td>69107</td>\n",
              "      <td>1.382954e+18</td>\n",
              "      <td>The Daily Star</td>\n",
              "      <td>Bangladesh</td>\n",
              "      <td>Bangladesh's largest English Daily. The latest...</td>\n",
              "      <td>2009-09-27 08:54:28</td>\n",
              "      <td>923772.0</td>\n",
              "      <td>59.0</td>\n",
              "      <td>481.0</td>\n",
              "      <td>True</td>\n",
              "      <td>2021-04-16 07:08:10</td>\n",
              "      <td>#SouthKorea 's Huons Global said on Friday (Ap...</td>\n",
              "      <td>['SouthKorea']</td>\n",
              "      <td>Twitter Web App</td>\n",
              "      <td>1.0</td>\n",
              "      <td>8.0</td>\n",
              "      <td>False</td>\n",
              "      <td>southkorea huons global said friday apr 16 lea...</td>\n",
              "      <td>0.415346</td>\n",
              "      <td>Negative</td>\n",
              "      <td>90.344206</td>\n",
              "      <td>23.506956</td>\n",
              "      <td>Positive</td>\n",
              "    </tr>\n",
              "  </tbody>\n",
              "</table>\n",
              "<p>100 rows × 23 columns</p>\n",
              "</div>"
            ],
            "text/plain": [
              "    Unnamed: 0            id  ...        lat True Sentiment\n",
              "0        49371  1.380011e+18  ...  28.583387       Negative\n",
              "1        62860  1.384501e+18  ...  43.728619       Positive\n",
              "2          898  1.339939e+18  ...  13.043568       Positive\n",
              "3        29632  1.371502e+18  ...  13.187038            NaN\n",
              "4        56395  1.381622e+18  ...        NaN       Positive\n",
              "..         ...           ...  ...        ...            ...\n",
              "95       48521  1.380602e+18  ...  37.269511       Negative\n",
              "96       59287  1.382893e+18  ...  40.696789       Positive\n",
              "97       33494  1.372882e+18  ...  50.155220       Positive\n",
              "98       38647  1.375565e+18  ...  33.624470       Positive\n",
              "99       69107  1.382954e+18  ...  23.506956       Positive\n",
              "\n",
              "[100 rows x 23 columns]"
            ]
          },
          "metadata": {
            "tags": []
          },
          "execution_count": 93
        }
      ]
    },
    {
      "cell_type": "code",
      "metadata": {
        "id": "teJdmvHdMjdJ"
      },
      "source": [
        "Metric_test.drop(['id','user_name','user_location','user_description','user_created', 'user_followers', 'user_friends'], axis=1, inplace=True)\n"
      ],
      "execution_count": null,
      "outputs": []
    },
    {
      "cell_type": "code",
      "metadata": {
        "id": "waSaR89eNYtx"
      },
      "source": [
        "Metric_test.drop(['user_favourites', 'user_verified','date','text','hashtags','source','retweets','favorites'\n",
        ",'is_retweet','Polarity','long','lat'], axis=1, inplace=True)\n"
      ],
      "execution_count": null,
      "outputs": []
    },
    {
      "cell_type": "code",
      "metadata": {
        "colab": {
          "base_uri": "https://localhost:8080/",
          "height": 419
        },
        "id": "eUPcJKe5OAz6",
        "outputId": "f70d7af2-b8b4-4ed9-f5ee-8ab71eedb333"
      },
      "source": [
        "Metric_test"
      ],
      "execution_count": null,
      "outputs": [
        {
          "output_type": "execute_result",
          "data": {
            "text/html": [
              "<div>\n",
              "<style scoped>\n",
              "    .dataframe tbody tr th:only-of-type {\n",
              "        vertical-align: middle;\n",
              "    }\n",
              "\n",
              "    .dataframe tbody tr th {\n",
              "        vertical-align: top;\n",
              "    }\n",
              "\n",
              "    .dataframe thead th {\n",
              "        text-align: right;\n",
              "    }\n",
              "</style>\n",
              "<table border=\"1\" class=\"dataframe\">\n",
              "  <thead>\n",
              "    <tr style=\"text-align: right;\">\n",
              "      <th></th>\n",
              "      <th>Unnamed: 0</th>\n",
              "      <th>processed_tweets</th>\n",
              "      <th>Analysis</th>\n",
              "      <th>True Sentiment</th>\n",
              "    </tr>\n",
              "  </thead>\n",
              "  <tbody>\n",
              "    <tr>\n",
              "      <th>0</th>\n",
              "      <td>49371</td>\n",
              "      <td>bjp cant manage covid vaccine management prope...</td>\n",
              "      <td>Negative</td>\n",
              "      <td>Negative</td>\n",
              "    </tr>\n",
              "    <tr>\n",
              "      <th>1</th>\n",
              "      <td>62860</td>\n",
              "      <td>company like pfizer moderna refuse test safety...</td>\n",
              "      <td>Positive</td>\n",
              "      <td>Positive</td>\n",
              "    </tr>\n",
              "    <tr>\n",
              "      <th>2</th>\n",
              "      <td>898</td>\n",
              "      <td>u vice president wife received shot friday mor...</td>\n",
              "      <td>Positive</td>\n",
              "      <td>Positive</td>\n",
              "    </tr>\n",
              "    <tr>\n",
              "      <th>3</th>\n",
              "      <td>29632</td>\n",
              "      <td>nan</td>\n",
              "      <td>Positive</td>\n",
              "      <td>NaN</td>\n",
              "    </tr>\n",
              "    <tr>\n",
              "      <th>4</th>\n",
              "      <td>56395</td>\n",
              "      <td>thankful blessed part history got 2nd dose sin...</td>\n",
              "      <td>Positive</td>\n",
              "      <td>Positive</td>\n",
              "    </tr>\n",
              "    <tr>\n",
              "      <th>...</th>\n",
              "      <td>...</td>\n",
              "      <td>...</td>\n",
              "      <td>...</td>\n",
              "      <td>...</td>\n",
              "    </tr>\n",
              "    <tr>\n",
              "      <th>95</th>\n",
              "      <td>48521</td>\n",
              "      <td>dang moderna shot trippy</td>\n",
              "      <td>Negative</td>\n",
              "      <td>Negative</td>\n",
              "    </tr>\n",
              "    <tr>\n",
              "      <th>96</th>\n",
              "      <td>59287</td>\n",
              "      <td>anticipate next year going see lot variant ceo...</td>\n",
              "      <td>Positive</td>\n",
              "      <td>Positive</td>\n",
              "    </tr>\n",
              "    <tr>\n",
              "      <th>97</th>\n",
              "      <td>33494</td>\n",
              "      <td>oxfordastrazeneca jab far good thank therealhe...</td>\n",
              "      <td>Positive</td>\n",
              "      <td>Positive</td>\n",
              "    </tr>\n",
              "    <tr>\n",
              "      <th>98</th>\n",
              "      <td>38647</td>\n",
              "      <td>aw yeah gots shot pfizerbiontech vaccinated te...</td>\n",
              "      <td>Negative</td>\n",
              "      <td>Positive</td>\n",
              "    </tr>\n",
              "    <tr>\n",
              "      <th>99</th>\n",
              "      <td>69107</td>\n",
              "      <td>southkorea huons global said friday apr 16 lea...</td>\n",
              "      <td>Negative</td>\n",
              "      <td>Positive</td>\n",
              "    </tr>\n",
              "  </tbody>\n",
              "</table>\n",
              "<p>100 rows × 4 columns</p>\n",
              "</div>"
            ],
            "text/plain": [
              "    Unnamed: 0  ... True Sentiment\n",
              "0        49371  ...       Negative\n",
              "1        62860  ...       Positive\n",
              "2          898  ...       Positive\n",
              "3        29632  ...            NaN\n",
              "4        56395  ...       Positive\n",
              "..         ...  ...            ...\n",
              "95       48521  ...       Negative\n",
              "96       59287  ...       Positive\n",
              "97       33494  ...       Positive\n",
              "98       38647  ...       Positive\n",
              "99       69107  ...       Positive\n",
              "\n",
              "[100 rows x 4 columns]"
            ]
          },
          "metadata": {
            "tags": []
          },
          "execution_count": 99
        }
      ]
    },
    {
      "cell_type": "code",
      "metadata": {
        "id": "OjSsXh_IOP5d"
      },
      "source": [
        "Metric_test.to_csv(\"Metric_test.csv\")"
      ],
      "execution_count": null,
      "outputs": []
    },
    {
      "cell_type": "markdown",
      "metadata": {
        "id": "975hgezFOtF-"
      },
      "source": [
        "# Perform Mertic Evaluations"
      ]
    },
    {
      "cell_type": "code",
      "metadata": {
        "id": "0-z5XZlwCPGB"
      },
      "source": [
        "import numpy as np # linear algebra\n",
        "import pandas as pd # data processing, CSV file I/O (e.g. pd.read_csv)\n",
        "import matplotlib.pyplot as plt # for data visualization purposes\n",
        "import seaborn as sns # for data visualization\n",
        "%matplotlib inline"
      ],
      "execution_count": null,
      "outputs": []
    },
    {
      "cell_type": "code",
      "metadata": {
        "id": "1flBH9pCDGZM"
      },
      "source": [
        "import warnings\n",
        "\n",
        "warnings.filterwarnings('ignore')"
      ],
      "execution_count": null,
      "outputs": []
    },
    {
      "cell_type": "code",
      "metadata": {
        "id": "wuL9WQ_IOxS2"
      },
      "source": [
        "data_metric = pd.read_csv(\"/content/Metric_test.csv\")"
      ],
      "execution_count": null,
      "outputs": []
    },
    {
      "cell_type": "code",
      "metadata": {
        "id": "VUnIhtHTB0X9"
      },
      "source": [
        "data_metric.drop(['Unnamed: 0', 'Unnamed: 0.1'],axis=1 , inplace=True )"
      ],
      "execution_count": null,
      "outputs": []
    },
    {
      "cell_type": "code",
      "metadata": {
        "colab": {
          "base_uri": "https://localhost:8080/"
        },
        "id": "E82kzINIDInO",
        "outputId": "eb578a12-041c-4317-84d2-11bc840cdf31"
      },
      "source": [
        "#Lets check our shape\n",
        "data_metric.shape"
      ],
      "execution_count": null,
      "outputs": [
        {
          "output_type": "execute_result",
          "data": {
            "text/plain": [
              "(100, 3)"
            ]
          },
          "metadata": {
            "tags": []
          },
          "execution_count": 9
        }
      ]
    },
    {
      "cell_type": "code",
      "metadata": {
        "colab": {
          "base_uri": "https://localhost:8080/",
          "height": 204
        },
        "id": "WXaJiZoyDSub",
        "outputId": "585b2e35-7609-4f4c-d319-193b8fd45c87"
      },
      "source": [
        "data_metric.head()"
      ],
      "execution_count": null,
      "outputs": [
        {
          "output_type": "execute_result",
          "data": {
            "text/html": [
              "<div>\n",
              "<style scoped>\n",
              "    .dataframe tbody tr th:only-of-type {\n",
              "        vertical-align: middle;\n",
              "    }\n",
              "\n",
              "    .dataframe tbody tr th {\n",
              "        vertical-align: top;\n",
              "    }\n",
              "\n",
              "    .dataframe thead th {\n",
              "        text-align: right;\n",
              "    }\n",
              "</style>\n",
              "<table border=\"1\" class=\"dataframe\">\n",
              "  <thead>\n",
              "    <tr style=\"text-align: right;\">\n",
              "      <th></th>\n",
              "      <th>processed_tweets</th>\n",
              "      <th>Analysis</th>\n",
              "      <th>True Sentiment</th>\n",
              "    </tr>\n",
              "  </thead>\n",
              "  <tbody>\n",
              "    <tr>\n",
              "      <th>0</th>\n",
              "      <td>bjp cant manage covid vaccine management prope...</td>\n",
              "      <td>Negative</td>\n",
              "      <td>Negative</td>\n",
              "    </tr>\n",
              "    <tr>\n",
              "      <th>1</th>\n",
              "      <td>company like pfizer moderna refuse test safety...</td>\n",
              "      <td>Positive</td>\n",
              "      <td>Positive</td>\n",
              "    </tr>\n",
              "    <tr>\n",
              "      <th>2</th>\n",
              "      <td>u vice president wife received shot friday mor...</td>\n",
              "      <td>Positive</td>\n",
              "      <td>Positive</td>\n",
              "    </tr>\n",
              "    <tr>\n",
              "      <th>3</th>\n",
              "      <td>NaN</td>\n",
              "      <td>Positive</td>\n",
              "      <td>NaN</td>\n",
              "    </tr>\n",
              "    <tr>\n",
              "      <th>4</th>\n",
              "      <td>thankful blessed part history got 2nd dose sin...</td>\n",
              "      <td>Positive</td>\n",
              "      <td>Positive</td>\n",
              "    </tr>\n",
              "  </tbody>\n",
              "</table>\n",
              "</div>"
            ],
            "text/plain": [
              "                                    processed_tweets  Analysis True Sentiment\n",
              "0  bjp cant manage covid vaccine management prope...  Negative       Negative\n",
              "1  company like pfizer moderna refuse test safety...  Positive       Positive\n",
              "2  u vice president wife received shot friday mor...  Positive       Positive\n",
              "3                                                NaN  Positive            NaN\n",
              "4  thankful blessed part history got 2nd dose sin...  Positive       Positive"
            ]
          },
          "metadata": {
            "tags": []
          },
          "execution_count": 10
        }
      ]
    },
    {
      "cell_type": "code",
      "metadata": {
        "colab": {
          "base_uri": "https://localhost:8080/"
        },
        "id": "zoI3DMGyDfI9",
        "outputId": "969fd8d9-e26b-4de1-fc3a-c65929d93e9d"
      },
      "source": [
        "data_metric.info"
      ],
      "execution_count": null,
      "outputs": [
        {
          "output_type": "execute_result",
          "data": {
            "text/plain": [
              "<bound method DataFrame.info of                                      processed_tweets  Analysis True Sentiment\n",
              "0   bjp cant manage covid vaccine management prope...  Negative       Negative\n",
              "1   company like pfizer moderna refuse test safety...  Positive       Positive\n",
              "2   u vice president wife received shot friday mor...  Positive       Positive\n",
              "3                                                 NaN  Positive            NaN\n",
              "4   thankful blessed part history got 2nd dose sin...  Positive       Positive\n",
              "..                                                ...       ...            ...\n",
              "95                           dang moderna shot trippy  Negative       Negative\n",
              "96  anticipate next year going see lot variant ceo...  Positive       Positive\n",
              "97  oxfordastrazeneca jab far good thank therealhe...  Positive       Positive\n",
              "98  aw yeah gots shot pfizerbiontech vaccinated te...  Negative       Positive\n",
              "99  southkorea huons global said friday apr 16 lea...  Negative       Positive\n",
              "\n",
              "[100 rows x 3 columns]>"
            ]
          },
          "metadata": {
            "tags": []
          },
          "execution_count": 11
        }
      ]
    },
    {
      "cell_type": "code",
      "metadata": {
        "colab": {
          "base_uri": "https://localhost:8080/"
        },
        "id": "oqHp6uutDlS9",
        "outputId": "82147653-7e37-4892-f241-551d7448043c"
      },
      "source": [
        "for var in data_metric.columns:\n",
        "    \n",
        "    print(data_metric[var].value_counts())"
      ],
      "execution_count": null,
      "outputs": [
        {
          "output_type": "stream",
          "text": [
            "news pfizerbiontech see report                                                                    1\n",
            "cialaeastereggstravaganza sputnikv nengixitel 방탄소년단 트와이스 카페7드림 nengixitel blessed tweeps choi…    1\n",
            "vaccine availabilitymy proposal first cater municipal corporation area across india th…           1\n",
            "president said romania🇷🇴would donate 200000 dos pfizerbiontech covid19 vaccine r…                 1\n",
            "received first dose moderna covid19 vaccine today ncpa                                            1\n",
            "                                                                                                 ..\n",
            "know say wasnt vaccinated ddnt see clearly gave different angle yes vp ch…                        1\n",
            "congrats‼️🙏 wish best‼️🙏🌴☀️🌈😊 covaxin covaxined                                                   1\n",
            "sputnikv approved india good goi followed said wondering much lobbyin…                            1\n",
            "shame covaxin                                                                                     1\n",
            "pm india would distributed covidvaccine similar w…                                                1\n",
            "Name: processed_tweets, Length: 98, dtype: int64\n",
            "Positive    69\n",
            "Negative    31\n",
            "Name: Analysis, dtype: int64\n",
            "Positive    67\n",
            "Negative    31\n",
            "Name: True Sentiment, dtype: int64\n"
          ],
          "name": "stdout"
        }
      ]
    },
    {
      "cell_type": "markdown",
      "metadata": {
        "id": "LEdfwuyaJLhN"
      },
      "source": [
        "Lets change our analysis to integer values for ease of use "
      ]
    },
    {
      "cell_type": "code",
      "metadata": {
        "id": "75dCEJlADz6P"
      },
      "source": [
        "def sentiment_to_polarity(analysis):\n",
        "  if analysis == \"Positive\":\n",
        "    return 1\n",
        "  else:\n",
        "    return 0\n"
      ],
      "execution_count": null,
      "outputs": []
    },
    {
      "cell_type": "code",
      "metadata": {
        "id": "7UASzpLYIvCH"
      },
      "source": [
        "data_metric['Analysis'] = data_metric['Analysis'].apply(sentiment_to_polarity)"
      ],
      "execution_count": null,
      "outputs": []
    },
    {
      "cell_type": "code",
      "metadata": {
        "id": "n6Rvzv5JI8XP"
      },
      "source": [
        "data_metric['True Sentiment'] = data_metric['True Sentiment'].apply(sentiment_to_polarity)"
      ],
      "execution_count": null,
      "outputs": []
    },
    {
      "cell_type": "code",
      "metadata": {
        "colab": {
          "base_uri": "https://localhost:8080/",
          "height": 204
        },
        "id": "gdOgFNZ8JHbT",
        "outputId": "d1b88cde-4259-4de0-d197-8ac7644a231a"
      },
      "source": [
        "data_metric.head()"
      ],
      "execution_count": null,
      "outputs": [
        {
          "output_type": "execute_result",
          "data": {
            "text/html": [
              "<div>\n",
              "<style scoped>\n",
              "    .dataframe tbody tr th:only-of-type {\n",
              "        vertical-align: middle;\n",
              "    }\n",
              "\n",
              "    .dataframe tbody tr th {\n",
              "        vertical-align: top;\n",
              "    }\n",
              "\n",
              "    .dataframe thead th {\n",
              "        text-align: right;\n",
              "    }\n",
              "</style>\n",
              "<table border=\"1\" class=\"dataframe\">\n",
              "  <thead>\n",
              "    <tr style=\"text-align: right;\">\n",
              "      <th></th>\n",
              "      <th>processed_tweets</th>\n",
              "      <th>Analysis</th>\n",
              "      <th>True Sentiment</th>\n",
              "    </tr>\n",
              "  </thead>\n",
              "  <tbody>\n",
              "    <tr>\n",
              "      <th>0</th>\n",
              "      <td>bjp cant manage covid vaccine management prope...</td>\n",
              "      <td>0</td>\n",
              "      <td>0</td>\n",
              "    </tr>\n",
              "    <tr>\n",
              "      <th>1</th>\n",
              "      <td>company like pfizer moderna refuse test safety...</td>\n",
              "      <td>1</td>\n",
              "      <td>1</td>\n",
              "    </tr>\n",
              "    <tr>\n",
              "      <th>2</th>\n",
              "      <td>u vice president wife received shot friday mor...</td>\n",
              "      <td>1</td>\n",
              "      <td>1</td>\n",
              "    </tr>\n",
              "    <tr>\n",
              "      <th>3</th>\n",
              "      <td>NaN</td>\n",
              "      <td>1</td>\n",
              "      <td>0</td>\n",
              "    </tr>\n",
              "    <tr>\n",
              "      <th>4</th>\n",
              "      <td>thankful blessed part history got 2nd dose sin...</td>\n",
              "      <td>1</td>\n",
              "      <td>1</td>\n",
              "    </tr>\n",
              "  </tbody>\n",
              "</table>\n",
              "</div>"
            ],
            "text/plain": [
              "                                    processed_tweets  Analysis  True Sentiment\n",
              "0  bjp cant manage covid vaccine management prope...         0               0\n",
              "1  company like pfizer moderna refuse test safety...         1               1\n",
              "2  u vice president wife received shot friday mor...         1               1\n",
              "3                                                NaN         1               0\n",
              "4  thankful blessed part history got 2nd dose sin...         1               1"
            ]
          },
          "metadata": {
            "tags": []
          },
          "execution_count": 17
        }
      ]
    },
    {
      "cell_type": "code",
      "metadata": {
        "colab": {
          "base_uri": "https://localhost:8080/",
          "height": 285
        },
        "id": "ycqJvBxoJVW2",
        "outputId": "e1d1c509-4154-4933-a3d2-9cb1064c1800"
      },
      "source": [
        "# plot histograms of the variables\n",
        "\n",
        "\n",
        "plt.rcParams['figure.figsize']=(10,25)\n",
        "\n",
        "data_metric.plot(kind='hist', bins=10, subplots=True, layout=(5,2), sharex=False, sharey=False)\n",
        "\n",
        "plt.show()"
      ],
      "execution_count": null,
      "outputs": [
        {
          "output_type": "display_data",
          "data": {
            "image/png": "[encoded data removed]",
            "text/plain": [
              "<Figure size 720x1800 with 10 Axes>"
            ]
          },
          "metadata": {
            "tags": [],
            "needs_background": "light"
          }
        }
      ]
    },
    {
      "cell_type": "markdown",
      "metadata": {
        "id": "1EXZna-lKOwb"
      },
      "source": [
        "Our dataset is very small. So, we can compute the standard correlation coefficient (also called Pearson's r) between every pair of attributes. We can compute it using the data_metric.corr()"
      ]
    },
    {
      "cell_type": "code",
      "metadata": {
        "id": "bK7ZSLE4KSzL"
      },
      "source": [
        "correlation = data_metric.corr()"
      ],
      "execution_count": null,
      "outputs": []
    },
    {
      "cell_type": "code",
      "metadata": {
        "colab": {
          "base_uri": "https://localhost:8080/"
        },
        "id": "52USj9XbKa9B",
        "outputId": "89969a49-5df2-4352-e12b-2bb1ce853f6f"
      },
      "source": [
        "correlation['True Sentiment'].sort_values(ascending=False)"
      ],
      "execution_count": null,
      "outputs": [
        {
          "output_type": "execute_result",
          "data": {
            "text/plain": [
              "True Sentiment    1.000000\n",
              "Analysis          0.541224\n",
              "Name: True Sentiment, dtype: float64"
            ]
          },
          "metadata": {
            "tags": []
          },
          "execution_count": 34
        }
      ]
    },
    {
      "cell_type": "markdown",
      "metadata": {
        "id": "4fPfXfb3KwMj"
      },
      "source": [
        "We have as expected possitive correlation."
      ]
    },
    {
      "cell_type": "code",
      "metadata": {
        "colab": {
          "base_uri": "https://localhost:8080/",
          "height": 565
        },
        "id": "3_Z82j81KuR-",
        "outputId": "f0f79610-0653-414f-89a8-c319b6632779"
      },
      "source": [
        "plt.figure(figsize=(10,8))\n",
        "plt.title('Correlation of Attributes with True Sentiment variable')\n",
        "a = sns.heatmap(correlation, square=True, annot=True, fmt='.2f', linecolor='white')\n",
        "a.set_xticklabels(a.get_xticklabels(), rotation=90)\n",
        "a.set_yticklabels(a.get_yticklabels(), rotation=30)           \n",
        "plt.show()"
      ],
      "execution_count": null,
      "outputs": [
        {
          "output_type": "display_data",
          "data": {
            "image/png": "[encoded data removed]",
            "text/plain": [
              "<Figure size 720x576 with 2 Axes>"
            ]
          },
          "metadata": {
            "tags": [],
            "needs_background": "light"
          }
        }
      ]
    },
    {
      "cell_type": "code",
      "metadata": {
        "id": "hQhxBF20K99J"
      },
      "source": [
        "X = data_metric.drop(['True Sentiment','processed_tweets'], axis=1)\n",
        "\n",
        "y = data_metric['True Sentiment']"
      ],
      "execution_count": null,
      "outputs": []
    },
    {
      "cell_type": "markdown",
      "metadata": {
        "id": "lrhUe5S9Lgm3"
      },
      "source": [
        "Splitt to train and test dataset"
      ]
    },
    {
      "cell_type": "code",
      "metadata": {
        "id": "UhuDntwNLiqD"
      },
      "source": [
        "# split X and y into training and testing sets\n",
        "\n",
        "from sklearn.model_selection import train_test_split\n",
        "\n",
        "X_train, X_test, y_train, y_test = train_test_split(X, y, test_size = 0.2, random_state = 0)\n",
        "\n"
      ],
      "execution_count": null,
      "outputs": []
    },
    {
      "cell_type": "code",
      "metadata": {
        "colab": {
          "base_uri": "https://localhost:8080/"
        },
        "id": "jXLbOzjbLqPh",
        "outputId": "7aa52e97-1ccd-41c8-9bac-9eef42790073"
      },
      "source": [
        "# check the shape of X_train and X_test\n",
        "\n",
        "X_train.shape, X_test.shape"
      ],
      "execution_count": null,
      "outputs": [
        {
          "output_type": "execute_result",
          "data": {
            "text/plain": [
              "((80, 1), (20, 1))"
            ]
          },
          "metadata": {
            "tags": []
          },
          "execution_count": 46
        }
      ]
    },
    {
      "cell_type": "code",
      "metadata": {
        "id": "yM8BbQ-XLvHO"
      },
      "source": [
        "cols = X_train.columns"
      ],
      "execution_count": null,
      "outputs": []
    },
    {
      "cell_type": "code",
      "metadata": {
        "id": "s_jgElArL7jR"
      },
      "source": [
        "from sklearn.preprocessing import StandardScaler\n",
        "\n",
        "scaler = StandardScaler()\n",
        "\n",
        "X_train = scaler.fit_transform(X_train)\n",
        "\n",
        "X_test = scaler.transform(X_test)\n",
        "\n"
      ],
      "execution_count": null,
      "outputs": []
    },
    {
      "cell_type": "code",
      "metadata": {
        "id": "-ytuA0UjL7sb"
      },
      "source": [
        "X_train = pd.DataFrame(X_train, columns=[cols])"
      ],
      "execution_count": null,
      "outputs": []
    },
    {
      "cell_type": "code",
      "metadata": {
        "id": "y6cM7qkCMVfq"
      },
      "source": [
        "X_test = pd.DataFrame(X_test, columns=[cols])"
      ],
      "execution_count": null,
      "outputs": []
    },
    {
      "cell_type": "code",
      "metadata": {
        "colab": {
          "base_uri": "https://localhost:8080/",
          "height": 204
        },
        "id": "xxlty-SlMYic",
        "outputId": "a4e4054f-1845-4230-fa77-f75d03596fd4"
      },
      "source": [
        "X_train.head()"
      ],
      "execution_count": null,
      "outputs": [
        {
          "output_type": "execute_result",
          "data": {
            "text/html": [
              "<div>\n",
              "<style scoped>\n",
              "    .dataframe tbody tr th:only-of-type {\n",
              "        vertical-align: middle;\n",
              "    }\n",
              "\n",
              "    .dataframe tbody tr th {\n",
              "        vertical-align: top;\n",
              "    }\n",
              "\n",
              "    .dataframe thead tr th {\n",
              "        text-align: left;\n",
              "    }\n",
              "</style>\n",
              "<table border=\"1\" class=\"dataframe\">\n",
              "  <thead>\n",
              "    <tr>\n",
              "      <th></th>\n",
              "      <th>Analysis</th>\n",
              "    </tr>\n",
              "  </thead>\n",
              "  <tbody>\n",
              "    <tr>\n",
              "      <th>0</th>\n",
              "      <td>-1.401058</td>\n",
              "    </tr>\n",
              "    <tr>\n",
              "      <th>1</th>\n",
              "      <td>0.713746</td>\n",
              "    </tr>\n",
              "    <tr>\n",
              "      <th>2</th>\n",
              "      <td>0.713746</td>\n",
              "    </tr>\n",
              "    <tr>\n",
              "      <th>3</th>\n",
              "      <td>-1.401058</td>\n",
              "    </tr>\n",
              "    <tr>\n",
              "      <th>4</th>\n",
              "      <td>-1.401058</td>\n",
              "    </tr>\n",
              "  </tbody>\n",
              "</table>\n",
              "</div>"
            ],
            "text/plain": [
              "   Analysis\n",
              "0 -1.401058\n",
              "1  0.713746\n",
              "2  0.713746\n",
              "3 -1.401058\n",
              "4 -1.401058"
            ]
          },
          "metadata": {
            "tags": []
          },
          "execution_count": 51
        }
      ]
    },
    {
      "cell_type": "code",
      "metadata": {
        "colab": {
          "base_uri": "https://localhost:8080/"
        },
        "id": "NGPPhBF_MeSp",
        "outputId": "5e07b22c-b4dc-4a27-f776-27a135c83aa9"
      },
      "source": [
        "# import KNeighbors ClaSSifier from sklearn\n",
        "from sklearn.neighbors import KNeighborsClassifier\n",
        "\n",
        "\n",
        "# instantiate the model\n",
        "knn = KNeighborsClassifier(n_neighbors=3)\n",
        "\n",
        "\n",
        "# fit the model to the training set\n",
        "knn.fit(X_train, y_train)\n",
        "\n"
      ],
      "execution_count": null,
      "outputs": [
        {
          "output_type": "execute_result",
          "data": {
            "text/plain": [
              "KNeighborsClassifier(algorithm='auto', leaf_size=30, metric='minkowski',\n",
              "                     metric_params=None, n_jobs=None, n_neighbors=3, p=2,\n",
              "                     weights='uniform')"
            ]
          },
          "metadata": {
            "tags": []
          },
          "execution_count": 52
        }
      ]
    },
    {
      "cell_type": "code",
      "metadata": {
        "colab": {
          "base_uri": "https://localhost:8080/"
        },
        "id": "HrPhNFr7MiAO",
        "outputId": "b6e7962d-4d9a-4b38-d6b0-cb86f553316b"
      },
      "source": [
        "y_pred = knn.predict(X_test)\n",
        "\n",
        "y_pred"
      ],
      "execution_count": null,
      "outputs": [
        {
          "output_type": "execute_result",
          "data": {
            "text/plain": [
              "array([1, 1, 1, 1, 1, 1, 1, 1, 1, 1, 1, 1, 1, 1, 1, 1, 1, 1, 1, 1])"
            ]
          },
          "metadata": {
            "tags": []
          },
          "execution_count": 53
        }
      ]
    },
    {
      "cell_type": "code",
      "metadata": {
        "colab": {
          "base_uri": "https://localhost:8080/"
        },
        "id": "ZiaUqX1-Mori",
        "outputId": "532a2cb4-4a1d-48ab-cf8a-b6331b1d47a1"
      },
      "source": [
        "#probability for Negative\n",
        "knn.predict_proba(X_test)[:,0]"
      ],
      "execution_count": null,
      "outputs": [
        {
          "output_type": "execute_result",
          "data": {
            "text/plain": [
              "array([0.        , 0.        , 0.        , 0.        , 0.        ,\n",
              "       0.        , 0.        , 0.        , 0.        , 0.33333333,\n",
              "       0.        , 0.        , 0.        , 0.33333333, 0.        ,\n",
              "       0.        , 0.        , 0.33333333, 0.        , 0.33333333])"
            ]
          },
          "metadata": {
            "tags": []
          },
          "execution_count": 54
        }
      ]
    },
    {
      "cell_type": "code",
      "metadata": {
        "colab": {
          "base_uri": "https://localhost:8080/"
        },
        "id": "Qr4pUcl3Mtgo",
        "outputId": "bd585cf8-f234-409b-aa59-1e0d309e39ee"
      },
      "source": [
        "#Probability for Positive\n",
        "knn.predict_proba(X_test)[:,1]"
      ],
      "execution_count": null,
      "outputs": [
        {
          "output_type": "execute_result",
          "data": {
            "text/plain": [
              "array([1.        , 1.        , 1.        , 1.        , 1.        ,\n",
              "       1.        , 1.        , 1.        , 1.        , 0.66666667,\n",
              "       1.        , 1.        , 1.        , 0.66666667, 1.        ,\n",
              "       1.        , 1.        , 0.66666667, 1.        , 0.66666667])"
            ]
          },
          "metadata": {
            "tags": []
          },
          "execution_count": 55
        }
      ]
    },
    {
      "cell_type": "markdown",
      "metadata": {
        "id": "Xh9GgoSMM4wA"
      },
      "source": [
        "Check Accuracy"
      ]
    },
    {
      "cell_type": "code",
      "metadata": {
        "colab": {
          "base_uri": "https://localhost:8080/"
        },
        "id": "YUzuWIiHM4Gh",
        "outputId": "07bf6d2a-a380-4a4a-b857-0e585f91fd74"
      },
      "source": [
        "from sklearn.metrics import accuracy_score\n",
        "\n",
        "print('Model accuracy score: {0:0.4f}'. format(accuracy_score(y_test, y_pred)))"
      ],
      "execution_count": null,
      "outputs": [
        {
          "output_type": "stream",
          "text": [
            "Model accuracy score: 0.6500\n"
          ],
          "name": "stdout"
        }
      ]
    },
    {
      "cell_type": "code",
      "metadata": {
        "id": "XugEMu-1NAx-"
      },
      "source": [
        "y_pred_train = knn.predict(X_train)"
      ],
      "execution_count": null,
      "outputs": []
    },
    {
      "cell_type": "code",
      "metadata": {
        "colab": {
          "base_uri": "https://localhost:8080/"
        },
        "id": "rXus4yAgND4Y",
        "outputId": "f392baca-5214-406e-cb89-582c7ee6d34a"
      },
      "source": [
        "print('Training-set accuracy score: {0:0.4f}'. format(accuracy_score(y_train, y_pred_train)))"
      ],
      "execution_count": null,
      "outputs": [
        {
          "output_type": "stream",
          "text": [
            "Training-set accuracy score: 0.6750\n"
          ],
          "name": "stdout"
        }
      ]
    },
    {
      "cell_type": "markdown",
      "metadata": {
        "id": "59NH3sKCNI4P"
      },
      "source": [
        "Check for Overfitting and Underfitting"
      ]
    },
    {
      "cell_type": "code",
      "metadata": {
        "colab": {
          "base_uri": "https://localhost:8080/"
        },
        "id": "xdgbRS2kNHyI",
        "outputId": "88fe23e8-e42a-42ba-9833-a8c666489c41"
      },
      "source": [
        "# print the scores on training and test set\n",
        "\n",
        "print('Training set score: {:.4f}'.format(knn.score(X_train, y_train)))\n",
        "\n",
        "print('Test set score: {:.4f}'.format(knn.score(X_test, y_test)))"
      ],
      "execution_count": null,
      "outputs": [
        {
          "output_type": "stream",
          "text": [
            "Training set score: 0.6750\n",
            "Test set score: 0.6500\n"
          ],
          "name": "stdout"
        }
      ]
    },
    {
      "cell_type": "markdown",
      "metadata": {
        "id": "XiztauRBNRnK"
      },
      "source": [
        "Pretty Close so no Overfitting"
      ]
    },
    {
      "cell_type": "code",
      "metadata": {
        "colab": {
          "base_uri": "https://localhost:8080/"
        },
        "id": "q5Cs9t4JNVMC",
        "outputId": "be3149de-6293-486c-ba80-95e9d1fb2a9b"
      },
      "source": [
        "y_test.value_counts()"
      ],
      "execution_count": null,
      "outputs": [
        {
          "output_type": "execute_result",
          "data": {
            "text/plain": [
              "1    13\n",
              "0     7\n",
              "Name: True Sentiment, dtype: int64"
            ]
          },
          "metadata": {
            "tags": []
          },
          "execution_count": 60
        }
      ]
    },
    {
      "cell_type": "code",
      "metadata": {
        "colab": {
          "base_uri": "https://localhost:8080/"
        },
        "id": "5agpBvAtNatb",
        "outputId": "5284bfa2-fc26-4848-f21b-35da83c42d9a"
      },
      "source": [
        "# check null accuracy score\n",
        "\n",
        "null_accuracy = (13/(13+20))\n",
        "\n",
        "print('Null accuracy score: {0:0.4f}'. format(null_accuracy))"
      ],
      "execution_count": null,
      "outputs": [
        {
          "output_type": "stream",
          "text": [
            "Null accuracy score: 0.3939\n"
          ],
          "name": "stdout"
        }
      ]
    },
    {
      "cell_type": "markdown",
      "metadata": {
        "id": "BUw-LSkaN-sl"
      },
      "source": [
        "Our test set accuracy us 0.65 and our null accuracy is 0.3939"
      ]
    }
  ]
}